{
 "cells": [
  {
   "cell_type": "code",
   "execution_count": 1,
   "metadata": {},
   "outputs": [],
   "source": [
    "import numpy as np\n",
    "import pandas as pd\n",
    "import matplotlib.pyplot as plt\n",
    "import seaborn"
   ]
  },
  {
   "cell_type": "code",
   "execution_count": 2,
   "metadata": {},
   "outputs": [],
   "source": [
    "path = 'C:/Users/devro/Downloads/Viral Tweets Prediction Challenge Dataset/Dataset/'"
   ]
  },
  {
   "cell_type": "code",
   "execution_count": 3,
   "metadata": {},
   "outputs": [
    {
     "name": "stdout",
     "output_type": "stream",
     "text": [
      "(52, 11)\n"
     ]
    },
    {
     "data": {
      "text/html": [
       "<div>\n",
       "<style scoped>\n",
       "    .dataframe tbody tr th:only-of-type {\n",
       "        vertical-align: middle;\n",
       "    }\n",
       "\n",
       "    .dataframe tbody tr th {\n",
       "        vertical-align: top;\n",
       "    }\n",
       "\n",
       "    .dataframe thead th {\n",
       "        text-align: right;\n",
       "    }\n",
       "</style>\n",
       "<table border=\"1\" class=\"dataframe\">\n",
       "  <thead>\n",
       "    <tr style=\"text-align: right;\">\n",
       "      <th></th>\n",
       "      <th>user_id</th>\n",
       "      <th>user_like_count</th>\n",
       "      <th>user_followers_count</th>\n",
       "      <th>user_following_count</th>\n",
       "      <th>user_listed_on_count</th>\n",
       "      <th>user_has_location</th>\n",
       "      <th>user_tweet_count</th>\n",
       "      <th>user_has_url</th>\n",
       "      <th>user_verified</th>\n",
       "      <th>user_created_at_year</th>\n",
       "      <th>user_created_at_month</th>\n",
       "    </tr>\n",
       "  </thead>\n",
       "  <tbody>\n",
       "    <tr>\n",
       "      <th>0</th>\n",
       "      <td>0</td>\n",
       "      <td>1164</td>\n",
       "      <td>48720</td>\n",
       "      <td>70469</td>\n",
       "      <td>5956</td>\n",
       "      <td>True</td>\n",
       "      <td>14122</td>\n",
       "      <td>True</td>\n",
       "      <td>0</td>\n",
       "      <td>2010</td>\n",
       "      <td>8</td>\n",
       "    </tr>\n",
       "    <tr>\n",
       "      <th>1</th>\n",
       "      <td>1</td>\n",
       "      <td>3914</td>\n",
       "      <td>85361</td>\n",
       "      <td>2171</td>\n",
       "      <td>5943</td>\n",
       "      <td>False</td>\n",
       "      <td>6957</td>\n",
       "      <td>False</td>\n",
       "      <td>0</td>\n",
       "      <td>2011</td>\n",
       "      <td>9</td>\n",
       "    </tr>\n",
       "    <tr>\n",
       "      <th>2</th>\n",
       "      <td>2</td>\n",
       "      <td>8292</td>\n",
       "      <td>200944</td>\n",
       "      <td>1416</td>\n",
       "      <td>8379</td>\n",
       "      <td>True</td>\n",
       "      <td>83485</td>\n",
       "      <td>True</td>\n",
       "      <td>0</td>\n",
       "      <td>2011</td>\n",
       "      <td>6</td>\n",
       "    </tr>\n",
       "    <tr>\n",
       "      <th>3</th>\n",
       "      <td>3</td>\n",
       "      <td>1770</td>\n",
       "      <td>15385</td>\n",
       "      <td>4572</td>\n",
       "      <td>1866</td>\n",
       "      <td>True</td>\n",
       "      <td>12265</td>\n",
       "      <td>True</td>\n",
       "      <td>0</td>\n",
       "      <td>2011</td>\n",
       "      <td>8</td>\n",
       "    </tr>\n",
       "    <tr>\n",
       "      <th>4</th>\n",
       "      <td>4</td>\n",
       "      <td>15311</td>\n",
       "      <td>459083</td>\n",
       "      <td>1021</td>\n",
       "      <td>7368</td>\n",
       "      <td>False</td>\n",
       "      <td>121193</td>\n",
       "      <td>False</td>\n",
       "      <td>0</td>\n",
       "      <td>2011</td>\n",
       "      <td>6</td>\n",
       "    </tr>\n",
       "  </tbody>\n",
       "</table>\n",
       "</div>"
      ],
      "text/plain": [
       "   user_id  user_like_count  user_followers_count  user_following_count  \\\n",
       "0        0             1164                 48720                 70469   \n",
       "1        1             3914                 85361                  2171   \n",
       "2        2             8292                200944                  1416   \n",
       "3        3             1770                 15385                  4572   \n",
       "4        4            15311                459083                  1021   \n",
       "\n",
       "   user_listed_on_count  user_has_location  user_tweet_count  user_has_url  \\\n",
       "0                  5956               True             14122          True   \n",
       "1                  5943              False              6957         False   \n",
       "2                  8379               True             83485          True   \n",
       "3                  1866               True             12265          True   \n",
       "4                  7368              False            121193         False   \n",
       "\n",
       "   user_verified  user_created_at_year  user_created_at_month  \n",
       "0              0                  2010                      8  \n",
       "1              0                  2011                      9  \n",
       "2              0                  2011                      6  \n",
       "3              0                  2011                      8  \n",
       "4              0                  2011                      6  "
      ]
     },
     "execution_count": 3,
     "metadata": {},
     "output_type": "execute_result"
    }
   ],
   "source": [
    "users = pd.read_csv(path+'Users/users.csv')\n",
    "print(users.shape)\n",
    "users.head()"
   ]
  },
  {
   "cell_type": "code",
   "execution_count": null,
   "metadata": {},
   "outputs": [],
   "source": []
  }
 ],
 "metadata": {
  "kernelspec": {
   "display_name": "Python 3",
   "language": "python",
   "name": "python3"
  },
  "language_info": {
   "codemirror_mode": {
    "name": "ipython",
    "version": 3
   },
   "file_extension": ".py",
   "mimetype": "text/x-python",
   "name": "python",
   "nbconvert_exporter": "python",
   "pygments_lexer": "ipython3",
   "version": "3.8.5"
  }
 },
 "nbformat": 4,
 "nbformat_minor": 4
}
