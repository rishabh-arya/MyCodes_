{
 "cells": [
  {
   "cell_type": "code",
   "execution_count": 1,
   "metadata": {},
   "outputs": [],
   "source": [
    "import pandas as pd\n",
    "import numpy as np\n",
    "import matplotlib.pyplot as plt\n",
    "import seaborn as sns"
   ]
  },
  {
   "cell_type": "code",
   "execution_count": 2,
   "metadata": {},
   "outputs": [
    {
     "data": {
      "text/html": [
       "<div>\n",
       "<style scoped>\n",
       "    .dataframe tbody tr th:only-of-type {\n",
       "        vertical-align: middle;\n",
       "    }\n",
       "\n",
       "    .dataframe tbody tr th {\n",
       "        vertical-align: top;\n",
       "    }\n",
       "\n",
       "    .dataframe thead th {\n",
       "        text-align: right;\n",
       "    }\n",
       "</style>\n",
       "<table border=\"1\" class=\"dataframe\">\n",
       "  <thead>\n",
       "    <tr style=\"text-align: right;\">\n",
       "      <th></th>\n",
       "      <th>Title</th>\n",
       "      <th>Year</th>\n",
       "      <th>Genre</th>\n",
       "      <th>Duration</th>\n",
       "      <th>Director</th>\n",
       "      <th>Rating</th>\n",
       "      <th>Popularity</th>\n",
       "    </tr>\n",
       "  </thead>\n",
       "  <tbody>\n",
       "    <tr>\n",
       "      <th>0</th>\n",
       "      <td>What Is It?</td>\n",
       "      <td>2005</td>\n",
       "      <td>Drama</td>\n",
       "      <td>72</td>\n",
       "      <td>Crispin Glover</td>\n",
       "      <td>5.6</td>\n",
       "      <td>21.83</td>\n",
       "    </tr>\n",
       "    <tr>\n",
       "      <th>1</th>\n",
       "      <td>Glitter</td>\n",
       "      <td>2001</td>\n",
       "      <td>Drama</td>\n",
       "      <td>104</td>\n",
       "      <td>Vondie Curtis-Hall</td>\n",
       "      <td>2.2</td>\n",
       "      <td>81.69</td>\n",
       "    </tr>\n",
       "    <tr>\n",
       "      <th>2</th>\n",
       "      <td>The Attic Expeditions</td>\n",
       "      <td>2001</td>\n",
       "      <td>Comedy</td>\n",
       "      <td>100</td>\n",
       "      <td>Jeremy Kasten</td>\n",
       "      <td>5.0</td>\n",
       "      <td>42.08</td>\n",
       "    </tr>\n",
       "    <tr>\n",
       "      <th>3</th>\n",
       "      <td>Men in Black II</td>\n",
       "      <td>2002</td>\n",
       "      <td>Action</td>\n",
       "      <td>88</td>\n",
       "      <td>Barry Sonnenfeld</td>\n",
       "      <td>6.2</td>\n",
       "      <td>98.60</td>\n",
       "    </tr>\n",
       "    <tr>\n",
       "      <th>4</th>\n",
       "      <td>Star Wars: Episode II - Attack of the Clones</td>\n",
       "      <td>2002</td>\n",
       "      <td>Action</td>\n",
       "      <td>142</td>\n",
       "      <td>George Lucas</td>\n",
       "      <td>6.5</td>\n",
       "      <td>99.58</td>\n",
       "    </tr>\n",
       "    <tr>\n",
       "      <th>...</th>\n",
       "      <td>...</td>\n",
       "      <td>...</td>\n",
       "      <td>...</td>\n",
       "      <td>...</td>\n",
       "      <td>...</td>\n",
       "      <td>...</td>\n",
       "      <td>...</td>\n",
       "    </tr>\n",
       "    <tr>\n",
       "      <th>5270</th>\n",
       "      <td>Bloodline</td>\n",
       "      <td>2018</td>\n",
       "      <td>Crime</td>\n",
       "      <td>97</td>\n",
       "      <td>Henry Jacobson</td>\n",
       "      <td>6.0</td>\n",
       "      <td>64.69</td>\n",
       "    </tr>\n",
       "    <tr>\n",
       "      <th>5271</th>\n",
       "      <td>The Princess Switch</td>\n",
       "      <td>2018</td>\n",
       "      <td>Comedy</td>\n",
       "      <td>101</td>\n",
       "      <td>Mike Rohl</td>\n",
       "      <td>6.0</td>\n",
       "      <td>80.21</td>\n",
       "    </tr>\n",
       "    <tr>\n",
       "      <th>5272</th>\n",
       "      <td>You Might Be the Killer</td>\n",
       "      <td>2018</td>\n",
       "      <td>Comedy</td>\n",
       "      <td>92</td>\n",
       "      <td>Brett Simmons</td>\n",
       "      <td>5.9</td>\n",
       "      <td>61.14</td>\n",
       "    </tr>\n",
       "    <tr>\n",
       "      <th>5273</th>\n",
       "      <td>The Final Wish</td>\n",
       "      <td>2018</td>\n",
       "      <td>Horror</td>\n",
       "      <td>95</td>\n",
       "      <td>Timothy Woodward Jr.</td>\n",
       "      <td>4.2</td>\n",
       "      <td>54.68</td>\n",
       "    </tr>\n",
       "    <tr>\n",
       "      <th>5274</th>\n",
       "      <td>Shrek Retold</td>\n",
       "      <td>2018</td>\n",
       "      <td>Animation</td>\n",
       "      <td>90</td>\n",
       "      <td>Grant Duffrin</td>\n",
       "      <td>7.5</td>\n",
       "      <td>26.07</td>\n",
       "    </tr>\n",
       "  </tbody>\n",
       "</table>\n",
       "<p>5275 rows × 7 columns</p>\n",
       "</div>"
      ],
      "text/plain": [
       "                                             Title  Year      Genre  Duration  \\\n",
       "0                                      What Is It?  2005      Drama        72   \n",
       "1                                          Glitter  2001      Drama       104   \n",
       "2                            The Attic Expeditions  2001     Comedy       100   \n",
       "3                                  Men in Black II  2002     Action        88   \n",
       "4     Star Wars: Episode II - Attack of the Clones  2002     Action       142   \n",
       "...                                            ...   ...        ...       ...   \n",
       "5270                                     Bloodline  2018      Crime        97   \n",
       "5271                           The Princess Switch  2018     Comedy       101   \n",
       "5272                       You Might Be the Killer  2018     Comedy        92   \n",
       "5273                                The Final Wish  2018     Horror        95   \n",
       "5274                                  Shrek Retold  2018  Animation        90   \n",
       "\n",
       "                  Director  Rating  Popularity  \n",
       "0           Crispin Glover     5.6       21.83  \n",
       "1       Vondie Curtis-Hall     2.2       81.69  \n",
       "2            Jeremy Kasten     5.0       42.08  \n",
       "3         Barry Sonnenfeld     6.2       98.60  \n",
       "4             George Lucas     6.5       99.58  \n",
       "...                    ...     ...         ...  \n",
       "5270        Henry Jacobson     6.0       64.69  \n",
       "5271             Mike Rohl     6.0       80.21  \n",
       "5272         Brett Simmons     5.9       61.14  \n",
       "5273  Timothy Woodward Jr.     4.2       54.68  \n",
       "5274         Grant Duffrin     7.5       26.07  \n",
       "\n",
       "[5275 rows x 7 columns]"
      ]
     },
     "execution_count": 2,
     "metadata": {},
     "output_type": "execute_result"
    }
   ],
   "source": [
    "movies = pd.read_csv('Movies.csv')\n",
    "movies"
   ]
  },
  {
   "cell_type": "code",
   "execution_count": 5,
   "metadata": {},
   "outputs": [
    {
     "name": "stdout",
     "output_type": "stream",
     "text": [
      "<class 'pandas.core.frame.DataFrame'>\n",
      "RangeIndex: 5275 entries, 0 to 5274\n",
      "Data columns (total 7 columns):\n",
      " #   Column      Non-Null Count  Dtype  \n",
      "---  ------      --------------  -----  \n",
      " 0   Title       5275 non-null   object \n",
      " 1   Year        5275 non-null   int64  \n",
      " 2   Genre       5275 non-null   object \n",
      " 3   Duration    5275 non-null   int64  \n",
      " 4   Director    5275 non-null   object \n",
      " 5   Rating      5275 non-null   float64\n",
      " 6   Popularity  5275 non-null   float64\n",
      "dtypes: float64(2), int64(2), object(3)\n",
      "memory usage: 288.6+ KB\n"
     ]
    }
   ],
   "source": [
    "movies.info()"
   ]
  },
  {
   "cell_type": "code",
   "execution_count": 7,
   "metadata": {},
   "outputs": [
    {
     "data": {
      "text/plain": [
       "Title         5219\n",
       "Year            18\n",
       "Genre           19\n",
       "Duration       107\n",
       "Director      3772\n",
       "Rating          80\n",
       "Popularity    3684\n",
       "dtype: int64"
      ]
     },
     "execution_count": 7,
     "metadata": {},
     "output_type": "execute_result"
    }
   ],
   "source": [
    "movies.nunique()"
   ]
  },
  {
   "cell_type": "code",
   "execution_count": 13,
   "metadata": {},
   "outputs": [
    {
     "data": {
      "text/plain": [
       "2001    167\n",
       "2002    186\n",
       "2003    139\n",
       "2004    150\n",
       "2005    210\n",
       "2006    292\n",
       "2007    284\n",
       "2008    260\n",
       "2009    327\n",
       "2010    282\n",
       "2011    328\n",
       "2012    370\n",
       "2013    382\n",
       "2014    393\n",
       "2015    388\n",
       "2016    375\n",
       "2017    386\n",
       "2018    356\n",
       "Name: Year, dtype: int64"
      ]
     },
     "execution_count": 13,
     "metadata": {},
     "output_type": "execute_result"
    }
   ],
   "source": [
    "movies['Year'].value_counts().sort_index()"
   ]
  },
  {
   "cell_type": "code",
   "execution_count": 14,
   "metadata": {},
   "outputs": [
    {
     "data": {
      "text/plain": [
       "2018    356\n",
       "2017    386\n",
       "2016    375\n",
       "2015    388\n",
       "2014    393\n",
       "2013    382\n",
       "2012    370\n",
       "2011    328\n",
       "2010    282\n",
       "2009    327\n",
       "2008    260\n",
       "2007    284\n",
       "2006    292\n",
       "2005    210\n",
       "2004    150\n",
       "2003    139\n",
       "2002    186\n",
       "2001    167\n",
       "Name: Year, dtype: int64"
      ]
     },
     "execution_count": 14,
     "metadata": {},
     "output_type": "execute_result"
    }
   ],
   "source": [
    "movies['Year'].value_counts().sort_index(ascending=False)"
   ]
  },
  {
   "cell_type": "code",
   "execution_count": 19,
   "metadata": {},
   "outputs": [
    {
     "data": {
      "text/plain": [
       "Tyler Perry             15\n",
       "John Lyde               10\n",
       "Joe Swanberg            10\n",
       "Timothy Woodward Jr.    10\n",
       "James Franco             8\n",
       "                        ..\n",
       "Yaron Zilberman          1\n",
       "Gary Hardwick            1\n",
       "Alexander Babaev         1\n",
       "Benjamin J. Walter       1\n",
       "Alan Poul                1\n",
       "Name: Director, Length: 3772, dtype: int64"
      ]
     },
     "execution_count": 19,
     "metadata": {},
     "output_type": "execute_result"
    }
   ],
   "source": [
    "movies['Director'].value_counts()"
   ]
  },
  {
   "cell_type": "code",
   "execution_count": 20,
   "metadata": {},
   "outputs": [
    {
     "data": {
      "text/plain": [
       "Comedy       1670\n",
       "Drama        1187\n",
       "Action        751\n",
       "Horror        689\n",
       "Crime         342\n",
       "Biography     144\n",
       "Adventure     139\n",
       "Animation     139\n",
       "Thriller       69\n",
       "Fantasy        45\n",
       "Sci-Fi         24\n",
       "Mystery        22\n",
       "Romance        21\n",
       "Family         17\n",
       "Music           6\n",
       "Musical         5\n",
       "Western         3\n",
       "History         1\n",
       "Sport           1\n",
       "Name: Genre, dtype: int64"
      ]
     },
     "execution_count": 20,
     "metadata": {},
     "output_type": "execute_result"
    }
   ],
   "source": [
    "genre_tbl = movies['Genre'].value_counts()\n",
    "genre_tbl"
   ]
  },
  {
   "cell_type": "code",
   "execution_count": 24,
   "metadata": {},
   "outputs": [
    {
     "data": {
      "image/png": "[encoded data removed]",
      "text/plain": [
       "<Figure size 1152x432 with 1 Axes>"
      ]
     },
     "metadata": {
      "needs_background": "light"
     },
     "output_type": "display_data"
    }
   ],
   "source": [
    "plt.figure(figsize=(16,6))\n",
    "plt.plot(genre_tbl)\n",
    "plt.xticks(genre_tbl.index,rotation = 90)\n",
    "plt.show()"
   ]
  },
  {
   "cell_type": "code",
   "execution_count": 27,
   "metadata": {},
   "outputs": [
    {
     "data": {
      "image/png": "[encoded data removed]",
      "text/plain": [
       "<Figure size 1080x360 with 1 Axes>"
      ]
     },
     "metadata": {
      "needs_background": "light"
     },
     "output_type": "display_data"
    }
   ],
   "source": [
    "plt.figure(figsize = (15,5))\n",
    "plt.bar(x=genre_tbl.index,height=genre_tbl.values)\n",
    "plt.xticks(rotation = '90')\n",
    "plt.title(\"No of movies produced in each genre between 2001 and 2018\")\n",
    "plt.show()"
   ]
  },
  {
   "cell_type": "code",
   "execution_count": 28,
   "metadata": {},
   "outputs": [
    {
     "data": {
      "image/png": "[encoded data removed]",
      "text/plain": [
       "<Figure size 720x720 with 1 Axes>"
      ]
     },
     "metadata": {
      "needs_background": "light"
     },
     "output_type": "display_data"
    }
   ],
   "source": [
    "plt.figure(figsize = (10,10))\n",
    "sns.barplot(x = genre_tbl.values, y = genre_tbl.index, color = 'lightblue')\n",
    "plt.title(\"No of movies produced in each genre between 2001 and 2018\")\n",
    "plt.show()"
   ]
  },
  {
   "cell_type": "code",
   "execution_count": 29,
   "metadata": {},
   "outputs": [
    {
     "data": {
      "text/html": [
       "<div>\n",
       "<style scoped>\n",
       "    .dataframe tbody tr th:only-of-type {\n",
       "        vertical-align: middle;\n",
       "    }\n",
       "\n",
       "    .dataframe tbody tr th {\n",
       "        vertical-align: top;\n",
       "    }\n",
       "\n",
       "    .dataframe thead th {\n",
       "        text-align: right;\n",
       "    }\n",
       "</style>\n",
       "<table border=\"1\" class=\"dataframe\">\n",
       "  <thead>\n",
       "    <tr style=\"text-align: right;\">\n",
       "      <th></th>\n",
       "      <th>Title</th>\n",
       "      <th>Year</th>\n",
       "      <th>Genre</th>\n",
       "      <th>Duration</th>\n",
       "      <th>Director</th>\n",
       "      <th>Rating</th>\n",
       "      <th>Popularity</th>\n",
       "    </tr>\n",
       "  </thead>\n",
       "  <tbody>\n",
       "    <tr>\n",
       "      <th>0</th>\n",
       "      <td>What Is It?</td>\n",
       "      <td>2005</td>\n",
       "      <td>Drama</td>\n",
       "      <td>72</td>\n",
       "      <td>Crispin Glover</td>\n",
       "      <td>5.6</td>\n",
       "      <td>21.83</td>\n",
       "    </tr>\n",
       "    <tr>\n",
       "      <th>1</th>\n",
       "      <td>Glitter</td>\n",
       "      <td>2001</td>\n",
       "      <td>Drama</td>\n",
       "      <td>104</td>\n",
       "      <td>Vondie Curtis-Hall</td>\n",
       "      <td>2.2</td>\n",
       "      <td>81.69</td>\n",
       "    </tr>\n",
       "    <tr>\n",
       "      <th>2</th>\n",
       "      <td>The Attic Expeditions</td>\n",
       "      <td>2001</td>\n",
       "      <td>Comedy</td>\n",
       "      <td>100</td>\n",
       "      <td>Jeremy Kasten</td>\n",
       "      <td>5.0</td>\n",
       "      <td>42.08</td>\n",
       "    </tr>\n",
       "    <tr>\n",
       "      <th>3</th>\n",
       "      <td>Men in Black II</td>\n",
       "      <td>2002</td>\n",
       "      <td>Action</td>\n",
       "      <td>88</td>\n",
       "      <td>Barry Sonnenfeld</td>\n",
       "      <td>6.2</td>\n",
       "      <td>98.60</td>\n",
       "    </tr>\n",
       "    <tr>\n",
       "      <th>4</th>\n",
       "      <td>Star Wars: Episode II - Attack of the Clones</td>\n",
       "      <td>2002</td>\n",
       "      <td>Action</td>\n",
       "      <td>142</td>\n",
       "      <td>George Lucas</td>\n",
       "      <td>6.5</td>\n",
       "      <td>99.58</td>\n",
       "    </tr>\n",
       "    <tr>\n",
       "      <th>...</th>\n",
       "      <td>...</td>\n",
       "      <td>...</td>\n",
       "      <td>...</td>\n",
       "      <td>...</td>\n",
       "      <td>...</td>\n",
       "      <td>...</td>\n",
       "      <td>...</td>\n",
       "    </tr>\n",
       "    <tr>\n",
       "      <th>5270</th>\n",
       "      <td>Bloodline</td>\n",
       "      <td>2018</td>\n",
       "      <td>Crime</td>\n",
       "      <td>97</td>\n",
       "      <td>Henry Jacobson</td>\n",
       "      <td>6.0</td>\n",
       "      <td>64.69</td>\n",
       "    </tr>\n",
       "    <tr>\n",
       "      <th>5271</th>\n",
       "      <td>The Princess Switch</td>\n",
       "      <td>2018</td>\n",
       "      <td>Comedy</td>\n",
       "      <td>101</td>\n",
       "      <td>Mike Rohl</td>\n",
       "      <td>6.0</td>\n",
       "      <td>80.21</td>\n",
       "    </tr>\n",
       "    <tr>\n",
       "      <th>5272</th>\n",
       "      <td>You Might Be the Killer</td>\n",
       "      <td>2018</td>\n",
       "      <td>Comedy</td>\n",
       "      <td>92</td>\n",
       "      <td>Brett Simmons</td>\n",
       "      <td>5.9</td>\n",
       "      <td>61.14</td>\n",
       "    </tr>\n",
       "    <tr>\n",
       "      <th>5273</th>\n",
       "      <td>The Final Wish</td>\n",
       "      <td>2018</td>\n",
       "      <td>Horror</td>\n",
       "      <td>95</td>\n",
       "      <td>Timothy Woodward Jr.</td>\n",
       "      <td>4.2</td>\n",
       "      <td>54.68</td>\n",
       "    </tr>\n",
       "    <tr>\n",
       "      <th>5274</th>\n",
       "      <td>Shrek Retold</td>\n",
       "      <td>2018</td>\n",
       "      <td>Animation</td>\n",
       "      <td>90</td>\n",
       "      <td>Grant Duffrin</td>\n",
       "      <td>7.5</td>\n",
       "      <td>26.07</td>\n",
       "    </tr>\n",
       "  </tbody>\n",
       "</table>\n",
       "<p>5275 rows × 7 columns</p>\n",
       "</div>"
      ],
      "text/plain": [
       "                                             Title  Year      Genre  Duration  \\\n",
       "0                                      What Is It?  2005      Drama        72   \n",
       "1                                          Glitter  2001      Drama       104   \n",
       "2                            The Attic Expeditions  2001     Comedy       100   \n",
       "3                                  Men in Black II  2002     Action        88   \n",
       "4     Star Wars: Episode II - Attack of the Clones  2002     Action       142   \n",
       "...                                            ...   ...        ...       ...   \n",
       "5270                                     Bloodline  2018      Crime        97   \n",
       "5271                           The Princess Switch  2018     Comedy       101   \n",
       "5272                       You Might Be the Killer  2018     Comedy        92   \n",
       "5273                                The Final Wish  2018     Horror        95   \n",
       "5274                                  Shrek Retold  2018  Animation        90   \n",
       "\n",
       "                  Director  Rating  Popularity  \n",
       "0           Crispin Glover     5.6       21.83  \n",
       "1       Vondie Curtis-Hall     2.2       81.69  \n",
       "2            Jeremy Kasten     5.0       42.08  \n",
       "3         Barry Sonnenfeld     6.2       98.60  \n",
       "4             George Lucas     6.5       99.58  \n",
       "...                    ...     ...         ...  \n",
       "5270        Henry Jacobson     6.0       64.69  \n",
       "5271             Mike Rohl     6.0       80.21  \n",
       "5272         Brett Simmons     5.9       61.14  \n",
       "5273  Timothy Woodward Jr.     4.2       54.68  \n",
       "5274         Grant Duffrin     7.5       26.07  \n",
       "\n",
       "[5275 rows x 7 columns]"
      ]
     },
     "execution_count": 29,
     "metadata": {},
     "output_type": "execute_result"
    }
   ],
   "source": [
    "movies"
   ]
  },
  {
   "cell_type": "code",
   "execution_count": 30,
   "metadata": {},
   "outputs": [
    {
     "data": {
      "text/html": [
       "<div>\n",
       "<style scoped>\n",
       "    .dataframe tbody tr th:only-of-type {\n",
       "        vertical-align: middle;\n",
       "    }\n",
       "\n",
       "    .dataframe tbody tr th {\n",
       "        vertical-align: top;\n",
       "    }\n",
       "\n",
       "    .dataframe thead th {\n",
       "        text-align: right;\n",
       "    }\n",
       "</style>\n",
       "<table border=\"1\" class=\"dataframe\">\n",
       "  <thead>\n",
       "    <tr style=\"text-align: right;\">\n",
       "      <th></th>\n",
       "      <th>Title</th>\n",
       "      <th>Year</th>\n",
       "      <th>Genre</th>\n",
       "      <th>Duration</th>\n",
       "      <th>Director</th>\n",
       "      <th>Rating</th>\n",
       "      <th>Popularity</th>\n",
       "      <th>Rating_cat</th>\n",
       "    </tr>\n",
       "  </thead>\n",
       "  <tbody>\n",
       "    <tr>\n",
       "      <th>0</th>\n",
       "      <td>What Is It?</td>\n",
       "      <td>2005</td>\n",
       "      <td>Drama</td>\n",
       "      <td>72</td>\n",
       "      <td>Crispin Glover</td>\n",
       "      <td>5.6</td>\n",
       "      <td>21.83</td>\n",
       "      <td>Low</td>\n",
       "    </tr>\n",
       "    <tr>\n",
       "      <th>1</th>\n",
       "      <td>Glitter</td>\n",
       "      <td>2001</td>\n",
       "      <td>Drama</td>\n",
       "      <td>104</td>\n",
       "      <td>Vondie Curtis-Hall</td>\n",
       "      <td>2.2</td>\n",
       "      <td>81.69</td>\n",
       "      <td>Low</td>\n",
       "    </tr>\n",
       "    <tr>\n",
       "      <th>2</th>\n",
       "      <td>The Attic Expeditions</td>\n",
       "      <td>2001</td>\n",
       "      <td>Comedy</td>\n",
       "      <td>100</td>\n",
       "      <td>Jeremy Kasten</td>\n",
       "      <td>5.0</td>\n",
       "      <td>42.08</td>\n",
       "      <td>Low</td>\n",
       "    </tr>\n",
       "    <tr>\n",
       "      <th>3</th>\n",
       "      <td>Men in Black II</td>\n",
       "      <td>2002</td>\n",
       "      <td>Action</td>\n",
       "      <td>88</td>\n",
       "      <td>Barry Sonnenfeld</td>\n",
       "      <td>6.2</td>\n",
       "      <td>98.60</td>\n",
       "      <td>Medium</td>\n",
       "    </tr>\n",
       "    <tr>\n",
       "      <th>4</th>\n",
       "      <td>Star Wars: Episode II - Attack of the Clones</td>\n",
       "      <td>2002</td>\n",
       "      <td>Action</td>\n",
       "      <td>142</td>\n",
       "      <td>George Lucas</td>\n",
       "      <td>6.5</td>\n",
       "      <td>99.58</td>\n",
       "      <td>Medium</td>\n",
       "    </tr>\n",
       "    <tr>\n",
       "      <th>...</th>\n",
       "      <td>...</td>\n",
       "      <td>...</td>\n",
       "      <td>...</td>\n",
       "      <td>...</td>\n",
       "      <td>...</td>\n",
       "      <td>...</td>\n",
       "      <td>...</td>\n",
       "      <td>...</td>\n",
       "    </tr>\n",
       "    <tr>\n",
       "      <th>5270</th>\n",
       "      <td>Bloodline</td>\n",
       "      <td>2018</td>\n",
       "      <td>Crime</td>\n",
       "      <td>97</td>\n",
       "      <td>Henry Jacobson</td>\n",
       "      <td>6.0</td>\n",
       "      <td>64.69</td>\n",
       "      <td>Medium</td>\n",
       "    </tr>\n",
       "    <tr>\n",
       "      <th>5271</th>\n",
       "      <td>The Princess Switch</td>\n",
       "      <td>2018</td>\n",
       "      <td>Comedy</td>\n",
       "      <td>101</td>\n",
       "      <td>Mike Rohl</td>\n",
       "      <td>6.0</td>\n",
       "      <td>80.21</td>\n",
       "      <td>Medium</td>\n",
       "    </tr>\n",
       "    <tr>\n",
       "      <th>5272</th>\n",
       "      <td>You Might Be the Killer</td>\n",
       "      <td>2018</td>\n",
       "      <td>Comedy</td>\n",
       "      <td>92</td>\n",
       "      <td>Brett Simmons</td>\n",
       "      <td>5.9</td>\n",
       "      <td>61.14</td>\n",
       "      <td>Low</td>\n",
       "    </tr>\n",
       "    <tr>\n",
       "      <th>5273</th>\n",
       "      <td>The Final Wish</td>\n",
       "      <td>2018</td>\n",
       "      <td>Horror</td>\n",
       "      <td>95</td>\n",
       "      <td>Timothy Woodward Jr.</td>\n",
       "      <td>4.2</td>\n",
       "      <td>54.68</td>\n",
       "      <td>Low</td>\n",
       "    </tr>\n",
       "    <tr>\n",
       "      <th>5274</th>\n",
       "      <td>Shrek Retold</td>\n",
       "      <td>2018</td>\n",
       "      <td>Animation</td>\n",
       "      <td>90</td>\n",
       "      <td>Grant Duffrin</td>\n",
       "      <td>7.5</td>\n",
       "      <td>26.07</td>\n",
       "      <td>High</td>\n",
       "    </tr>\n",
       "  </tbody>\n",
       "</table>\n",
       "<p>5275 rows × 8 columns</p>\n",
       "</div>"
      ],
      "text/plain": [
       "                                             Title  Year      Genre  Duration  \\\n",
       "0                                      What Is It?  2005      Drama        72   \n",
       "1                                          Glitter  2001      Drama       104   \n",
       "2                            The Attic Expeditions  2001     Comedy       100   \n",
       "3                                  Men in Black II  2002     Action        88   \n",
       "4     Star Wars: Episode II - Attack of the Clones  2002     Action       142   \n",
       "...                                            ...   ...        ...       ...   \n",
       "5270                                     Bloodline  2018      Crime        97   \n",
       "5271                           The Princess Switch  2018     Comedy       101   \n",
       "5272                       You Might Be the Killer  2018     Comedy        92   \n",
       "5273                                The Final Wish  2018     Horror        95   \n",
       "5274                                  Shrek Retold  2018  Animation        90   \n",
       "\n",
       "                  Director  Rating  Popularity Rating_cat  \n",
       "0           Crispin Glover     5.6       21.83        Low  \n",
       "1       Vondie Curtis-Hall     2.2       81.69        Low  \n",
       "2            Jeremy Kasten     5.0       42.08        Low  \n",
       "3         Barry Sonnenfeld     6.2       98.60     Medium  \n",
       "4             George Lucas     6.5       99.58     Medium  \n",
       "...                    ...     ...         ...        ...  \n",
       "5270        Henry Jacobson     6.0       64.69     Medium  \n",
       "5271             Mike Rohl     6.0       80.21     Medium  \n",
       "5272         Brett Simmons     5.9       61.14        Low  \n",
       "5273  Timothy Woodward Jr.     4.2       54.68        Low  \n",
       "5274         Grant Duffrin     7.5       26.07       High  \n",
       "\n",
       "[5275 rows x 8 columns]"
      ]
     },
     "execution_count": 30,
     "metadata": {},
     "output_type": "execute_result"
    }
   ],
   "source": [
    "movies['Rating_cat'] = np.where(movies.Rating>=7,\"High\",np.where(movies.Rating>=6,\"Medium\",\"Low\"))\n",
    "movies"
   ]
  },
  {
   "cell_type": "code",
   "execution_count": 32,
   "metadata": {},
   "outputs": [
    {
     "data": {
      "text/plain": [
       "Low       0.640190\n",
       "Medium    0.281517\n",
       "High      0.078294\n",
       "Name: Rating_cat, dtype: float64"
      ]
     },
     "execution_count": 32,
     "metadata": {},
     "output_type": "execute_result"
    }
   ],
   "source": [
    "movies['Rating_cat'].value_counts(normalize=True)"
   ]
  },
  {
   "cell_type": "code",
   "execution_count": 42,
   "metadata": {},
   "outputs": [
    {
     "data": {
      "image/png": "[encoded data removed]",
      "text/plain": [
       "<Figure size 432x288 with 1 Axes>"
      ]
     },
     "metadata": {},
     "output_type": "display_data"
    }
   ],
   "source": [
    "plt.pie(movies['Rating_cat'].value_counts(),\n",
    "       labels = movies['Rating_cat'].value_counts().index,\n",
    "       autopct = '%.2f%%',\n",
    "       explode=[0, 0, 0.1])\n",
    "plt.title(\"% of Movies with High, Medium, Low rating\");"
   ]
  },
  {
   "cell_type": "code",
   "execution_count": 43,
   "metadata": {},
   "outputs": [
    {
     "data": {
      "text/html": [
       "<div>\n",
       "<style scoped>\n",
       "    .dataframe tbody tr th:only-of-type {\n",
       "        vertical-align: middle;\n",
       "    }\n",
       "\n",
       "    .dataframe tbody tr th {\n",
       "        vertical-align: top;\n",
       "    }\n",
       "\n",
       "    .dataframe thead th {\n",
       "        text-align: right;\n",
       "    }\n",
       "</style>\n",
       "<table border=\"1\" class=\"dataframe\">\n",
       "  <thead>\n",
       "    <tr style=\"text-align: right;\">\n",
       "      <th></th>\n",
       "      <th>Title</th>\n",
       "      <th>Year</th>\n",
       "      <th>Genre</th>\n",
       "      <th>Duration</th>\n",
       "      <th>Director</th>\n",
       "      <th>Rating</th>\n",
       "      <th>Popularity</th>\n",
       "      <th>Rating_cat</th>\n",
       "    </tr>\n",
       "  </thead>\n",
       "  <tbody>\n",
       "    <tr>\n",
       "      <th>0</th>\n",
       "      <td>What Is It?</td>\n",
       "      <td>2005</td>\n",
       "      <td>Drama</td>\n",
       "      <td>72</td>\n",
       "      <td>Crispin Glover</td>\n",
       "      <td>5.6</td>\n",
       "      <td>21.83</td>\n",
       "      <td>Low</td>\n",
       "    </tr>\n",
       "    <tr>\n",
       "      <th>1</th>\n",
       "      <td>Glitter</td>\n",
       "      <td>2001</td>\n",
       "      <td>Drama</td>\n",
       "      <td>104</td>\n",
       "      <td>Vondie Curtis-Hall</td>\n",
       "      <td>2.2</td>\n",
       "      <td>81.69</td>\n",
       "      <td>Low</td>\n",
       "    </tr>\n",
       "    <tr>\n",
       "      <th>2</th>\n",
       "      <td>The Attic Expeditions</td>\n",
       "      <td>2001</td>\n",
       "      <td>Comedy</td>\n",
       "      <td>100</td>\n",
       "      <td>Jeremy Kasten</td>\n",
       "      <td>5.0</td>\n",
       "      <td>42.08</td>\n",
       "      <td>Low</td>\n",
       "    </tr>\n",
       "    <tr>\n",
       "      <th>3</th>\n",
       "      <td>Men in Black II</td>\n",
       "      <td>2002</td>\n",
       "      <td>Action</td>\n",
       "      <td>88</td>\n",
       "      <td>Barry Sonnenfeld</td>\n",
       "      <td>6.2</td>\n",
       "      <td>98.60</td>\n",
       "      <td>Medium</td>\n",
       "    </tr>\n",
       "    <tr>\n",
       "      <th>4</th>\n",
       "      <td>Star Wars: Episode II - Attack of the Clones</td>\n",
       "      <td>2002</td>\n",
       "      <td>Action</td>\n",
       "      <td>142</td>\n",
       "      <td>George Lucas</td>\n",
       "      <td>6.5</td>\n",
       "      <td>99.58</td>\n",
       "      <td>Medium</td>\n",
       "    </tr>\n",
       "    <tr>\n",
       "      <th>...</th>\n",
       "      <td>...</td>\n",
       "      <td>...</td>\n",
       "      <td>...</td>\n",
       "      <td>...</td>\n",
       "      <td>...</td>\n",
       "      <td>...</td>\n",
       "      <td>...</td>\n",
       "      <td>...</td>\n",
       "    </tr>\n",
       "    <tr>\n",
       "      <th>5270</th>\n",
       "      <td>Bloodline</td>\n",
       "      <td>2018</td>\n",
       "      <td>Crime</td>\n",
       "      <td>97</td>\n",
       "      <td>Henry Jacobson</td>\n",
       "      <td>6.0</td>\n",
       "      <td>64.69</td>\n",
       "      <td>Medium</td>\n",
       "    </tr>\n",
       "    <tr>\n",
       "      <th>5271</th>\n",
       "      <td>The Princess Switch</td>\n",
       "      <td>2018</td>\n",
       "      <td>Comedy</td>\n",
       "      <td>101</td>\n",
       "      <td>Mike Rohl</td>\n",
       "      <td>6.0</td>\n",
       "      <td>80.21</td>\n",
       "      <td>Medium</td>\n",
       "    </tr>\n",
       "    <tr>\n",
       "      <th>5272</th>\n",
       "      <td>You Might Be the Killer</td>\n",
       "      <td>2018</td>\n",
       "      <td>Comedy</td>\n",
       "      <td>92</td>\n",
       "      <td>Brett Simmons</td>\n",
       "      <td>5.9</td>\n",
       "      <td>61.14</td>\n",
       "      <td>Low</td>\n",
       "    </tr>\n",
       "    <tr>\n",
       "      <th>5273</th>\n",
       "      <td>The Final Wish</td>\n",
       "      <td>2018</td>\n",
       "      <td>Horror</td>\n",
       "      <td>95</td>\n",
       "      <td>Timothy Woodward Jr.</td>\n",
       "      <td>4.2</td>\n",
       "      <td>54.68</td>\n",
       "      <td>Low</td>\n",
       "    </tr>\n",
       "    <tr>\n",
       "      <th>5274</th>\n",
       "      <td>Shrek Retold</td>\n",
       "      <td>2018</td>\n",
       "      <td>Animation</td>\n",
       "      <td>90</td>\n",
       "      <td>Grant Duffrin</td>\n",
       "      <td>7.5</td>\n",
       "      <td>26.07</td>\n",
       "      <td>High</td>\n",
       "    </tr>\n",
       "  </tbody>\n",
       "</table>\n",
       "<p>5275 rows × 8 columns</p>\n",
       "</div>"
      ],
      "text/plain": [
       "                                             Title  Year      Genre  Duration  \\\n",
       "0                                      What Is It?  2005      Drama        72   \n",
       "1                                          Glitter  2001      Drama       104   \n",
       "2                            The Attic Expeditions  2001     Comedy       100   \n",
       "3                                  Men in Black II  2002     Action        88   \n",
       "4     Star Wars: Episode II - Attack of the Clones  2002     Action       142   \n",
       "...                                            ...   ...        ...       ...   \n",
       "5270                                     Bloodline  2018      Crime        97   \n",
       "5271                           The Princess Switch  2018     Comedy       101   \n",
       "5272                       You Might Be the Killer  2018     Comedy        92   \n",
       "5273                                The Final Wish  2018     Horror        95   \n",
       "5274                                  Shrek Retold  2018  Animation        90   \n",
       "\n",
       "                  Director  Rating  Popularity Rating_cat  \n",
       "0           Crispin Glover     5.6       21.83        Low  \n",
       "1       Vondie Curtis-Hall     2.2       81.69        Low  \n",
       "2            Jeremy Kasten     5.0       42.08        Low  \n",
       "3         Barry Sonnenfeld     6.2       98.60     Medium  \n",
       "4             George Lucas     6.5       99.58     Medium  \n",
       "...                    ...     ...         ...        ...  \n",
       "5270        Henry Jacobson     6.0       64.69     Medium  \n",
       "5271             Mike Rohl     6.0       80.21     Medium  \n",
       "5272         Brett Simmons     5.9       61.14        Low  \n",
       "5273  Timothy Woodward Jr.     4.2       54.68        Low  \n",
       "5274         Grant Duffrin     7.5       26.07       High  \n",
       "\n",
       "[5275 rows x 8 columns]"
      ]
     },
     "execution_count": 43,
     "metadata": {},
     "output_type": "execute_result"
    }
   ],
   "source": [
    "movies"
   ]
  },
  {
   "cell_type": "code",
   "execution_count": 46,
   "metadata": {},
   "outputs": [
    {
     "data": {
      "text/html": [
       "<div>\n",
       "<style scoped>\n",
       "    .dataframe tbody tr th:only-of-type {\n",
       "        vertical-align: middle;\n",
       "    }\n",
       "\n",
       "    .dataframe tbody tr th {\n",
       "        vertical-align: top;\n",
       "    }\n",
       "\n",
       "    .dataframe thead th {\n",
       "        text-align: right;\n",
       "    }\n",
       "</style>\n",
       "<table border=\"1\" class=\"dataframe\">\n",
       "  <thead>\n",
       "    <tr style=\"text-align: right;\">\n",
       "      <th>Rating_cat</th>\n",
       "      <th>High</th>\n",
       "      <th>Low</th>\n",
       "      <th>Medium</th>\n",
       "    </tr>\n",
       "    <tr>\n",
       "      <th>Year</th>\n",
       "      <th></th>\n",
       "      <th></th>\n",
       "      <th></th>\n",
       "    </tr>\n",
       "  </thead>\n",
       "  <tbody>\n",
       "    <tr>\n",
       "      <th>2001</th>\n",
       "      <td>15</td>\n",
       "      <td>87</td>\n",
       "      <td>65</td>\n",
       "    </tr>\n",
       "    <tr>\n",
       "      <th>2002</th>\n",
       "      <td>21</td>\n",
       "      <td>105</td>\n",
       "      <td>60</td>\n",
       "    </tr>\n",
       "    <tr>\n",
       "      <th>2003</th>\n",
       "      <td>15</td>\n",
       "      <td>83</td>\n",
       "      <td>41</td>\n",
       "    </tr>\n",
       "    <tr>\n",
       "      <th>2004</th>\n",
       "      <td>14</td>\n",
       "      <td>87</td>\n",
       "      <td>49</td>\n",
       "    </tr>\n",
       "    <tr>\n",
       "      <th>2005</th>\n",
       "      <td>18</td>\n",
       "      <td>130</td>\n",
       "      <td>62</td>\n",
       "    </tr>\n",
       "    <tr>\n",
       "      <th>2006</th>\n",
       "      <td>19</td>\n",
       "      <td>184</td>\n",
       "      <td>89</td>\n",
       "    </tr>\n",
       "    <tr>\n",
       "      <th>2007</th>\n",
       "      <td>37</td>\n",
       "      <td>154</td>\n",
       "      <td>93</td>\n",
       "    </tr>\n",
       "    <tr>\n",
       "      <th>2008</th>\n",
       "      <td>21</td>\n",
       "      <td>165</td>\n",
       "      <td>74</td>\n",
       "    </tr>\n",
       "    <tr>\n",
       "      <th>2009</th>\n",
       "      <td>23</td>\n",
       "      <td>217</td>\n",
       "      <td>87</td>\n",
       "    </tr>\n",
       "    <tr>\n",
       "      <th>2010</th>\n",
       "      <td>20</td>\n",
       "      <td>170</td>\n",
       "      <td>92</td>\n",
       "    </tr>\n",
       "    <tr>\n",
       "      <th>2011</th>\n",
       "      <td>30</td>\n",
       "      <td>218</td>\n",
       "      <td>80</td>\n",
       "    </tr>\n",
       "    <tr>\n",
       "      <th>2012</th>\n",
       "      <td>37</td>\n",
       "      <td>238</td>\n",
       "      <td>95</td>\n",
       "    </tr>\n",
       "    <tr>\n",
       "      <th>2013</th>\n",
       "      <td>23</td>\n",
       "      <td>258</td>\n",
       "      <td>101</td>\n",
       "    </tr>\n",
       "    <tr>\n",
       "      <th>2014</th>\n",
       "      <td>21</td>\n",
       "      <td>268</td>\n",
       "      <td>104</td>\n",
       "    </tr>\n",
       "    <tr>\n",
       "      <th>2015</th>\n",
       "      <td>26</td>\n",
       "      <td>259</td>\n",
       "      <td>103</td>\n",
       "    </tr>\n",
       "    <tr>\n",
       "      <th>2016</th>\n",
       "      <td>21</td>\n",
       "      <td>264</td>\n",
       "      <td>90</td>\n",
       "    </tr>\n",
       "    <tr>\n",
       "      <th>2017</th>\n",
       "      <td>24</td>\n",
       "      <td>258</td>\n",
       "      <td>104</td>\n",
       "    </tr>\n",
       "    <tr>\n",
       "      <th>2018</th>\n",
       "      <td>28</td>\n",
       "      <td>232</td>\n",
       "      <td>96</td>\n",
       "    </tr>\n",
       "  </tbody>\n",
       "</table>\n",
       "</div>"
      ],
      "text/plain": [
       "Rating_cat  High  Low  Medium\n",
       "Year                         \n",
       "2001          15   87      65\n",
       "2002          21  105      60\n",
       "2003          15   83      41\n",
       "2004          14   87      49\n",
       "2005          18  130      62\n",
       "2006          19  184      89\n",
       "2007          37  154      93\n",
       "2008          21  165      74\n",
       "2009          23  217      87\n",
       "2010          20  170      92\n",
       "2011          30  218      80\n",
       "2012          37  238      95\n",
       "2013          23  258     101\n",
       "2014          21  268     104\n",
       "2015          26  259     103\n",
       "2016          21  264      90\n",
       "2017          24  258     104\n",
       "2018          28  232      96"
      ]
     },
     "execution_count": 46,
     "metadata": {},
     "output_type": "execute_result"
    }
   ],
   "source": [
    "pd.crosstab(movies.Year,movies.Rating_cat)"
   ]
  },
  {
   "cell_type": "code",
   "execution_count": 47,
   "metadata": {},
   "outputs": [
    {
     "data": {
      "text/html": [
       "<div>\n",
       "<style scoped>\n",
       "    .dataframe tbody tr th:only-of-type {\n",
       "        vertical-align: middle;\n",
       "    }\n",
       "\n",
       "    .dataframe tbody tr th {\n",
       "        vertical-align: top;\n",
       "    }\n",
       "\n",
       "    .dataframe thead th {\n",
       "        text-align: right;\n",
       "    }\n",
       "</style>\n",
       "<table border=\"1\" class=\"dataframe\">\n",
       "  <thead>\n",
       "    <tr style=\"text-align: right;\">\n",
       "      <th>Rating_cat</th>\n",
       "      <th>High</th>\n",
       "      <th>Low</th>\n",
       "      <th>Medium</th>\n",
       "    </tr>\n",
       "    <tr>\n",
       "      <th>Year</th>\n",
       "      <th></th>\n",
       "      <th></th>\n",
       "      <th></th>\n",
       "    </tr>\n",
       "  </thead>\n",
       "  <tbody>\n",
       "    <tr>\n",
       "      <th>2001</th>\n",
       "      <td>0.002844</td>\n",
       "      <td>0.016493</td>\n",
       "      <td>0.012322</td>\n",
       "    </tr>\n",
       "    <tr>\n",
       "      <th>2002</th>\n",
       "      <td>0.003981</td>\n",
       "      <td>0.019905</td>\n",
       "      <td>0.011374</td>\n",
       "    </tr>\n",
       "    <tr>\n",
       "      <th>2003</th>\n",
       "      <td>0.002844</td>\n",
       "      <td>0.015735</td>\n",
       "      <td>0.007773</td>\n",
       "    </tr>\n",
       "    <tr>\n",
       "      <th>2004</th>\n",
       "      <td>0.002654</td>\n",
       "      <td>0.016493</td>\n",
       "      <td>0.009289</td>\n",
       "    </tr>\n",
       "    <tr>\n",
       "      <th>2005</th>\n",
       "      <td>0.003412</td>\n",
       "      <td>0.024645</td>\n",
       "      <td>0.011754</td>\n",
       "    </tr>\n",
       "    <tr>\n",
       "      <th>2006</th>\n",
       "      <td>0.003602</td>\n",
       "      <td>0.034882</td>\n",
       "      <td>0.016872</td>\n",
       "    </tr>\n",
       "    <tr>\n",
       "      <th>2007</th>\n",
       "      <td>0.007014</td>\n",
       "      <td>0.029194</td>\n",
       "      <td>0.017630</td>\n",
       "    </tr>\n",
       "    <tr>\n",
       "      <th>2008</th>\n",
       "      <td>0.003981</td>\n",
       "      <td>0.031280</td>\n",
       "      <td>0.014028</td>\n",
       "    </tr>\n",
       "    <tr>\n",
       "      <th>2009</th>\n",
       "      <td>0.004360</td>\n",
       "      <td>0.041137</td>\n",
       "      <td>0.016493</td>\n",
       "    </tr>\n",
       "    <tr>\n",
       "      <th>2010</th>\n",
       "      <td>0.003791</td>\n",
       "      <td>0.032227</td>\n",
       "      <td>0.017441</td>\n",
       "    </tr>\n",
       "    <tr>\n",
       "      <th>2011</th>\n",
       "      <td>0.005687</td>\n",
       "      <td>0.041327</td>\n",
       "      <td>0.015166</td>\n",
       "    </tr>\n",
       "    <tr>\n",
       "      <th>2012</th>\n",
       "      <td>0.007014</td>\n",
       "      <td>0.045118</td>\n",
       "      <td>0.018009</td>\n",
       "    </tr>\n",
       "    <tr>\n",
       "      <th>2013</th>\n",
       "      <td>0.004360</td>\n",
       "      <td>0.048910</td>\n",
       "      <td>0.019147</td>\n",
       "    </tr>\n",
       "    <tr>\n",
       "      <th>2014</th>\n",
       "      <td>0.003981</td>\n",
       "      <td>0.050806</td>\n",
       "      <td>0.019716</td>\n",
       "    </tr>\n",
       "    <tr>\n",
       "      <th>2015</th>\n",
       "      <td>0.004929</td>\n",
       "      <td>0.049100</td>\n",
       "      <td>0.019526</td>\n",
       "    </tr>\n",
       "    <tr>\n",
       "      <th>2016</th>\n",
       "      <td>0.003981</td>\n",
       "      <td>0.050047</td>\n",
       "      <td>0.017062</td>\n",
       "    </tr>\n",
       "    <tr>\n",
       "      <th>2017</th>\n",
       "      <td>0.004550</td>\n",
       "      <td>0.048910</td>\n",
       "      <td>0.019716</td>\n",
       "    </tr>\n",
       "    <tr>\n",
       "      <th>2018</th>\n",
       "      <td>0.005308</td>\n",
       "      <td>0.043981</td>\n",
       "      <td>0.018199</td>\n",
       "    </tr>\n",
       "  </tbody>\n",
       "</table>\n",
       "</div>"
      ],
      "text/plain": [
       "Rating_cat      High       Low    Medium\n",
       "Year                                    \n",
       "2001        0.002844  0.016493  0.012322\n",
       "2002        0.003981  0.019905  0.011374\n",
       "2003        0.002844  0.015735  0.007773\n",
       "2004        0.002654  0.016493  0.009289\n",
       "2005        0.003412  0.024645  0.011754\n",
       "2006        0.003602  0.034882  0.016872\n",
       "2007        0.007014  0.029194  0.017630\n",
       "2008        0.003981  0.031280  0.014028\n",
       "2009        0.004360  0.041137  0.016493\n",
       "2010        0.003791  0.032227  0.017441\n",
       "2011        0.005687  0.041327  0.015166\n",
       "2012        0.007014  0.045118  0.018009\n",
       "2013        0.004360  0.048910  0.019147\n",
       "2014        0.003981  0.050806  0.019716\n",
       "2015        0.004929  0.049100  0.019526\n",
       "2016        0.003981  0.050047  0.017062\n",
       "2017        0.004550  0.048910  0.019716\n",
       "2018        0.005308  0.043981  0.018199"
      ]
     },
     "execution_count": 47,
     "metadata": {},
     "output_type": "execute_result"
    }
   ],
   "source": [
    "pd.crosstab(movies.Year,movies.Rating_cat,normalize=True)"
   ]
  },
  {
   "cell_type": "code",
   "execution_count": 48,
   "metadata": {},
   "outputs": [
    {
     "data": {
      "text/html": [
       "<div>\n",
       "<style scoped>\n",
       "    .dataframe tbody tr th:only-of-type {\n",
       "        vertical-align: middle;\n",
       "    }\n",
       "\n",
       "    .dataframe tbody tr th {\n",
       "        vertical-align: top;\n",
       "    }\n",
       "\n",
       "    .dataframe thead th {\n",
       "        text-align: right;\n",
       "    }\n",
       "</style>\n",
       "<table border=\"1\" class=\"dataframe\">\n",
       "  <thead>\n",
       "    <tr style=\"text-align: right;\">\n",
       "      <th>Rating_cat</th>\n",
       "      <th>High</th>\n",
       "      <th>Low</th>\n",
       "      <th>Medium</th>\n",
       "    </tr>\n",
       "    <tr>\n",
       "      <th>Year</th>\n",
       "      <th></th>\n",
       "      <th></th>\n",
       "      <th></th>\n",
       "    </tr>\n",
       "  </thead>\n",
       "  <tbody>\n",
       "    <tr>\n",
       "      <th>2001</th>\n",
       "      <td>0.089820</td>\n",
       "      <td>0.520958</td>\n",
       "      <td>0.389222</td>\n",
       "    </tr>\n",
       "    <tr>\n",
       "      <th>2002</th>\n",
       "      <td>0.112903</td>\n",
       "      <td>0.564516</td>\n",
       "      <td>0.322581</td>\n",
       "    </tr>\n",
       "    <tr>\n",
       "      <th>2003</th>\n",
       "      <td>0.107914</td>\n",
       "      <td>0.597122</td>\n",
       "      <td>0.294964</td>\n",
       "    </tr>\n",
       "    <tr>\n",
       "      <th>2004</th>\n",
       "      <td>0.093333</td>\n",
       "      <td>0.580000</td>\n",
       "      <td>0.326667</td>\n",
       "    </tr>\n",
       "    <tr>\n",
       "      <th>2005</th>\n",
       "      <td>0.085714</td>\n",
       "      <td>0.619048</td>\n",
       "      <td>0.295238</td>\n",
       "    </tr>\n",
       "    <tr>\n",
       "      <th>2006</th>\n",
       "      <td>0.065068</td>\n",
       "      <td>0.630137</td>\n",
       "      <td>0.304795</td>\n",
       "    </tr>\n",
       "    <tr>\n",
       "      <th>2007</th>\n",
       "      <td>0.130282</td>\n",
       "      <td>0.542254</td>\n",
       "      <td>0.327465</td>\n",
       "    </tr>\n",
       "    <tr>\n",
       "      <th>2008</th>\n",
       "      <td>0.080769</td>\n",
       "      <td>0.634615</td>\n",
       "      <td>0.284615</td>\n",
       "    </tr>\n",
       "    <tr>\n",
       "      <th>2009</th>\n",
       "      <td>0.070336</td>\n",
       "      <td>0.663609</td>\n",
       "      <td>0.266055</td>\n",
       "    </tr>\n",
       "    <tr>\n",
       "      <th>2010</th>\n",
       "      <td>0.070922</td>\n",
       "      <td>0.602837</td>\n",
       "      <td>0.326241</td>\n",
       "    </tr>\n",
       "    <tr>\n",
       "      <th>2011</th>\n",
       "      <td>0.091463</td>\n",
       "      <td>0.664634</td>\n",
       "      <td>0.243902</td>\n",
       "    </tr>\n",
       "    <tr>\n",
       "      <th>2012</th>\n",
       "      <td>0.100000</td>\n",
       "      <td>0.643243</td>\n",
       "      <td>0.256757</td>\n",
       "    </tr>\n",
       "    <tr>\n",
       "      <th>2013</th>\n",
       "      <td>0.060209</td>\n",
       "      <td>0.675393</td>\n",
       "      <td>0.264398</td>\n",
       "    </tr>\n",
       "    <tr>\n",
       "      <th>2014</th>\n",
       "      <td>0.053435</td>\n",
       "      <td>0.681934</td>\n",
       "      <td>0.264631</td>\n",
       "    </tr>\n",
       "    <tr>\n",
       "      <th>2015</th>\n",
       "      <td>0.067010</td>\n",
       "      <td>0.667526</td>\n",
       "      <td>0.265464</td>\n",
       "    </tr>\n",
       "    <tr>\n",
       "      <th>2016</th>\n",
       "      <td>0.056000</td>\n",
       "      <td>0.704000</td>\n",
       "      <td>0.240000</td>\n",
       "    </tr>\n",
       "    <tr>\n",
       "      <th>2017</th>\n",
       "      <td>0.062176</td>\n",
       "      <td>0.668394</td>\n",
       "      <td>0.269430</td>\n",
       "    </tr>\n",
       "    <tr>\n",
       "      <th>2018</th>\n",
       "      <td>0.078652</td>\n",
       "      <td>0.651685</td>\n",
       "      <td>0.269663</td>\n",
       "    </tr>\n",
       "  </tbody>\n",
       "</table>\n",
       "</div>"
      ],
      "text/plain": [
       "Rating_cat      High       Low    Medium\n",
       "Year                                    \n",
       "2001        0.089820  0.520958  0.389222\n",
       "2002        0.112903  0.564516  0.322581\n",
       "2003        0.107914  0.597122  0.294964\n",
       "2004        0.093333  0.580000  0.326667\n",
       "2005        0.085714  0.619048  0.295238\n",
       "2006        0.065068  0.630137  0.304795\n",
       "2007        0.130282  0.542254  0.327465\n",
       "2008        0.080769  0.634615  0.284615\n",
       "2009        0.070336  0.663609  0.266055\n",
       "2010        0.070922  0.602837  0.326241\n",
       "2011        0.091463  0.664634  0.243902\n",
       "2012        0.100000  0.643243  0.256757\n",
       "2013        0.060209  0.675393  0.264398\n",
       "2014        0.053435  0.681934  0.264631\n",
       "2015        0.067010  0.667526  0.265464\n",
       "2016        0.056000  0.704000  0.240000\n",
       "2017        0.062176  0.668394  0.269430\n",
       "2018        0.078652  0.651685  0.269663"
      ]
     },
     "execution_count": 48,
     "metadata": {},
     "output_type": "execute_result"
    }
   ],
   "source": [
    "pd.crosstab(movies.Year,movies.Rating_cat,normalize = 'index')"
   ]
  },
  {
   "cell_type": "code",
   "execution_count": 53,
   "metadata": {},
   "outputs": [
    {
     "data": {
      "text/html": [
       "<div>\n",
       "<style scoped>\n",
       "    .dataframe tbody tr th:only-of-type {\n",
       "        vertical-align: middle;\n",
       "    }\n",
       "\n",
       "    .dataframe tbody tr th {\n",
       "        vertical-align: top;\n",
       "    }\n",
       "\n",
       "    .dataframe thead th {\n",
       "        text-align: right;\n",
       "    }\n",
       "</style>\n",
       "<table border=\"1\" class=\"dataframe\">\n",
       "  <thead>\n",
       "    <tr style=\"text-align: right;\">\n",
       "      <th>Rating_cat</th>\n",
       "      <th>High</th>\n",
       "      <th>Low</th>\n",
       "      <th>Medium</th>\n",
       "    </tr>\n",
       "    <tr>\n",
       "      <th>Year</th>\n",
       "      <th></th>\n",
       "      <th></th>\n",
       "      <th></th>\n",
       "    </tr>\n",
       "  </thead>\n",
       "  <tbody>\n",
       "    <tr>\n",
       "      <th>2001</th>\n",
       "      <td>0.036320</td>\n",
       "      <td>0.025763</td>\n",
       "      <td>0.043771</td>\n",
       "    </tr>\n",
       "    <tr>\n",
       "      <th>2002</th>\n",
       "      <td>0.050847</td>\n",
       "      <td>0.031093</td>\n",
       "      <td>0.040404</td>\n",
       "    </tr>\n",
       "    <tr>\n",
       "      <th>2003</th>\n",
       "      <td>0.036320</td>\n",
       "      <td>0.024578</td>\n",
       "      <td>0.027609</td>\n",
       "    </tr>\n",
       "    <tr>\n",
       "      <th>2004</th>\n",
       "      <td>0.033898</td>\n",
       "      <td>0.025763</td>\n",
       "      <td>0.032997</td>\n",
       "    </tr>\n",
       "    <tr>\n",
       "      <th>2005</th>\n",
       "      <td>0.043584</td>\n",
       "      <td>0.038496</td>\n",
       "      <td>0.041751</td>\n",
       "    </tr>\n",
       "    <tr>\n",
       "      <th>2006</th>\n",
       "      <td>0.046005</td>\n",
       "      <td>0.054486</td>\n",
       "      <td>0.059933</td>\n",
       "    </tr>\n",
       "    <tr>\n",
       "      <th>2007</th>\n",
       "      <td>0.089588</td>\n",
       "      <td>0.045603</td>\n",
       "      <td>0.062626</td>\n",
       "    </tr>\n",
       "    <tr>\n",
       "      <th>2008</th>\n",
       "      <td>0.050847</td>\n",
       "      <td>0.048860</td>\n",
       "      <td>0.049832</td>\n",
       "    </tr>\n",
       "    <tr>\n",
       "      <th>2009</th>\n",
       "      <td>0.055690</td>\n",
       "      <td>0.064258</td>\n",
       "      <td>0.058586</td>\n",
       "    </tr>\n",
       "    <tr>\n",
       "      <th>2010</th>\n",
       "      <td>0.048426</td>\n",
       "      <td>0.050341</td>\n",
       "      <td>0.061953</td>\n",
       "    </tr>\n",
       "    <tr>\n",
       "      <th>2011</th>\n",
       "      <td>0.072639</td>\n",
       "      <td>0.064554</td>\n",
       "      <td>0.053872</td>\n",
       "    </tr>\n",
       "    <tr>\n",
       "      <th>2012</th>\n",
       "      <td>0.089588</td>\n",
       "      <td>0.070477</td>\n",
       "      <td>0.063973</td>\n",
       "    </tr>\n",
       "    <tr>\n",
       "      <th>2013</th>\n",
       "      <td>0.055690</td>\n",
       "      <td>0.076399</td>\n",
       "      <td>0.068013</td>\n",
       "    </tr>\n",
       "    <tr>\n",
       "      <th>2014</th>\n",
       "      <td>0.050847</td>\n",
       "      <td>0.079360</td>\n",
       "      <td>0.070034</td>\n",
       "    </tr>\n",
       "    <tr>\n",
       "      <th>2015</th>\n",
       "      <td>0.062954</td>\n",
       "      <td>0.076695</td>\n",
       "      <td>0.069360</td>\n",
       "    </tr>\n",
       "    <tr>\n",
       "      <th>2016</th>\n",
       "      <td>0.050847</td>\n",
       "      <td>0.078176</td>\n",
       "      <td>0.060606</td>\n",
       "    </tr>\n",
       "    <tr>\n",
       "      <th>2017</th>\n",
       "      <td>0.058111</td>\n",
       "      <td>0.076399</td>\n",
       "      <td>0.070034</td>\n",
       "    </tr>\n",
       "    <tr>\n",
       "      <th>2018</th>\n",
       "      <td>0.067797</td>\n",
       "      <td>0.068700</td>\n",
       "      <td>0.064646</td>\n",
       "    </tr>\n",
       "  </tbody>\n",
       "</table>\n",
       "</div>"
      ],
      "text/plain": [
       "Rating_cat      High       Low    Medium\n",
       "Year                                    \n",
       "2001        0.036320  0.025763  0.043771\n",
       "2002        0.050847  0.031093  0.040404\n",
       "2003        0.036320  0.024578  0.027609\n",
       "2004        0.033898  0.025763  0.032997\n",
       "2005        0.043584  0.038496  0.041751\n",
       "2006        0.046005  0.054486  0.059933\n",
       "2007        0.089588  0.045603  0.062626\n",
       "2008        0.050847  0.048860  0.049832\n",
       "2009        0.055690  0.064258  0.058586\n",
       "2010        0.048426  0.050341  0.061953\n",
       "2011        0.072639  0.064554  0.053872\n",
       "2012        0.089588  0.070477  0.063973\n",
       "2013        0.055690  0.076399  0.068013\n",
       "2014        0.050847  0.079360  0.070034\n",
       "2015        0.062954  0.076695  0.069360\n",
       "2016        0.050847  0.078176  0.060606\n",
       "2017        0.058111  0.076399  0.070034\n",
       "2018        0.067797  0.068700  0.064646"
      ]
     },
     "execution_count": 53,
     "metadata": {},
     "output_type": "execute_result"
    }
   ],
   "source": [
    "pd.crosstab(movies.Year,movies.Rating_cat,normalize='columns')"
   ]
  },
  {
   "cell_type": "code",
   "execution_count": 60,
   "metadata": {},
   "outputs": [
    {
     "data": {
      "image/png": "[encoded data removed]",
      "text/plain": [
       "<Figure size 720x720 with 2 Axes>"
      ]
     },
     "metadata": {
      "needs_background": "light"
     },
     "output_type": "display_data"
    }
   ],
   "source": [
    "plt.figure(figsize=(10,10))\n",
    "sns.heatmap(pd.crosstab(movies.Year,movies.Rating_cat,normalize='index'),annot=True)\n",
    "plt.yticks(rotation='0');"
   ]
  },
  {
   "cell_type": "code",
   "execution_count": 61,
   "metadata": {},
   "outputs": [
    {
     "data": {
      "text/html": [
       "<div>\n",
       "<style scoped>\n",
       "    .dataframe tbody tr th:only-of-type {\n",
       "        vertical-align: middle;\n",
       "    }\n",
       "\n",
       "    .dataframe tbody tr th {\n",
       "        vertical-align: top;\n",
       "    }\n",
       "\n",
       "    .dataframe thead th {\n",
       "        text-align: right;\n",
       "    }\n",
       "</style>\n",
       "<table border=\"1\" class=\"dataframe\">\n",
       "  <thead>\n",
       "    <tr style=\"text-align: right;\">\n",
       "      <th></th>\n",
       "      <th>Title</th>\n",
       "      <th>Year</th>\n",
       "      <th>Genre</th>\n",
       "      <th>Duration</th>\n",
       "      <th>Director</th>\n",
       "      <th>Rating</th>\n",
       "      <th>Popularity</th>\n",
       "      <th>Rating_cat</th>\n",
       "    </tr>\n",
       "  </thead>\n",
       "  <tbody>\n",
       "    <tr>\n",
       "      <th>0</th>\n",
       "      <td>What Is It?</td>\n",
       "      <td>2005</td>\n",
       "      <td>Drama</td>\n",
       "      <td>72</td>\n",
       "      <td>Crispin Glover</td>\n",
       "      <td>5.6</td>\n",
       "      <td>21.83</td>\n",
       "      <td>Low</td>\n",
       "    </tr>\n",
       "    <tr>\n",
       "      <th>1</th>\n",
       "      <td>Glitter</td>\n",
       "      <td>2001</td>\n",
       "      <td>Drama</td>\n",
       "      <td>104</td>\n",
       "      <td>Vondie Curtis-Hall</td>\n",
       "      <td>2.2</td>\n",
       "      <td>81.69</td>\n",
       "      <td>Low</td>\n",
       "    </tr>\n",
       "    <tr>\n",
       "      <th>2</th>\n",
       "      <td>The Attic Expeditions</td>\n",
       "      <td>2001</td>\n",
       "      <td>Comedy</td>\n",
       "      <td>100</td>\n",
       "      <td>Jeremy Kasten</td>\n",
       "      <td>5.0</td>\n",
       "      <td>42.08</td>\n",
       "      <td>Low</td>\n",
       "    </tr>\n",
       "    <tr>\n",
       "      <th>3</th>\n",
       "      <td>Men in Black II</td>\n",
       "      <td>2002</td>\n",
       "      <td>Action</td>\n",
       "      <td>88</td>\n",
       "      <td>Barry Sonnenfeld</td>\n",
       "      <td>6.2</td>\n",
       "      <td>98.60</td>\n",
       "      <td>Medium</td>\n",
       "    </tr>\n",
       "    <tr>\n",
       "      <th>4</th>\n",
       "      <td>Star Wars: Episode II - Attack of the Clones</td>\n",
       "      <td>2002</td>\n",
       "      <td>Action</td>\n",
       "      <td>142</td>\n",
       "      <td>George Lucas</td>\n",
       "      <td>6.5</td>\n",
       "      <td>99.58</td>\n",
       "      <td>Medium</td>\n",
       "    </tr>\n",
       "    <tr>\n",
       "      <th>...</th>\n",
       "      <td>...</td>\n",
       "      <td>...</td>\n",
       "      <td>...</td>\n",
       "      <td>...</td>\n",
       "      <td>...</td>\n",
       "      <td>...</td>\n",
       "      <td>...</td>\n",
       "      <td>...</td>\n",
       "    </tr>\n",
       "    <tr>\n",
       "      <th>5270</th>\n",
       "      <td>Bloodline</td>\n",
       "      <td>2018</td>\n",
       "      <td>Crime</td>\n",
       "      <td>97</td>\n",
       "      <td>Henry Jacobson</td>\n",
       "      <td>6.0</td>\n",
       "      <td>64.69</td>\n",
       "      <td>Medium</td>\n",
       "    </tr>\n",
       "    <tr>\n",
       "      <th>5271</th>\n",
       "      <td>The Princess Switch</td>\n",
       "      <td>2018</td>\n",
       "      <td>Comedy</td>\n",
       "      <td>101</td>\n",
       "      <td>Mike Rohl</td>\n",
       "      <td>6.0</td>\n",
       "      <td>80.21</td>\n",
       "      <td>Medium</td>\n",
       "    </tr>\n",
       "    <tr>\n",
       "      <th>5272</th>\n",
       "      <td>You Might Be the Killer</td>\n",
       "      <td>2018</td>\n",
       "      <td>Comedy</td>\n",
       "      <td>92</td>\n",
       "      <td>Brett Simmons</td>\n",
       "      <td>5.9</td>\n",
       "      <td>61.14</td>\n",
       "      <td>Low</td>\n",
       "    </tr>\n",
       "    <tr>\n",
       "      <th>5273</th>\n",
       "      <td>The Final Wish</td>\n",
       "      <td>2018</td>\n",
       "      <td>Horror</td>\n",
       "      <td>95</td>\n",
       "      <td>Timothy Woodward Jr.</td>\n",
       "      <td>4.2</td>\n",
       "      <td>54.68</td>\n",
       "      <td>Low</td>\n",
       "    </tr>\n",
       "    <tr>\n",
       "      <th>5274</th>\n",
       "      <td>Shrek Retold</td>\n",
       "      <td>2018</td>\n",
       "      <td>Animation</td>\n",
       "      <td>90</td>\n",
       "      <td>Grant Duffrin</td>\n",
       "      <td>7.5</td>\n",
       "      <td>26.07</td>\n",
       "      <td>High</td>\n",
       "    </tr>\n",
       "  </tbody>\n",
       "</table>\n",
       "<p>5275 rows × 8 columns</p>\n",
       "</div>"
      ],
      "text/plain": [
       "                                             Title  Year      Genre  Duration  \\\n",
       "0                                      What Is It?  2005      Drama        72   \n",
       "1                                          Glitter  2001      Drama       104   \n",
       "2                            The Attic Expeditions  2001     Comedy       100   \n",
       "3                                  Men in Black II  2002     Action        88   \n",
       "4     Star Wars: Episode II - Attack of the Clones  2002     Action       142   \n",
       "...                                            ...   ...        ...       ...   \n",
       "5270                                     Bloodline  2018      Crime        97   \n",
       "5271                           The Princess Switch  2018     Comedy       101   \n",
       "5272                       You Might Be the Killer  2018     Comedy        92   \n",
       "5273                                The Final Wish  2018     Horror        95   \n",
       "5274                                  Shrek Retold  2018  Animation        90   \n",
       "\n",
       "                  Director  Rating  Popularity Rating_cat  \n",
       "0           Crispin Glover     5.6       21.83        Low  \n",
       "1       Vondie Curtis-Hall     2.2       81.69        Low  \n",
       "2            Jeremy Kasten     5.0       42.08        Low  \n",
       "3         Barry Sonnenfeld     6.2       98.60     Medium  \n",
       "4             George Lucas     6.5       99.58     Medium  \n",
       "...                    ...     ...         ...        ...  \n",
       "5270        Henry Jacobson     6.0       64.69     Medium  \n",
       "5271             Mike Rohl     6.0       80.21     Medium  \n",
       "5272         Brett Simmons     5.9       61.14        Low  \n",
       "5273  Timothy Woodward Jr.     4.2       54.68        Low  \n",
       "5274         Grant Duffrin     7.5       26.07       High  \n",
       "\n",
       "[5275 rows x 8 columns]"
      ]
     },
     "execution_count": 61,
     "metadata": {},
     "output_type": "execute_result"
    }
   ],
   "source": [
    "movies"
   ]
  },
  {
   "cell_type": "code",
   "execution_count": 64,
   "metadata": {},
   "outputs": [],
   "source": [
    "top3G = movies.Genre.value_counts().index[0:3]"
   ]
  },
  {
   "cell_type": "code",
   "execution_count": 65,
   "metadata": {},
   "outputs": [
    {
     "data": {
      "text/plain": [
       "Index(['Comedy', 'Drama', 'Action'], dtype='object')"
      ]
     },
     "execution_count": 65,
     "metadata": {},
     "output_type": "execute_result"
    }
   ],
   "source": [
    "top3G"
   ]
  },
  {
   "cell_type": "code",
   "execution_count": 66,
   "metadata": {},
   "outputs": [
    {
     "data": {
      "text/html": [
       "<div>\n",
       "<style scoped>\n",
       "    .dataframe tbody tr th:only-of-type {\n",
       "        vertical-align: middle;\n",
       "    }\n",
       "\n",
       "    .dataframe tbody tr th {\n",
       "        vertical-align: top;\n",
       "    }\n",
       "\n",
       "    .dataframe thead th {\n",
       "        text-align: right;\n",
       "    }\n",
       "</style>\n",
       "<table border=\"1\" class=\"dataframe\">\n",
       "  <thead>\n",
       "    <tr style=\"text-align: right;\">\n",
       "      <th></th>\n",
       "      <th>Title</th>\n",
       "      <th>Year</th>\n",
       "      <th>Genre</th>\n",
       "      <th>Duration</th>\n",
       "      <th>Director</th>\n",
       "      <th>Rating</th>\n",
       "      <th>Popularity</th>\n",
       "      <th>Rating_cat</th>\n",
       "      <th>Top3Genre</th>\n",
       "    </tr>\n",
       "  </thead>\n",
       "  <tbody>\n",
       "    <tr>\n",
       "      <th>0</th>\n",
       "      <td>What Is It?</td>\n",
       "      <td>2005</td>\n",
       "      <td>Drama</td>\n",
       "      <td>72</td>\n",
       "      <td>Crispin Glover</td>\n",
       "      <td>5.6</td>\n",
       "      <td>21.83</td>\n",
       "      <td>Low</td>\n",
       "      <td>Y</td>\n",
       "    </tr>\n",
       "    <tr>\n",
       "      <th>1</th>\n",
       "      <td>Glitter</td>\n",
       "      <td>2001</td>\n",
       "      <td>Drama</td>\n",
       "      <td>104</td>\n",
       "      <td>Vondie Curtis-Hall</td>\n",
       "      <td>2.2</td>\n",
       "      <td>81.69</td>\n",
       "      <td>Low</td>\n",
       "      <td>Y</td>\n",
       "    </tr>\n",
       "    <tr>\n",
       "      <th>2</th>\n",
       "      <td>The Attic Expeditions</td>\n",
       "      <td>2001</td>\n",
       "      <td>Comedy</td>\n",
       "      <td>100</td>\n",
       "      <td>Jeremy Kasten</td>\n",
       "      <td>5.0</td>\n",
       "      <td>42.08</td>\n",
       "      <td>Low</td>\n",
       "      <td>Y</td>\n",
       "    </tr>\n",
       "    <tr>\n",
       "      <th>3</th>\n",
       "      <td>Men in Black II</td>\n",
       "      <td>2002</td>\n",
       "      <td>Action</td>\n",
       "      <td>88</td>\n",
       "      <td>Barry Sonnenfeld</td>\n",
       "      <td>6.2</td>\n",
       "      <td>98.60</td>\n",
       "      <td>Medium</td>\n",
       "      <td>Y</td>\n",
       "    </tr>\n",
       "    <tr>\n",
       "      <th>4</th>\n",
       "      <td>Star Wars: Episode II - Attack of the Clones</td>\n",
       "      <td>2002</td>\n",
       "      <td>Action</td>\n",
       "      <td>142</td>\n",
       "      <td>George Lucas</td>\n",
       "      <td>6.5</td>\n",
       "      <td>99.58</td>\n",
       "      <td>Medium</td>\n",
       "      <td>Y</td>\n",
       "    </tr>\n",
       "    <tr>\n",
       "      <th>...</th>\n",
       "      <td>...</td>\n",
       "      <td>...</td>\n",
       "      <td>...</td>\n",
       "      <td>...</td>\n",
       "      <td>...</td>\n",
       "      <td>...</td>\n",
       "      <td>...</td>\n",
       "      <td>...</td>\n",
       "      <td>...</td>\n",
       "    </tr>\n",
       "    <tr>\n",
       "      <th>5270</th>\n",
       "      <td>Bloodline</td>\n",
       "      <td>2018</td>\n",
       "      <td>Crime</td>\n",
       "      <td>97</td>\n",
       "      <td>Henry Jacobson</td>\n",
       "      <td>6.0</td>\n",
       "      <td>64.69</td>\n",
       "      <td>Medium</td>\n",
       "      <td>N</td>\n",
       "    </tr>\n",
       "    <tr>\n",
       "      <th>5271</th>\n",
       "      <td>The Princess Switch</td>\n",
       "      <td>2018</td>\n",
       "      <td>Comedy</td>\n",
       "      <td>101</td>\n",
       "      <td>Mike Rohl</td>\n",
       "      <td>6.0</td>\n",
       "      <td>80.21</td>\n",
       "      <td>Medium</td>\n",
       "      <td>Y</td>\n",
       "    </tr>\n",
       "    <tr>\n",
       "      <th>5272</th>\n",
       "      <td>You Might Be the Killer</td>\n",
       "      <td>2018</td>\n",
       "      <td>Comedy</td>\n",
       "      <td>92</td>\n",
       "      <td>Brett Simmons</td>\n",
       "      <td>5.9</td>\n",
       "      <td>61.14</td>\n",
       "      <td>Low</td>\n",
       "      <td>Y</td>\n",
       "    </tr>\n",
       "    <tr>\n",
       "      <th>5273</th>\n",
       "      <td>The Final Wish</td>\n",
       "      <td>2018</td>\n",
       "      <td>Horror</td>\n",
       "      <td>95</td>\n",
       "      <td>Timothy Woodward Jr.</td>\n",
       "      <td>4.2</td>\n",
       "      <td>54.68</td>\n",
       "      <td>Low</td>\n",
       "      <td>N</td>\n",
       "    </tr>\n",
       "    <tr>\n",
       "      <th>5274</th>\n",
       "      <td>Shrek Retold</td>\n",
       "      <td>2018</td>\n",
       "      <td>Animation</td>\n",
       "      <td>90</td>\n",
       "      <td>Grant Duffrin</td>\n",
       "      <td>7.5</td>\n",
       "      <td>26.07</td>\n",
       "      <td>High</td>\n",
       "      <td>N</td>\n",
       "    </tr>\n",
       "  </tbody>\n",
       "</table>\n",
       "<p>5275 rows × 9 columns</p>\n",
       "</div>"
      ],
      "text/plain": [
       "                                             Title  Year      Genre  Duration  \\\n",
       "0                                      What Is It?  2005      Drama        72   \n",
       "1                                          Glitter  2001      Drama       104   \n",
       "2                            The Attic Expeditions  2001     Comedy       100   \n",
       "3                                  Men in Black II  2002     Action        88   \n",
       "4     Star Wars: Episode II - Attack of the Clones  2002     Action       142   \n",
       "...                                            ...   ...        ...       ...   \n",
       "5270                                     Bloodline  2018      Crime        97   \n",
       "5271                           The Princess Switch  2018     Comedy       101   \n",
       "5272                       You Might Be the Killer  2018     Comedy        92   \n",
       "5273                                The Final Wish  2018     Horror        95   \n",
       "5274                                  Shrek Retold  2018  Animation        90   \n",
       "\n",
       "                  Director  Rating  Popularity Rating_cat Top3Genre  \n",
       "0           Crispin Glover     5.6       21.83        Low         Y  \n",
       "1       Vondie Curtis-Hall     2.2       81.69        Low         Y  \n",
       "2            Jeremy Kasten     5.0       42.08        Low         Y  \n",
       "3         Barry Sonnenfeld     6.2       98.60     Medium         Y  \n",
       "4             George Lucas     6.5       99.58     Medium         Y  \n",
       "...                    ...     ...         ...        ...       ...  \n",
       "5270        Henry Jacobson     6.0       64.69     Medium         N  \n",
       "5271             Mike Rohl     6.0       80.21     Medium         Y  \n",
       "5272         Brett Simmons     5.9       61.14        Low         Y  \n",
       "5273  Timothy Woodward Jr.     4.2       54.68        Low         N  \n",
       "5274         Grant Duffrin     7.5       26.07       High         N  \n",
       "\n",
       "[5275 rows x 9 columns]"
      ]
     },
     "execution_count": 66,
     "metadata": {},
     "output_type": "execute_result"
    }
   ],
   "source": [
    "movies['Top3Genre'] = np.where(movies['Genre'].isin(top3G),'Y','N')\n",
    "movies"
   ]
  },
  {
   "cell_type": "code",
   "execution_count": 70,
   "metadata": {},
   "outputs": [
    {
     "data": {
      "text/html": [
       "<div>\n",
       "<style scoped>\n",
       "    .dataframe tbody tr th:only-of-type {\n",
       "        vertical-align: middle;\n",
       "    }\n",
       "\n",
       "    .dataframe tbody tr th {\n",
       "        vertical-align: top;\n",
       "    }\n",
       "\n",
       "    .dataframe thead th {\n",
       "        text-align: right;\n",
       "    }\n",
       "</style>\n",
       "<table border=\"1\" class=\"dataframe\">\n",
       "  <thead>\n",
       "    <tr style=\"text-align: right;\">\n",
       "      <th></th>\n",
       "      <th>Duration</th>\n",
       "      <th>Rating</th>\n",
       "    </tr>\n",
       "    <tr>\n",
       "      <th>Top3Genre</th>\n",
       "      <th></th>\n",
       "      <th></th>\n",
       "    </tr>\n",
       "  </thead>\n",
       "  <tbody>\n",
       "    <tr>\n",
       "      <th>N</th>\n",
       "      <td>93.668866</td>\n",
       "      <td>5.158188</td>\n",
       "    </tr>\n",
       "    <tr>\n",
       "      <th>Y</th>\n",
       "      <td>95.958980</td>\n",
       "      <td>5.482456</td>\n",
       "    </tr>\n",
       "  </tbody>\n",
       "</table>\n",
       "</div>"
      ],
      "text/plain": [
       "            Duration    Rating\n",
       "Top3Genre                     \n",
       "N          93.668866  5.158188\n",
       "Y          95.958980  5.482456"
      ]
     },
     "execution_count": 70,
     "metadata": {},
     "output_type": "execute_result"
    }
   ],
   "source": [
    "movies.loc[:,['Duration','Rating','Top3Genre']].groupby('Top3Genre').mean()"
   ]
  },
  {
   "cell_type": "code",
   "execution_count": 72,
   "metadata": {},
   "outputs": [
    {
     "data": {
      "text/html": [
       "<div>\n",
       "<style scoped>\n",
       "    .dataframe tbody tr th:only-of-type {\n",
       "        vertical-align: middle;\n",
       "    }\n",
       "\n",
       "    .dataframe tbody tr th {\n",
       "        vertical-align: top;\n",
       "    }\n",
       "\n",
       "    .dataframe thead th {\n",
       "        text-align: right;\n",
       "    }\n",
       "</style>\n",
       "<table border=\"1\" class=\"dataframe\">\n",
       "  <thead>\n",
       "    <tr style=\"text-align: right;\">\n",
       "      <th></th>\n",
       "      <th>Duration</th>\n",
       "      <th>Rating</th>\n",
       "    </tr>\n",
       "    <tr>\n",
       "      <th>Genre</th>\n",
       "      <th></th>\n",
       "      <th></th>\n",
       "    </tr>\n",
       "  </thead>\n",
       "  <tbody>\n",
       "    <tr>\n",
       "      <th>Action</th>\n",
       "      <td>96.390146</td>\n",
       "      <td>4.838083</td>\n",
       "    </tr>\n",
       "    <tr>\n",
       "      <th>Comedy</th>\n",
       "      <td>94.711377</td>\n",
       "      <td>5.551317</td>\n",
       "    </tr>\n",
       "    <tr>\n",
       "      <th>Drama</th>\n",
       "      <td>97.441449</td>\n",
       "      <td>5.793260</td>\n",
       "    </tr>\n",
       "  </tbody>\n",
       "</table>\n",
       "</div>"
      ],
      "text/plain": [
       "         Duration    Rating\n",
       "Genre                      \n",
       "Action  96.390146  4.838083\n",
       "Comedy  94.711377  5.551317\n",
       "Drama   97.441449  5.793260"
      ]
     },
     "execution_count": 72,
     "metadata": {},
     "output_type": "execute_result"
    }
   ],
   "source": [
    "movies.loc[movies.Top3Genre == 'Y',['Duration','Rating','Genre']].groupby('Genre').mean()"
   ]
  },
  {
   "cell_type": "code",
   "execution_count": 7,
   "metadata": {},
   "outputs": [],
   "source": [
    "s = pd.DataFrame(movies['Director'].value_counts())"
   ]
  },
  {
   "cell_type": "code",
   "execution_count": 13,
   "metadata": {},
   "outputs": [
    {
     "data": {
      "text/html": [
       "<div>\n",
       "<style scoped>\n",
       "    .dataframe tbody tr th:only-of-type {\n",
       "        vertical-align: middle;\n",
       "    }\n",
       "\n",
       "    .dataframe tbody tr th {\n",
       "        vertical-align: top;\n",
       "    }\n",
       "\n",
       "    .dataframe thead th {\n",
       "        text-align: right;\n",
       "    }\n",
       "</style>\n",
       "<table border=\"1\" class=\"dataframe\">\n",
       "  <thead>\n",
       "    <tr style=\"text-align: right;\">\n",
       "      <th></th>\n",
       "      <th>Director</th>\n",
       "    </tr>\n",
       "  </thead>\n",
       "  <tbody>\n",
       "    <tr>\n",
       "      <th>Woody Allen</th>\n",
       "      <td>4</td>\n",
       "    </tr>\n",
       "  </tbody>\n",
       "</table>\n",
       "</div>"
      ],
      "text/plain": [
       "             Director\n",
       "Woody Allen         4"
      ]
     },
     "execution_count": 13,
     "metadata": {},
     "output_type": "execute_result"
    }
   ],
   "source": [
    "s[s.index =='Woody Allen']"
   ]
  },
  {
   "cell_type": "code",
   "execution_count": 29,
   "metadata": {},
   "outputs": [],
   "source": [
    "a = [79,76,71,81,100,87,70,86,82,92]\n",
    "b = [52,48,46,56,61,54,47,59,51,61]"
   ]
  },
  {
   "cell_type": "code",
   "execution_count": 15,
   "metadata": {},
   "outputs": [
    {
     "data": {
      "text/plain": [
       "82.4"
      ]
     },
     "execution_count": 15,
     "metadata": {},
     "output_type": "execute_result"
    }
   ],
   "source": [
    "np.mean(a)"
   ]
  },
  {
   "cell_type": "code",
   "execution_count": 16,
   "metadata": {},
   "outputs": [
    {
     "data": {
      "text/plain": [
       "8.8"
      ]
     },
     "execution_count": 16,
     "metadata": {},
     "output_type": "execute_result"
    }
   ],
   "source": [
    "np.std(a)"
   ]
  },
  {
   "cell_type": "code",
   "execution_count": 18,
   "metadata": {},
   "outputs": [
    {
     "data": {
      "text/html": [
       "<div>\n",
       "<style scoped>\n",
       "    .dataframe tbody tr th:only-of-type {\n",
       "        vertical-align: middle;\n",
       "    }\n",
       "\n",
       "    .dataframe tbody tr th {\n",
       "        vertical-align: top;\n",
       "    }\n",
       "\n",
       "    .dataframe thead th {\n",
       "        text-align: right;\n",
       "    }\n",
       "</style>\n",
       "<table border=\"1\" class=\"dataframe\">\n",
       "  <thead>\n",
       "    <tr style=\"text-align: right;\">\n",
       "      <th></th>\n",
       "      <th>Score</th>\n",
       "    </tr>\n",
       "  </thead>\n",
       "  <tbody>\n",
       "    <tr>\n",
       "      <th>0</th>\n",
       "      <td>79</td>\n",
       "    </tr>\n",
       "    <tr>\n",
       "      <th>1</th>\n",
       "      <td>76</td>\n",
       "    </tr>\n",
       "    <tr>\n",
       "      <th>2</th>\n",
       "      <td>71</td>\n",
       "    </tr>\n",
       "    <tr>\n",
       "      <th>3</th>\n",
       "      <td>81</td>\n",
       "    </tr>\n",
       "    <tr>\n",
       "      <th>4</th>\n",
       "      <td>100</td>\n",
       "    </tr>\n",
       "    <tr>\n",
       "      <th>5</th>\n",
       "      <td>87</td>\n",
       "    </tr>\n",
       "    <tr>\n",
       "      <th>6</th>\n",
       "      <td>70</td>\n",
       "    </tr>\n",
       "    <tr>\n",
       "      <th>7</th>\n",
       "      <td>86</td>\n",
       "    </tr>\n",
       "    <tr>\n",
       "      <th>8</th>\n",
       "      <td>82</td>\n",
       "    </tr>\n",
       "    <tr>\n",
       "      <th>9</th>\n",
       "      <td>92</td>\n",
       "    </tr>\n",
       "  </tbody>\n",
       "</table>\n",
       "</div>"
      ],
      "text/plain": [
       "   Score\n",
       "0     79\n",
       "1     76\n",
       "2     71\n",
       "3     81\n",
       "4    100\n",
       "5     87\n",
       "6     70\n",
       "7     86\n",
       "8     82\n",
       "9     92"
      ]
     },
     "execution_count": 18,
     "metadata": {},
     "output_type": "execute_result"
    }
   ],
   "source": [
    "s = pd.DataFrame(a,columns=['Score'])\n",
    "s"
   ]
  },
  {
   "cell_type": "code",
   "execution_count": 27,
   "metadata": {},
   "outputs": [
    {
     "data": {
      "text/plain": [
       "<AxesSubplot:ylabel='Score'>"
      ]
     },
     "execution_count": 27,
     "metadata": {},
     "output_type": "execute_result"
    },
    {
     "data": {
      "image/png": "[encoded data removed]",
      "text/plain": [
       "<Figure size 432x288 with 1 Axes>"
      ]
     },
     "metadata": {
      "needs_background": "light"
     },
     "output_type": "display_data"
    }
   ],
   "source": [
    "sns.boxplot(y=s['Score'])"
   ]
  },
  {
   "cell_type": "code",
   "execution_count": 21,
   "metadata": {},
   "outputs": [
    {
     "name": "stdout",
     "output_type": "stream",
     "text": [
      "70.0 76.75 81.5 86.75 100.0\n"
     ]
    }
   ],
   "source": [
    "q0,q1,q2,q3,q4 = np.percentile(a,[0,25,50,75,100])\n",
    "print(q0,q1,q2,q3,q4)"
   ]
  },
  {
   "cell_type": "code",
   "execution_count": 23,
   "metadata": {},
   "outputs": [
    {
     "data": {
      "text/plain": [
       "99.95"
      ]
     },
     "execution_count": 23,
     "metadata": {},
     "output_type": "execute_result"
    }
   ],
   "source": [
    "q3 + 8.8*1.5\n"
   ]
  },
  {
   "cell_type": "code",
   "execution_count": 24,
   "metadata": {},
   "outputs": [
    {
     "data": {
      "text/plain": [
       "84.05"
      ]
     },
     "execution_count": 24,
     "metadata": {},
     "output_type": "execute_result"
    }
   ],
   "source": [
    "q1 + 8.8-1.5"
   ]
  },
  {
   "cell_type": "code",
   "execution_count": 28,
   "metadata": {},
   "outputs": [
    {
     "data": {
      "text/html": [
       "<div>\n",
       "<style scoped>\n",
       "    .dataframe tbody tr th:only-of-type {\n",
       "        vertical-align: middle;\n",
       "    }\n",
       "\n",
       "    .dataframe tbody tr th {\n",
       "        vertical-align: top;\n",
       "    }\n",
       "\n",
       "    .dataframe thead th {\n",
       "        text-align: right;\n",
       "    }\n",
       "</style>\n",
       "<table border=\"1\" class=\"dataframe\">\n",
       "  <thead>\n",
       "    <tr style=\"text-align: right;\">\n",
       "      <th></th>\n",
       "      <th>Score</th>\n",
       "    </tr>\n",
       "  </thead>\n",
       "  <tbody>\n",
       "    <tr>\n",
       "      <th>count</th>\n",
       "      <td>10.000000</td>\n",
       "    </tr>\n",
       "    <tr>\n",
       "      <th>mean</th>\n",
       "      <td>82.400000</td>\n",
       "    </tr>\n",
       "    <tr>\n",
       "      <th>std</th>\n",
       "      <td>9.276014</td>\n",
       "    </tr>\n",
       "    <tr>\n",
       "      <th>min</th>\n",
       "      <td>70.000000</td>\n",
       "    </tr>\n",
       "    <tr>\n",
       "      <th>25%</th>\n",
       "      <td>76.750000</td>\n",
       "    </tr>\n",
       "    <tr>\n",
       "      <th>50%</th>\n",
       "      <td>81.500000</td>\n",
       "    </tr>\n",
       "    <tr>\n",
       "      <th>75%</th>\n",
       "      <td>86.750000</td>\n",
       "    </tr>\n",
       "    <tr>\n",
       "      <th>max</th>\n",
       "      <td>100.000000</td>\n",
       "    </tr>\n",
       "  </tbody>\n",
       "</table>\n",
       "</div>"
      ],
      "text/plain": [
       "            Score\n",
       "count   10.000000\n",
       "mean    82.400000\n",
       "std      9.276014\n",
       "min     70.000000\n",
       "25%     76.750000\n",
       "50%     81.500000\n",
       "75%     86.750000\n",
       "max    100.000000"
      ]
     },
     "execution_count": 28,
     "metadata": {},
     "output_type": "execute_result"
    }
   ],
   "source": [
    "s.describe()"
   ]
  },
  {
   "cell_type": "code",
   "execution_count": 30,
   "metadata": {},
   "outputs": [
    {
     "data": {
      "text/html": [
       "<div>\n",
       "<style scoped>\n",
       "    .dataframe tbody tr th:only-of-type {\n",
       "        vertical-align: middle;\n",
       "    }\n",
       "\n",
       "    .dataframe tbody tr th {\n",
       "        vertical-align: top;\n",
       "    }\n",
       "\n",
       "    .dataframe thead th {\n",
       "        text-align: right;\n",
       "    }\n",
       "</style>\n",
       "<table border=\"1\" class=\"dataframe\">\n",
       "  <thead>\n",
       "    <tr style=\"text-align: right;\">\n",
       "      <th></th>\n",
       "      <th>score</th>\n",
       "      <th>time</th>\n",
       "    </tr>\n",
       "  </thead>\n",
       "  <tbody>\n",
       "    <tr>\n",
       "      <th>0</th>\n",
       "      <td>79</td>\n",
       "      <td>52</td>\n",
       "    </tr>\n",
       "    <tr>\n",
       "      <th>1</th>\n",
       "      <td>76</td>\n",
       "      <td>48</td>\n",
       "    </tr>\n",
       "    <tr>\n",
       "      <th>2</th>\n",
       "      <td>71</td>\n",
       "      <td>46</td>\n",
       "    </tr>\n",
       "    <tr>\n",
       "      <th>3</th>\n",
       "      <td>81</td>\n",
       "      <td>56</td>\n",
       "    </tr>\n",
       "    <tr>\n",
       "      <th>4</th>\n",
       "      <td>100</td>\n",
       "      <td>61</td>\n",
       "    </tr>\n",
       "    <tr>\n",
       "      <th>5</th>\n",
       "      <td>87</td>\n",
       "      <td>54</td>\n",
       "    </tr>\n",
       "    <tr>\n",
       "      <th>6</th>\n",
       "      <td>70</td>\n",
       "      <td>47</td>\n",
       "    </tr>\n",
       "    <tr>\n",
       "      <th>7</th>\n",
       "      <td>86</td>\n",
       "      <td>59</td>\n",
       "    </tr>\n",
       "    <tr>\n",
       "      <th>8</th>\n",
       "      <td>82</td>\n",
       "      <td>51</td>\n",
       "    </tr>\n",
       "    <tr>\n",
       "      <th>9</th>\n",
       "      <td>92</td>\n",
       "      <td>61</td>\n",
       "    </tr>\n",
       "  </tbody>\n",
       "</table>\n",
       "</div>"
      ],
      "text/plain": [
       "   score  time\n",
       "0     79    52\n",
       "1     76    48\n",
       "2     71    46\n",
       "3     81    56\n",
       "4    100    61\n",
       "5     87    54\n",
       "6     70    47\n",
       "7     86    59\n",
       "8     82    51\n",
       "9     92    61"
      ]
     },
     "execution_count": 30,
     "metadata": {},
     "output_type": "execute_result"
    }
   ],
   "source": [
    "df = pd.DataFrame({'score':a,'time':b})\n",
    "df"
   ]
  },
  {
   "cell_type": "code",
   "execution_count": 31,
   "metadata": {},
   "outputs": [
    {
     "data": {
      "text/html": [
       "<div>\n",
       "<style scoped>\n",
       "    .dataframe tbody tr th:only-of-type {\n",
       "        vertical-align: middle;\n",
       "    }\n",
       "\n",
       "    .dataframe tbody tr th {\n",
       "        vertical-align: top;\n",
       "    }\n",
       "\n",
       "    .dataframe thead th {\n",
       "        text-align: right;\n",
       "    }\n",
       "</style>\n",
       "<table border=\"1\" class=\"dataframe\">\n",
       "  <thead>\n",
       "    <tr style=\"text-align: right;\">\n",
       "      <th></th>\n",
       "      <th>score</th>\n",
       "      <th>time</th>\n",
       "    </tr>\n",
       "  </thead>\n",
       "  <tbody>\n",
       "    <tr>\n",
       "      <th>count</th>\n",
       "      <td>10.000000</td>\n",
       "      <td>10.000000</td>\n",
       "    </tr>\n",
       "    <tr>\n",
       "      <th>mean</th>\n",
       "      <td>82.400000</td>\n",
       "      <td>53.500000</td>\n",
       "    </tr>\n",
       "    <tr>\n",
       "      <th>std</th>\n",
       "      <td>9.276014</td>\n",
       "      <td>5.642104</td>\n",
       "    </tr>\n",
       "    <tr>\n",
       "      <th>min</th>\n",
       "      <td>70.000000</td>\n",
       "      <td>46.000000</td>\n",
       "    </tr>\n",
       "    <tr>\n",
       "      <th>25%</th>\n",
       "      <td>76.750000</td>\n",
       "      <td>48.750000</td>\n",
       "    </tr>\n",
       "    <tr>\n",
       "      <th>50%</th>\n",
       "      <td>81.500000</td>\n",
       "      <td>53.000000</td>\n",
       "    </tr>\n",
       "    <tr>\n",
       "      <th>75%</th>\n",
       "      <td>86.750000</td>\n",
       "      <td>58.250000</td>\n",
       "    </tr>\n",
       "    <tr>\n",
       "      <th>max</th>\n",
       "      <td>100.000000</td>\n",
       "      <td>61.000000</td>\n",
       "    </tr>\n",
       "  </tbody>\n",
       "</table>\n",
       "</div>"
      ],
      "text/plain": [
       "            score       time\n",
       "count   10.000000  10.000000\n",
       "mean    82.400000  53.500000\n",
       "std      9.276014   5.642104\n",
       "min     70.000000  46.000000\n",
       "25%     76.750000  48.750000\n",
       "50%     81.500000  53.000000\n",
       "75%     86.750000  58.250000\n",
       "max    100.000000  61.000000"
      ]
     },
     "execution_count": 31,
     "metadata": {},
     "output_type": "execute_result"
    }
   ],
   "source": [
    "df.describe()"
   ]
  },
  {
   "cell_type": "code",
   "execution_count": 32,
   "metadata": {},
   "outputs": [
    {
     "data": {
      "text/html": [
       "<div>\n",
       "<style scoped>\n",
       "    .dataframe tbody tr th:only-of-type {\n",
       "        vertical-align: middle;\n",
       "    }\n",
       "\n",
       "    .dataframe tbody tr th {\n",
       "        vertical-align: top;\n",
       "    }\n",
       "\n",
       "    .dataframe thead th {\n",
       "        text-align: right;\n",
       "    }\n",
       "</style>\n",
       "<table border=\"1\" class=\"dataframe\">\n",
       "  <thead>\n",
       "    <tr style=\"text-align: right;\">\n",
       "      <th></th>\n",
       "      <th>score</th>\n",
       "      <th>time</th>\n",
       "    </tr>\n",
       "  </thead>\n",
       "  <tbody>\n",
       "    <tr>\n",
       "      <th>score</th>\n",
       "      <td>1.000000</td>\n",
       "      <td>0.912901</td>\n",
       "    </tr>\n",
       "    <tr>\n",
       "      <th>time</th>\n",
       "      <td>0.912901</td>\n",
       "      <td>1.000000</td>\n",
       "    </tr>\n",
       "  </tbody>\n",
       "</table>\n",
       "</div>"
      ],
      "text/plain": [
       "          score      time\n",
       "score  1.000000  0.912901\n",
       "time   0.912901  1.000000"
      ]
     },
     "execution_count": 32,
     "metadata": {},
     "output_type": "execute_result"
    }
   ],
   "source": [
    "df.corr()"
   ]
  },
  {
   "cell_type": "code",
   "execution_count": 33,
   "metadata": {},
   "outputs": [
    {
     "data": {
      "text/plain": [
       "<AxesSubplot:ylabel='time'>"
      ]
     },
     "execution_count": 33,
     "metadata": {},
     "output_type": "execute_result"
    },
    {
     "data": {
      "image/png": "[encoded data removed]",
      "text/plain": [
       "<Figure size 432x288 with 1 Axes>"
      ]
     },
     "metadata": {
      "needs_background": "light"
     },
     "output_type": "display_data"
    }
   ],
   "source": [
    "sns.boxplot(y = df['time'])"
   ]
  },
  {
   "cell_type": "code",
   "execution_count": 35,
   "metadata": {},
   "outputs": [
    {
     "data": {
      "text/html": [
       "<div>\n",
       "<style scoped>\n",
       "    .dataframe tbody tr th:only-of-type {\n",
       "        vertical-align: middle;\n",
       "    }\n",
       "\n",
       "    .dataframe tbody tr th {\n",
       "        vertical-align: top;\n",
       "    }\n",
       "\n",
       "    .dataframe thead th {\n",
       "        text-align: right;\n",
       "    }\n",
       "</style>\n",
       "<table border=\"1\" class=\"dataframe\">\n",
       "  <thead>\n",
       "    <tr style=\"text-align: right;\">\n",
       "      <th></th>\n",
       "      <th>score</th>\n",
       "      <th>time</th>\n",
       "    </tr>\n",
       "  </thead>\n",
       "  <tbody>\n",
       "    <tr>\n",
       "      <th>4</th>\n",
       "      <td>100</td>\n",
       "      <td>61</td>\n",
       "    </tr>\n",
       "    <tr>\n",
       "      <th>9</th>\n",
       "      <td>92</td>\n",
       "      <td>61</td>\n",
       "    </tr>\n",
       "  </tbody>\n",
       "</table>\n",
       "</div>"
      ],
      "text/plain": [
       "   score  time\n",
       "4    100    61\n",
       "9     92    61"
      ]
     },
     "execution_count": 35,
     "metadata": {},
     "output_type": "execute_result"
    }
   ],
   "source": [
    "df[df['time'] == df['time'].max()]"
   ]
  },
  {
   "cell_type": "code",
   "execution_count": 37,
   "metadata": {},
   "outputs": [],
   "source": [
    "plt.style.use('seaborn-colorblind')"
   ]
  },
  {
   "cell_type": "code",
   "execution_count": 38,
   "metadata": {},
   "outputs": [
    {
     "data": {
      "text/html": [
       "<div>\n",
       "<style scoped>\n",
       "    .dataframe tbody tr th:only-of-type {\n",
       "        vertical-align: middle;\n",
       "    }\n",
       "\n",
       "    .dataframe tbody tr th {\n",
       "        vertical-align: top;\n",
       "    }\n",
       "\n",
       "    .dataframe thead th {\n",
       "        text-align: right;\n",
       "    }\n",
       "</style>\n",
       "<table border=\"1\" class=\"dataframe\">\n",
       "  <thead>\n",
       "    <tr style=\"text-align: right;\">\n",
       "      <th></th>\n",
       "      <th>dist</th>\n",
       "      <th>climb</th>\n",
       "      <th>time</th>\n",
       "    </tr>\n",
       "  </thead>\n",
       "  <tbody>\n",
       "    <tr>\n",
       "      <th>0</th>\n",
       "      <td>2.5</td>\n",
       "      <td>650</td>\n",
       "      <td>16.083</td>\n",
       "    </tr>\n",
       "    <tr>\n",
       "      <th>1</th>\n",
       "      <td>6.0</td>\n",
       "      <td>2500</td>\n",
       "      <td>48.350</td>\n",
       "    </tr>\n",
       "    <tr>\n",
       "      <th>2</th>\n",
       "      <td>6.0</td>\n",
       "      <td>900</td>\n",
       "      <td>33.650</td>\n",
       "    </tr>\n",
       "    <tr>\n",
       "      <th>3</th>\n",
       "      <td>7.5</td>\n",
       "      <td>800</td>\n",
       "      <td>45.600</td>\n",
       "    </tr>\n",
       "    <tr>\n",
       "      <th>4</th>\n",
       "      <td>8.0</td>\n",
       "      <td>3070</td>\n",
       "      <td>62.267</td>\n",
       "    </tr>\n",
       "    <tr>\n",
       "      <th>5</th>\n",
       "      <td>8.0</td>\n",
       "      <td>2866</td>\n",
       "      <td>73.217</td>\n",
       "    </tr>\n",
       "    <tr>\n",
       "      <th>6</th>\n",
       "      <td>16.0</td>\n",
       "      <td>7500</td>\n",
       "      <td>204.617</td>\n",
       "    </tr>\n",
       "    <tr>\n",
       "      <th>7</th>\n",
       "      <td>6.0</td>\n",
       "      <td>800</td>\n",
       "      <td>36.367</td>\n",
       "    </tr>\n",
       "    <tr>\n",
       "      <th>8</th>\n",
       "      <td>5.0</td>\n",
       "      <td>800</td>\n",
       "      <td>29.750</td>\n",
       "    </tr>\n",
       "    <tr>\n",
       "      <th>9</th>\n",
       "      <td>6.0</td>\n",
       "      <td>650</td>\n",
       "      <td>39.750</td>\n",
       "    </tr>\n",
       "    <tr>\n",
       "      <th>10</th>\n",
       "      <td>28.0</td>\n",
       "      <td>2100</td>\n",
       "      <td>192.667</td>\n",
       "    </tr>\n",
       "    <tr>\n",
       "      <th>11</th>\n",
       "      <td>5.0</td>\n",
       "      <td>2000</td>\n",
       "      <td>43.050</td>\n",
       "    </tr>\n",
       "    <tr>\n",
       "      <th>12</th>\n",
       "      <td>9.5</td>\n",
       "      <td>2200</td>\n",
       "      <td>65.000</td>\n",
       "    </tr>\n",
       "    <tr>\n",
       "      <th>13</th>\n",
       "      <td>6.0</td>\n",
       "      <td>500</td>\n",
       "      <td>44.133</td>\n",
       "    </tr>\n",
       "    <tr>\n",
       "      <th>14</th>\n",
       "      <td>4.5</td>\n",
       "      <td>1500</td>\n",
       "      <td>26.933</td>\n",
       "    </tr>\n",
       "    <tr>\n",
       "      <th>15</th>\n",
       "      <td>10.0</td>\n",
       "      <td>3000</td>\n",
       "      <td>72.250</td>\n",
       "    </tr>\n",
       "    <tr>\n",
       "      <th>16</th>\n",
       "      <td>14.0</td>\n",
       "      <td>2200</td>\n",
       "      <td>98.417</td>\n",
       "    </tr>\n",
       "    <tr>\n",
       "      <th>17</th>\n",
       "      <td>3.0</td>\n",
       "      <td>350</td>\n",
       "      <td>78.650</td>\n",
       "    </tr>\n",
       "    <tr>\n",
       "      <th>18</th>\n",
       "      <td>4.5</td>\n",
       "      <td>1000</td>\n",
       "      <td>17.417</td>\n",
       "    </tr>\n",
       "    <tr>\n",
       "      <th>19</th>\n",
       "      <td>5.5</td>\n",
       "      <td>600</td>\n",
       "      <td>32.567</td>\n",
       "    </tr>\n",
       "    <tr>\n",
       "      <th>20</th>\n",
       "      <td>3.0</td>\n",
       "      <td>300</td>\n",
       "      <td>15.950</td>\n",
       "    </tr>\n",
       "    <tr>\n",
       "      <th>21</th>\n",
       "      <td>3.5</td>\n",
       "      <td>1500</td>\n",
       "      <td>27.900</td>\n",
       "    </tr>\n",
       "    <tr>\n",
       "      <th>22</th>\n",
       "      <td>6.0</td>\n",
       "      <td>2200</td>\n",
       "      <td>47.633</td>\n",
       "    </tr>\n",
       "    <tr>\n",
       "      <th>23</th>\n",
       "      <td>2.0</td>\n",
       "      <td>900</td>\n",
       "      <td>17.933</td>\n",
       "    </tr>\n",
       "    <tr>\n",
       "      <th>24</th>\n",
       "      <td>3.0</td>\n",
       "      <td>600</td>\n",
       "      <td>18.683</td>\n",
       "    </tr>\n",
       "    <tr>\n",
       "      <th>25</th>\n",
       "      <td>4.0</td>\n",
       "      <td>2000</td>\n",
       "      <td>26.217</td>\n",
       "    </tr>\n",
       "    <tr>\n",
       "      <th>26</th>\n",
       "      <td>6.0</td>\n",
       "      <td>800</td>\n",
       "      <td>34.433</td>\n",
       "    </tr>\n",
       "    <tr>\n",
       "      <th>27</th>\n",
       "      <td>5.0</td>\n",
       "      <td>950</td>\n",
       "      <td>28.567</td>\n",
       "    </tr>\n",
       "    <tr>\n",
       "      <th>28</th>\n",
       "      <td>6.5</td>\n",
       "      <td>1750</td>\n",
       "      <td>50.500</td>\n",
       "    </tr>\n",
       "    <tr>\n",
       "      <th>29</th>\n",
       "      <td>5.0</td>\n",
       "      <td>500</td>\n",
       "      <td>20.950</td>\n",
       "    </tr>\n",
       "    <tr>\n",
       "      <th>30</th>\n",
       "      <td>10.0</td>\n",
       "      <td>4400</td>\n",
       "      <td>85.583</td>\n",
       "    </tr>\n",
       "    <tr>\n",
       "      <th>31</th>\n",
       "      <td>6.0</td>\n",
       "      <td>600</td>\n",
       "      <td>32.383</td>\n",
       "    </tr>\n",
       "    <tr>\n",
       "      <th>32</th>\n",
       "      <td>18.0</td>\n",
       "      <td>5200</td>\n",
       "      <td>170.250</td>\n",
       "    </tr>\n",
       "    <tr>\n",
       "      <th>33</th>\n",
       "      <td>4.5</td>\n",
       "      <td>850</td>\n",
       "      <td>28.100</td>\n",
       "    </tr>\n",
       "    <tr>\n",
       "      <th>34</th>\n",
       "      <td>20.0</td>\n",
       "      <td>5000</td>\n",
       "      <td>159.833</td>\n",
       "    </tr>\n",
       "  </tbody>\n",
       "</table>\n",
       "</div>"
      ],
      "text/plain": [
       "    dist  climb     time\n",
       "0    2.5    650   16.083\n",
       "1    6.0   2500   48.350\n",
       "2    6.0    900   33.650\n",
       "3    7.5    800   45.600\n",
       "4    8.0   3070   62.267\n",
       "5    8.0   2866   73.217\n",
       "6   16.0   7500  204.617\n",
       "7    6.0    800   36.367\n",
       "8    5.0    800   29.750\n",
       "9    6.0    650   39.750\n",
       "10  28.0   2100  192.667\n",
       "11   5.0   2000   43.050\n",
       "12   9.5   2200   65.000\n",
       "13   6.0    500   44.133\n",
       "14   4.5   1500   26.933\n",
       "15  10.0   3000   72.250\n",
       "16  14.0   2200   98.417\n",
       "17   3.0    350   78.650\n",
       "18   4.5   1000   17.417\n",
       "19   5.5    600   32.567\n",
       "20   3.0    300   15.950\n",
       "21   3.5   1500   27.900\n",
       "22   6.0   2200   47.633\n",
       "23   2.0    900   17.933\n",
       "24   3.0    600   18.683\n",
       "25   4.0   2000   26.217\n",
       "26   6.0    800   34.433\n",
       "27   5.0    950   28.567\n",
       "28   6.5   1750   50.500\n",
       "29   5.0    500   20.950\n",
       "30  10.0   4400   85.583\n",
       "31   6.0    600   32.383\n",
       "32  18.0   5200  170.250\n",
       "33   4.5    850   28.100\n",
       "34  20.0   5000  159.833"
      ]
     },
     "execution_count": 38,
     "metadata": {},
     "output_type": "execute_result"
    }
   ],
   "source": [
    "hills  = pd.read_csv('Hills.csv')\n",
    "hills"
   ]
  },
  {
   "cell_type": "code",
   "execution_count": 39,
   "metadata": {},
   "outputs": [
    {
     "data": {
      "text/html": [
       "<div>\n",
       "<style scoped>\n",
       "    .dataframe tbody tr th:only-of-type {\n",
       "        vertical-align: middle;\n",
       "    }\n",
       "\n",
       "    .dataframe tbody tr th {\n",
       "        vertical-align: top;\n",
       "    }\n",
       "\n",
       "    .dataframe thead th {\n",
       "        text-align: right;\n",
       "    }\n",
       "</style>\n",
       "<table border=\"1\" class=\"dataframe\">\n",
       "  <thead>\n",
       "    <tr style=\"text-align: right;\">\n",
       "      <th></th>\n",
       "      <th>dist</th>\n",
       "      <th>climb</th>\n",
       "      <th>time</th>\n",
       "    </tr>\n",
       "  </thead>\n",
       "  <tbody>\n",
       "    <tr>\n",
       "      <th>count</th>\n",
       "      <td>35.000000</td>\n",
       "      <td>35.000000</td>\n",
       "      <td>35.000000</td>\n",
       "    </tr>\n",
       "    <tr>\n",
       "      <th>mean</th>\n",
       "      <td>7.528571</td>\n",
       "      <td>1815.314286</td>\n",
       "      <td>57.875714</td>\n",
       "    </tr>\n",
       "    <tr>\n",
       "      <th>std</th>\n",
       "      <td>5.523936</td>\n",
       "      <td>1619.150536</td>\n",
       "      <td>50.040716</td>\n",
       "    </tr>\n",
       "    <tr>\n",
       "      <th>min</th>\n",
       "      <td>2.000000</td>\n",
       "      <td>300.000000</td>\n",
       "      <td>15.950000</td>\n",
       "    </tr>\n",
       "    <tr>\n",
       "      <th>25%</th>\n",
       "      <td>4.500000</td>\n",
       "      <td>725.000000</td>\n",
       "      <td>28.000000</td>\n",
       "    </tr>\n",
       "    <tr>\n",
       "      <th>50%</th>\n",
       "      <td>6.000000</td>\n",
       "      <td>1000.000000</td>\n",
       "      <td>39.750000</td>\n",
       "    </tr>\n",
       "    <tr>\n",
       "      <th>75%</th>\n",
       "      <td>8.000000</td>\n",
       "      <td>2200.000000</td>\n",
       "      <td>68.625000</td>\n",
       "    </tr>\n",
       "    <tr>\n",
       "      <th>max</th>\n",
       "      <td>28.000000</td>\n",
       "      <td>7500.000000</td>\n",
       "      <td>204.617000</td>\n",
       "    </tr>\n",
       "  </tbody>\n",
       "</table>\n",
       "</div>"
      ],
      "text/plain": [
       "            dist        climb        time\n",
       "count  35.000000    35.000000   35.000000\n",
       "mean    7.528571  1815.314286   57.875714\n",
       "std     5.523936  1619.150536   50.040716\n",
       "min     2.000000   300.000000   15.950000\n",
       "25%     4.500000   725.000000   28.000000\n",
       "50%     6.000000  1000.000000   39.750000\n",
       "75%     8.000000  2200.000000   68.625000\n",
       "max    28.000000  7500.000000  204.617000"
      ]
     },
     "execution_count": 39,
     "metadata": {},
     "output_type": "execute_result"
    }
   ],
   "source": [
    "hills.describe()"
   ]
  },
  {
   "cell_type": "code",
   "execution_count": 40,
   "metadata": {},
   "outputs": [
    {
     "data": {
      "text/plain": [
       "<AxesSubplot:ylabel='Density'>"
      ]
     },
     "execution_count": 40,
     "metadata": {},
     "output_type": "execute_result"
    },
    {
     "data": {
      "image/png": "[encoded data removed]",
      "text/plain": [
       "<Figure size 432x288 with 1 Axes>"
      ]
     },
     "metadata": {},
     "output_type": "display_data"
    }
   ],
   "source": [
    "hills['dist'].plot(kind='kde')"
   ]
  },
  {
   "cell_type": "code",
   "execution_count": 41,
   "metadata": {},
   "outputs": [
    {
     "data": {
      "text/plain": [
       "<AxesSubplot:ylabel='Frequency'>"
      ]
     },
     "execution_count": 41,
     "metadata": {},
     "output_type": "execute_result"
    },
    {
     "data": {
      "image/png": "[encoded data removed]",
      "text/plain": [
       "<Figure size 432x288 with 1 Axes>"
      ]
     },
     "metadata": {},
     "output_type": "display_data"
    }
   ],
   "source": [
    "hills['dist'].plot(kind='hist',bins=7)"
   ]
  },
  {
   "cell_type": "code",
   "execution_count": 42,
   "metadata": {},
   "outputs": [
    {
     "data": {
      "text/plain": [
       "<AxesSubplot:>"
      ]
     },
     "execution_count": 42,
     "metadata": {},
     "output_type": "execute_result"
    },
    {
     "data": {
      "image/png": "[encoded data removed]",
      "text/plain": [
       "<Figure size 432x288 with 1 Axes>"
      ]
     },
     "metadata": {},
     "output_type": "display_data"
    }
   ],
   "source": [
    "hills['dist'].plot(kind='box')"
   ]
  },
  {
   "cell_type": "code",
   "execution_count": 43,
   "metadata": {},
   "outputs": [
    {
     "data": {
      "text/plain": [
       "<AxesSubplot:ylabel='dist'>"
      ]
     },
     "execution_count": 43,
     "metadata": {},
     "output_type": "execute_result"
    },
    {
     "data": {
      "image/png": "[encoded data removed]",
      "text/plain": [
       "<Figure size 432x288 with 1 Axes>"
      ]
     },
     "metadata": {},
     "output_type": "display_data"
    }
   ],
   "source": [
    "sns.boxplot(y= hills.dist)"
   ]
  },
  {
   "cell_type": "code",
   "execution_count": 44,
   "metadata": {},
   "outputs": [
    {
     "data": {
      "text/plain": [
       "<AxesSubplot:xlabel='time', ylabel='Density'>"
      ]
     },
     "execution_count": 44,
     "metadata": {},
     "output_type": "execute_result"
    },
    {
     "data": {
      "image/png": "[encoded data removed]",
      "text/plain": [
       "<Figure size 432x288 with 1 Axes>"
      ]
     },
     "metadata": {},
     "output_type": "display_data"
    }
   ],
   "source": [
    "sns.kdeplot(hills.time)"
   ]
  },
  {
   "cell_type": "code",
   "execution_count": 45,
   "metadata": {},
   "outputs": [
    {
     "data": {
      "text/plain": [
       "<AxesSubplot:xlabel='climb', ylabel='Density'>"
      ]
     },
     "execution_count": 45,
     "metadata": {},
     "output_type": "execute_result"
    },
    {
     "data": {
      "image/png": "[encoded data removed]",
      "text/plain": [
       "<Figure size 432x288 with 1 Axes>"
      ]
     },
     "metadata": {},
     "output_type": "display_data"
    }
   ],
   "source": [
    "sns.kdeplot(hills.climb)"
   ]
  },
  {
   "cell_type": "code",
   "execution_count": 46,
   "metadata": {},
   "outputs": [
    {
     "data": {
      "text/plain": [
       "<seaborn.axisgrid.PairGrid at 0x180c1a9a670>"
      ]
     },
     "execution_count": 46,
     "metadata": {},
     "output_type": "execute_result"
    },
    {
     "data": {
      "image/png": "[encoded data removed]",
      "text/plain": [
       "<Figure size 540x540 with 12 Axes>"
      ]
     },
     "metadata": {},
     "output_type": "display_data"
    }
   ],
   "source": [
    "sns.pairplot(hills,diag_kind='kde',kind='kde')"
   ]
  },
  {
   "cell_type": "code",
   "execution_count": 47,
   "metadata": {},
   "outputs": [
    {
     "data": {
      "text/plain": [
       "<AxesSubplot:xlabel='time', ylabel='climb'>"
      ]
     },
     "execution_count": 47,
     "metadata": {},
     "output_type": "execute_result"
    },
    {
     "data": {
      "image/png": "[encoded data removed]",
      "text/plain": [
       "<Figure size 432x288 with 1 Axes>"
      ]
     },
     "metadata": {},
     "output_type": "display_data"
    }
   ],
   "source": [
    "sns.scatterplot(x = hills.time,y = hills.climb)"
   ]
  },
  {
   "cell_type": "code",
   "execution_count": 48,
   "metadata": {},
   "outputs": [
    {
     "data": {
      "text/plain": [
       "<AxesSubplot:xlabel='dist', ylabel='climb'>"
      ]
     },
     "execution_count": 48,
     "metadata": {},
     "output_type": "execute_result"
    },
    {
     "data": {
      "image/png": "[encoded data removed]",
      "text/plain": [
       "<Figure size 432x288 with 1 Axes>"
      ]
     },
     "metadata": {},
     "output_type": "display_data"
    }
   ],
   "source": [
    "sns.scatterplot(x = hills.dist,y=hills.climb)"
   ]
  },
  {
   "cell_type": "code",
   "execution_count": 49,
   "metadata": {},
   "outputs": [
    {
     "data": {
      "text/plain": [
       "<seaborn.axisgrid.JointGrid at 0x180c2165dc0>"
      ]
     },
     "execution_count": 49,
     "metadata": {},
     "output_type": "execute_result"
    },
    {
     "data": {
      "image/png": "[encoded data removed]",
      "text/plain": [
       "<Figure size 432x432 with 3 Axes>"
      ]
     },
     "metadata": {},
     "output_type": "display_data"
    }
   ],
   "source": [
    "sns.jointplot(x='dist',y='time',data =hills)"
   ]
  },
  {
   "cell_type": "code",
   "execution_count": 53,
   "metadata": {},
   "outputs": [
    {
     "data": {
      "text/plain": [
       "<seaborn.axisgrid.JointGrid at 0x180c347f8b0>"
      ]
     },
     "execution_count": 53,
     "metadata": {},
     "output_type": "execute_result"
    },
    {
     "data": {
      "image/png": "[encoded data removed]",
      "text/plain": [
       "<Figure size 432x432 with 3 Axes>"
      ]
     },
     "metadata": {},
     "output_type": "display_data"
    }
   ],
   "source": [
    "sns.jointplot(x='dist',y='climb',data=hills,kind='reg')"
   ]
  },
  {
   "cell_type": "code",
   "execution_count": 54,
   "metadata": {},
   "outputs": [
    {
     "data": {
      "text/html": [
       "<div>\n",
       "<style scoped>\n",
       "    .dataframe tbody tr th:only-of-type {\n",
       "        vertical-align: middle;\n",
       "    }\n",
       "\n",
       "    .dataframe tbody tr th {\n",
       "        vertical-align: top;\n",
       "    }\n",
       "\n",
       "    .dataframe thead th {\n",
       "        text-align: right;\n",
       "    }\n",
       "</style>\n",
       "<table border=\"1\" class=\"dataframe\">\n",
       "  <thead>\n",
       "    <tr style=\"text-align: right;\">\n",
       "      <th></th>\n",
       "      <th>dist</th>\n",
       "      <th>climb</th>\n",
       "      <th>time</th>\n",
       "    </tr>\n",
       "  </thead>\n",
       "  <tbody>\n",
       "    <tr>\n",
       "      <th>0</th>\n",
       "      <td>2.5</td>\n",
       "      <td>650</td>\n",
       "      <td>16.083</td>\n",
       "    </tr>\n",
       "    <tr>\n",
       "      <th>1</th>\n",
       "      <td>6.0</td>\n",
       "      <td>2500</td>\n",
       "      <td>48.350</td>\n",
       "    </tr>\n",
       "    <tr>\n",
       "      <th>2</th>\n",
       "      <td>6.0</td>\n",
       "      <td>900</td>\n",
       "      <td>33.650</td>\n",
       "    </tr>\n",
       "    <tr>\n",
       "      <th>3</th>\n",
       "      <td>7.5</td>\n",
       "      <td>800</td>\n",
       "      <td>45.600</td>\n",
       "    </tr>\n",
       "    <tr>\n",
       "      <th>4</th>\n",
       "      <td>8.0</td>\n",
       "      <td>3070</td>\n",
       "      <td>62.267</td>\n",
       "    </tr>\n",
       "    <tr>\n",
       "      <th>5</th>\n",
       "      <td>8.0</td>\n",
       "      <td>2866</td>\n",
       "      <td>73.217</td>\n",
       "    </tr>\n",
       "    <tr>\n",
       "      <th>6</th>\n",
       "      <td>16.0</td>\n",
       "      <td>7500</td>\n",
       "      <td>204.617</td>\n",
       "    </tr>\n",
       "    <tr>\n",
       "      <th>7</th>\n",
       "      <td>6.0</td>\n",
       "      <td>800</td>\n",
       "      <td>36.367</td>\n",
       "    </tr>\n",
       "    <tr>\n",
       "      <th>8</th>\n",
       "      <td>5.0</td>\n",
       "      <td>800</td>\n",
       "      <td>29.750</td>\n",
       "    </tr>\n",
       "    <tr>\n",
       "      <th>9</th>\n",
       "      <td>6.0</td>\n",
       "      <td>650</td>\n",
       "      <td>39.750</td>\n",
       "    </tr>\n",
       "    <tr>\n",
       "      <th>10</th>\n",
       "      <td>28.0</td>\n",
       "      <td>2100</td>\n",
       "      <td>192.667</td>\n",
       "    </tr>\n",
       "    <tr>\n",
       "      <th>11</th>\n",
       "      <td>5.0</td>\n",
       "      <td>2000</td>\n",
       "      <td>43.050</td>\n",
       "    </tr>\n",
       "    <tr>\n",
       "      <th>12</th>\n",
       "      <td>9.5</td>\n",
       "      <td>2200</td>\n",
       "      <td>65.000</td>\n",
       "    </tr>\n",
       "    <tr>\n",
       "      <th>13</th>\n",
       "      <td>6.0</td>\n",
       "      <td>500</td>\n",
       "      <td>44.133</td>\n",
       "    </tr>\n",
       "    <tr>\n",
       "      <th>14</th>\n",
       "      <td>4.5</td>\n",
       "      <td>1500</td>\n",
       "      <td>26.933</td>\n",
       "    </tr>\n",
       "    <tr>\n",
       "      <th>15</th>\n",
       "      <td>10.0</td>\n",
       "      <td>3000</td>\n",
       "      <td>72.250</td>\n",
       "    </tr>\n",
       "    <tr>\n",
       "      <th>16</th>\n",
       "      <td>14.0</td>\n",
       "      <td>2200</td>\n",
       "      <td>98.417</td>\n",
       "    </tr>\n",
       "    <tr>\n",
       "      <th>17</th>\n",
       "      <td>3.0</td>\n",
       "      <td>350</td>\n",
       "      <td>78.650</td>\n",
       "    </tr>\n",
       "    <tr>\n",
       "      <th>18</th>\n",
       "      <td>4.5</td>\n",
       "      <td>1000</td>\n",
       "      <td>17.417</td>\n",
       "    </tr>\n",
       "    <tr>\n",
       "      <th>19</th>\n",
       "      <td>5.5</td>\n",
       "      <td>600</td>\n",
       "      <td>32.567</td>\n",
       "    </tr>\n",
       "    <tr>\n",
       "      <th>20</th>\n",
       "      <td>3.0</td>\n",
       "      <td>300</td>\n",
       "      <td>15.950</td>\n",
       "    </tr>\n",
       "    <tr>\n",
       "      <th>21</th>\n",
       "      <td>3.5</td>\n",
       "      <td>1500</td>\n",
       "      <td>27.900</td>\n",
       "    </tr>\n",
       "    <tr>\n",
       "      <th>22</th>\n",
       "      <td>6.0</td>\n",
       "      <td>2200</td>\n",
       "      <td>47.633</td>\n",
       "    </tr>\n",
       "    <tr>\n",
       "      <th>23</th>\n",
       "      <td>2.0</td>\n",
       "      <td>900</td>\n",
       "      <td>17.933</td>\n",
       "    </tr>\n",
       "    <tr>\n",
       "      <th>24</th>\n",
       "      <td>3.0</td>\n",
       "      <td>600</td>\n",
       "      <td>18.683</td>\n",
       "    </tr>\n",
       "    <tr>\n",
       "      <th>25</th>\n",
       "      <td>4.0</td>\n",
       "      <td>2000</td>\n",
       "      <td>26.217</td>\n",
       "    </tr>\n",
       "    <tr>\n",
       "      <th>26</th>\n",
       "      <td>6.0</td>\n",
       "      <td>800</td>\n",
       "      <td>34.433</td>\n",
       "    </tr>\n",
       "    <tr>\n",
       "      <th>27</th>\n",
       "      <td>5.0</td>\n",
       "      <td>950</td>\n",
       "      <td>28.567</td>\n",
       "    </tr>\n",
       "    <tr>\n",
       "      <th>28</th>\n",
       "      <td>6.5</td>\n",
       "      <td>1750</td>\n",
       "      <td>50.500</td>\n",
       "    </tr>\n",
       "    <tr>\n",
       "      <th>29</th>\n",
       "      <td>5.0</td>\n",
       "      <td>500</td>\n",
       "      <td>20.950</td>\n",
       "    </tr>\n",
       "    <tr>\n",
       "      <th>30</th>\n",
       "      <td>10.0</td>\n",
       "      <td>4400</td>\n",
       "      <td>85.583</td>\n",
       "    </tr>\n",
       "    <tr>\n",
       "      <th>31</th>\n",
       "      <td>6.0</td>\n",
       "      <td>600</td>\n",
       "      <td>32.383</td>\n",
       "    </tr>\n",
       "    <tr>\n",
       "      <th>32</th>\n",
       "      <td>18.0</td>\n",
       "      <td>5200</td>\n",
       "      <td>170.250</td>\n",
       "    </tr>\n",
       "    <tr>\n",
       "      <th>33</th>\n",
       "      <td>4.5</td>\n",
       "      <td>850</td>\n",
       "      <td>28.100</td>\n",
       "    </tr>\n",
       "    <tr>\n",
       "      <th>34</th>\n",
       "      <td>20.0</td>\n",
       "      <td>5000</td>\n",
       "      <td>159.833</td>\n",
       "    </tr>\n",
       "  </tbody>\n",
       "</table>\n",
       "</div>"
      ],
      "text/plain": [
       "    dist  climb     time\n",
       "0    2.5    650   16.083\n",
       "1    6.0   2500   48.350\n",
       "2    6.0    900   33.650\n",
       "3    7.5    800   45.600\n",
       "4    8.0   3070   62.267\n",
       "5    8.0   2866   73.217\n",
       "6   16.0   7500  204.617\n",
       "7    6.0    800   36.367\n",
       "8    5.0    800   29.750\n",
       "9    6.0    650   39.750\n",
       "10  28.0   2100  192.667\n",
       "11   5.0   2000   43.050\n",
       "12   9.5   2200   65.000\n",
       "13   6.0    500   44.133\n",
       "14   4.5   1500   26.933\n",
       "15  10.0   3000   72.250\n",
       "16  14.0   2200   98.417\n",
       "17   3.0    350   78.650\n",
       "18   4.5   1000   17.417\n",
       "19   5.5    600   32.567\n",
       "20   3.0    300   15.950\n",
       "21   3.5   1500   27.900\n",
       "22   6.0   2200   47.633\n",
       "23   2.0    900   17.933\n",
       "24   3.0    600   18.683\n",
       "25   4.0   2000   26.217\n",
       "26   6.0    800   34.433\n",
       "27   5.0    950   28.567\n",
       "28   6.5   1750   50.500\n",
       "29   5.0    500   20.950\n",
       "30  10.0   4400   85.583\n",
       "31   6.0    600   32.383\n",
       "32  18.0   5200  170.250\n",
       "33   4.5    850   28.100\n",
       "34  20.0   5000  159.833"
      ]
     },
     "execution_count": 54,
     "metadata": {},
     "output_type": "execute_result"
    }
   ],
   "source": [
    "hills"
   ]
  },
  {
   "cell_type": "code",
   "execution_count": 55,
   "metadata": {},
   "outputs": [
    {
     "data": {
      "text/html": [
       "<div>\n",
       "<style scoped>\n",
       "    .dataframe tbody tr th:only-of-type {\n",
       "        vertical-align: middle;\n",
       "    }\n",
       "\n",
       "    .dataframe tbody tr th {\n",
       "        vertical-align: top;\n",
       "    }\n",
       "\n",
       "    .dataframe thead th {\n",
       "        text-align: right;\n",
       "    }\n",
       "</style>\n",
       "<table border=\"1\" class=\"dataframe\">\n",
       "  <thead>\n",
       "    <tr style=\"text-align: right;\">\n",
       "      <th></th>\n",
       "      <th>dist</th>\n",
       "      <th>climb</th>\n",
       "      <th>time</th>\n",
       "    </tr>\n",
       "  </thead>\n",
       "  <tbody>\n",
       "    <tr>\n",
       "      <th>dist</th>\n",
       "      <td>30.513866</td>\n",
       "      <td>5.834638e+03</td>\n",
       "      <td>254.194420</td>\n",
       "    </tr>\n",
       "    <tr>\n",
       "      <th>climb</th>\n",
       "      <td>5834.637815</td>\n",
       "      <td>2.621648e+06</td>\n",
       "      <td>65243.256739</td>\n",
       "    </tr>\n",
       "    <tr>\n",
       "      <th>time</th>\n",
       "      <td>254.194420</td>\n",
       "      <td>6.524326e+04</td>\n",
       "      <td>2504.073281</td>\n",
       "    </tr>\n",
       "  </tbody>\n",
       "</table>\n",
       "</div>"
      ],
      "text/plain": [
       "              dist         climb          time\n",
       "dist     30.513866  5.834638e+03    254.194420\n",
       "climb  5834.637815  2.621648e+06  65243.256739\n",
       "time    254.194420  6.524326e+04   2504.073281"
      ]
     },
     "execution_count": 55,
     "metadata": {},
     "output_type": "execute_result"
    }
   ],
   "source": [
    "hills.cov()"
   ]
  },
  {
   "cell_type": "code",
   "execution_count": 56,
   "metadata": {},
   "outputs": [
    {
     "data": {
      "text/plain": [
       "dist     3.051387e+01\n",
       "climb    2.621648e+06\n",
       "time     2.504073e+03\n",
       "dtype: float64"
      ]
     },
     "execution_count": 56,
     "metadata": {},
     "output_type": "execute_result"
    }
   ],
   "source": [
    "hills.var()"
   ]
  },
  {
   "cell_type": "code",
   "execution_count": 57,
   "metadata": {},
   "outputs": [
    {
     "data": {
      "text/plain": [
       "(35, 3)"
      ]
     },
     "execution_count": 57,
     "metadata": {},
     "output_type": "execute_result"
    }
   ],
   "source": [
    "hills.shape"
   ]
  },
  {
   "cell_type": "code",
   "execution_count": 62,
   "metadata": {},
   "outputs": [],
   "source": [
    "cov_dist_climb = ((hills.dist - hills.dist.mean())*(hills.climb - hills.climb.mean())).sum()/(hills.shape[0]-1)"
   ]
  },
  {
   "cell_type": "code",
   "execution_count": 63,
   "metadata": {},
   "outputs": [
    {
     "data": {
      "text/plain": [
       "5834.637815126051"
      ]
     },
     "execution_count": 63,
     "metadata": {},
     "output_type": "execute_result"
    }
   ],
   "source": [
    "cov_dist_climb"
   ]
  },
  {
   "cell_type": "code",
   "execution_count": 69,
   "metadata": {},
   "outputs": [
    {
     "data": {
      "text/plain": [
       "5.523935693526717"
      ]
     },
     "execution_count": 69,
     "metadata": {},
     "output_type": "execute_result"
    }
   ],
   "source": [
    "hills.dist.std(ddof=1)"
   ]
  },
  {
   "cell_type": "code",
   "execution_count": 70,
   "metadata": {},
   "outputs": [
    {
     "data": {
      "text/html": [
       "<div>\n",
       "<style scoped>\n",
       "    .dataframe tbody tr th:only-of-type {\n",
       "        vertical-align: middle;\n",
       "    }\n",
       "\n",
       "    .dataframe tbody tr th {\n",
       "        vertical-align: top;\n",
       "    }\n",
       "\n",
       "    .dataframe thead th {\n",
       "        text-align: right;\n",
       "    }\n",
       "</style>\n",
       "<table border=\"1\" class=\"dataframe\">\n",
       "  <thead>\n",
       "    <tr style=\"text-align: right;\">\n",
       "      <th></th>\n",
       "      <th>dist</th>\n",
       "      <th>climb</th>\n",
       "      <th>time</th>\n",
       "    </tr>\n",
       "  </thead>\n",
       "  <tbody>\n",
       "    <tr>\n",
       "      <th>count</th>\n",
       "      <td>35.000000</td>\n",
       "      <td>35.000000</td>\n",
       "      <td>35.000000</td>\n",
       "    </tr>\n",
       "    <tr>\n",
       "      <th>mean</th>\n",
       "      <td>7.528571</td>\n",
       "      <td>1815.314286</td>\n",
       "      <td>57.875714</td>\n",
       "    </tr>\n",
       "    <tr>\n",
       "      <th>std</th>\n",
       "      <td>5.523936</td>\n",
       "      <td>1619.150536</td>\n",
       "      <td>50.040716</td>\n",
       "    </tr>\n",
       "    <tr>\n",
       "      <th>min</th>\n",
       "      <td>2.000000</td>\n",
       "      <td>300.000000</td>\n",
       "      <td>15.950000</td>\n",
       "    </tr>\n",
       "    <tr>\n",
       "      <th>25%</th>\n",
       "      <td>4.500000</td>\n",
       "      <td>725.000000</td>\n",
       "      <td>28.000000</td>\n",
       "    </tr>\n",
       "    <tr>\n",
       "      <th>50%</th>\n",
       "      <td>6.000000</td>\n",
       "      <td>1000.000000</td>\n",
       "      <td>39.750000</td>\n",
       "    </tr>\n",
       "    <tr>\n",
       "      <th>75%</th>\n",
       "      <td>8.000000</td>\n",
       "      <td>2200.000000</td>\n",
       "      <td>68.625000</td>\n",
       "    </tr>\n",
       "    <tr>\n",
       "      <th>max</th>\n",
       "      <td>28.000000</td>\n",
       "      <td>7500.000000</td>\n",
       "      <td>204.617000</td>\n",
       "    </tr>\n",
       "  </tbody>\n",
       "</table>\n",
       "</div>"
      ],
      "text/plain": [
       "            dist        climb        time\n",
       "count  35.000000    35.000000   35.000000\n",
       "mean    7.528571  1815.314286   57.875714\n",
       "std     5.523936  1619.150536   50.040716\n",
       "min     2.000000   300.000000   15.950000\n",
       "25%     4.500000   725.000000   28.000000\n",
       "50%     6.000000  1000.000000   39.750000\n",
       "75%     8.000000  2200.000000   68.625000\n",
       "max    28.000000  7500.000000  204.617000"
      ]
     },
     "execution_count": 70,
     "metadata": {},
     "output_type": "execute_result"
    }
   ],
   "source": [
    "hills.describe()"
   ]
  },
  {
   "cell_type": "code",
   "execution_count": 72,
   "metadata": {},
   "outputs": [
    {
     "data": {
      "text/html": [
       "<div>\n",
       "<style scoped>\n",
       "    .dataframe tbody tr th:only-of-type {\n",
       "        vertical-align: middle;\n",
       "    }\n",
       "\n",
       "    .dataframe tbody tr th {\n",
       "        vertical-align: top;\n",
       "    }\n",
       "\n",
       "    .dataframe thead th {\n",
       "        text-align: right;\n",
       "    }\n",
       "</style>\n",
       "<table border=\"1\" class=\"dataframe\">\n",
       "  <thead>\n",
       "    <tr style=\"text-align: right;\">\n",
       "      <th></th>\n",
       "      <th>dist</th>\n",
       "      <th>climb</th>\n",
       "      <th>time</th>\n",
       "    </tr>\n",
       "  </thead>\n",
       "  <tbody>\n",
       "    <tr>\n",
       "      <th>dist</th>\n",
       "      <td>1.000000</td>\n",
       "      <td>0.652346</td>\n",
       "      <td>0.919589</td>\n",
       "    </tr>\n",
       "    <tr>\n",
       "      <th>climb</th>\n",
       "      <td>0.652346</td>\n",
       "      <td>1.000000</td>\n",
       "      <td>0.805239</td>\n",
       "    </tr>\n",
       "    <tr>\n",
       "      <th>time</th>\n",
       "      <td>0.919589</td>\n",
       "      <td>0.805239</td>\n",
       "      <td>1.000000</td>\n",
       "    </tr>\n",
       "  </tbody>\n",
       "</table>\n",
       "</div>"
      ],
      "text/plain": [
       "           dist     climb      time\n",
       "dist   1.000000  0.652346  0.919589\n",
       "climb  0.652346  1.000000  0.805239\n",
       "time   0.919589  0.805239  1.000000"
      ]
     },
     "execution_count": 72,
     "metadata": {},
     "output_type": "execute_result"
    }
   ],
   "source": [
    "hills.corr()"
   ]
  },
  {
   "cell_type": "code",
   "execution_count": 83,
   "metadata": {},
   "outputs": [],
   "source": [
    "import numpy as np\n",
    "corr = hills.corr()\n",
    "mask = np.zeros_like(corr,dtype=np.bool)\n",
    "mask[np.triu_indices_from(mask)] = True\n",
    "sns.heatmap(corr,mask=mask,annot=True)"
   ]
  },
  {
   "cell_type": "code",
   "execution_count": 80,
   "metadata": {},
   "outputs": [
    {
     "data": {
      "text/plain": [
       "0.6523460851104235"
      ]
     },
     "execution_count": 80,
     "metadata": {},
     "output_type": "execute_result"
    }
   ],
   "source": [
    "cov_dist_climb/(hills.dist.std()*hills.climb.std())"
   ]
  },
  {
   "cell_type": "code",
   "execution_count": 84,
   "metadata": {},
   "outputs": [
    {
     "data": {
      "text/plain": [
       "array([[False, False, False],\n",
       "       [False, False, False],\n",
       "       [False, False, False]])"
      ]
     },
     "execution_count": 84,
     "metadata": {},
     "output_type": "execute_result"
    }
   ],
   "source": [
    "mask"
   ]
  },
  {
   "cell_type": "code",
   "execution_count": 85,
   "metadata": {},
   "outputs": [
    {
     "data": {
      "text/plain": [
       "(array([0, 0, 0, 1, 1, 2], dtype=int64),\n",
       " array([0, 1, 2, 1, 2, 2], dtype=int64))"
      ]
     },
     "execution_count": 85,
     "metadata": {},
     "output_type": "execute_result"
    }
   ],
   "source": [
    "np.triu_indices_from(mask)"
   ]
  },
  {
   "cell_type": "code",
   "execution_count": 86,
   "metadata": {},
   "outputs": [
    {
     "data": {
      "text/plain": [
       "array([[ True,  True,  True],\n",
       "       [False,  True,  True],\n",
       "       [False, False,  True]])"
      ]
     },
     "execution_count": 86,
     "metadata": {},
     "output_type": "execute_result"
    }
   ],
   "source": [
    "mask = np.zeros_like(corr,dtype=np.bool)\n",
    "mask[np.triu_indices_from(mask)] = True\n",
    "mask"
   ]
  },
  {
   "cell_type": "code",
   "execution_count": 2,
   "metadata": {},
   "outputs": [],
   "source": [
    "import scipy.stats as ss\n"
   ]
  },
  {
   "cell_type": "code",
   "execution_count": 22,
   "metadata": {},
   "outputs": [],
   "source": [
    "x = np.arange(-4,4,0.001)\n",
    "y_cdf = []\n",
    "y_pdf = []"
   ]
  },
  {
   "cell_type": "code",
   "execution_count": 23,
   "metadata": {},
   "outputs": [],
   "source": [
    "for i in x:\n",
    "    y_cdf.append(ss.norm.cdf(i,0,1))\n",
    "    y_pdf.append(ss.norm.pdf(i,0,1))"
   ]
  },
  {
   "cell_type": "code",
   "execution_count": 31,
   "metadata": {},
   "outputs": [
    {
     "data": {
      "text/plain": [
       "[<matplotlib.lines.Line2D at 0x2d44f224070>]"
      ]
     },
     "execution_count": 31,
     "metadata": {},
     "output_type": "execute_result"
    },
    {
     "data": {
      "image/png": "[encoded data removed]",
      "text/plain": [
       "<Figure size 1008x432 with 1 Axes>"
      ]
     },
     "metadata": {
      "needs_background": "light"
     },
     "output_type": "display_data"
    }
   ],
   "source": [
    "plt.figure(figsize=(14,6))\n",
    "plt.plot(y_pdf)\n",
    "plt.plot(y_cdf)"
   ]
  },
  {
   "cell_type": "code",
   "execution_count": 29,
   "metadata": {},
   "outputs": [
    {
     "data": {
      "text/plain": [
       "0.6826894921370859"
      ]
     },
     "execution_count": 29,
     "metadata": {},
     "output_type": "execute_result"
    }
   ],
   "source": [
    "ss.norm.cdf(1,0,1) - ss.norm.cdf(-1,0,1)"
   ]
  },
  {
   "cell_type": "code",
   "execution_count": 32,
   "metadata": {},
   "outputs": [
    {
     "data": {
      "text/plain": [
       "0.9544997361036416"
      ]
     },
     "execution_count": 32,
     "metadata": {},
     "output_type": "execute_result"
    }
   ],
   "source": [
    "ss.norm.cdf(2,0,1) - ss.norm.cdf(-2,0,1)"
   ]
  },
  {
   "cell_type": "code",
   "execution_count": 33,
   "metadata": {},
   "outputs": [
    {
     "data": {
      "text/plain": [
       "0.9973002039367398"
      ]
     },
     "execution_count": 33,
     "metadata": {},
     "output_type": "execute_result"
    }
   ],
   "source": [
    "ss.norm.cdf(3,0,1) - ss.norm.cdf(-3,0,1)"
   ]
  },
  {
   "cell_type": "code",
   "execution_count": 35,
   "metadata": {},
   "outputs": [
    {
     "data": {
      "text/html": [
       "<div>\n",
       "<style scoped>\n",
       "    .dataframe tbody tr th:only-of-type {\n",
       "        vertical-align: middle;\n",
       "    }\n",
       "\n",
       "    .dataframe tbody tr th {\n",
       "        vertical-align: top;\n",
       "    }\n",
       "\n",
       "    .dataframe thead th {\n",
       "        text-align: right;\n",
       "    }\n",
       "</style>\n",
       "<table border=\"1\" class=\"dataframe\">\n",
       "  <thead>\n",
       "    <tr style=\"text-align: right;\">\n",
       "      <th></th>\n",
       "      <th>Title</th>\n",
       "      <th>Year</th>\n",
       "      <th>Genre</th>\n",
       "      <th>Duration</th>\n",
       "      <th>Director</th>\n",
       "      <th>Rating</th>\n",
       "      <th>Popularity</th>\n",
       "    </tr>\n",
       "  </thead>\n",
       "  <tbody>\n",
       "    <tr>\n",
       "      <th>0</th>\n",
       "      <td>What Is It?</td>\n",
       "      <td>2005</td>\n",
       "      <td>Drama</td>\n",
       "      <td>72</td>\n",
       "      <td>Crispin Glover</td>\n",
       "      <td>5.6</td>\n",
       "      <td>21.83</td>\n",
       "    </tr>\n",
       "    <tr>\n",
       "      <th>1</th>\n",
       "      <td>Glitter</td>\n",
       "      <td>2001</td>\n",
       "      <td>Drama</td>\n",
       "      <td>104</td>\n",
       "      <td>Vondie Curtis-Hall</td>\n",
       "      <td>2.2</td>\n",
       "      <td>81.69</td>\n",
       "    </tr>\n",
       "    <tr>\n",
       "      <th>2</th>\n",
       "      <td>The Attic Expeditions</td>\n",
       "      <td>2001</td>\n",
       "      <td>Comedy</td>\n",
       "      <td>100</td>\n",
       "      <td>Jeremy Kasten</td>\n",
       "      <td>5.0</td>\n",
       "      <td>42.08</td>\n",
       "    </tr>\n",
       "    <tr>\n",
       "      <th>3</th>\n",
       "      <td>Men in Black II</td>\n",
       "      <td>2002</td>\n",
       "      <td>Action</td>\n",
       "      <td>88</td>\n",
       "      <td>Barry Sonnenfeld</td>\n",
       "      <td>6.2</td>\n",
       "      <td>98.60</td>\n",
       "    </tr>\n",
       "    <tr>\n",
       "      <th>4</th>\n",
       "      <td>Star Wars: Episode II - Attack of the Clones</td>\n",
       "      <td>2002</td>\n",
       "      <td>Action</td>\n",
       "      <td>142</td>\n",
       "      <td>George Lucas</td>\n",
       "      <td>6.5</td>\n",
       "      <td>99.58</td>\n",
       "    </tr>\n",
       "    <tr>\n",
       "      <th>...</th>\n",
       "      <td>...</td>\n",
       "      <td>...</td>\n",
       "      <td>...</td>\n",
       "      <td>...</td>\n",
       "      <td>...</td>\n",
       "      <td>...</td>\n",
       "      <td>...</td>\n",
       "    </tr>\n",
       "    <tr>\n",
       "      <th>5270</th>\n",
       "      <td>Bloodline</td>\n",
       "      <td>2018</td>\n",
       "      <td>Crime</td>\n",
       "      <td>97</td>\n",
       "      <td>Henry Jacobson</td>\n",
       "      <td>6.0</td>\n",
       "      <td>64.69</td>\n",
       "    </tr>\n",
       "    <tr>\n",
       "      <th>5271</th>\n",
       "      <td>The Princess Switch</td>\n",
       "      <td>2018</td>\n",
       "      <td>Comedy</td>\n",
       "      <td>101</td>\n",
       "      <td>Mike Rohl</td>\n",
       "      <td>6.0</td>\n",
       "      <td>80.21</td>\n",
       "    </tr>\n",
       "    <tr>\n",
       "      <th>5272</th>\n",
       "      <td>You Might Be the Killer</td>\n",
       "      <td>2018</td>\n",
       "      <td>Comedy</td>\n",
       "      <td>92</td>\n",
       "      <td>Brett Simmons</td>\n",
       "      <td>5.9</td>\n",
       "      <td>61.14</td>\n",
       "    </tr>\n",
       "    <tr>\n",
       "      <th>5273</th>\n",
       "      <td>The Final Wish</td>\n",
       "      <td>2018</td>\n",
       "      <td>Horror</td>\n",
       "      <td>95</td>\n",
       "      <td>Timothy Woodward Jr.</td>\n",
       "      <td>4.2</td>\n",
       "      <td>54.68</td>\n",
       "    </tr>\n",
       "    <tr>\n",
       "      <th>5274</th>\n",
       "      <td>Shrek Retold</td>\n",
       "      <td>2018</td>\n",
       "      <td>Animation</td>\n",
       "      <td>90</td>\n",
       "      <td>Grant Duffrin</td>\n",
       "      <td>7.5</td>\n",
       "      <td>26.07</td>\n",
       "    </tr>\n",
       "  </tbody>\n",
       "</table>\n",
       "<p>5275 rows × 7 columns</p>\n",
       "</div>"
      ],
      "text/plain": [
       "                                             Title  Year      Genre  Duration  \\\n",
       "0                                      What Is It?  2005      Drama        72   \n",
       "1                                          Glitter  2001      Drama       104   \n",
       "2                            The Attic Expeditions  2001     Comedy       100   \n",
       "3                                  Men in Black II  2002     Action        88   \n",
       "4     Star Wars: Episode II - Attack of the Clones  2002     Action       142   \n",
       "...                                            ...   ...        ...       ...   \n",
       "5270                                     Bloodline  2018      Crime        97   \n",
       "5271                           The Princess Switch  2018     Comedy       101   \n",
       "5272                       You Might Be the Killer  2018     Comedy        92   \n",
       "5273                                The Final Wish  2018     Horror        95   \n",
       "5274                                  Shrek Retold  2018  Animation        90   \n",
       "\n",
       "                  Director  Rating  Popularity  \n",
       "0           Crispin Glover     5.6       21.83  \n",
       "1       Vondie Curtis-Hall     2.2       81.69  \n",
       "2            Jeremy Kasten     5.0       42.08  \n",
       "3         Barry Sonnenfeld     6.2       98.60  \n",
       "4             George Lucas     6.5       99.58  \n",
       "...                    ...     ...         ...  \n",
       "5270        Henry Jacobson     6.0       64.69  \n",
       "5271             Mike Rohl     6.0       80.21  \n",
       "5272         Brett Simmons     5.9       61.14  \n",
       "5273  Timothy Woodward Jr.     4.2       54.68  \n",
       "5274         Grant Duffrin     7.5       26.07  \n",
       "\n",
       "[5275 rows x 7 columns]"
      ]
     },
     "execution_count": 35,
     "metadata": {},
     "output_type": "execute_result"
    }
   ],
   "source": [
    "movies = pd.read_csv('movies.csv')\n",
    "movies"
   ]
  },
  {
   "cell_type": "code",
   "execution_count": 37,
   "metadata": {},
   "outputs": [
    {
     "data": {
      "text/plain": [
       "5.379981042654028"
      ]
     },
     "execution_count": 37,
     "metadata": {},
     "output_type": "execute_result"
    }
   ],
   "source": [
    "movies.Rating.mean()"
   ]
  },
  {
   "cell_type": "code",
   "execution_count": 38,
   "metadata": {},
   "outputs": [
    {
     "data": {
      "text/plain": [
       "1.2481025415142253"
      ]
     },
     "execution_count": 38,
     "metadata": {},
     "output_type": "execute_result"
    }
   ],
   "source": [
    "movies.Rating.std()"
   ]
  },
  {
   "cell_type": "code",
   "execution_count": 39,
   "metadata": {},
   "outputs": [
    {
     "data": {
      "text/plain": [
       "<AxesSubplot:xlabel='Rating', ylabel='Density'>"
      ]
     },
     "execution_count": 39,
     "metadata": {},
     "output_type": "execute_result"
    },
    {
     "data": {
      "image/png": "[encoded data removed]",
      "text/plain": [
       "<Figure size 432x288 with 1 Axes>"
      ]
     },
     "metadata": {
      "needs_background": "light"
     },
     "output_type": "display_data"
    }
   ],
   "source": [
    "sns.kdeplot(movies['Rating'])"
   ]
  },
  {
   "cell_type": "code",
   "execution_count": 44,
   "metadata": {},
   "outputs": [
    {
     "data": {
      "text/plain": [
       "0.3096758927168455"
      ]
     },
     "execution_count": 44,
     "metadata": {},
     "output_type": "execute_result"
    }
   ],
   "source": [
    "1 - ss.norm.cdf(6,loc = movies.Rating.mean(),scale = movies.Rating.std())"
   ]
  },
  {
   "cell_type": "code",
   "execution_count": 42,
   "metadata": {},
   "outputs": [
    {
     "data": {
      "text/plain": [
       "0.0971461648819798"
      ]
     },
     "execution_count": 42,
     "metadata": {},
     "output_type": "execute_result"
    }
   ],
   "source": [
    "1 - ss.norm.cdf(7,movies.Rating.mean(),movies.Rating.std())"
   ]
  },
  {
   "cell_type": "code",
   "execution_count": 43,
   "metadata": {},
   "outputs": [
    {
     "data": {
      "text/plain": [
       "0.017899562802687785"
      ]
     },
     "execution_count": 43,
     "metadata": {},
     "output_type": "execute_result"
    }
   ],
   "source": [
    "1 - ss.norm.cdf(8,movies.Rating.mean(),movies.Rating.std())"
   ]
  },
  {
   "cell_type": "code",
   "execution_count": 46,
   "metadata": {},
   "outputs": [],
   "source": [
    "np.random.seed(1)\n",
    "a = np.random.normal(2,4,10000)"
   ]
  },
  {
   "cell_type": "code",
   "execution_count": 47,
   "metadata": {},
   "outputs": [
    {
     "data": {
      "text/plain": [
       "<AxesSubplot:ylabel='Density'>"
      ]
     },
     "execution_count": 47,
     "metadata": {},
     "output_type": "execute_result"
    },
    {
     "data": {
      "image/png": "[encoded data removed]",
      "text/plain": [
       "<Figure size 432x288 with 1 Axes>"
      ]
     },
     "metadata": {
      "needs_background": "light"
     },
     "output_type": "display_data"
    }
   ],
   "source": [
    "sns.kdeplot(a)"
   ]
  },
  {
   "cell_type": "code",
   "execution_count": 53,
   "metadata": {},
   "outputs": [],
   "source": [
    "import random\n",
    "def sampling_distr(pop,n):\n",
    "    sample_mean = []\n",
    "    for i in np.arange(0,100,1):\n",
    "        np.random.seed(1)\n",
    "        sample_mean.append(np.array(random.sample(list(pop),n)).mean())\n",
    "    return sample_mean"
   ]
  },
  {
   "cell_type": "code",
   "execution_count": 55,
   "metadata": {},
   "outputs": [
    {
     "data": {
      "text/plain": [
       "[1.8003159270323117,\n",
       " 2.09427812977648,\n",
       " 0.6043570273101115,\n",
       " 0.829711857156964,\n",
       " 1.492231889061131,\n",
       " 0.8955251246020474,\n",
       " 1.2031457621608141,\n",
       " 3.3813351581342808,\n",
       " 2.02793411985643,\n",
       " 1.9414849277648945,\n",
       " 4.197691727504992,\n",
       " 0.8424641346927828,\n",
       " 4.255688000032833,\n",
       " 1.0436584411273535,\n",
       " -0.1927944886428304,\n",
       " -0.2693981791081944,\n",
       " 0.8764390413360512,\n",
       " 1.2125749485908552,\n",
       " 3.6570181037390213,\n",
       " 1.8367349917250366,\n",
       " 3.5609672358186217,\n",
       " 3.3098333421128103,\n",
       " 2.778200545224182,\n",
       " 3.3574777765282455,\n",
       " 2.654999559768889,\n",
       " 1.5764041792572352,\n",
       " 2.8151356520062105,\n",
       " 2.080468052326799,\n",
       " 1.9898970513533605,\n",
       " 2.119290319927713,\n",
       " 2.216492978991819,\n",
       " 1.7146671548709036,\n",
       " 2.484965154512955,\n",
       " 4.992117542963568,\n",
       " 2.0415244810511703,\n",
       " 1.3746189924517243,\n",
       " 3.5987293435730527,\n",
       " 2.2151646398403644,\n",
       " 2.8944672132761142,\n",
       " 3.1768729834371525,\n",
       " 3.9356162096624416,\n",
       " 1.913869163761143,\n",
       " 2.6923093655434176,\n",
       " 2.455027535008336,\n",
       " 2.921036576502083,\n",
       " 1.2886281991687778,\n",
       " 3.2675590986046217,\n",
       " 3.394982068430795,\n",
       " 0.18772482404114585,\n",
       " 2.0840238294540185,\n",
       " 0.7965271934695627,\n",
       " 1.6690886046908926,\n",
       " 1.1584899723964763,\n",
       " 2.987976948958683,\n",
       " 1.3613369057014086,\n",
       " 2.630398249806972,\n",
       " 2.3499802863542554,\n",
       " 2.5174595198832432,\n",
       " 0.9090114501913422,\n",
       " 2.9167962877039146,\n",
       " 2.748092698470137,\n",
       " 2.3797943190459128,\n",
       " 1.5455601669124683,\n",
       " 0.5359649408971955,\n",
       " 1.0855425708788906,\n",
       " 2.39207092890417,\n",
       " 1.3966792416297245,\n",
       " 0.7556803691536554,\n",
       " 2.035056890068527,\n",
       " -0.21785691058921888,\n",
       " 2.903573759588258,\n",
       " 2.717806056701882,\n",
       " 0.20678743946757203,\n",
       " 1.2343604481683266,\n",
       " 2.4622387109509645,\n",
       " 1.5911811246689926,\n",
       " 3.881897071492915,\n",
       " 0.3524134307548139,\n",
       " 1.5896032569605059,\n",
       " 1.1992667348623158,\n",
       " 0.24888212847343077,\n",
       " 1.684786954053975,\n",
       " 1.2124016168105811,\n",
       " 2.5355249128661677,\n",
       " 3.100044746454867,\n",
       " 2.1830266670595075,\n",
       " 4.013723051463141,\n",
       " 1.360024105408905,\n",
       " 2.9323209442356037,\n",
       " 1.2481694972025925,\n",
       " 2.5147170912033054,\n",
       " 5.097602336347187,\n",
       " 1.1854229974690906,\n",
       " 2.213286187973603,\n",
       " 1.9537913924881178,\n",
       " 0.46146219825184465,\n",
       " 1.7785690345748215,\n",
       " 0.4104040458746939,\n",
       " 2.984973908470792,\n",
       " 0.7553577566590791]"
      ]
     },
     "execution_count": 55,
     "metadata": {},
     "output_type": "execute_result"
    }
   ],
   "source": [
    "sampling_distr(a,10)\n"
   ]
  },
  {
   "cell_type": "code",
   "execution_count": 61,
   "metadata": {},
   "outputs": [
    {
     "data": {
      "text/plain": [
       "<AxesSubplot:ylabel='Density'>"
      ]
     },
     "execution_count": 61,
     "metadata": {},
     "output_type": "execute_result"
    },
    {
     "data": {
      "image/png": "[encoded data removed]",
      "text/plain": [
       "<Figure size 1152x432 with 1 Axes>"
      ]
     },
     "metadata": {
      "needs_background": "light"
     },
     "output_type": "display_data"
    }
   ],
   "source": [
    "plt.figure(figsize=(16,6))\n",
    "sns.kdeplot(a)\n",
    "plt.axvline(x=a.mean())\n",
    "sns.kdeplot(sampling_distr(a,10))\n",
    "sns.kdeplot(sampling_distr(a,50))"
   ]
  },
  {
   "cell_type": "code",
   "execution_count": 62,
   "metadata": {},
   "outputs": [
    {
     "data": {
      "text/plain": [
       "<AxesSubplot:ylabel='Density'>"
      ]
     },
     "execution_count": 62,
     "metadata": {},
     "output_type": "execute_result"
    },
    {
     "data": {
      "image/png": "[encoded data removed]",
      "text/plain": [
       "<Figure size 432x288 with 1 Axes>"
      ]
     },
     "metadata": {
      "needs_background": "light"
     },
     "output_type": "display_data"
    }
   ],
   "source": [
    "np.random.seed(1)\n",
    "exp_pop = np.random.exponential(size=10000)\n",
    "sns.kdeplot(exp_pop)"
   ]
  },
  {
   "cell_type": "code",
   "execution_count": 66,
   "metadata": {},
   "outputs": [
    {
     "data": {
      "text/plain": [
       "<AxesSubplot:ylabel='Density'>"
      ]
     },
     "execution_count": 66,
     "metadata": {},
     "output_type": "execute_result"
    },
    {
     "data": {
      "image/png": "[encoded data removed]",
      "text/plain": [
       "<Figure size 432x288 with 1 Axes>"
      ]
     },
     "metadata": {
      "needs_background": "light"
     },
     "output_type": "display_data"
    }
   ],
   "source": [
    "sns.kdeplot(exp_pop)\n",
    "plt.axvline(x = exp_pop.mean())\n",
    "sns.kdeplot(sampling_distr(exp_pop,10))\n",
    "sns.kdeplot(sampling_distr(exp_pop,30))\n",
    "sns.kdeplot(sampling_distr(exp_pop,50))"
   ]
  },
  {
   "cell_type": "code",
   "execution_count": 72,
   "metadata": {},
   "outputs": [
    {
     "data": {
      "text/plain": [
       "56.618383261090365"
      ]
     },
     "execution_count": 72,
     "metadata": {},
     "output_type": "execute_result"
    }
   ],
   "source": [
    "(1-ss.norm.cdf(100,loc=102,scale=12))*100"
   ]
  },
  {
   "cell_type": "code",
   "execution_count": null,
   "metadata": {},
   "outputs": [],
   "source": []
  }
 ],
 "metadata": {
  "kernelspec": {
   "display_name": "Python 3",
   "language": "python",
   "name": "python3"
  },
  "language_info": {
   "codemirror_mode": {
    "name": "ipython",
    "version": 3
   },
   "file_extension": ".py",
   "mimetype": "text/x-python",
   "name": "python",
   "nbconvert_exporter": "python",
   "pygments_lexer": "ipython3",
   "version": "3.8.5"
  }
 },
 "nbformat": 4,
 "nbformat_minor": 4
}
