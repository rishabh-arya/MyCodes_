{
 "cells": [
  {
   "cell_type": "markdown",
   "metadata": {},
   "source": [
    "# One Way ANOVA - Cholesterol"
   ]
  },
  {
   "cell_type": "code",
   "execution_count": 3,
   "metadata": {},
   "outputs": [],
   "source": [
    "import numpy as np\n",
    "import pandas as pd\n",
    "import seaborn as sns\n",
    "import matplotlib.pyplot as plt\n",
    "from scipy import stats\n",
    "\n",
    "from statsmodels.formula.api import ols\n",
    "from statsmodels.stats.anova import anova_lm"
   ]
  },
  {
   "cell_type": "code",
   "execution_count": 4,
   "metadata": {},
   "outputs": [],
   "source": [
    "df = pd.read_csv('Cholesterol.csv')"
   ]
  },
  {
   "cell_type": "code",
   "execution_count": 5,
   "metadata": {},
   "outputs": [
    {
     "data": {
      "text/html": [
       "<div>\n",
       "<style scoped>\n",
       "    .dataframe tbody tr th:only-of-type {\n",
       "        vertical-align: middle;\n",
       "    }\n",
       "\n",
       "    .dataframe tbody tr th {\n",
       "        vertical-align: top;\n",
       "    }\n",
       "\n",
       "    .dataframe thead th {\n",
       "        text-align: right;\n",
       "    }\n",
       "</style>\n",
       "<table border=\"1\" class=\"dataframe\">\n",
       "  <thead>\n",
       "    <tr style=\"text-align: right;\">\n",
       "      <th></th>\n",
       "      <th>Before</th>\n",
       "      <th>After4weeks</th>\n",
       "      <th>After8weeks</th>\n",
       "      <th>Margarine</th>\n",
       "    </tr>\n",
       "  </thead>\n",
       "  <tbody>\n",
       "    <tr>\n",
       "      <th>0</th>\n",
       "      <td>6.76</td>\n",
       "      <td>6.20</td>\n",
       "      <td>6.13</td>\n",
       "      <td>A</td>\n",
       "    </tr>\n",
       "    <tr>\n",
       "      <th>1</th>\n",
       "      <td>4.80</td>\n",
       "      <td>4.27</td>\n",
       "      <td>4.15</td>\n",
       "      <td>A</td>\n",
       "    </tr>\n",
       "    <tr>\n",
       "      <th>2</th>\n",
       "      <td>7.49</td>\n",
       "      <td>7.12</td>\n",
       "      <td>7.05</td>\n",
       "      <td>A</td>\n",
       "    </tr>\n",
       "    <tr>\n",
       "      <th>3</th>\n",
       "      <td>5.05</td>\n",
       "      <td>4.63</td>\n",
       "      <td>4.67</td>\n",
       "      <td>A</td>\n",
       "    </tr>\n",
       "    <tr>\n",
       "      <th>4</th>\n",
       "      <td>3.91</td>\n",
       "      <td>3.70</td>\n",
       "      <td>3.66</td>\n",
       "      <td>A</td>\n",
       "    </tr>\n",
       "    <tr>\n",
       "      <th>5</th>\n",
       "      <td>6.17</td>\n",
       "      <td>5.56</td>\n",
       "      <td>5.51</td>\n",
       "      <td>A</td>\n",
       "    </tr>\n",
       "    <tr>\n",
       "      <th>6</th>\n",
       "      <td>7.67</td>\n",
       "      <td>7.11</td>\n",
       "      <td>6.96</td>\n",
       "      <td>A</td>\n",
       "    </tr>\n",
       "    <tr>\n",
       "      <th>7</th>\n",
       "      <td>7.34</td>\n",
       "      <td>6.84</td>\n",
       "      <td>6.82</td>\n",
       "      <td>A</td>\n",
       "    </tr>\n",
       "    <tr>\n",
       "      <th>8</th>\n",
       "      <td>5.13</td>\n",
       "      <td>4.52</td>\n",
       "      <td>4.45</td>\n",
       "      <td>A</td>\n",
       "    </tr>\n",
       "    <tr>\n",
       "      <th>9</th>\n",
       "      <td>6.42</td>\n",
       "      <td>5.83</td>\n",
       "      <td>5.75</td>\n",
       "      <td>B</td>\n",
       "    </tr>\n",
       "    <tr>\n",
       "      <th>10</th>\n",
       "      <td>6.56</td>\n",
       "      <td>5.83</td>\n",
       "      <td>5.71</td>\n",
       "      <td>B</td>\n",
       "    </tr>\n",
       "    <tr>\n",
       "      <th>11</th>\n",
       "      <td>8.43</td>\n",
       "      <td>7.71</td>\n",
       "      <td>7.67</td>\n",
       "      <td>B</td>\n",
       "    </tr>\n",
       "    <tr>\n",
       "      <th>12</th>\n",
       "      <td>8.05</td>\n",
       "      <td>7.25</td>\n",
       "      <td>7.10</td>\n",
       "      <td>B</td>\n",
       "    </tr>\n",
       "    <tr>\n",
       "      <th>13</th>\n",
       "      <td>5.77</td>\n",
       "      <td>5.31</td>\n",
       "      <td>5.33</td>\n",
       "      <td>B</td>\n",
       "    </tr>\n",
       "    <tr>\n",
       "      <th>14</th>\n",
       "      <td>6.77</td>\n",
       "      <td>6.15</td>\n",
       "      <td>5.96</td>\n",
       "      <td>B</td>\n",
       "    </tr>\n",
       "    <tr>\n",
       "      <th>15</th>\n",
       "      <td>6.44</td>\n",
       "      <td>5.59</td>\n",
       "      <td>5.64</td>\n",
       "      <td>B</td>\n",
       "    </tr>\n",
       "    <tr>\n",
       "      <th>16</th>\n",
       "      <td>6.85</td>\n",
       "      <td>6.40</td>\n",
       "      <td>6.29</td>\n",
       "      <td>B</td>\n",
       "    </tr>\n",
       "    <tr>\n",
       "      <th>17</th>\n",
       "      <td>5.73</td>\n",
       "      <td>5.13</td>\n",
       "      <td>5.17</td>\n",
       "      <td>B</td>\n",
       "    </tr>\n",
       "  </tbody>\n",
       "</table>\n",
       "</div>"
      ],
      "text/plain": [
       "    Before  After4weeks  After8weeks Margarine\n",
       "0     6.76         6.20         6.13         A\n",
       "1     4.80         4.27         4.15         A\n",
       "2     7.49         7.12         7.05         A\n",
       "3     5.05         4.63         4.67         A\n",
       "4     3.91         3.70         3.66         A\n",
       "5     6.17         5.56         5.51         A\n",
       "6     7.67         7.11         6.96         A\n",
       "7     7.34         6.84         6.82         A\n",
       "8     5.13         4.52         4.45         A\n",
       "9     6.42         5.83         5.75         B\n",
       "10    6.56         5.83         5.71         B\n",
       "11    8.43         7.71         7.67         B\n",
       "12    8.05         7.25         7.10         B\n",
       "13    5.77         5.31         5.33         B\n",
       "14    6.77         6.15         5.96         B\n",
       "15    6.44         5.59         5.64         B\n",
       "16    6.85         6.40         6.29         B\n",
       "17    5.73         5.13         5.17         B"
      ]
     },
     "execution_count": 5,
     "metadata": {},
     "output_type": "execute_result"
    }
   ],
   "source": [
    "df"
   ]
  },
  {
   "cell_type": "code",
   "execution_count": 6,
   "metadata": {},
   "outputs": [
    {
     "data": {
      "text/plain": [
       "<matplotlib.axes._subplots.AxesSubplot at 0x23a672dfa88>"
      ]
     },
     "execution_count": 6,
     "metadata": {},
     "output_type": "execute_result"
    },
    {
     "data": {
      "image/png": "[encoded data removed]",
      "text/plain": [
       "<Figure size 432x288 with 1 Axes>"
      ]
     },
     "metadata": {
      "needs_background": "light"
     },
     "output_type": "display_data"
    }
   ],
   "source": [
    "sns.kdeplot(df.Before)\n",
    "sns.kdeplot(df.After4weeks)\n",
    "sns.kdeplot(df.After8weeks)"
   ]
  },
  {
   "cell_type": "code",
   "execution_count": 7,
   "metadata": {},
   "outputs": [],
   "source": [
    "df['loss4'] = df.After4weeks - df.Before\n",
    "df['loss8'] = df.After8weeks - df.Before"
   ]
  },
  {
   "cell_type": "code",
   "execution_count": 8,
   "metadata": {},
   "outputs": [
    {
     "data": {
      "text/html": [
       "<div>\n",
       "<style scoped>\n",
       "    .dataframe tbody tr th:only-of-type {\n",
       "        vertical-align: middle;\n",
       "    }\n",
       "\n",
       "    .dataframe tbody tr th {\n",
       "        vertical-align: top;\n",
       "    }\n",
       "\n",
       "    .dataframe thead th {\n",
       "        text-align: right;\n",
       "    }\n",
       "</style>\n",
       "<table border=\"1\" class=\"dataframe\">\n",
       "  <thead>\n",
       "    <tr style=\"text-align: right;\">\n",
       "      <th></th>\n",
       "      <th>Before</th>\n",
       "      <th>After4weeks</th>\n",
       "      <th>After8weeks</th>\n",
       "      <th>Margarine</th>\n",
       "      <th>loss4</th>\n",
       "      <th>loss8</th>\n",
       "    </tr>\n",
       "  </thead>\n",
       "  <tbody>\n",
       "    <tr>\n",
       "      <th>0</th>\n",
       "      <td>6.76</td>\n",
       "      <td>6.20</td>\n",
       "      <td>6.13</td>\n",
       "      <td>A</td>\n",
       "      <td>-0.56</td>\n",
       "      <td>-0.63</td>\n",
       "    </tr>\n",
       "    <tr>\n",
       "      <th>1</th>\n",
       "      <td>4.80</td>\n",
       "      <td>4.27</td>\n",
       "      <td>4.15</td>\n",
       "      <td>A</td>\n",
       "      <td>-0.53</td>\n",
       "      <td>-0.65</td>\n",
       "    </tr>\n",
       "    <tr>\n",
       "      <th>2</th>\n",
       "      <td>7.49</td>\n",
       "      <td>7.12</td>\n",
       "      <td>7.05</td>\n",
       "      <td>A</td>\n",
       "      <td>-0.37</td>\n",
       "      <td>-0.44</td>\n",
       "    </tr>\n",
       "    <tr>\n",
       "      <th>3</th>\n",
       "      <td>5.05</td>\n",
       "      <td>4.63</td>\n",
       "      <td>4.67</td>\n",
       "      <td>A</td>\n",
       "      <td>-0.42</td>\n",
       "      <td>-0.38</td>\n",
       "    </tr>\n",
       "    <tr>\n",
       "      <th>4</th>\n",
       "      <td>3.91</td>\n",
       "      <td>3.70</td>\n",
       "      <td>3.66</td>\n",
       "      <td>A</td>\n",
       "      <td>-0.21</td>\n",
       "      <td>-0.25</td>\n",
       "    </tr>\n",
       "    <tr>\n",
       "      <th>5</th>\n",
       "      <td>6.17</td>\n",
       "      <td>5.56</td>\n",
       "      <td>5.51</td>\n",
       "      <td>A</td>\n",
       "      <td>-0.61</td>\n",
       "      <td>-0.66</td>\n",
       "    </tr>\n",
       "    <tr>\n",
       "      <th>6</th>\n",
       "      <td>7.67</td>\n",
       "      <td>7.11</td>\n",
       "      <td>6.96</td>\n",
       "      <td>A</td>\n",
       "      <td>-0.56</td>\n",
       "      <td>-0.71</td>\n",
       "    </tr>\n",
       "    <tr>\n",
       "      <th>7</th>\n",
       "      <td>7.34</td>\n",
       "      <td>6.84</td>\n",
       "      <td>6.82</td>\n",
       "      <td>A</td>\n",
       "      <td>-0.50</td>\n",
       "      <td>-0.52</td>\n",
       "    </tr>\n",
       "    <tr>\n",
       "      <th>8</th>\n",
       "      <td>5.13</td>\n",
       "      <td>4.52</td>\n",
       "      <td>4.45</td>\n",
       "      <td>A</td>\n",
       "      <td>-0.61</td>\n",
       "      <td>-0.68</td>\n",
       "    </tr>\n",
       "    <tr>\n",
       "      <th>9</th>\n",
       "      <td>6.42</td>\n",
       "      <td>5.83</td>\n",
       "      <td>5.75</td>\n",
       "      <td>B</td>\n",
       "      <td>-0.59</td>\n",
       "      <td>-0.67</td>\n",
       "    </tr>\n",
       "    <tr>\n",
       "      <th>10</th>\n",
       "      <td>6.56</td>\n",
       "      <td>5.83</td>\n",
       "      <td>5.71</td>\n",
       "      <td>B</td>\n",
       "      <td>-0.73</td>\n",
       "      <td>-0.85</td>\n",
       "    </tr>\n",
       "    <tr>\n",
       "      <th>11</th>\n",
       "      <td>8.43</td>\n",
       "      <td>7.71</td>\n",
       "      <td>7.67</td>\n",
       "      <td>B</td>\n",
       "      <td>-0.72</td>\n",
       "      <td>-0.76</td>\n",
       "    </tr>\n",
       "    <tr>\n",
       "      <th>12</th>\n",
       "      <td>8.05</td>\n",
       "      <td>7.25</td>\n",
       "      <td>7.10</td>\n",
       "      <td>B</td>\n",
       "      <td>-0.80</td>\n",
       "      <td>-0.95</td>\n",
       "    </tr>\n",
       "    <tr>\n",
       "      <th>13</th>\n",
       "      <td>5.77</td>\n",
       "      <td>5.31</td>\n",
       "      <td>5.33</td>\n",
       "      <td>B</td>\n",
       "      <td>-0.46</td>\n",
       "      <td>-0.44</td>\n",
       "    </tr>\n",
       "    <tr>\n",
       "      <th>14</th>\n",
       "      <td>6.77</td>\n",
       "      <td>6.15</td>\n",
       "      <td>5.96</td>\n",
       "      <td>B</td>\n",
       "      <td>-0.62</td>\n",
       "      <td>-0.81</td>\n",
       "    </tr>\n",
       "    <tr>\n",
       "      <th>15</th>\n",
       "      <td>6.44</td>\n",
       "      <td>5.59</td>\n",
       "      <td>5.64</td>\n",
       "      <td>B</td>\n",
       "      <td>-0.85</td>\n",
       "      <td>-0.80</td>\n",
       "    </tr>\n",
       "    <tr>\n",
       "      <th>16</th>\n",
       "      <td>6.85</td>\n",
       "      <td>6.40</td>\n",
       "      <td>6.29</td>\n",
       "      <td>B</td>\n",
       "      <td>-0.45</td>\n",
       "      <td>-0.56</td>\n",
       "    </tr>\n",
       "    <tr>\n",
       "      <th>17</th>\n",
       "      <td>5.73</td>\n",
       "      <td>5.13</td>\n",
       "      <td>5.17</td>\n",
       "      <td>B</td>\n",
       "      <td>-0.60</td>\n",
       "      <td>-0.56</td>\n",
       "    </tr>\n",
       "  </tbody>\n",
       "</table>\n",
       "</div>"
      ],
      "text/plain": [
       "    Before  After4weeks  After8weeks Margarine  loss4  loss8\n",
       "0     6.76         6.20         6.13         A  -0.56  -0.63\n",
       "1     4.80         4.27         4.15         A  -0.53  -0.65\n",
       "2     7.49         7.12         7.05         A  -0.37  -0.44\n",
       "3     5.05         4.63         4.67         A  -0.42  -0.38\n",
       "4     3.91         3.70         3.66         A  -0.21  -0.25\n",
       "5     6.17         5.56         5.51         A  -0.61  -0.66\n",
       "6     7.67         7.11         6.96         A  -0.56  -0.71\n",
       "7     7.34         6.84         6.82         A  -0.50  -0.52\n",
       "8     5.13         4.52         4.45         A  -0.61  -0.68\n",
       "9     6.42         5.83         5.75         B  -0.59  -0.67\n",
       "10    6.56         5.83         5.71         B  -0.73  -0.85\n",
       "11    8.43         7.71         7.67         B  -0.72  -0.76\n",
       "12    8.05         7.25         7.10         B  -0.80  -0.95\n",
       "13    5.77         5.31         5.33         B  -0.46  -0.44\n",
       "14    6.77         6.15         5.96         B  -0.62  -0.81\n",
       "15    6.44         5.59         5.64         B  -0.85  -0.80\n",
       "16    6.85         6.40         6.29         B  -0.45  -0.56\n",
       "17    5.73         5.13         5.17         B  -0.60  -0.56"
      ]
     },
     "execution_count": 8,
     "metadata": {},
     "output_type": "execute_result"
    }
   ],
   "source": [
    "df"
   ]
  },
  {
   "cell_type": "code",
   "execution_count": 9,
   "metadata": {},
   "outputs": [
    {
     "data": {
      "text/plain": [
       "<matplotlib.axes._subplots.AxesSubplot at 0x23a66d5b608>"
      ]
     },
     "execution_count": 9,
     "metadata": {},
     "output_type": "execute_result"
    },
    {
     "data": {
      "image/png": "[encoded data removed]",
      "text/plain": [
       "<Figure size 432x288 with 1 Axes>"
      ]
     },
     "metadata": {
      "needs_background": "light"
     },
     "output_type": "display_data"
    }
   ],
   "source": [
    "sns.boxplot(df.Margarine, df.loss4)"
   ]
  },
  {
   "cell_type": "code",
   "execution_count": 10,
   "metadata": {},
   "outputs": [
    {
     "data": {
      "text/plain": [
       "<matplotlib.axes._subplots.AxesSubplot at 0x23a68c91688>"
      ]
     },
     "execution_count": 10,
     "metadata": {},
     "output_type": "execute_result"
    },
    {
     "data": {
      "image/png": "[encoded data removed]",
      "text/plain": [
       "<Figure size 432x288 with 1 Axes>"
      ]
     },
     "metadata": {
      "needs_background": "light"
     },
     "output_type": "display_data"
    }
   ],
   "source": [
    "sns.boxplot(df.Margarine, df.loss8)"
   ]
  },
  {
   "cell_type": "code",
   "execution_count": 11,
   "metadata": {},
   "outputs": [
    {
     "data": {
      "text/plain": [
       "Ttest_indResult(statistic=2.5185987910477103, pvalue=0.022803946887595898)"
      ]
     },
     "execution_count": 11,
     "metadata": {},
     "output_type": "execute_result"
    }
   ],
   "source": [
    "stats.ttest_ind(a = df.loss4[df.Margarine=='A'],\n",
    "                b = df.loss4[df.Margarine=='B'], equal_var=True)"
   ]
  },
  {
   "cell_type": "code",
   "execution_count": 12,
   "metadata": {},
   "outputs": [],
   "source": [
    "# ANOVA"
   ]
  },
  {
   "cell_type": "code",
   "execution_count": 13,
   "metadata": {},
   "outputs": [
    {
     "name": "stdout",
     "output_type": "stream",
     "text": [
      "                df    sum_sq   mean_sq        F    PR(>F)\n",
      "C(Margarine)   1.0  0.116806  0.116806  6.34334  0.022804\n",
      "Residual      16.0  0.294622  0.018414      NaN       NaN\n"
     ]
    }
   ],
   "source": [
    "formula = 'loss4 ~ C(Margarine)'\n",
    "model = ols(formula, df).fit()\n",
    "aov_table = anova_lm(model)\n",
    "print(aov_table)"
   ]
  },
  {
   "cell_type": "code",
   "execution_count": 16,
   "metadata": {},
   "outputs": [],
   "source": [
    "# Reject the null hypothesis - there is difference in drop in cholestrol between A and B brands!"
   ]
  },
  {
   "cell_type": "code",
   "execution_count": 17,
   "metadata": {},
   "outputs": [
    {
     "name": "stdout",
     "output_type": "stream",
     "text": [
      "                df    sum_sq   mean_sq         F    PR(>F)\n",
      "C(Margarine)   1.0  0.121689  0.121689  4.634786  0.046933\n",
      "Residual      16.0  0.420089  0.026256       NaN       NaN\n"
     ]
    }
   ],
   "source": [
    "formula = 'loss8 ~ C(Margarine)'\n",
    "model = ols(formula, df).fit()\n",
    "aov_table = anova_lm(model)\n",
    "print(aov_table)"
   ]
  },
  {
   "cell_type": "code",
   "execution_count": 18,
   "metadata": {},
   "outputs": [],
   "source": [
    "# Reject the null hypothesis - there is difference in drop in cholestrol between A and B brands also after 8 weeks!"
   ]
  },
  {
   "cell_type": "code",
   "execution_count": 19,
   "metadata": {},
   "outputs": [],
   "source": [
    "# The end!"
   ]
  }
 ],
 "metadata": {
  "kernelspec": {
   "display_name": "Python 3",
   "language": "python",
   "name": "python3"
  },
  "language_info": {
   "codemirror_mode": {
    "name": "ipython",
    "version": 3
   },
   "file_extension": ".py",
   "mimetype": "text/x-python",
   "name": "python",
   "nbconvert_exporter": "python",
   "pygments_lexer": "ipython3",
   "version": "3.8.5"
  }
 },
 "nbformat": 4,
 "nbformat_minor": 2
}
