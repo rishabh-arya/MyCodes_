{
 "cells": [
  {
   "cell_type": "code",
   "execution_count": 1,
   "metadata": {},
   "outputs": [
    {
     "data": {
      "text/html": [
       "<div>\n",
       "<style scoped>\n",
       "    .dataframe tbody tr th:only-of-type {\n",
       "        vertical-align: middle;\n",
       "    }\n",
       "\n",
       "    .dataframe tbody tr th {\n",
       "        vertical-align: top;\n",
       "    }\n",
       "\n",
       "    .dataframe thead th {\n",
       "        text-align: right;\n",
       "    }\n",
       "</style>\n",
       "<table border=\"1\" class=\"dataframe\">\n",
       "  <thead>\n",
       "    <tr style=\"text-align: right;\">\n",
       "      <th></th>\n",
       "      <th>Before</th>\n",
       "      <th>After4weeks</th>\n",
       "      <th>After8weeks</th>\n",
       "      <th>Margarine</th>\n",
       "    </tr>\n",
       "  </thead>\n",
       "  <tbody>\n",
       "    <tr>\n",
       "      <th>0</th>\n",
       "      <td>6.76</td>\n",
       "      <td>6.20</td>\n",
       "      <td>6.13</td>\n",
       "      <td>A</td>\n",
       "    </tr>\n",
       "    <tr>\n",
       "      <th>1</th>\n",
       "      <td>4.80</td>\n",
       "      <td>4.27</td>\n",
       "      <td>4.15</td>\n",
       "      <td>A</td>\n",
       "    </tr>\n",
       "    <tr>\n",
       "      <th>2</th>\n",
       "      <td>7.49</td>\n",
       "      <td>7.12</td>\n",
       "      <td>7.05</td>\n",
       "      <td>A</td>\n",
       "    </tr>\n",
       "    <tr>\n",
       "      <th>3</th>\n",
       "      <td>5.05</td>\n",
       "      <td>4.63</td>\n",
       "      <td>4.67</td>\n",
       "      <td>A</td>\n",
       "    </tr>\n",
       "    <tr>\n",
       "      <th>4</th>\n",
       "      <td>3.91</td>\n",
       "      <td>3.70</td>\n",
       "      <td>3.66</td>\n",
       "      <td>A</td>\n",
       "    </tr>\n",
       "    <tr>\n",
       "      <th>5</th>\n",
       "      <td>6.17</td>\n",
       "      <td>5.56</td>\n",
       "      <td>5.51</td>\n",
       "      <td>A</td>\n",
       "    </tr>\n",
       "    <tr>\n",
       "      <th>6</th>\n",
       "      <td>7.67</td>\n",
       "      <td>7.11</td>\n",
       "      <td>6.96</td>\n",
       "      <td>A</td>\n",
       "    </tr>\n",
       "    <tr>\n",
       "      <th>7</th>\n",
       "      <td>7.34</td>\n",
       "      <td>6.84</td>\n",
       "      <td>6.82</td>\n",
       "      <td>A</td>\n",
       "    </tr>\n",
       "    <tr>\n",
       "      <th>8</th>\n",
       "      <td>5.13</td>\n",
       "      <td>4.52</td>\n",
       "      <td>4.45</td>\n",
       "      <td>A</td>\n",
       "    </tr>\n",
       "    <tr>\n",
       "      <th>9</th>\n",
       "      <td>6.42</td>\n",
       "      <td>5.83</td>\n",
       "      <td>5.75</td>\n",
       "      <td>B</td>\n",
       "    </tr>\n",
       "    <tr>\n",
       "      <th>10</th>\n",
       "      <td>6.56</td>\n",
       "      <td>5.83</td>\n",
       "      <td>5.71</td>\n",
       "      <td>B</td>\n",
       "    </tr>\n",
       "    <tr>\n",
       "      <th>11</th>\n",
       "      <td>8.43</td>\n",
       "      <td>7.71</td>\n",
       "      <td>7.67</td>\n",
       "      <td>B</td>\n",
       "    </tr>\n",
       "    <tr>\n",
       "      <th>12</th>\n",
       "      <td>8.05</td>\n",
       "      <td>7.25</td>\n",
       "      <td>7.10</td>\n",
       "      <td>B</td>\n",
       "    </tr>\n",
       "    <tr>\n",
       "      <th>13</th>\n",
       "      <td>5.77</td>\n",
       "      <td>5.31</td>\n",
       "      <td>5.33</td>\n",
       "      <td>B</td>\n",
       "    </tr>\n",
       "    <tr>\n",
       "      <th>14</th>\n",
       "      <td>6.77</td>\n",
       "      <td>6.15</td>\n",
       "      <td>5.96</td>\n",
       "      <td>B</td>\n",
       "    </tr>\n",
       "    <tr>\n",
       "      <th>15</th>\n",
       "      <td>6.44</td>\n",
       "      <td>5.59</td>\n",
       "      <td>5.64</td>\n",
       "      <td>B</td>\n",
       "    </tr>\n",
       "    <tr>\n",
       "      <th>16</th>\n",
       "      <td>6.85</td>\n",
       "      <td>6.40</td>\n",
       "      <td>6.29</td>\n",
       "      <td>B</td>\n",
       "    </tr>\n",
       "    <tr>\n",
       "      <th>17</th>\n",
       "      <td>5.73</td>\n",
       "      <td>5.13</td>\n",
       "      <td>5.17</td>\n",
       "      <td>B</td>\n",
       "    </tr>\n",
       "  </tbody>\n",
       "</table>\n",
       "</div>"
      ],
      "text/plain": [
       "    Before  After4weeks  After8weeks Margarine\n",
       "0     6.76         6.20         6.13         A\n",
       "1     4.80         4.27         4.15         A\n",
       "2     7.49         7.12         7.05         A\n",
       "3     5.05         4.63         4.67         A\n",
       "4     3.91         3.70         3.66         A\n",
       "5     6.17         5.56         5.51         A\n",
       "6     7.67         7.11         6.96         A\n",
       "7     7.34         6.84         6.82         A\n",
       "8     5.13         4.52         4.45         A\n",
       "9     6.42         5.83         5.75         B\n",
       "10    6.56         5.83         5.71         B\n",
       "11    8.43         7.71         7.67         B\n",
       "12    8.05         7.25         7.10         B\n",
       "13    5.77         5.31         5.33         B\n",
       "14    6.77         6.15         5.96         B\n",
       "15    6.44         5.59         5.64         B\n",
       "16    6.85         6.40         6.29         B\n",
       "17    5.73         5.13         5.17         B"
      ]
     },
     "execution_count": 1,
     "metadata": {},
     "output_type": "execute_result"
    }
   ],
   "source": [
    "import pandas as pd\n",
    "import numpy as np\n",
    "from scipy import stats\n",
    "import seaborn as sns\n",
    "import matplotlib.pyplot as plt\n",
    "from statsmodels.formula.api import ols\n",
    "from statsmodels.stats.anova import anova_lm\n",
    "df = pd.read_csv('M5_T1_V4_Cholesterol.csv')\n",
    "df"
   ]
  },
  {
   "cell_type": "code",
   "execution_count": 2,
   "metadata": {},
   "outputs": [
    {
     "data": {
      "text/plain": [
       "<AxesSubplot:xlabel='Before', ylabel='Density'>"
      ]
     },
     "execution_count": 2,
     "metadata": {},
     "output_type": "execute_result"
    },
    {
     "data": {
      "image/png": "[encoded data removed]",
      "text/plain": [
       "<Figure size 432x288 with 1 Axes>"
      ]
     },
     "metadata": {
      "needs_background": "light"
     },
     "output_type": "display_data"
    }
   ],
   "source": [
    "sns.kdeplot(df['Before'])\n",
    "sns.kdeplot(df['After4weeks'])\n",
    "sns.kdeplot(df['After8weeks'])"
   ]
  },
  {
   "cell_type": "code",
   "execution_count": 3,
   "metadata": {},
   "outputs": [
    {
     "data": {
      "text/html": [
       "<div>\n",
       "<style scoped>\n",
       "    .dataframe tbody tr th:only-of-type {\n",
       "        vertical-align: middle;\n",
       "    }\n",
       "\n",
       "    .dataframe tbody tr th {\n",
       "        vertical-align: top;\n",
       "    }\n",
       "\n",
       "    .dataframe thead th {\n",
       "        text-align: right;\n",
       "    }\n",
       "</style>\n",
       "<table border=\"1\" class=\"dataframe\">\n",
       "  <thead>\n",
       "    <tr style=\"text-align: right;\">\n",
       "      <th></th>\n",
       "      <th>Before</th>\n",
       "      <th>After4weeks</th>\n",
       "      <th>After8weeks</th>\n",
       "      <th>Margarine</th>\n",
       "      <th>loss4</th>\n",
       "      <th>loss8</th>\n",
       "    </tr>\n",
       "  </thead>\n",
       "  <tbody>\n",
       "    <tr>\n",
       "      <th>0</th>\n",
       "      <td>6.76</td>\n",
       "      <td>6.20</td>\n",
       "      <td>6.13</td>\n",
       "      <td>A</td>\n",
       "      <td>-0.56</td>\n",
       "      <td>-0.63</td>\n",
       "    </tr>\n",
       "    <tr>\n",
       "      <th>1</th>\n",
       "      <td>4.80</td>\n",
       "      <td>4.27</td>\n",
       "      <td>4.15</td>\n",
       "      <td>A</td>\n",
       "      <td>-0.53</td>\n",
       "      <td>-0.65</td>\n",
       "    </tr>\n",
       "    <tr>\n",
       "      <th>2</th>\n",
       "      <td>7.49</td>\n",
       "      <td>7.12</td>\n",
       "      <td>7.05</td>\n",
       "      <td>A</td>\n",
       "      <td>-0.37</td>\n",
       "      <td>-0.44</td>\n",
       "    </tr>\n",
       "    <tr>\n",
       "      <th>3</th>\n",
       "      <td>5.05</td>\n",
       "      <td>4.63</td>\n",
       "      <td>4.67</td>\n",
       "      <td>A</td>\n",
       "      <td>-0.42</td>\n",
       "      <td>-0.38</td>\n",
       "    </tr>\n",
       "    <tr>\n",
       "      <th>4</th>\n",
       "      <td>3.91</td>\n",
       "      <td>3.70</td>\n",
       "      <td>3.66</td>\n",
       "      <td>A</td>\n",
       "      <td>-0.21</td>\n",
       "      <td>-0.25</td>\n",
       "    </tr>\n",
       "    <tr>\n",
       "      <th>5</th>\n",
       "      <td>6.17</td>\n",
       "      <td>5.56</td>\n",
       "      <td>5.51</td>\n",
       "      <td>A</td>\n",
       "      <td>-0.61</td>\n",
       "      <td>-0.66</td>\n",
       "    </tr>\n",
       "    <tr>\n",
       "      <th>6</th>\n",
       "      <td>7.67</td>\n",
       "      <td>7.11</td>\n",
       "      <td>6.96</td>\n",
       "      <td>A</td>\n",
       "      <td>-0.56</td>\n",
       "      <td>-0.71</td>\n",
       "    </tr>\n",
       "    <tr>\n",
       "      <th>7</th>\n",
       "      <td>7.34</td>\n",
       "      <td>6.84</td>\n",
       "      <td>6.82</td>\n",
       "      <td>A</td>\n",
       "      <td>-0.50</td>\n",
       "      <td>-0.52</td>\n",
       "    </tr>\n",
       "    <tr>\n",
       "      <th>8</th>\n",
       "      <td>5.13</td>\n",
       "      <td>4.52</td>\n",
       "      <td>4.45</td>\n",
       "      <td>A</td>\n",
       "      <td>-0.61</td>\n",
       "      <td>-0.68</td>\n",
       "    </tr>\n",
       "    <tr>\n",
       "      <th>9</th>\n",
       "      <td>6.42</td>\n",
       "      <td>5.83</td>\n",
       "      <td>5.75</td>\n",
       "      <td>B</td>\n",
       "      <td>-0.59</td>\n",
       "      <td>-0.67</td>\n",
       "    </tr>\n",
       "    <tr>\n",
       "      <th>10</th>\n",
       "      <td>6.56</td>\n",
       "      <td>5.83</td>\n",
       "      <td>5.71</td>\n",
       "      <td>B</td>\n",
       "      <td>-0.73</td>\n",
       "      <td>-0.85</td>\n",
       "    </tr>\n",
       "    <tr>\n",
       "      <th>11</th>\n",
       "      <td>8.43</td>\n",
       "      <td>7.71</td>\n",
       "      <td>7.67</td>\n",
       "      <td>B</td>\n",
       "      <td>-0.72</td>\n",
       "      <td>-0.76</td>\n",
       "    </tr>\n",
       "    <tr>\n",
       "      <th>12</th>\n",
       "      <td>8.05</td>\n",
       "      <td>7.25</td>\n",
       "      <td>7.10</td>\n",
       "      <td>B</td>\n",
       "      <td>-0.80</td>\n",
       "      <td>-0.95</td>\n",
       "    </tr>\n",
       "    <tr>\n",
       "      <th>13</th>\n",
       "      <td>5.77</td>\n",
       "      <td>5.31</td>\n",
       "      <td>5.33</td>\n",
       "      <td>B</td>\n",
       "      <td>-0.46</td>\n",
       "      <td>-0.44</td>\n",
       "    </tr>\n",
       "    <tr>\n",
       "      <th>14</th>\n",
       "      <td>6.77</td>\n",
       "      <td>6.15</td>\n",
       "      <td>5.96</td>\n",
       "      <td>B</td>\n",
       "      <td>-0.62</td>\n",
       "      <td>-0.81</td>\n",
       "    </tr>\n",
       "    <tr>\n",
       "      <th>15</th>\n",
       "      <td>6.44</td>\n",
       "      <td>5.59</td>\n",
       "      <td>5.64</td>\n",
       "      <td>B</td>\n",
       "      <td>-0.85</td>\n",
       "      <td>-0.80</td>\n",
       "    </tr>\n",
       "    <tr>\n",
       "      <th>16</th>\n",
       "      <td>6.85</td>\n",
       "      <td>6.40</td>\n",
       "      <td>6.29</td>\n",
       "      <td>B</td>\n",
       "      <td>-0.45</td>\n",
       "      <td>-0.56</td>\n",
       "    </tr>\n",
       "    <tr>\n",
       "      <th>17</th>\n",
       "      <td>5.73</td>\n",
       "      <td>5.13</td>\n",
       "      <td>5.17</td>\n",
       "      <td>B</td>\n",
       "      <td>-0.60</td>\n",
       "      <td>-0.56</td>\n",
       "    </tr>\n",
       "  </tbody>\n",
       "</table>\n",
       "</div>"
      ],
      "text/plain": [
       "    Before  After4weeks  After8weeks Margarine  loss4  loss8\n",
       "0     6.76         6.20         6.13         A  -0.56  -0.63\n",
       "1     4.80         4.27         4.15         A  -0.53  -0.65\n",
       "2     7.49         7.12         7.05         A  -0.37  -0.44\n",
       "3     5.05         4.63         4.67         A  -0.42  -0.38\n",
       "4     3.91         3.70         3.66         A  -0.21  -0.25\n",
       "5     6.17         5.56         5.51         A  -0.61  -0.66\n",
       "6     7.67         7.11         6.96         A  -0.56  -0.71\n",
       "7     7.34         6.84         6.82         A  -0.50  -0.52\n",
       "8     5.13         4.52         4.45         A  -0.61  -0.68\n",
       "9     6.42         5.83         5.75         B  -0.59  -0.67\n",
       "10    6.56         5.83         5.71         B  -0.73  -0.85\n",
       "11    8.43         7.71         7.67         B  -0.72  -0.76\n",
       "12    8.05         7.25         7.10         B  -0.80  -0.95\n",
       "13    5.77         5.31         5.33         B  -0.46  -0.44\n",
       "14    6.77         6.15         5.96         B  -0.62  -0.81\n",
       "15    6.44         5.59         5.64         B  -0.85  -0.80\n",
       "16    6.85         6.40         6.29         B  -0.45  -0.56\n",
       "17    5.73         5.13         5.17         B  -0.60  -0.56"
      ]
     },
     "execution_count": 3,
     "metadata": {},
     "output_type": "execute_result"
    }
   ],
   "source": [
    "df['loss4'] = df['After4weeks'] - df['Before']\n",
    "df['loss8'] = df['After8weeks'] - df['Before']\n",
    "df"
   ]
  },
  {
   "cell_type": "code",
   "execution_count": 4,
   "metadata": {},
   "outputs": [
    {
     "name": "stderr",
     "output_type": "stream",
     "text": [
      "C:\\Users\\devro\\Ardy\\lib\\site-packages\\seaborn\\_decorators.py:36: FutureWarning: Pass the following variables as keyword args: x, y. From version 0.12, the only valid positional argument will be `data`, and passing other arguments without an explicit keyword will result in an error or misinterpretation.\n",
      "  warnings.warn(\n"
     ]
    },
    {
     "data": {
      "text/plain": [
       "<AxesSubplot:xlabel='Margarine', ylabel='loss4'>"
      ]
     },
     "execution_count": 4,
     "metadata": {},
     "output_type": "execute_result"
    },
    {
     "data": {
      "image/png": "[encoded data removed]",
      "text/plain": [
       "<Figure size 432x288 with 1 Axes>"
      ]
     },
     "metadata": {
      "needs_background": "light"
     },
     "output_type": "display_data"
    }
   ],
   "source": [
    "sns.boxplot(df.Margarine,df.loss4)"
   ]
  },
  {
   "cell_type": "code",
   "execution_count": 5,
   "metadata": {},
   "outputs": [
    {
     "name": "stderr",
     "output_type": "stream",
     "text": [
      "C:\\Users\\devro\\Ardy\\lib\\site-packages\\seaborn\\_decorators.py:36: FutureWarning: Pass the following variables as keyword args: x, y. From version 0.12, the only valid positional argument will be `data`, and passing other arguments without an explicit keyword will result in an error or misinterpretation.\n",
      "  warnings.warn(\n"
     ]
    },
    {
     "data": {
      "text/plain": [
       "<AxesSubplot:xlabel='Margarine', ylabel='loss8'>"
      ]
     },
     "execution_count": 5,
     "metadata": {},
     "output_type": "execute_result"
    },
    {
     "data": {
      "image/png": "[encoded data removed]",
      "text/plain": [
       "<Figure size 432x288 with 1 Axes>"
      ]
     },
     "metadata": {
      "needs_background": "light"
     },
     "output_type": "display_data"
    }
   ],
   "source": [
    "sns.boxplot(df.Margarine,df.loss8)"
   ]
  },
  {
   "cell_type": "code",
   "execution_count": 6,
   "metadata": {},
   "outputs": [
    {
     "data": {
      "text/plain": [
       "Ttest_indResult(statistic=2.5185987910477103, pvalue=0.022803946887595898)"
      ]
     },
     "execution_count": 6,
     "metadata": {},
     "output_type": "execute_result"
    }
   ],
   "source": [
    "stats.ttest_ind(df[df['Margarine']== 'A'].loss4,df[df['Margarine'] == 'B'].loss4,equal_var=True)"
   ]
  },
  {
   "cell_type": "code",
   "execution_count": 7,
   "metadata": {},
   "outputs": [
    {
     "name": "stdout",
     "output_type": "stream",
     "text": [
      "                df    sum_sq   mean_sq        F    PR(>F)\n",
      "C(Margarine)   1.0  0.116806  0.116806  6.34334  0.022804\n",
      "Residual      16.0  0.294622  0.018414      NaN       NaN\n"
     ]
    }
   ],
   "source": [
    "formula = 'loss4 ~ C(Margarine)'\n",
    "model = ols(formula,df).fit()\n",
    "anova = anova_lm(model)\n",
    "print(anova)"
   ]
  },
  {
   "cell_type": "code",
   "execution_count": 8,
   "metadata": {},
   "outputs": [
    {
     "name": "stdout",
     "output_type": "stream",
     "text": [
      "                df    sum_sq   mean_sq         F    PR(>F)\n",
      "C(Margarine)   1.0  0.121689  0.121689  4.634786  0.046933\n",
      "Residual      16.0  0.420089  0.026256       NaN       NaN\n"
     ]
    }
   ],
   "source": [
    "formula = 'loss8 ~ C(Margarine)'\n",
    "model = ols(formula,df).fit()\n",
    "anova = anova_lm(model)\n",
    "print(anova)"
   ]
  },
  {
   "cell_type": "code",
   "execution_count": 9,
   "metadata": {},
   "outputs": [
    {
     "data": {
      "text/html": [
       "<div>\n",
       "<style scoped>\n",
       "    .dataframe tbody tr th:only-of-type {\n",
       "        vertical-align: middle;\n",
       "    }\n",
       "\n",
       "    .dataframe tbody tr th {\n",
       "        vertical-align: top;\n",
       "    }\n",
       "\n",
       "    .dataframe thead th {\n",
       "        text-align: right;\n",
       "    }\n",
       "</style>\n",
       "<table border=\"1\" class=\"dataframe\">\n",
       "  <thead>\n",
       "    <tr style=\"text-align: right;\">\n",
       "      <th></th>\n",
       "      <th>gender</th>\n",
       "      <th>Age</th>\n",
       "      <th>Height</th>\n",
       "      <th>preweight</th>\n",
       "      <th>Diet</th>\n",
       "      <th>weight6weeks</th>\n",
       "    </tr>\n",
       "  </thead>\n",
       "  <tbody>\n",
       "    <tr>\n",
       "      <th>0</th>\n",
       "      <td>Female</td>\n",
       "      <td>22</td>\n",
       "      <td>159</td>\n",
       "      <td>58</td>\n",
       "      <td>1</td>\n",
       "      <td>54.2</td>\n",
       "    </tr>\n",
       "    <tr>\n",
       "      <th>1</th>\n",
       "      <td>Female</td>\n",
       "      <td>46</td>\n",
       "      <td>192</td>\n",
       "      <td>60</td>\n",
       "      <td>1</td>\n",
       "      <td>54.0</td>\n",
       "    </tr>\n",
       "    <tr>\n",
       "      <th>2</th>\n",
       "      <td>Female</td>\n",
       "      <td>55</td>\n",
       "      <td>170</td>\n",
       "      <td>64</td>\n",
       "      <td>1</td>\n",
       "      <td>63.3</td>\n",
       "    </tr>\n",
       "    <tr>\n",
       "      <th>3</th>\n",
       "      <td>Female</td>\n",
       "      <td>33</td>\n",
       "      <td>171</td>\n",
       "      <td>64</td>\n",
       "      <td>1</td>\n",
       "      <td>61.1</td>\n",
       "    </tr>\n",
       "    <tr>\n",
       "      <th>4</th>\n",
       "      <td>Female</td>\n",
       "      <td>50</td>\n",
       "      <td>170</td>\n",
       "      <td>65</td>\n",
       "      <td>1</td>\n",
       "      <td>62.2</td>\n",
       "    </tr>\n",
       "    <tr>\n",
       "      <th>...</th>\n",
       "      <td>...</td>\n",
       "      <td>...</td>\n",
       "      <td>...</td>\n",
       "      <td>...</td>\n",
       "      <td>...</td>\n",
       "      <td>...</td>\n",
       "    </tr>\n",
       "    <tr>\n",
       "      <th>71</th>\n",
       "      <td>Male</td>\n",
       "      <td>35</td>\n",
       "      <td>183</td>\n",
       "      <td>83</td>\n",
       "      <td>3</td>\n",
       "      <td>80.2</td>\n",
       "    </tr>\n",
       "    <tr>\n",
       "      <th>72</th>\n",
       "      <td>Male</td>\n",
       "      <td>49</td>\n",
       "      <td>177</td>\n",
       "      <td>84</td>\n",
       "      <td>3</td>\n",
       "      <td>79.9</td>\n",
       "    </tr>\n",
       "    <tr>\n",
       "      <th>73</th>\n",
       "      <td>Male</td>\n",
       "      <td>28</td>\n",
       "      <td>164</td>\n",
       "      <td>85</td>\n",
       "      <td>3</td>\n",
       "      <td>79.7</td>\n",
       "    </tr>\n",
       "    <tr>\n",
       "      <th>74</th>\n",
       "      <td>Male</td>\n",
       "      <td>40</td>\n",
       "      <td>167</td>\n",
       "      <td>87</td>\n",
       "      <td>3</td>\n",
       "      <td>77.8</td>\n",
       "    </tr>\n",
       "    <tr>\n",
       "      <th>75</th>\n",
       "      <td>Male</td>\n",
       "      <td>51</td>\n",
       "      <td>175</td>\n",
       "      <td>88</td>\n",
       "      <td>3</td>\n",
       "      <td>81.9</td>\n",
       "    </tr>\n",
       "  </tbody>\n",
       "</table>\n",
       "<p>76 rows × 6 columns</p>\n",
       "</div>"
      ],
      "text/plain": [
       "    gender  Age  Height  preweight  Diet  weight6weeks\n",
       "0   Female   22     159         58     1          54.2\n",
       "1   Female   46     192         60     1          54.0\n",
       "2   Female   55     170         64     1          63.3\n",
       "3   Female   33     171         64     1          61.1\n",
       "4   Female   50     170         65     1          62.2\n",
       "..     ...  ...     ...        ...   ...           ...\n",
       "71    Male   35     183         83     3          80.2\n",
       "72    Male   49     177         84     3          79.9\n",
       "73    Male   28     164         85     3          79.7\n",
       "74    Male   40     167         87     3          77.8\n",
       "75    Male   51     175         88     3          81.9\n",
       "\n",
       "[76 rows x 6 columns]"
      ]
     },
     "execution_count": 9,
     "metadata": {},
     "output_type": "execute_result"
    }
   ],
   "source": [
    "df = pd.read_csv('M5_T2_V1_Diet.csv')\n",
    "df"
   ]
  },
  {
   "cell_type": "code",
   "execution_count": 10,
   "metadata": {},
   "outputs": [],
   "source": [
    "from bioinfokit.analys import stat"
   ]
  },
  {
   "cell_type": "code",
   "execution_count": 11,
   "metadata": {},
   "outputs": [
    {
     "data": {
      "text/html": [
       "<div>\n",
       "<style scoped>\n",
       "    .dataframe tbody tr th:only-of-type {\n",
       "        vertical-align: middle;\n",
       "    }\n",
       "\n",
       "    .dataframe tbody tr th {\n",
       "        vertical-align: top;\n",
       "    }\n",
       "\n",
       "    .dataframe thead th {\n",
       "        text-align: right;\n",
       "    }\n",
       "</style>\n",
       "<table border=\"1\" class=\"dataframe\">\n",
       "  <thead>\n",
       "    <tr style=\"text-align: right;\">\n",
       "      <th></th>\n",
       "      <th>gender</th>\n",
       "      <th>Age</th>\n",
       "      <th>Height</th>\n",
       "      <th>preweight</th>\n",
       "      <th>Diet</th>\n",
       "      <th>weight6weeks</th>\n",
       "      <th>wtloss</th>\n",
       "    </tr>\n",
       "  </thead>\n",
       "  <tbody>\n",
       "    <tr>\n",
       "      <th>0</th>\n",
       "      <td>Female</td>\n",
       "      <td>22</td>\n",
       "      <td>159</td>\n",
       "      <td>58</td>\n",
       "      <td>1</td>\n",
       "      <td>54.2</td>\n",
       "      <td>3.8</td>\n",
       "    </tr>\n",
       "    <tr>\n",
       "      <th>1</th>\n",
       "      <td>Female</td>\n",
       "      <td>46</td>\n",
       "      <td>192</td>\n",
       "      <td>60</td>\n",
       "      <td>1</td>\n",
       "      <td>54.0</td>\n",
       "      <td>6.0</td>\n",
       "    </tr>\n",
       "    <tr>\n",
       "      <th>2</th>\n",
       "      <td>Female</td>\n",
       "      <td>55</td>\n",
       "      <td>170</td>\n",
       "      <td>64</td>\n",
       "      <td>1</td>\n",
       "      <td>63.3</td>\n",
       "      <td>0.7</td>\n",
       "    </tr>\n",
       "    <tr>\n",
       "      <th>3</th>\n",
       "      <td>Female</td>\n",
       "      <td>33</td>\n",
       "      <td>171</td>\n",
       "      <td>64</td>\n",
       "      <td>1</td>\n",
       "      <td>61.1</td>\n",
       "      <td>2.9</td>\n",
       "    </tr>\n",
       "    <tr>\n",
       "      <th>4</th>\n",
       "      <td>Female</td>\n",
       "      <td>50</td>\n",
       "      <td>170</td>\n",
       "      <td>65</td>\n",
       "      <td>1</td>\n",
       "      <td>62.2</td>\n",
       "      <td>2.8</td>\n",
       "    </tr>\n",
       "    <tr>\n",
       "      <th>...</th>\n",
       "      <td>...</td>\n",
       "      <td>...</td>\n",
       "      <td>...</td>\n",
       "      <td>...</td>\n",
       "      <td>...</td>\n",
       "      <td>...</td>\n",
       "      <td>...</td>\n",
       "    </tr>\n",
       "    <tr>\n",
       "      <th>71</th>\n",
       "      <td>Male</td>\n",
       "      <td>35</td>\n",
       "      <td>183</td>\n",
       "      <td>83</td>\n",
       "      <td>3</td>\n",
       "      <td>80.2</td>\n",
       "      <td>2.8</td>\n",
       "    </tr>\n",
       "    <tr>\n",
       "      <th>72</th>\n",
       "      <td>Male</td>\n",
       "      <td>49</td>\n",
       "      <td>177</td>\n",
       "      <td>84</td>\n",
       "      <td>3</td>\n",
       "      <td>79.9</td>\n",
       "      <td>4.1</td>\n",
       "    </tr>\n",
       "    <tr>\n",
       "      <th>73</th>\n",
       "      <td>Male</td>\n",
       "      <td>28</td>\n",
       "      <td>164</td>\n",
       "      <td>85</td>\n",
       "      <td>3</td>\n",
       "      <td>79.7</td>\n",
       "      <td>5.3</td>\n",
       "    </tr>\n",
       "    <tr>\n",
       "      <th>74</th>\n",
       "      <td>Male</td>\n",
       "      <td>40</td>\n",
       "      <td>167</td>\n",
       "      <td>87</td>\n",
       "      <td>3</td>\n",
       "      <td>77.8</td>\n",
       "      <td>9.2</td>\n",
       "    </tr>\n",
       "    <tr>\n",
       "      <th>75</th>\n",
       "      <td>Male</td>\n",
       "      <td>51</td>\n",
       "      <td>175</td>\n",
       "      <td>88</td>\n",
       "      <td>3</td>\n",
       "      <td>81.9</td>\n",
       "      <td>6.1</td>\n",
       "    </tr>\n",
       "  </tbody>\n",
       "</table>\n",
       "<p>76 rows × 7 columns</p>\n",
       "</div>"
      ],
      "text/plain": [
       "    gender  Age  Height  preweight  Diet  weight6weeks  wtloss\n",
       "0   Female   22     159         58     1          54.2     3.8\n",
       "1   Female   46     192         60     1          54.0     6.0\n",
       "2   Female   55     170         64     1          63.3     0.7\n",
       "3   Female   33     171         64     1          61.1     2.9\n",
       "4   Female   50     170         65     1          62.2     2.8\n",
       "..     ...  ...     ...        ...   ...           ...     ...\n",
       "71    Male   35     183         83     3          80.2     2.8\n",
       "72    Male   49     177         84     3          79.9     4.1\n",
       "73    Male   28     164         85     3          79.7     5.3\n",
       "74    Male   40     167         87     3          77.8     9.2\n",
       "75    Male   51     175         88     3          81.9     6.1\n",
       "\n",
       "[76 rows x 7 columns]"
      ]
     },
     "execution_count": 11,
     "metadata": {},
     "output_type": "execute_result"
    }
   ],
   "source": [
    "df['wtloss'] = df['preweight'] - df['weight6weeks']\n",
    "df"
   ]
  },
  {
   "cell_type": "code",
   "execution_count": 12,
   "metadata": {},
   "outputs": [
    {
     "name": "stderr",
     "output_type": "stream",
     "text": [
      "C:\\Users\\devro\\Ardy\\lib\\site-packages\\seaborn\\_decorators.py:36: FutureWarning: Pass the following variable as a keyword arg: y. From version 0.12, the only valid positional argument will be `data`, and passing other arguments without an explicit keyword will result in an error or misinterpretation.\n",
      "  warnings.warn(\n"
     ]
    },
    {
     "data": {
      "text/plain": [
       "<AxesSubplot:xlabel='Diet', ylabel='wtloss'>"
      ]
     },
     "execution_count": 12,
     "metadata": {},
     "output_type": "execute_result"
    },
    {
     "data": {
      "image/png": "[encoded data removed]",
      "text/plain": [
       "<Figure size 432x288 with 1 Axes>"
      ]
     },
     "metadata": {
      "needs_background": "light"
     },
     "output_type": "display_data"
    }
   ],
   "source": [
    "sns.kdeplot(df.Diet,df.wtloss)"
   ]
  },
  {
   "cell_type": "code",
   "execution_count": 13,
   "metadata": {},
   "outputs": [
    {
     "name": "stderr",
     "output_type": "stream",
     "text": [
      "C:\\Users\\devro\\Ardy\\lib\\site-packages\\seaborn\\_decorators.py:36: FutureWarning: Pass the following variables as keyword args: x, y. From version 0.12, the only valid positional argument will be `data`, and passing other arguments without an explicit keyword will result in an error or misinterpretation.\n",
      "  warnings.warn(\n"
     ]
    },
    {
     "data": {
      "text/plain": [
       "<AxesSubplot:xlabel='gender', ylabel='wtloss'>"
      ]
     },
     "execution_count": 13,
     "metadata": {},
     "output_type": "execute_result"
    },
    {
     "data": {
      "image/png": "[encoded data removed]",
      "text/plain": [
       "<Figure size 432x288 with 1 Axes>"
      ]
     },
     "metadata": {
      "needs_background": "light"
     },
     "output_type": "display_data"
    }
   ],
   "source": [
    "sns.boxplot(df.gender,df.wtloss)"
   ]
  },
  {
   "cell_type": "code",
   "execution_count": 14,
   "metadata": {},
   "outputs": [
    {
     "name": "stderr",
     "output_type": "stream",
     "text": [
      "C:\\Users\\devro\\Ardy\\lib\\site-packages\\seaborn\\_decorators.py:36: FutureWarning: Pass the following variables as keyword args: x, y. From version 0.12, the only valid positional argument will be `data`, and passing other arguments without an explicit keyword will result in an error or misinterpretation.\n",
      "  warnings.warn(\n"
     ]
    },
    {
     "data": {
      "text/plain": [
       "<AxesSubplot:xlabel='Diet', ylabel='wtloss'>"
      ]
     },
     "execution_count": 14,
     "metadata": {},
     "output_type": "execute_result"
    },
    {
     "data": {
      "image/png": "[encoded data removed]",
      "text/plain": [
       "<Figure size 432x288 with 1 Axes>"
      ]
     },
     "metadata": {
      "needs_background": "light"
     },
     "output_type": "display_data"
    }
   ],
   "source": [
    "sns.boxplot(df.Diet,df.wtloss)"
   ]
  },
  {
   "cell_type": "code",
   "execution_count": 15,
   "metadata": {},
   "outputs": [
    {
     "name": "stderr",
     "output_type": "stream",
     "text": [
      "C:\\Users\\devro\\Ardy\\lib\\site-packages\\seaborn\\_decorators.py:36: FutureWarning: Pass the following variables as keyword args: x, y. From version 0.12, the only valid positional argument will be `data`, and passing other arguments without an explicit keyword will result in an error or misinterpretation.\n",
      "  warnings.warn(\n"
     ]
    },
    {
     "data": {
      "text/plain": [
       "<AxesSubplot:xlabel='Diet', ylabel='wtloss'>"
      ]
     },
     "execution_count": 15,
     "metadata": {},
     "output_type": "execute_result"
    },
    {
     "data": {
      "image/png": "[encoded data removed]",
      "text/plain": [
       "<Figure size 720x360 with 1 Axes>"
      ]
     },
     "metadata": {
      "needs_background": "light"
     },
     "output_type": "display_data"
    }
   ],
   "source": [
    "plt.figure(figsize=(10,5))\n",
    "sns.boxplot(df.Diet,df.wtloss,hue=df.gender)"
   ]
  },
  {
   "cell_type": "code",
   "execution_count": 16,
   "metadata": {},
   "outputs": [
    {
     "data": {
      "text/plain": [
       "<AxesSubplot:xlabel='Diet', ylabel='wtloss'>"
      ]
     },
     "execution_count": 16,
     "metadata": {},
     "output_type": "execute_result"
    },
    {
     "data": {
      "image/png": "[encoded data removed]",
      "text/plain": [
       "<Figure size 432x288 with 1 Axes>"
      ]
     },
     "metadata": {
      "needs_background": "light"
     },
     "output_type": "display_data"
    }
   ],
   "source": [
    "sns.pointplot(x='Diet',y='wtloss',hue='gender',data=df)"
   ]
  },
  {
   "cell_type": "code",
   "execution_count": 17,
   "metadata": {},
   "outputs": [
    {
     "data": {
      "text/plain": [
       "<AxesSubplot:xlabel='Diet', ylabel='wtloss'>"
      ]
     },
     "execution_count": 17,
     "metadata": {},
     "output_type": "execute_result"
    },
    {
     "data": {
      "image/png": "[encoded data removed]",
      "text/plain": [
       "<Figure size 432x288 with 1 Axes>"
      ]
     },
     "metadata": {
      "needs_background": "light"
     },
     "output_type": "display_data"
    }
   ],
   "source": [
    "sns.pointplot(x='Diet',y='wtloss',hue='gender',data=df,ci=0)"
   ]
  },
  {
   "cell_type": "code",
   "execution_count": 18,
   "metadata": {},
   "outputs": [
    {
     "name": "stdout",
     "output_type": "stream",
     "text": [
      "             df      sum_sq   mean_sq         F    PR(>F)\n",
      "C(gender)   1.0    0.278485  0.278485  0.043786  0.834827\n",
      "Residual   74.0  470.650331  6.360140       NaN       NaN\n"
     ]
    }
   ],
   "source": [
    "formula = 'wtloss ~ C(gender)'\n",
    "model = ols(formula,df).fit()\n",
    "anova = anova_lm(model)\n",
    "print(anova)\n"
   ]
  },
  {
   "cell_type": "code",
   "execution_count": 19,
   "metadata": {},
   "outputs": [
    {
     "name": "stdout",
     "output_type": "stream",
     "text": [
      "            df      sum_sq    mean_sq         F    PR(>F)\n",
      "C(Diet)    2.0   60.527008  30.263504  5.383104  0.006596\n",
      "Residual  73.0  410.401807   5.621943       NaN       NaN\n"
     ]
    }
   ],
   "source": [
    "formula = 'wtloss ~ C(Diet)'\n",
    "model = ols(formula,df).fit()\n",
    "anova = anova_lm(model)\n",
    "print(anova)\n"
   ]
  },
  {
   "cell_type": "code",
   "execution_count": 20,
   "metadata": {},
   "outputs": [
    {
     "name": "stdout",
     "output_type": "stream",
     "text": [
      "             df      sum_sq    mean_sq         F    PR(>F)\n",
      "C(Diet)     2.0   60.527008  30.263504  5.311547  0.007052\n",
      "C(gender)   1.0    0.168696   0.168696  0.029608  0.863866\n",
      "Residual   72.0  410.233112   5.697682       NaN       NaN\n"
     ]
    }
   ],
   "source": [
    "formula = 'wtloss ~ C(Diet) + C(gender)'\n",
    "model = ols(formula,df).fit()\n",
    "anova = anova_lm(model)\n",
    "print(anova)\n"
   ]
  },
  {
   "cell_type": "code",
   "execution_count": 21,
   "metadata": {},
   "outputs": [],
   "source": [
    "res = stat()\n",
    "res.tukey_hsd(df,res_var='wtloss',xfac_var=['Diet','gender'],anova_model='wtloss ~ C(gender)+C(Diet)')"
   ]
  },
  {
   "cell_type": "code",
   "execution_count": 22,
   "metadata": {},
   "outputs": [],
   "source": [
    "df = pd.DataFrame(res.tukey_summary)"
   ]
  },
  {
   "cell_type": "code",
   "execution_count": 23,
   "metadata": {},
   "outputs": [
    {
     "data": {
      "text/html": [
       "<div>\n",
       "<style scoped>\n",
       "    .dataframe tbody tr th:only-of-type {\n",
       "        vertical-align: middle;\n",
       "    }\n",
       "\n",
       "    .dataframe tbody tr th {\n",
       "        vertical-align: top;\n",
       "    }\n",
       "\n",
       "    .dataframe thead th {\n",
       "        text-align: right;\n",
       "    }\n",
       "</style>\n",
       "<table border=\"1\" class=\"dataframe\">\n",
       "  <thead>\n",
       "    <tr style=\"text-align: right;\">\n",
       "      <th></th>\n",
       "      <th>group1</th>\n",
       "      <th>group2</th>\n",
       "      <th>Diff</th>\n",
       "      <th>Lower</th>\n",
       "      <th>Upper</th>\n",
       "      <th>q-value</th>\n",
       "      <th>p-value</th>\n",
       "    </tr>\n",
       "  </thead>\n",
       "  <tbody>\n",
       "    <tr>\n",
       "      <th>0</th>\n",
       "      <td>(1, Female)</td>\n",
       "      <td>(1, Male)</td>\n",
       "      <td>0.600000</td>\n",
       "      <td>-2.293523</td>\n",
       "      <td>3.493523</td>\n",
       "      <td>0.858570</td>\n",
       "      <td>0.900000</td>\n",
       "    </tr>\n",
       "    <tr>\n",
       "      <th>1</th>\n",
       "      <td>(1, Female)</td>\n",
       "      <td>(2, Female)</td>\n",
       "      <td>0.442857</td>\n",
       "      <td>-2.198556</td>\n",
       "      <td>3.084270</td>\n",
       "      <td>0.694190</td>\n",
       "      <td>0.900000</td>\n",
       "    </tr>\n",
       "    <tr>\n",
       "      <th>2</th>\n",
       "      <td>(1, Female)</td>\n",
       "      <td>(2, Male)</td>\n",
       "      <td>1.059091</td>\n",
       "      <td>-1.756665</td>\n",
       "      <td>3.874847</td>\n",
       "      <td>1.557362</td>\n",
       "      <td>0.870746</td>\n",
       "    </tr>\n",
       "    <tr>\n",
       "      <th>3</th>\n",
       "      <td>(1, Female)</td>\n",
       "      <td>(3, Female)</td>\n",
       "      <td>2.830000</td>\n",
       "      <td>0.232983</td>\n",
       "      <td>5.427017</td>\n",
       "      <td>4.511936</td>\n",
       "      <td>0.024717</td>\n",
       "    </tr>\n",
       "    <tr>\n",
       "      <th>4</th>\n",
       "      <td>(1, Female)</td>\n",
       "      <td>(3, Male)</td>\n",
       "      <td>1.183333</td>\n",
       "      <td>-1.565937</td>\n",
       "      <td>3.932604</td>\n",
       "      <td>1.782136</td>\n",
       "      <td>0.780674</td>\n",
       "    </tr>\n",
       "    <tr>\n",
       "      <th>5</th>\n",
       "      <td>(1, Male)</td>\n",
       "      <td>(2, Female)</td>\n",
       "      <td>1.042857</td>\n",
       "      <td>-1.850666</td>\n",
       "      <td>3.936380</td>\n",
       "      <td>1.492276</td>\n",
       "      <td>0.896827</td>\n",
       "    </tr>\n",
       "    <tr>\n",
       "      <th>6</th>\n",
       "      <td>(1, Male)</td>\n",
       "      <td>(2, Male)</td>\n",
       "      <td>0.459091</td>\n",
       "      <td>-2.594414</td>\n",
       "      <td>3.512596</td>\n",
       "      <td>0.622517</td>\n",
       "      <td>0.900000</td>\n",
       "    </tr>\n",
       "    <tr>\n",
       "      <th>7</th>\n",
       "      <td>(1, Male)</td>\n",
       "      <td>(3, Female)</td>\n",
       "      <td>2.230000</td>\n",
       "      <td>-0.623052</td>\n",
       "      <td>5.083052</td>\n",
       "      <td>3.236282</td>\n",
       "      <td>0.212300</td>\n",
       "    </tr>\n",
       "    <tr>\n",
       "      <th>8</th>\n",
       "      <td>(1, Male)</td>\n",
       "      <td>(3, Male)</td>\n",
       "      <td>0.583333</td>\n",
       "      <td>-2.408973</td>\n",
       "      <td>3.575640</td>\n",
       "      <td>0.807164</td>\n",
       "      <td>0.900000</td>\n",
       "    </tr>\n",
       "    <tr>\n",
       "      <th>9</th>\n",
       "      <td>(2, Female)</td>\n",
       "      <td>(2, Male)</td>\n",
       "      <td>1.501948</td>\n",
       "      <td>-1.313808</td>\n",
       "      <td>4.317704</td>\n",
       "      <td>2.208570</td>\n",
       "      <td>0.609790</td>\n",
       "    </tr>\n",
       "    <tr>\n",
       "      <th>10</th>\n",
       "      <td>(2, Female)</td>\n",
       "      <td>(3, Female)</td>\n",
       "      <td>3.272857</td>\n",
       "      <td>0.675840</td>\n",
       "      <td>5.869874</td>\n",
       "      <td>5.217994</td>\n",
       "      <td>0.005583</td>\n",
       "    </tr>\n",
       "    <tr>\n",
       "      <th>11</th>\n",
       "      <td>(2, Female)</td>\n",
       "      <td>(3, Male)</td>\n",
       "      <td>1.626190</td>\n",
       "      <td>-1.123080</td>\n",
       "      <td>4.375461</td>\n",
       "      <td>2.449093</td>\n",
       "      <td>0.513402</td>\n",
       "    </tr>\n",
       "    <tr>\n",
       "      <th>12</th>\n",
       "      <td>(2, Male)</td>\n",
       "      <td>(3, Female)</td>\n",
       "      <td>1.770909</td>\n",
       "      <td>-1.003242</td>\n",
       "      <td>4.545060</td>\n",
       "      <td>2.643123</td>\n",
       "      <td>0.431307</td>\n",
       "    </tr>\n",
       "    <tr>\n",
       "      <th>13</th>\n",
       "      <td>(2, Male)</td>\n",
       "      <td>(3, Male)</td>\n",
       "      <td>0.124242</td>\n",
       "      <td>-2.792932</td>\n",
       "      <td>3.041416</td>\n",
       "      <td>0.176343</td>\n",
       "      <td>0.900000</td>\n",
       "    </tr>\n",
       "    <tr>\n",
       "      <th>14</th>\n",
       "      <td>(3, Female)</td>\n",
       "      <td>(3, Male)</td>\n",
       "      <td>1.646667</td>\n",
       "      <td>-1.059977</td>\n",
       "      <td>4.353310</td>\n",
       "      <td>2.518987</td>\n",
       "      <td>0.484638</td>\n",
       "    </tr>\n",
       "  </tbody>\n",
       "</table>\n",
       "</div>"
      ],
      "text/plain": [
       "         group1       group2      Diff     Lower     Upper   q-value   p-value\n",
       "0   (1, Female)    (1, Male)  0.600000 -2.293523  3.493523  0.858570  0.900000\n",
       "1   (1, Female)  (2, Female)  0.442857 -2.198556  3.084270  0.694190  0.900000\n",
       "2   (1, Female)    (2, Male)  1.059091 -1.756665  3.874847  1.557362  0.870746\n",
       "3   (1, Female)  (3, Female)  2.830000  0.232983  5.427017  4.511936  0.024717\n",
       "4   (1, Female)    (3, Male)  1.183333 -1.565937  3.932604  1.782136  0.780674\n",
       "5     (1, Male)  (2, Female)  1.042857 -1.850666  3.936380  1.492276  0.896827\n",
       "6     (1, Male)    (2, Male)  0.459091 -2.594414  3.512596  0.622517  0.900000\n",
       "7     (1, Male)  (3, Female)  2.230000 -0.623052  5.083052  3.236282  0.212300\n",
       "8     (1, Male)    (3, Male)  0.583333 -2.408973  3.575640  0.807164  0.900000\n",
       "9   (2, Female)    (2, Male)  1.501948 -1.313808  4.317704  2.208570  0.609790\n",
       "10  (2, Female)  (3, Female)  3.272857  0.675840  5.869874  5.217994  0.005583\n",
       "11  (2, Female)    (3, Male)  1.626190 -1.123080  4.375461  2.449093  0.513402\n",
       "12    (2, Male)  (3, Female)  1.770909 -1.003242  4.545060  2.643123  0.431307\n",
       "13    (2, Male)    (3, Male)  0.124242 -2.792932  3.041416  0.176343  0.900000\n",
       "14  (3, Female)    (3, Male)  1.646667 -1.059977  4.353310  2.518987  0.484638"
      ]
     },
     "execution_count": 23,
     "metadata": {},
     "output_type": "execute_result"
    }
   ],
   "source": [
    "df"
   ]
  },
  {
   "cell_type": "code",
   "execution_count": 24,
   "metadata": {},
   "outputs": [
    {
     "data": {
      "text/html": [
       "<div>\n",
       "<style scoped>\n",
       "    .dataframe tbody tr th:only-of-type {\n",
       "        vertical-align: middle;\n",
       "    }\n",
       "\n",
       "    .dataframe tbody tr th {\n",
       "        vertical-align: top;\n",
       "    }\n",
       "\n",
       "    .dataframe thead th {\n",
       "        text-align: right;\n",
       "    }\n",
       "</style>\n",
       "<table border=\"1\" class=\"dataframe\">\n",
       "  <thead>\n",
       "    <tr style=\"text-align: right;\">\n",
       "      <th></th>\n",
       "      <th>group1</th>\n",
       "      <th>group2</th>\n",
       "      <th>Diff</th>\n",
       "      <th>Lower</th>\n",
       "      <th>Upper</th>\n",
       "      <th>q-value</th>\n",
       "      <th>p-value</th>\n",
       "    </tr>\n",
       "  </thead>\n",
       "  <tbody>\n",
       "    <tr>\n",
       "      <th>3</th>\n",
       "      <td>(1, Female)</td>\n",
       "      <td>(3, Female)</td>\n",
       "      <td>2.830000</td>\n",
       "      <td>0.232983</td>\n",
       "      <td>5.427017</td>\n",
       "      <td>4.511936</td>\n",
       "      <td>0.024717</td>\n",
       "    </tr>\n",
       "    <tr>\n",
       "      <th>10</th>\n",
       "      <td>(2, Female)</td>\n",
       "      <td>(3, Female)</td>\n",
       "      <td>3.272857</td>\n",
       "      <td>0.675840</td>\n",
       "      <td>5.869874</td>\n",
       "      <td>5.217994</td>\n",
       "      <td>0.005583</td>\n",
       "    </tr>\n",
       "  </tbody>\n",
       "</table>\n",
       "</div>"
      ],
      "text/plain": [
       "         group1       group2      Diff     Lower     Upper   q-value   p-value\n",
       "3   (1, Female)  (3, Female)  2.830000  0.232983  5.427017  4.511936  0.024717\n",
       "10  (2, Female)  (3, Female)  3.272857  0.675840  5.869874  5.217994  0.005583"
      ]
     },
     "execution_count": 24,
     "metadata": {},
     "output_type": "execute_result"
    }
   ],
   "source": [
    "df[df['p-value']<0.05]"
   ]
  },
  {
   "cell_type": "code",
   "execution_count": 26,
   "metadata": {},
   "outputs": [
    {
     "data": {
      "text/html": [
       "<div>\n",
       "<style scoped>\n",
       "    .dataframe tbody tr th:only-of-type {\n",
       "        vertical-align: middle;\n",
       "    }\n",
       "\n",
       "    .dataframe tbody tr th {\n",
       "        vertical-align: top;\n",
       "    }\n",
       "\n",
       "    .dataframe thead th {\n",
       "        text-align: right;\n",
       "    }\n",
       "</style>\n",
       "<table border=\"1\" class=\"dataframe\">\n",
       "  <thead>\n",
       "    <tr style=\"text-align: right;\">\n",
       "      <th></th>\n",
       "      <th>Name</th>\n",
       "      <th>survived</th>\n",
       "      <th>gender</th>\n",
       "      <th>passengerClass</th>\n",
       "    </tr>\n",
       "  </thead>\n",
       "  <tbody>\n",
       "    <tr>\n",
       "      <th>0</th>\n",
       "      <td>Allen, Miss. Elisabeth Walton</td>\n",
       "      <td>yes</td>\n",
       "      <td>female</td>\n",
       "      <td>1st</td>\n",
       "    </tr>\n",
       "    <tr>\n",
       "      <th>1</th>\n",
       "      <td>Allison, Master. Hudson Trevor</td>\n",
       "      <td>yes</td>\n",
       "      <td>male</td>\n",
       "      <td>1st</td>\n",
       "    </tr>\n",
       "    <tr>\n",
       "      <th>2</th>\n",
       "      <td>Allison, Miss. Helen Loraine</td>\n",
       "      <td>no</td>\n",
       "      <td>female</td>\n",
       "      <td>1st</td>\n",
       "    </tr>\n",
       "    <tr>\n",
       "      <th>3</th>\n",
       "      <td>Allison, Mr. Hudson Joshua Crei</td>\n",
       "      <td>no</td>\n",
       "      <td>male</td>\n",
       "      <td>1st</td>\n",
       "    </tr>\n",
       "    <tr>\n",
       "      <th>4</th>\n",
       "      <td>Allison, Mrs. Hudson J C (Bessi</td>\n",
       "      <td>no</td>\n",
       "      <td>female</td>\n",
       "      <td>1st</td>\n",
       "    </tr>\n",
       "    <tr>\n",
       "      <th>...</th>\n",
       "      <td>...</td>\n",
       "      <td>...</td>\n",
       "      <td>...</td>\n",
       "      <td>...</td>\n",
       "    </tr>\n",
       "    <tr>\n",
       "      <th>1304</th>\n",
       "      <td>Zabour, Miss. Hileni</td>\n",
       "      <td>no</td>\n",
       "      <td>female</td>\n",
       "      <td>3rd</td>\n",
       "    </tr>\n",
       "    <tr>\n",
       "      <th>1305</th>\n",
       "      <td>Zabour, Miss. Thamine</td>\n",
       "      <td>no</td>\n",
       "      <td>female</td>\n",
       "      <td>3rd</td>\n",
       "    </tr>\n",
       "    <tr>\n",
       "      <th>1306</th>\n",
       "      <td>Zakarian, Mr. Mapriededer</td>\n",
       "      <td>no</td>\n",
       "      <td>male</td>\n",
       "      <td>3rd</td>\n",
       "    </tr>\n",
       "    <tr>\n",
       "      <th>1307</th>\n",
       "      <td>Zakarian, Mr. Ortin</td>\n",
       "      <td>no</td>\n",
       "      <td>male</td>\n",
       "      <td>3rd</td>\n",
       "    </tr>\n",
       "    <tr>\n",
       "      <th>1308</th>\n",
       "      <td>Zimmerman, Mr. Leo</td>\n",
       "      <td>no</td>\n",
       "      <td>male</td>\n",
       "      <td>3rd</td>\n",
       "    </tr>\n",
       "  </tbody>\n",
       "</table>\n",
       "<p>1309 rows × 4 columns</p>\n",
       "</div>"
      ],
      "text/plain": [
       "                                 Name survived  gender passengerClass\n",
       "0       Allen, Miss. Elisabeth Walton      yes  female            1st\n",
       "1      Allison, Master. Hudson Trevor      yes    male            1st\n",
       "2        Allison, Miss. Helen Loraine       no  female            1st\n",
       "3     Allison, Mr. Hudson Joshua Crei       no    male            1st\n",
       "4     Allison, Mrs. Hudson J C (Bessi       no  female            1st\n",
       "...                               ...      ...     ...            ...\n",
       "1304             Zabour, Miss. Hileni       no  female            3rd\n",
       "1305            Zabour, Miss. Thamine       no  female            3rd\n",
       "1306        Zakarian, Mr. Mapriededer       no    male            3rd\n",
       "1307              Zakarian, Mr. Ortin       no    male            3rd\n",
       "1308               Zimmerman, Mr. Leo       no    male            3rd\n",
       "\n",
       "[1309 rows x 4 columns]"
      ]
     },
     "execution_count": 26,
     "metadata": {},
     "output_type": "execute_result"
    }
   ],
   "source": [
    "from scipy.stats import chi2_contingency\n",
    "df = pd.read_csv('M5_T3_V2_TitanicSurvival.csv')\n",
    "df"
   ]
  },
  {
   "cell_type": "code",
   "execution_count": 37,
   "metadata": {},
   "outputs": [
    {
     "data": {
      "text/html": [
       "<div>\n",
       "<style scoped>\n",
       "    .dataframe tbody tr th:only-of-type {\n",
       "        vertical-align: middle;\n",
       "    }\n",
       "\n",
       "    .dataframe tbody tr th {\n",
       "        vertical-align: top;\n",
       "    }\n",
       "\n",
       "    .dataframe thead th {\n",
       "        text-align: right;\n",
       "    }\n",
       "</style>\n",
       "<table border=\"1\" class=\"dataframe\">\n",
       "  <thead>\n",
       "    <tr style=\"text-align: right;\">\n",
       "      <th>survived</th>\n",
       "      <th>no</th>\n",
       "      <th>yes</th>\n",
       "    </tr>\n",
       "    <tr>\n",
       "      <th>gender</th>\n",
       "      <th></th>\n",
       "      <th></th>\n",
       "    </tr>\n",
       "  </thead>\n",
       "  <tbody>\n",
       "    <tr>\n",
       "      <th>female</th>\n",
       "      <td>127</td>\n",
       "      <td>339</td>\n",
       "    </tr>\n",
       "    <tr>\n",
       "      <th>male</th>\n",
       "      <td>682</td>\n",
       "      <td>161</td>\n",
       "    </tr>\n",
       "  </tbody>\n",
       "</table>\n",
       "</div>"
      ],
      "text/plain": [
       "survived   no  yes\n",
       "gender            \n",
       "female    127  339\n",
       "male      682  161"
      ]
     },
     "execution_count": 37,
     "metadata": {},
     "output_type": "execute_result"
    }
   ],
   "source": [
    "a = pd.crosstab(df.gender,df.survived)\n",
    "a"
   ]
  },
  {
   "cell_type": "code",
   "execution_count": 30,
   "metadata": {},
   "outputs": [
    {
     "data": {
      "text/html": [
       "<div>\n",
       "<style scoped>\n",
       "    .dataframe tbody tr th:only-of-type {\n",
       "        vertical-align: middle;\n",
       "    }\n",
       "\n",
       "    .dataframe tbody tr th {\n",
       "        vertical-align: top;\n",
       "    }\n",
       "\n",
       "    .dataframe thead th {\n",
       "        text-align: right;\n",
       "    }\n",
       "</style>\n",
       "<table border=\"1\" class=\"dataframe\">\n",
       "  <thead>\n",
       "    <tr style=\"text-align: right;\">\n",
       "      <th>survived</th>\n",
       "      <th>no</th>\n",
       "      <th>yes</th>\n",
       "    </tr>\n",
       "    <tr>\n",
       "      <th>passengerClass</th>\n",
       "      <th></th>\n",
       "      <th></th>\n",
       "    </tr>\n",
       "  </thead>\n",
       "  <tbody>\n",
       "    <tr>\n",
       "      <th>1st</th>\n",
       "      <td>123</td>\n",
       "      <td>200</td>\n",
       "    </tr>\n",
       "    <tr>\n",
       "      <th>2nd</th>\n",
       "      <td>158</td>\n",
       "      <td>119</td>\n",
       "    </tr>\n",
       "    <tr>\n",
       "      <th>3rd</th>\n",
       "      <td>528</td>\n",
       "      <td>181</td>\n",
       "    </tr>\n",
       "  </tbody>\n",
       "</table>\n",
       "</div>"
      ],
      "text/plain": [
       "survived         no  yes\n",
       "passengerClass          \n",
       "1st             123  200\n",
       "2nd             158  119\n",
       "3rd             528  181"
      ]
     },
     "execution_count": 30,
     "metadata": {},
     "output_type": "execute_result"
    }
   ],
   "source": [
    "pd.crosstab(df.passengerClass,df.survived)"
   ]
  },
  {
   "cell_type": "code",
   "execution_count": 35,
   "metadata": {},
   "outputs": [],
   "source": [
    "d = pd.pivot_table(data=df,index='gender',columns = ['passengerClass','survived'],aggfunc='count')"
   ]
  },
  {
   "cell_type": "code",
   "execution_count": 36,
   "metadata": {},
   "outputs": [
    {
     "data": {
      "text/html": [
       "<div>\n",
       "<style scoped>\n",
       "    .dataframe tbody tr th:only-of-type {\n",
       "        vertical-align: middle;\n",
       "    }\n",
       "\n",
       "    .dataframe tbody tr th {\n",
       "        vertical-align: top;\n",
       "    }\n",
       "\n",
       "    .dataframe thead tr th {\n",
       "        text-align: left;\n",
       "    }\n",
       "\n",
       "    .dataframe thead tr:last-of-type th {\n",
       "        text-align: right;\n",
       "    }\n",
       "</style>\n",
       "<table border=\"1\" class=\"dataframe\">\n",
       "  <thead>\n",
       "    <tr>\n",
       "      <th></th>\n",
       "      <th colspan=\"6\" halign=\"left\">Name</th>\n",
       "    </tr>\n",
       "    <tr>\n",
       "      <th>passengerClass</th>\n",
       "      <th colspan=\"2\" halign=\"left\">1st</th>\n",
       "      <th colspan=\"2\" halign=\"left\">2nd</th>\n",
       "      <th colspan=\"2\" halign=\"left\">3rd</th>\n",
       "    </tr>\n",
       "    <tr>\n",
       "      <th>survived</th>\n",
       "      <th>no</th>\n",
       "      <th>yes</th>\n",
       "      <th>no</th>\n",
       "      <th>yes</th>\n",
       "      <th>no</th>\n",
       "      <th>yes</th>\n",
       "    </tr>\n",
       "    <tr>\n",
       "      <th>gender</th>\n",
       "      <th></th>\n",
       "      <th></th>\n",
       "      <th></th>\n",
       "      <th></th>\n",
       "      <th></th>\n",
       "      <th></th>\n",
       "    </tr>\n",
       "  </thead>\n",
       "  <tbody>\n",
       "    <tr>\n",
       "      <th>female</th>\n",
       "      <td>5</td>\n",
       "      <td>139</td>\n",
       "      <td>12</td>\n",
       "      <td>94</td>\n",
       "      <td>110</td>\n",
       "      <td>106</td>\n",
       "    </tr>\n",
       "    <tr>\n",
       "      <th>male</th>\n",
       "      <td>118</td>\n",
       "      <td>61</td>\n",
       "      <td>146</td>\n",
       "      <td>25</td>\n",
       "      <td>418</td>\n",
       "      <td>75</td>\n",
       "    </tr>\n",
       "  </tbody>\n",
       "</table>\n",
       "</div>"
      ],
      "text/plain": [
       "               Name                        \n",
       "passengerClass  1st       2nd      3rd     \n",
       "survived         no  yes   no yes   no  yes\n",
       "gender                                     \n",
       "female            5  139   12  94  110  106\n",
       "male            118   61  146  25  418   75"
      ]
     },
     "execution_count": 36,
     "metadata": {},
     "output_type": "execute_result"
    }
   ],
   "source": [
    "d"
   ]
  },
  {
   "cell_type": "code",
   "execution_count": 38,
   "metadata": {},
   "outputs": [
    {
     "data": {
      "text/plain": [
       "4.589924936952945e-81"
      ]
     },
     "execution_count": 38,
     "metadata": {},
     "output_type": "execute_result"
    }
   ],
   "source": [
    "chi2,pval,df,expfreq = chi2_contingency(a)\n",
    "pval"
   ]
  },
  {
   "cell_type": "code",
   "execution_count": 39,
   "metadata": {},
   "outputs": [
    {
     "data": {
      "text/html": [
       "<div>\n",
       "<style scoped>\n",
       "    .dataframe tbody tr th:only-of-type {\n",
       "        vertical-align: middle;\n",
       "    }\n",
       "\n",
       "    .dataframe tbody tr th {\n",
       "        vertical-align: top;\n",
       "    }\n",
       "\n",
       "    .dataframe thead th {\n",
       "        text-align: right;\n",
       "    }\n",
       "</style>\n",
       "<table border=\"1\" class=\"dataframe\">\n",
       "  <thead>\n",
       "    <tr style=\"text-align: right;\">\n",
       "      <th>survived</th>\n",
       "      <th>no</th>\n",
       "      <th>yes</th>\n",
       "    </tr>\n",
       "    <tr>\n",
       "      <th>gender</th>\n",
       "      <th></th>\n",
       "      <th></th>\n",
       "    </tr>\n",
       "  </thead>\n",
       "  <tbody>\n",
       "    <tr>\n",
       "      <th>female</th>\n",
       "      <td>127</td>\n",
       "      <td>339</td>\n",
       "    </tr>\n",
       "    <tr>\n",
       "      <th>male</th>\n",
       "      <td>682</td>\n",
       "      <td>161</td>\n",
       "    </tr>\n",
       "  </tbody>\n",
       "</table>\n",
       "</div>"
      ],
      "text/plain": [
       "survived   no  yes\n",
       "gender            \n",
       "female    127  339\n",
       "male      682  161"
      ]
     },
     "execution_count": 39,
     "metadata": {},
     "output_type": "execute_result"
    }
   ],
   "source": [
    "a"
   ]
  },
  {
   "cell_type": "code",
   "execution_count": 40,
   "metadata": {},
   "outputs": [
    {
     "data": {
      "text/html": [
       "<div>\n",
       "<style scoped>\n",
       "    .dataframe tbody tr th:only-of-type {\n",
       "        vertical-align: middle;\n",
       "    }\n",
       "\n",
       "    .dataframe tbody tr th {\n",
       "        vertical-align: top;\n",
       "    }\n",
       "\n",
       "    .dataframe thead th {\n",
       "        text-align: right;\n",
       "    }\n",
       "</style>\n",
       "<table border=\"1\" class=\"dataframe\">\n",
       "  <thead>\n",
       "    <tr style=\"text-align: right;\">\n",
       "      <th></th>\n",
       "      <th>Gender</th>\n",
       "      <th>Flavor</th>\n",
       "    </tr>\n",
       "  </thead>\n",
       "  <tbody>\n",
       "    <tr>\n",
       "      <th>0</th>\n",
       "      <td>Male</td>\n",
       "      <td>Chocolate</td>\n",
       "    </tr>\n",
       "    <tr>\n",
       "      <th>1</th>\n",
       "      <td>Female</td>\n",
       "      <td>Vanilla</td>\n",
       "    </tr>\n",
       "    <tr>\n",
       "      <th>2</th>\n",
       "      <td>Male</td>\n",
       "      <td>Strawberry</td>\n",
       "    </tr>\n",
       "    <tr>\n",
       "      <th>3</th>\n",
       "      <td>Male</td>\n",
       "      <td>Strawberry</td>\n",
       "    </tr>\n",
       "    <tr>\n",
       "      <th>4</th>\n",
       "      <td>Male</td>\n",
       "      <td>Vanilla</td>\n",
       "    </tr>\n",
       "    <tr>\n",
       "      <th>...</th>\n",
       "      <td>...</td>\n",
       "      <td>...</td>\n",
       "    </tr>\n",
       "    <tr>\n",
       "      <th>195</th>\n",
       "      <td>Female</td>\n",
       "      <td>Vanilla</td>\n",
       "    </tr>\n",
       "    <tr>\n",
       "      <th>196</th>\n",
       "      <td>Female</td>\n",
       "      <td>Vanilla</td>\n",
       "    </tr>\n",
       "    <tr>\n",
       "      <th>197</th>\n",
       "      <td>Female</td>\n",
       "      <td>Vanilla</td>\n",
       "    </tr>\n",
       "    <tr>\n",
       "      <th>198</th>\n",
       "      <td>Female</td>\n",
       "      <td>Vanilla</td>\n",
       "    </tr>\n",
       "    <tr>\n",
       "      <th>199</th>\n",
       "      <td>Female</td>\n",
       "      <td>Strawberry</td>\n",
       "    </tr>\n",
       "  </tbody>\n",
       "</table>\n",
       "<p>200 rows × 2 columns</p>\n",
       "</div>"
      ],
      "text/plain": [
       "     Gender      Flavor\n",
       "0      Male   Chocolate\n",
       "1    Female     Vanilla\n",
       "2      Male  Strawberry\n",
       "3      Male  Strawberry\n",
       "4      Male     Vanilla\n",
       "..      ...         ...\n",
       "195  Female     Vanilla\n",
       "196  Female     Vanilla\n",
       "197  Female     Vanilla\n",
       "198  Female     Vanilla\n",
       "199  Female  Strawberry\n",
       "\n",
       "[200 rows x 2 columns]"
      ]
     },
     "execution_count": 40,
     "metadata": {},
     "output_type": "execute_result"
    }
   ],
   "source": [
    "icecream = pd.read_csv('M5_T3_V2_Ice_cream.csv')\n",
    "icecream"
   ]
  },
  {
   "cell_type": "code",
   "execution_count": 42,
   "metadata": {},
   "outputs": [
    {
     "data": {
      "text/html": [
       "<div>\n",
       "<style scoped>\n",
       "    .dataframe tbody tr th:only-of-type {\n",
       "        vertical-align: middle;\n",
       "    }\n",
       "\n",
       "    .dataframe tbody tr th {\n",
       "        vertical-align: top;\n",
       "    }\n",
       "\n",
       "    .dataframe thead th {\n",
       "        text-align: right;\n",
       "    }\n",
       "</style>\n",
       "<table border=\"1\" class=\"dataframe\">\n",
       "  <thead>\n",
       "    <tr style=\"text-align: right;\">\n",
       "      <th>Gender</th>\n",
       "      <th>Female</th>\n",
       "      <th>Male</th>\n",
       "    </tr>\n",
       "    <tr>\n",
       "      <th>Flavor</th>\n",
       "      <th></th>\n",
       "      <th></th>\n",
       "    </tr>\n",
       "  </thead>\n",
       "  <tbody>\n",
       "    <tr>\n",
       "      <th>Chocolate</th>\n",
       "      <td>32</td>\n",
       "      <td>15</td>\n",
       "    </tr>\n",
       "    <tr>\n",
       "      <th>Strawberry</th>\n",
       "      <td>29</td>\n",
       "      <td>29</td>\n",
       "    </tr>\n",
       "    <tr>\n",
       "      <th>Vanilla</th>\n",
       "      <td>48</td>\n",
       "      <td>47</td>\n",
       "    </tr>\n",
       "  </tbody>\n",
       "</table>\n",
       "</div>"
      ],
      "text/plain": [
       "Gender      Female  Male\n",
       "Flavor                  \n",
       "Chocolate       32    15\n",
       "Strawberry      29    29\n",
       "Vanilla         48    47"
      ]
     },
     "execution_count": 42,
     "metadata": {},
     "output_type": "execute_result"
    }
   ],
   "source": [
    "df = pd.crosstab(index=icecream.Flavor,columns = icecream.Gender)\n",
    "df"
   ]
  },
  {
   "cell_type": "code",
   "execution_count": 43,
   "metadata": {},
   "outputs": [
    {
     "data": {
      "text/plain": [
       "(4.576532398429519,\n",
       " 0.10144219001975933,\n",
       " 2,\n",
       " array([[25.615, 21.385],\n",
       "        [31.61 , 26.39 ],\n",
       "        [51.775, 43.225]]))"
      ]
     },
     "execution_count": 43,
     "metadata": {},
     "output_type": "execute_result"
    }
   ],
   "source": [
    "chi2_contingency(df)"
   ]
  },
  {
   "cell_type": "code",
   "execution_count": 44,
   "metadata": {},
   "outputs": [
    {
     "data": {
      "text/plain": [
       "0.04480415309010177"
      ]
     },
     "execution_count": 44,
     "metadata": {},
     "output_type": "execute_result"
    }
   ],
   "source": [
    "1 - stats.f.cdf(2.54,4,95)"
   ]
  },
  {
   "cell_type": "code",
   "execution_count": 45,
   "metadata": {},
   "outputs": [
    {
     "data": {
      "text/plain": [
       "0.04803752774094716"
      ]
     },
     "execution_count": 45,
     "metadata": {},
     "output_type": "execute_result"
    }
   ],
   "source": [
    "1 - stats.f.cdf(4.5,1,18)"
   ]
  },
  {
   "cell_type": "code",
   "execution_count": 46,
   "metadata": {},
   "outputs": [
    {
     "data": {
      "text/plain": [
       "0.032796989994883674"
      ]
     },
     "execution_count": 46,
     "metadata": {},
     "output_type": "execute_result"
    }
   ],
   "source": [
    "1 - stats.chi2.cdf(10.5,4)"
   ]
  },
  {
   "cell_type": "code",
   "execution_count": null,
   "metadata": {},
   "outputs": [],
   "source": []
  }
 ],
 "metadata": {
  "kernelspec": {
   "display_name": "Python 3",
   "language": "python",
   "name": "python3"
  },
  "language_info": {
   "codemirror_mode": {
    "name": "ipython",
    "version": 3
   },
   "file_extension": ".py",
   "mimetype": "text/x-python",
   "name": "python",
   "nbconvert_exporter": "python",
   "pygments_lexer": "ipython3",
   "version": "3.8.5"
  }
 },
 "nbformat": 4,
 "nbformat_minor": 4
}
