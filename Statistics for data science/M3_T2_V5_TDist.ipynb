{
 "cells": [
  {
   "cell_type": "markdown",
   "metadata": {},
   "source": [
    "### Fresh Co - after improvement"
   ]
  },
  {
   "cell_type": "code",
   "execution_count": 1,
   "metadata": {},
   "outputs": [],
   "source": [
    "import numpy as np\n",
    "import pandas as pd\n",
    "import matplotlib.pyplot as plt\n",
    "import seaborn as sns\n",
    "import scipy.stats as ss"
   ]
  },
  {
   "cell_type": "code",
   "execution_count": 3,
   "metadata": {},
   "outputs": [],
   "source": [
    "new_values = np.array([528, 566, 589, 495, 582, 573, 545, 593, 592, 664])"
   ]
  },
  {
   "cell_type": "code",
   "execution_count": 4,
   "metadata": {},
   "outputs": [
    {
     "data": {
      "text/plain": [
       "572.7"
      ]
     },
     "execution_count": 4,
     "metadata": {},
     "output_type": "execute_result"
    }
   ],
   "source": [
    "new_values.mean()"
   ]
  },
  {
   "cell_type": "code",
   "execution_count": 5,
   "metadata": {},
   "outputs": [
    {
     "data": {
      "text/plain": [
       "42.801985935234356"
      ]
     },
     "execution_count": 5,
     "metadata": {},
     "output_type": "execute_result"
    }
   ],
   "source": [
    "new_values.std()"
   ]
  },
  {
   "cell_type": "code",
   "execution_count": 7,
   "metadata": {},
   "outputs": [
    {
     "data": {
      "text/plain": [
       "0.01141393977321048"
      ]
     },
     "execution_count": 7,
     "metadata": {},
     "output_type": "execute_result"
    }
   ],
   "source": [
    "1-ss.t.cdf(x = 11.5*60, loc = new_values.mean(), scale = new_values.std(), df = len(new_values)-1)"
   ]
  },
  {
   "cell_type": "code",
   "execution_count": 8,
   "metadata": {},
   "outputs": [
    {
     "data": {
      "text/plain": [
       "13.696727727852576"
      ]
     },
     "execution_count": 8,
     "metadata": {},
     "output_type": "execute_result"
    }
   ],
   "source": [
    "(1-ss.t.cdf(x = 11.5*60, loc = new_values.mean(), scale = new_values.std(), df = len(new_values)-1)) * 1200"
   ]
  },
  {
   "cell_type": "code",
   "execution_count": 9,
   "metadata": {},
   "outputs": [
    {
     "data": {
      "text/plain": [
       "66.7"
      ]
     },
     "execution_count": 9,
     "metadata": {},
     "output_type": "execute_result"
    }
   ],
   "source": [
    "80.4 - 13.7"
   ]
  },
  {
   "cell_type": "code",
   "execution_count": 9,
   "metadata": {},
   "outputs": [
    {
     "name": "stdout",
     "output_type": "stream",
     "text": [
      "0.17404829371002317\n",
      "0.12106211636661135\n",
      "0.09947771634543012\n",
      "0.08787863030128573\n",
      "0.08066719981785841\n",
      "0.0757593825412356\n",
      "0.07220709529361369\n",
      "0.06951851446707946\n",
      "0.06741356941553889\n",
      "0.06572123892951365\n",
      "0.06433126220139229\n",
      "0.06316939217023287\n",
      "0.06218381958139163\n",
      "0.061337301647286235\n",
      "0.06060238404866436\n",
      "0.059958386282691345\n",
      "0.05938943565219157\n",
      "0.05888314793243232\n",
      "0.058429719601862495\n",
      "0.058021289340180804\n",
      "0.057651480049606074\n",
      "0.057315064562859286\n",
      "0.057007717763110866\n",
      "0.05672583014398569\n",
      "0.05646636575500308\n",
      "0.05622675267982424\n",
      "0.056004797677766116\n",
      "0.05579861899178684\n",
      "0.055606592968261204\n",
      "0.055427311286995073\n",
      "0.05525954642063646\n",
      "0.05510222353407157\n",
      "0.05495439746556219\n",
      "0.054815233749112124\n",
      "0.05468399287406256\n",
      "0.05456001715562597\n",
      "0.05444271972479464\n",
      "0.05433157524903065\n",
      "0.054226112074483135\n",
      "0.054125905542041886\n",
      "0.054030572277657396\n",
      "0.05393976529520561\n",
      "0.053853169780139765\n",
      "0.053770499446034514\n",
      "0.053691493375230936\n",
      "0.05361591327017978\n",
      "0.05354354105452375\n",
      "0.05347417677308952\n",
      "0.05340763674822391\n",
      "0.05334375195670438\n"
     ]
    }
   ],
   "source": [
    "# The End!\n",
    "for i in range(50):\n",
    "    print(1 - ss.t.cdf(x = 14.75, loc = 9, scale = 3.5,df=i+1))"
   ]
  },
  {
   "cell_type": "code",
   "execution_count": null,
   "metadata": {},
   "outputs": [],
   "source": []
  }
 ],
 "metadata": {
  "kernelspec": {
   "display_name": "Python 3",
   "language": "python",
   "name": "python3"
  },
  "language_info": {
   "codemirror_mode": {
    "name": "ipython",
    "version": 3
   },
   "file_extension": ".py",
   "mimetype": "text/x-python",
   "name": "python",
   "nbconvert_exporter": "python",
   "pygments_lexer": "ipython3",
   "version": "3.8.5"
  }
 },
 "nbformat": 4,
 "nbformat_minor": 2
}
