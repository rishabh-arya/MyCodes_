{
 "cells": [
  {
   "cell_type": "code",
   "execution_count": 1,
   "metadata": {},
   "outputs": [
    {
     "name": "stdout",
     "output_type": "stream",
     "text": [
      "saved..... 0\n"
     ]
    }
   ],
   "source": [
    "import pyscreenshot as ImageGrab\n",
    "import os \n",
    "import time\n",
    "path = \"C:/Users/devro/Desktop/Jupyter/digits_new\"\n",
    "for i in range(0,1):\n",
    "    time.sleep(5)\n",
    "    im = ImageGrab.grab(bbox = (10,160,1100,400))\n",
    "    print(\"saved.....\",i)\n",
    "    im.save(os.path.join(path,str(i)+'.png'))\n",
    "        \n",
    "\n",
    "    "
   ]
  },
  {
   "cell_type": "code",
   "execution_count": 2,
   "metadata": {},
   "outputs": [
    {
     "ename": "NameError",
     "evalue": "name 'x_new_norm' is not defined",
     "output_type": "error",
     "traceback": [
      "\u001b[1;31m---------------------------------------------------------------------------\u001b[0m",
      "\u001b[1;31mNameError\u001b[0m                                 Traceback (most recent call last)",
      "\u001b[1;32m<ipython-input-2-bcd200540499>\u001b[0m in \u001b[0;36m<module>\u001b[1;34m\u001b[0m\n\u001b[0;32m     29\u001b[0m         \u001b[1;32mreturn\u001b[0m \u001b[0mx_new\u001b[0m\u001b[1;33m,\u001b[0m\u001b[0mx_new_norm\u001b[0m\u001b[1;33m\u001b[0m\u001b[1;33m\u001b[0m\u001b[0m\n\u001b[0;32m     30\u001b[0m \u001b[1;33m\u001b[0m\u001b[0m\n\u001b[1;32m---> 31\u001b[1;33m \u001b[0mprint\u001b[0m\u001b[1;33m(\u001b[0m\u001b[0mx_new_norm\u001b[0m\u001b[1;33m.\u001b[0m\u001b[0mshape\u001b[0m\u001b[1;33m)\u001b[0m\u001b[1;33m\u001b[0m\u001b[1;33m\u001b[0m\u001b[0m\n\u001b[0m\u001b[0;32m     32\u001b[0m \u001b[1;33m\u001b[0m\u001b[0m\n",
      "\u001b[1;31mNameError\u001b[0m: name 'x_new_norm' is not defined"
     ]
    }
   ],
   "source": [
    "def new_example_preprocessing():\n",
    "    import cv2\n",
    "    import numpy as np\n",
    "    import os\n",
    "    from sklearn.preprocessing import MinMaxScaler\n",
    "    scaler = MinMaxScaler()\n",
    "    img = cv2.imread(\"C:/Users/devro/Desktop/Jupyter/digits_new/0.png\")\n",
    "    #cv2.imshow('img1',img)\n",
    "    print(\"Original image shape :\",img.shape)\n",
    "    img = cv2.resize(img,(1200,240))\n",
    "    imgray = cv2.cvtColor(img,cv2.COLOR_BGR2GRAY)\n",
    "    #cv2.imshow('imgray',imgray)\n",
    "    #cv2.imshow('img',img)\n",
    "    print(\"New image shape :\",img.shape)\n",
    "    print(\"Gray scale image shape :\",imgray.shape)\n",
    "    path = \"C:/Users/devro/Desktop/Jupyter/digits_new/individual\"\n",
    "    x_new_norm = np.zeros((5,28,28))\n",
    "    x_new = np.zeros((5,28,28))\n",
    "    for i in range(0,5):\n",
    "        imcrop = imgray[0:300,250*i:250*(i+1)]\n",
    "        #cv2.imshow('cropped', imcrop)\n",
    "        imcrop = cv2.resize(imcrop,(28,28))\n",
    "        #print(imcrop.shape)\n",
    "        #cv2.imwrite(os.path.join(path,'temp'+str(i)+'.png'),imcrop)\n",
    "        x_new[i] = np.array(imcrop)\n",
    "        #x_new_norm[i] = np.array(imcrop)\n",
    "        x_new_norm[i] = scaler.fit_transform(x_new[i])\n",
    "        \n",
    "        return x_new,x_new_norm\n",
    "\n",
    "print(x_new_norm.shape)\n",
    "\n"
   ]
  },
  {
   "cell_type": "code",
   "execution_count": 1,
   "metadata": {},
   "outputs": [
    {
     "name": "stdout",
     "output_type": "stream",
     "text": [
      "(60000, 28, 28) (60000,)\n",
      "(10000, 28, 28) (60000,)\n"
     ]
    }
   ],
   "source": [
    "import tensorflow as tf\n",
    "from matplotlib import pyplot as plt\n",
    "import numpy as np\n",
    "\n",
    "(x_train,y_train),(x_test,y_test) = tf.keras.datasets.mnist.load_data()\n",
    "print(x_train.shape,y_train.shape)\n",
    "print(x_test.shape,y_train.shape)\n"
   ]
  },
  {
   "cell_type": "code",
   "execution_count": 2,
   "metadata": {},
   "outputs": [
    {
     "data": {
      "image/png": "[encoded data removed]",
      "text/plain": [
       "<Figure size 1080x360 with 15 Axes>"
      ]
     },
     "metadata": {
      "needs_background": "light"
     },
     "output_type": "display_data"
    }
   ],
   "source": [
    "classes = ['0','1','2','3','4','5','6','7','8','9']\n",
    "fig = plt.figure(figsize=(15,5))\n",
    "for i in range(15):\n",
    "    ax = fig.add_subplot(3,5,i+1)\n",
    "    ax.grid('off')\n",
    "    ax.axis('off')\n",
    "    ax.imshow(x_train[i])\n",
    "    ax.set_title(classes[y_train[i]])\n",
    "plt.show()"
   ]
  },
  {
   "cell_type": "code",
   "execution_count": 3,
   "metadata": {},
   "outputs": [
    {
     "name": "stderr",
     "output_type": "stream",
     "text": [
      "Using TensorFlow backend.\n"
     ]
    },
    {
     "name": "stdout",
     "output_type": "stream",
     "text": [
      "(60000, 10)\n"
     ]
    }
   ],
   "source": [
    "from keras.utils import to_categorical\n",
    "x_train_reshaped = np.reshape(x_train,(60000,784))\n",
    "x_test_reshaped = np.reshape(x_test,(10000,784))\n",
    "\n",
    "y_train_encoded = to_categorical(y_train)\n",
    "y_test_encoded = to_categorical(y_test)\n",
    "\n",
    "x_train_norm = x_train_reshaped/255\n",
    "x_test_norm = x_test_reshaped/255\n",
    "print(y_train_encoded.shape)"
   ]
  },
  {
   "cell_type": "code",
   "execution_count": 4,
   "metadata": {},
   "outputs": [],
   "source": [
    "from tensorflow.keras.models import Sequential\n",
    "from tensorflow.keras.layers import Dense\n",
    "\n",
    "def make_model():\n",
    "    model = Sequential()\n",
    "    model.add(Dense(256,activation='relu',input_shape=(784,)))\n",
    "    model.add(Dense(256,activation='relu'))\n",
    "    model.add(Dense(10,activation='softmax'))\n",
    "    \n",
    "    model.compile(\n",
    "          loss = 'categorical_crossentropy',optimizer='adam',\n",
    "          metrics = ['accuracy'])\n",
    "    \n",
    "    return model\n",
    "\n"
   ]
  },
  {
   "cell_type": "code",
   "execution_count": 5,
   "metadata": {},
   "outputs": [
    {
     "name": "stdout",
     "output_type": "stream",
     "text": [
      "WARNING:tensorflow:From C:\\Users\\devro\\AppData\\Roaming\\Python\\Python37\\site-packages\\tensorflow_core\\python\\ops\\resource_variable_ops.py:1630: calling BaseResourceVariable.__init__ (from tensorflow.python.ops.resource_variable_ops) with constraint is deprecated and will be removed in a future version.\n",
      "Instructions for updating:\n",
      "If using Keras pass *_constraint arguments to layers.\n",
      "Model: \"sequential\"\n",
      "_________________________________________________________________\n",
      "Layer (type)                 Output Shape              Param #   \n",
      "=================================================================\n",
      "dense (Dense)                (None, 256)               200960    \n",
      "_________________________________________________________________\n",
      "dense_1 (Dense)              (None, 256)               65792     \n",
      "_________________________________________________________________\n",
      "dense_2 (Dense)              (None, 10)                2570      \n",
      "=================================================================\n",
      "Total params: 269,322\n",
      "Trainable params: 269,322\n",
      "Non-trainable params: 0\n",
      "_________________________________________________________________\n"
     ]
    }
   ],
   "source": [
    "model = make_model()\n",
    "model.summary()"
   ]
  },
  {
   "cell_type": "code",
   "execution_count": 6,
   "metadata": {},
   "outputs": [
    {
     "name": "stdout",
     "output_type": "stream",
     "text": [
      "Train on 60000 samples\n",
      "Epoch 1/3\n",
      "60000/60000 [==============================] - 19s 315us/sample - loss: 0.2009 - acc: 0.9393\n",
      "Epoch 2/3\n",
      "60000/60000 [==============================] - 8s 141us/sample - loss: 0.0847 - acc: 0.9733\n",
      "Epoch 3/3\n",
      "60000/60000 [==============================] - 9s 146us/sample - loss: 0.0587 - acc: 0.9817\n",
      "10000/10000 [==============================] - 1s 79us/sample - loss: 0.0891 - acc: 0.9717\n",
      "Accuracy:0.972\n",
      "Loss:0.089\n"
     ]
    }
   ],
   "source": [
    "model.fit(x_train_norm,y_train_encoded,epochs=3)\n",
    "loss,accuracy = model.evaluate(x_test_norm,y_test_encoded)\n",
    "print(\"Accuracy:{:.3f}\".format(accuracy))\n",
    "print(\"Loss:{:.3f}\".format(loss))"
   ]
  },
  {
   "cell_type": "code",
   "execution_count": null,
   "metadata": {},
   "outputs": [],
   "source": [
    "import pyscreenshot as ImageGrab\n",
    "import os \n",
    "import time\n",
    "path = \"C:/Users/devro/Desktop/Jupyter/digits_new\"\n",
    "for i in range(0,1):\n",
    "    time.sleep(5)\n",
    "    im = ImageGrab.grab(bbox = (10,160,1100,400))\n",
    "    print(\"saved.....\",i)\n",
    "    im.save(os.path.join(path,str(i)+'.png'))\n",
    "        \n",
    "\n",
    "    "
   ]
  },
  {
   "cell_type": "code",
   "execution_count": null,
   "metadata": {},
   "outputs": [],
   "source": [
    "import cv2\n",
    "import numpy as np\n",
    "import os\n",
    "from sklearn.preprocessing import MinMaxScaler\n",
    "scaler = MinMaxScaler()\n",
    "img = cv2.imread(\"C:/Users/devro/Desktop/Jupyter/digits_new/0.png\")\n",
    "#cv2.imshow('img1',img)\n",
    "print(\"Original image shape :\",img.shape)\n",
    "img = cv2.resize(img,(1200,240))\n",
    "imgray = cv2.cvtColor(img,cv2.COLOR_BGR2GRAY)\n",
    "#cv2.imshow('imgray',imgray)\n",
    "#cv2.imshow('img',img)\n",
    "print(\"New image shape :\",img.shape)\n",
    "print(\"Gray scale image shape :\",imgray.shape)\n",
    "path = \"C:/Users/devro/Desktop/Jupyter/digits_new/individual\"\n",
    "x_new_norm = np.zeros((5,28,28))\n",
    "x_new = np.zeros((5,28,28))\n",
    "for i in range(0,5):\n",
    "    imcrop = imgray[0:300,250*i:250*(i+1)]\n",
    "    #cv2.imshow('cropped', imcrop)\n",
    "    imcrop = cv2.resize(imcrop,(28,28))\n",
    "    #print(imcrop.shape)\n",
    "    #cv2.imwrite(os.path.join(path,'temp'+str(i)+'.png'),imcrop)\n",
    "    x_new[i] = np.array(imcrop)\n",
    "    #x_new_norm[i] = np.array(imcrop)\n",
    "    x_new_norm[i] = scaler.fit_transform(x_new[i])\n",
    "        \n",
    "\n",
    "print(x_new_norm.shape)\n",
    "\n"
   ]
  },
  {
   "cell_type": "code",
   "execution_count": null,
   "metadata": {},
   "outputs": [],
   "source": [
    "x_new_reshaped = np.reshape(x_new_norm,(-1,784))\n",
    "preds = model.predict(x_new_reshaped)\n",
    "#indices = np.random.choice(range(x_test.shape[0]),10,replace=False)\n",
    "#x = x_new[indices]\n",
    "#y = y_new[indices]\n",
    "p = preds\n",
    "fig = plt.figure(figsize=(10,5))\n",
    "for i in range(5):\n",
    "    plt.subplot(2,5,i+1)\n",
    "    plt.imshow(x_new[i],cmap='gray')\n",
    "    plt.xticks([])\n",
    "    plt.yticks([])\n",
    "    plt.xlabel(classes[np.argmax(p[i])])\n",
    "    print(classes[np.argmax(p[i])])\n",
    "plt.show()"
   ]
  },
  {
   "cell_type": "code",
   "execution_count": null,
   "metadata": {},
   "outputs": [],
   "source": []
  },
  {
   "cell_type": "code",
   "execution_count": null,
   "metadata": {},
   "outputs": [],
   "source": []
  }
 ],
 "metadata": {
  "kernelspec": {
   "display_name": "Python 3",
   "language": "python",
   "name": "python3"
  },
  "language_info": {
   "codemirror_mode": {
    "name": "ipython",
    "version": 3
   },
   "file_extension": ".py",
   "mimetype": "text/x-python",
   "name": "python",
   "nbconvert_exporter": "python",
   "pygments_lexer": "ipython3",
   "version": "3.7.6"
  }
 },
 "nbformat": 4,
 "nbformat_minor": 4
}
