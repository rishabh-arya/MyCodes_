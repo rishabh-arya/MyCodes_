{
 "cells": [
  {
   "cell_type": "markdown",
   "id": "9a43c57a",
   "metadata": {},
   "source": [
    "## 1 - Hello Transformers"
   ]
  },
  {
   "cell_type": "code",
   "execution_count": 1,
   "id": "c23fce19",
   "metadata": {},
   "outputs": [
    {
     "name": "stderr",
     "output_type": "stream",
     "text": [
      "/Users/rishabharya/anaconda3/lib/python3.11/site-packages/transformers/utils/generic.py:260: UserWarning: torch.utils._pytree._register_pytree_node is deprecated. Please use torch.utils._pytree.register_pytree_node instead.\n",
      "  torch.utils._pytree._register_pytree_node(\n",
      "/Users/rishabharya/anaconda3/lib/python3.11/site-packages/transformers/utils/generic.py:260: UserWarning: torch.utils._pytree._register_pytree_node is deprecated. Please use torch.utils._pytree.register_pytree_node instead.\n",
      "  torch.utils._pytree._register_pytree_node(\n"
     ]
    }
   ],
   "source": [
    "from transformers import pipeline\n",
    "import pandas as pd\n",
    "import warnings\n",
    "import numpy as np\n",
    "import tensorflow as tf\n",
    "warnings.filterwarnings('ignore')"
   ]
  },
  {
   "cell_type": "code",
   "execution_count": 2,
   "id": "d1b4a508",
   "metadata": {},
   "outputs": [
    {
     "name": "stderr",
     "output_type": "stream",
     "text": [
      "No model was supplied, defaulted to distilbert-base-uncased-finetuned-sst-2-english and revision af0f99b (https://huggingface.co/distilbert-base-uncased-finetuned-sst-2-english).\n",
      "Using a pipeline without specifying a model name and revision in production is not recommended.\n"
     ]
    }
   ],
   "source": [
    "clf = pipeline('text-classification')"
   ]
  },
  {
   "cell_type": "code",
   "execution_count": 3,
   "id": "56f64337",
   "metadata": {},
   "outputs": [
    {
     "name": "stdout",
     "output_type": "stream",
     "text": [
      "Dear Amazon, last week I ordered an Optimus Prime action figure from your online store in Germany. Unfortunately, when I opened the package, I discovered to my horror that I had been sent an action figure of Megatron instead! As a lifelong enemy of the Decepticons, I hope you can understand my dilemma. To resolve the issue, I demand an exchange of Megatron for the Optimus Prime figure I ordered. Enclosed are copies of my records concerning this purchase. I expect to hear from you soon. Sincerely, Bumblebee.\n"
     ]
    }
   ],
   "source": [
    "text = \"\"\"Dear Amazon, last week I ordered an Optimus Prime action figure \\\n",
    "from your online store in Germany. Unfortunately, when I opened the package, \\\n",
    "I discovered to my horror that I had been sent an action figure of Megatron \\\n",
    "instead! As a lifelong enemy of the Decepticons, I hope you can understand my \\\n",
    "dilemma. To resolve the issue, I demand an exchange of Megatron for the \\\n",
    "Optimus Prime figure I ordered. Enclosed are copies of my records concerning \\\n",
    "this purchase. I expect to hear from you soon. Sincerely, Bumblebee.\"\"\"\n",
    "print(text)"
   ]
  },
  {
   "cell_type": "code",
   "execution_count": 4,
   "id": "7a6a24b3",
   "metadata": {},
   "outputs": [
    {
     "data": {
      "text/html": [
       "<div>\n",
       "<style scoped>\n",
       "    .dataframe tbody tr th:only-of-type {\n",
       "        vertical-align: middle;\n",
       "    }\n",
       "\n",
       "    .dataframe tbody tr th {\n",
       "        vertical-align: top;\n",
       "    }\n",
       "\n",
       "    .dataframe thead th {\n",
       "        text-align: right;\n",
       "    }\n",
       "</style>\n",
       "<table border=\"1\" class=\"dataframe\">\n",
       "  <thead>\n",
       "    <tr style=\"text-align: right;\">\n",
       "      <th></th>\n",
       "      <th>label</th>\n",
       "      <th>score</th>\n",
       "    </tr>\n",
       "  </thead>\n",
       "  <tbody>\n",
       "    <tr>\n",
       "      <th>0</th>\n",
       "      <td>NEGATIVE</td>\n",
       "      <td>0.901547</td>\n",
       "    </tr>\n",
       "  </tbody>\n",
       "</table>\n",
       "</div>"
      ],
      "text/plain": [
       "      label     score\n",
       "0  NEGATIVE  0.901547"
      ]
     },
     "execution_count": 4,
     "metadata": {},
     "output_type": "execute_result"
    }
   ],
   "source": [
    "output = clf(text)\n",
    "pd.DataFrame(output)"
   ]
  },
  {
   "cell_type": "code",
   "execution_count": 5,
   "id": "01b3ff00",
   "metadata": {},
   "outputs": [
    {
     "name": "stderr",
     "output_type": "stream",
     "text": [
      "No model was supplied, defaulted to dbmdz/bert-large-cased-finetuned-conll03-english and revision f2482bf (https://huggingface.co/dbmdz/bert-large-cased-finetuned-conll03-english).\n",
      "Using a pipeline without specifying a model name and revision in production is not recommended.\n",
      "Some weights of the model checkpoint at dbmdz/bert-large-cased-finetuned-conll03-english were not used when initializing BertForTokenClassification: ['bert.pooler.dense.weight', 'bert.pooler.dense.bias']\n",
      "- This IS expected if you are initializing BertForTokenClassification from the checkpoint of a model trained on another task or with another architecture (e.g. initializing a BertForSequenceClassification model from a BertForPreTraining model).\n",
      "- This IS NOT expected if you are initializing BertForTokenClassification from the checkpoint of a model that you expect to be exactly identical (initializing a BertForSequenceClassification model from a BertForSequenceClassification model).\n"
     ]
    },
    {
     "data": {
      "text/html": [
       "<div>\n",
       "<style scoped>\n",
       "    .dataframe tbody tr th:only-of-type {\n",
       "        vertical-align: middle;\n",
       "    }\n",
       "\n",
       "    .dataframe tbody tr th {\n",
       "        vertical-align: top;\n",
       "    }\n",
       "\n",
       "    .dataframe thead th {\n",
       "        text-align: right;\n",
       "    }\n",
       "</style>\n",
       "<table border=\"1\" class=\"dataframe\">\n",
       "  <thead>\n",
       "    <tr style=\"text-align: right;\">\n",
       "      <th></th>\n",
       "      <th>entity_group</th>\n",
       "      <th>score</th>\n",
       "      <th>word</th>\n",
       "      <th>start</th>\n",
       "      <th>end</th>\n",
       "    </tr>\n",
       "  </thead>\n",
       "  <tbody>\n",
       "    <tr>\n",
       "      <th>0</th>\n",
       "      <td>ORG</td>\n",
       "      <td>0.879011</td>\n",
       "      <td>Amazon</td>\n",
       "      <td>5</td>\n",
       "      <td>11</td>\n",
       "    </tr>\n",
       "    <tr>\n",
       "      <th>1</th>\n",
       "      <td>MISC</td>\n",
       "      <td>0.990859</td>\n",
       "      <td>Optimus Prime</td>\n",
       "      <td>36</td>\n",
       "      <td>49</td>\n",
       "    </tr>\n",
       "    <tr>\n",
       "      <th>2</th>\n",
       "      <td>LOC</td>\n",
       "      <td>0.999755</td>\n",
       "      <td>Germany</td>\n",
       "      <td>90</td>\n",
       "      <td>97</td>\n",
       "    </tr>\n",
       "    <tr>\n",
       "      <th>3</th>\n",
       "      <td>MISC</td>\n",
       "      <td>0.556571</td>\n",
       "      <td>Mega</td>\n",
       "      <td>208</td>\n",
       "      <td>212</td>\n",
       "    </tr>\n",
       "    <tr>\n",
       "      <th>4</th>\n",
       "      <td>PER</td>\n",
       "      <td>0.590255</td>\n",
       "      <td>##tron</td>\n",
       "      <td>212</td>\n",
       "      <td>216</td>\n",
       "    </tr>\n",
       "    <tr>\n",
       "      <th>5</th>\n",
       "      <td>ORG</td>\n",
       "      <td>0.669693</td>\n",
       "      <td>Decept</td>\n",
       "      <td>253</td>\n",
       "      <td>259</td>\n",
       "    </tr>\n",
       "    <tr>\n",
       "      <th>6</th>\n",
       "      <td>MISC</td>\n",
       "      <td>0.498348</td>\n",
       "      <td>##icons</td>\n",
       "      <td>259</td>\n",
       "      <td>264</td>\n",
       "    </tr>\n",
       "    <tr>\n",
       "      <th>7</th>\n",
       "      <td>MISC</td>\n",
       "      <td>0.775362</td>\n",
       "      <td>Megatron</td>\n",
       "      <td>350</td>\n",
       "      <td>358</td>\n",
       "    </tr>\n",
       "    <tr>\n",
       "      <th>8</th>\n",
       "      <td>MISC</td>\n",
       "      <td>0.987854</td>\n",
       "      <td>Optimus Prime</td>\n",
       "      <td>367</td>\n",
       "      <td>380</td>\n",
       "    </tr>\n",
       "    <tr>\n",
       "      <th>9</th>\n",
       "      <td>PER</td>\n",
       "      <td>0.812097</td>\n",
       "      <td>Bumblebee</td>\n",
       "      <td>502</td>\n",
       "      <td>511</td>\n",
       "    </tr>\n",
       "  </tbody>\n",
       "</table>\n",
       "</div>"
      ],
      "text/plain": [
       "  entity_group     score           word  start  end\n",
       "0          ORG  0.879011         Amazon      5   11\n",
       "1         MISC  0.990859  Optimus Prime     36   49\n",
       "2          LOC  0.999755        Germany     90   97\n",
       "3         MISC  0.556571           Mega    208  212\n",
       "4          PER  0.590255         ##tron    212  216\n",
       "5          ORG  0.669693         Decept    253  259\n",
       "6         MISC  0.498348        ##icons    259  264\n",
       "7         MISC  0.775362       Megatron    350  358\n",
       "8         MISC  0.987854  Optimus Prime    367  380\n",
       "9          PER  0.812097      Bumblebee    502  511"
      ]
     },
     "execution_count": 5,
     "metadata": {},
     "output_type": "execute_result"
    }
   ],
   "source": [
    "ner_tagger = pipeline(\"ner\",aggregation_strategy='simple')\n",
    "output = ner_tagger(text)\n",
    "pd.DataFrame(output)"
   ]
  },
  {
   "cell_type": "code",
   "execution_count": 6,
   "id": "409e7106",
   "metadata": {},
   "outputs": [
    {
     "name": "stderr",
     "output_type": "stream",
     "text": [
      "No model was supplied, defaulted to distilbert-base-cased-distilled-squad and revision 626af31 (https://huggingface.co/distilbert-base-cased-distilled-squad).\n",
      "Using a pipeline without specifying a model name and revision in production is not recommended.\n"
     ]
    },
    {
     "data": {
      "text/html": [
       "<div>\n",
       "<style scoped>\n",
       "    .dataframe tbody tr th:only-of-type {\n",
       "        vertical-align: middle;\n",
       "    }\n",
       "\n",
       "    .dataframe tbody tr th {\n",
       "        vertical-align: top;\n",
       "    }\n",
       "\n",
       "    .dataframe thead th {\n",
       "        text-align: right;\n",
       "    }\n",
       "</style>\n",
       "<table border=\"1\" class=\"dataframe\">\n",
       "  <thead>\n",
       "    <tr style=\"text-align: right;\">\n",
       "      <th></th>\n",
       "      <th>score</th>\n",
       "      <th>start</th>\n",
       "      <th>end</th>\n",
       "      <th>answer</th>\n",
       "    </tr>\n",
       "  </thead>\n",
       "  <tbody>\n",
       "    <tr>\n",
       "      <th>0</th>\n",
       "      <td>0.631292</td>\n",
       "      <td>335</td>\n",
       "      <td>358</td>\n",
       "      <td>an exchange of Megatron</td>\n",
       "    </tr>\n",
       "  </tbody>\n",
       "</table>\n",
       "</div>"
      ],
      "text/plain": [
       "      score  start  end                   answer\n",
       "0  0.631292    335  358  an exchange of Megatron"
      ]
     },
     "execution_count": 6,
     "metadata": {},
     "output_type": "execute_result"
    }
   ],
   "source": [
    "reader = pipeline('question-answering')\n",
    "ques = \"What does the customer want ?\"\n",
    "output = reader(question=ques,context=text)\n",
    "pd.DataFrame([output])"
   ]
  },
  {
   "cell_type": "code",
   "execution_count": 7,
   "id": "ea67ea53",
   "metadata": {},
   "outputs": [
    {
     "name": "stderr",
     "output_type": "stream",
     "text": [
      "No model was supplied, defaulted to sshleifer/distilbart-cnn-12-6 and revision a4f8f3e (https://huggingface.co/sshleifer/distilbart-cnn-12-6).\n",
      "Using a pipeline without specifying a model name and revision in production is not recommended.\n",
      "Your min_length=56 must be inferior than your max_length=45.\n"
     ]
    }
   ],
   "source": [
    "summarizer = pipeline('summarization')\n",
    "outputs = summarizer(text,max_length=45,clean_up_tokenization_spaces=True)"
   ]
  },
  {
   "cell_type": "code",
   "execution_count": 8,
   "id": "ea2caa5a",
   "metadata": {},
   "outputs": [
    {
     "name": "stdout",
     "output_type": "stream",
     "text": [
      " Bumblebee ordered an Optimus Prime action figure from your online store in Germany. Unfortunately, when I opened the package, I discovered to my horror that I had been sent an action figure of Megatron instead.\n"
     ]
    }
   ],
   "source": [
    "print(outputs[0]['summary_text'])"
   ]
  },
  {
   "cell_type": "code",
   "execution_count": 9,
   "id": "b615190f",
   "metadata": {},
   "outputs": [
    {
     "name": "stdout",
     "output_type": "stream",
     "text": [
      "Sehr geehrter Amazon, letzte Woche habe ich eine Optimus Prime Action Figur aus Ihrem Online-Shop in Deutschland bestellt. Leider, als ich das Paket öffnete, entdeckte ich zu meinem Entsetzen, dass ich stattdessen eine Action Figur von Megatron geschickt worden war! Als lebenslanger Feind der Decepticons, Ich hoffe, Sie können mein Dilemma verstehen. Um das Problem zu lösen, Ich fordere einen Austausch von Megatron für die Optimus Prime Figur habe ich bestellt. Eingeschlossen sind Kopien meiner Aufzeichnungen über diesen Kauf. Ich erwarte, von Ihnen bald zu hören. Aufrichtig, Bumblebee.\n"
     ]
    }
   ],
   "source": [
    "translator = pipeline(\"translation_en_to_de\", model=\"Helsinki-NLP/opus-mt-en-de\")\n",
    "outputs = translator(text,clean_up_tokenization_spaces=True,min_length=100)\n",
    "print(outputs[0]['translation_text'])"
   ]
  },
  {
   "cell_type": "code",
   "execution_count": 10,
   "id": "fd82ab13",
   "metadata": {},
   "outputs": [
    {
     "name": "stderr",
     "output_type": "stream",
     "text": [
      "No model was supplied, defaulted to gpt2 and revision 6c0e608 (https://huggingface.co/gpt2).\n",
      "Using a pipeline without specifying a model name and revision in production is not recommended.\n",
      "Setting `pad_token_id` to `eos_token_id`:50256 for open-end generation.\n"
     ]
    },
    {
     "name": "stdout",
     "output_type": "stream",
     "text": [
      "Dear Amazon, last week I ordered an Optimus Prime action figure from your online store in Germany. Unfortunately, when I opened the package, I discovered to my horror that I had been sent an action figure of Megatron instead! As a lifelong enemy of the Decepticons, I hope you can understand my dilemma. To resolve the issue, I demand an exchange of Megatron for the Optimus Prime figure I ordered. Enclosed are copies of my records concerning this purchase. I expect to hear from you soon. Sincerely, Bumblebee.\n",
      "\n",
      "Customer service response:\n",
      "Dear Bumblebee, I am sorry to hear that your order was mixed up. I will try my best to fix this as quickly as possible, but not before you get back to me to correct your mistake.\n"
     ]
    }
   ],
   "source": [
    "generator = pipeline('text-generation')\n",
    "response = \"Dear Bumblebee, I am sorry to hear that your order was mixed up.\"\n",
    "prompt = text + \"\\n\\nCustomer service response:\\n\" + response\n",
    "output = generator(prompt,max_length=200)\n",
    "print(output[0]['generated_text'])"
   ]
  },
  {
   "cell_type": "markdown",
   "id": "02723b44",
   "metadata": {},
   "source": [
    "## 2 - Text Classification"
   ]
  },
  {
   "cell_type": "code",
   "execution_count": 11,
   "id": "00dacca2",
   "metadata": {},
   "outputs": [
    {
     "name": "stdout",
     "output_type": "stream",
     "text": [
      "Total no. of Datasets available :  110147\n",
      "['acronym_identification', 'ade_corpus_v2', 'UCLNLP/adversarial_qa', 'aeslc', 'afrikaans_ner_corpus', 'ag_news', 'allenai/ai2_arc', 'air_dialogue', 'ajgt_twitter_ar', 'allegro_reviews']\n"
     ]
    }
   ],
   "source": [
    "from datasets import list_datasets\n",
    "all_datasets = list_datasets()\n",
    "print(\"Total no. of Datasets available : \",len(all_datasets))\n",
    "print(all_datasets[:10])"
   ]
  },
  {
   "cell_type": "code",
   "execution_count": 12,
   "id": "0c9931e3",
   "metadata": {},
   "outputs": [
    {
     "name": "stderr",
     "output_type": "stream",
     "text": [
      "No config specified, defaulting to: emotion/split\n",
      "Found cached dataset emotion (/Users/rishabharya/.cache/huggingface/datasets/emotion/split/1.0.0/cca5efe2dfeb58c1d098e0f9eeb200e9927d889b5a03c67097275dfb5fe463bd)\n"
     ]
    },
    {
     "data": {
      "application/vnd.jupyter.widget-view+json": {
       "model_id": "ab7c2bb2efb845a0a24c0740f1e6d514",
       "version_major": 2,
       "version_minor": 0
      },
      "text/plain": [
       "  0%|          | 0/3 [00:00<?, ?it/s]"
      ]
     },
     "metadata": {},
     "output_type": "display_data"
    }
   ],
   "source": [
    "from datasets import load_dataset\n",
    "emotions = load_dataset('emotion')"
   ]
  },
  {
   "cell_type": "code",
   "execution_count": 13,
   "id": "adc9931a",
   "metadata": {},
   "outputs": [
    {
     "data": {
      "text/plain": [
       "DatasetDict({\n",
       "    train: Dataset({\n",
       "        features: ['text', 'label'],\n",
       "        num_rows: 16000\n",
       "    })\n",
       "    validation: Dataset({\n",
       "        features: ['text', 'label'],\n",
       "        num_rows: 2000\n",
       "    })\n",
       "    test: Dataset({\n",
       "        features: ['text', 'label'],\n",
       "        num_rows: 2000\n",
       "    })\n",
       "})"
      ]
     },
     "execution_count": 13,
     "metadata": {},
     "output_type": "execute_result"
    }
   ],
   "source": [
    "emotions"
   ]
  },
  {
   "cell_type": "code",
   "execution_count": 14,
   "id": "971f0343",
   "metadata": {},
   "outputs": [
    {
     "data": {
      "text/plain": [
       "Dataset({\n",
       "    features: ['text', 'label'],\n",
       "    num_rows: 16000\n",
       "})"
      ]
     },
     "execution_count": 14,
     "metadata": {},
     "output_type": "execute_result"
    }
   ],
   "source": [
    "train_ds = emotions['train']\n",
    "train_ds"
   ]
  },
  {
   "cell_type": "code",
   "execution_count": 15,
   "id": "c6f9ced9",
   "metadata": {},
   "outputs": [
    {
     "name": "stdout",
     "output_type": "stream",
     "text": [
      "16000\n",
      "{'text': 'i didnt feel humiliated', 'label': 0}\n",
      "{'text': Value(dtype='string', id=None), 'label': ClassLabel(names=['sadness', 'joy', 'love', 'anger', 'fear', 'surprise'], id=None)}\n"
     ]
    }
   ],
   "source": [
    "print(len(train_ds))\n",
    "print(train_ds[0])\n",
    "print(train_ds.features)"
   ]
  },
  {
   "cell_type": "code",
   "execution_count": 16,
   "id": "54d0dd16",
   "metadata": {},
   "outputs": [
    {
     "name": "stdout",
     "output_type": "stream",
     "text": [
      "{'text': ['i didnt feel humiliated', 'i can go from feeling so hopeless to so damned hopeful just from being around someone who cares and is awake', 'im grabbing a minute to post i feel greedy wrong', 'i am ever feeling nostalgic about the fireplace i will know that it is still on the property', 'i am feeling grouchy'], 'label': [0, 0, 3, 2, 3]}\n"
     ]
    }
   ],
   "source": [
    "print(train_ds[:5])"
   ]
  },
  {
   "cell_type": "code",
   "execution_count": 17,
   "id": "1583cd17",
   "metadata": {},
   "outputs": [
    {
     "data": {
      "text/html": [
       "<div>\n",
       "<style scoped>\n",
       "    .dataframe tbody tr th:only-of-type {\n",
       "        vertical-align: middle;\n",
       "    }\n",
       "\n",
       "    .dataframe tbody tr th {\n",
       "        vertical-align: top;\n",
       "    }\n",
       "\n",
       "    .dataframe thead th {\n",
       "        text-align: right;\n",
       "    }\n",
       "</style>\n",
       "<table border=\"1\" class=\"dataframe\">\n",
       "  <thead>\n",
       "    <tr style=\"text-align: right;\">\n",
       "      <th></th>\n",
       "      <th>text</th>\n",
       "      <th>label</th>\n",
       "    </tr>\n",
       "  </thead>\n",
       "  <tbody>\n",
       "    <tr>\n",
       "      <th>0</th>\n",
       "      <td>i didnt feel humiliated</td>\n",
       "      <td>0</td>\n",
       "    </tr>\n",
       "    <tr>\n",
       "      <th>1</th>\n",
       "      <td>i can go from feeling so hopeless to so damned...</td>\n",
       "      <td>0</td>\n",
       "    </tr>\n",
       "    <tr>\n",
       "      <th>2</th>\n",
       "      <td>im grabbing a minute to post i feel greedy wrong</td>\n",
       "      <td>3</td>\n",
       "    </tr>\n",
       "    <tr>\n",
       "      <th>3</th>\n",
       "      <td>i am ever feeling nostalgic about the fireplac...</td>\n",
       "      <td>2</td>\n",
       "    </tr>\n",
       "    <tr>\n",
       "      <th>4</th>\n",
       "      <td>i am feeling grouchy</td>\n",
       "      <td>3</td>\n",
       "    </tr>\n",
       "    <tr>\n",
       "      <th>...</th>\n",
       "      <td>...</td>\n",
       "      <td>...</td>\n",
       "    </tr>\n",
       "    <tr>\n",
       "      <th>15995</th>\n",
       "      <td>i just had a very brief time in the beanbag an...</td>\n",
       "      <td>0</td>\n",
       "    </tr>\n",
       "    <tr>\n",
       "      <th>15996</th>\n",
       "      <td>i am now turning and i feel pathetic that i am...</td>\n",
       "      <td>0</td>\n",
       "    </tr>\n",
       "    <tr>\n",
       "      <th>15997</th>\n",
       "      <td>i feel strong and good overall</td>\n",
       "      <td>1</td>\n",
       "    </tr>\n",
       "    <tr>\n",
       "      <th>15998</th>\n",
       "      <td>i feel like this was such a rude comment and i...</td>\n",
       "      <td>3</td>\n",
       "    </tr>\n",
       "    <tr>\n",
       "      <th>15999</th>\n",
       "      <td>i know a lot but i feel so stupid because i ca...</td>\n",
       "      <td>0</td>\n",
       "    </tr>\n",
       "  </tbody>\n",
       "</table>\n",
       "<p>16000 rows × 2 columns</p>\n",
       "</div>"
      ],
      "text/plain": [
       "                                                    text  label\n",
       "0                                i didnt feel humiliated      0\n",
       "1      i can go from feeling so hopeless to so damned...      0\n",
       "2       im grabbing a minute to post i feel greedy wrong      3\n",
       "3      i am ever feeling nostalgic about the fireplac...      2\n",
       "4                                   i am feeling grouchy      3\n",
       "...                                                  ...    ...\n",
       "15995  i just had a very brief time in the beanbag an...      0\n",
       "15996  i am now turning and i feel pathetic that i am...      0\n",
       "15997                     i feel strong and good overall      1\n",
       "15998  i feel like this was such a rude comment and i...      3\n",
       "15999  i know a lot but i feel so stupid because i ca...      0\n",
       "\n",
       "[16000 rows x 2 columns]"
      ]
     },
     "execution_count": 17,
     "metadata": {},
     "output_type": "execute_result"
    }
   ],
   "source": [
    "df = pd.DataFrame(train_ds)\n",
    "df"
   ]
  },
  {
   "cell_type": "code",
   "execution_count": 18,
   "id": "b84a0926",
   "metadata": {},
   "outputs": [],
   "source": [
    "df['label_name'] = df['label'].apply(lambda x : emotions['train'].features['label'].int2str(x))"
   ]
  },
  {
   "cell_type": "code",
   "execution_count": 19,
   "id": "189b5d21",
   "metadata": {},
   "outputs": [
    {
     "data": {
      "text/html": [
       "<div>\n",
       "<style scoped>\n",
       "    .dataframe tbody tr th:only-of-type {\n",
       "        vertical-align: middle;\n",
       "    }\n",
       "\n",
       "    .dataframe tbody tr th {\n",
       "        vertical-align: top;\n",
       "    }\n",
       "\n",
       "    .dataframe thead th {\n",
       "        text-align: right;\n",
       "    }\n",
       "</style>\n",
       "<table border=\"1\" class=\"dataframe\">\n",
       "  <thead>\n",
       "    <tr style=\"text-align: right;\">\n",
       "      <th></th>\n",
       "      <th>text</th>\n",
       "      <th>label</th>\n",
       "      <th>label_name</th>\n",
       "    </tr>\n",
       "  </thead>\n",
       "  <tbody>\n",
       "    <tr>\n",
       "      <th>0</th>\n",
       "      <td>i didnt feel humiliated</td>\n",
       "      <td>0</td>\n",
       "      <td>sadness</td>\n",
       "    </tr>\n",
       "    <tr>\n",
       "      <th>1</th>\n",
       "      <td>i can go from feeling so hopeless to so damned...</td>\n",
       "      <td>0</td>\n",
       "      <td>sadness</td>\n",
       "    </tr>\n",
       "    <tr>\n",
       "      <th>2</th>\n",
       "      <td>im grabbing a minute to post i feel greedy wrong</td>\n",
       "      <td>3</td>\n",
       "      <td>anger</td>\n",
       "    </tr>\n",
       "    <tr>\n",
       "      <th>3</th>\n",
       "      <td>i am ever feeling nostalgic about the fireplac...</td>\n",
       "      <td>2</td>\n",
       "      <td>love</td>\n",
       "    </tr>\n",
       "    <tr>\n",
       "      <th>4</th>\n",
       "      <td>i am feeling grouchy</td>\n",
       "      <td>3</td>\n",
       "      <td>anger</td>\n",
       "    </tr>\n",
       "    <tr>\n",
       "      <th>...</th>\n",
       "      <td>...</td>\n",
       "      <td>...</td>\n",
       "      <td>...</td>\n",
       "    </tr>\n",
       "    <tr>\n",
       "      <th>15995</th>\n",
       "      <td>i just had a very brief time in the beanbag an...</td>\n",
       "      <td>0</td>\n",
       "      <td>sadness</td>\n",
       "    </tr>\n",
       "    <tr>\n",
       "      <th>15996</th>\n",
       "      <td>i am now turning and i feel pathetic that i am...</td>\n",
       "      <td>0</td>\n",
       "      <td>sadness</td>\n",
       "    </tr>\n",
       "    <tr>\n",
       "      <th>15997</th>\n",
       "      <td>i feel strong and good overall</td>\n",
       "      <td>1</td>\n",
       "      <td>joy</td>\n",
       "    </tr>\n",
       "    <tr>\n",
       "      <th>15998</th>\n",
       "      <td>i feel like this was such a rude comment and i...</td>\n",
       "      <td>3</td>\n",
       "      <td>anger</td>\n",
       "    </tr>\n",
       "    <tr>\n",
       "      <th>15999</th>\n",
       "      <td>i know a lot but i feel so stupid because i ca...</td>\n",
       "      <td>0</td>\n",
       "      <td>sadness</td>\n",
       "    </tr>\n",
       "  </tbody>\n",
       "</table>\n",
       "<p>16000 rows × 3 columns</p>\n",
       "</div>"
      ],
      "text/plain": [
       "                                                    text  label label_name\n",
       "0                                i didnt feel humiliated      0    sadness\n",
       "1      i can go from feeling so hopeless to so damned...      0    sadness\n",
       "2       im grabbing a minute to post i feel greedy wrong      3      anger\n",
       "3      i am ever feeling nostalgic about the fireplac...      2       love\n",
       "4                                   i am feeling grouchy      3      anger\n",
       "...                                                  ...    ...        ...\n",
       "15995  i just had a very brief time in the beanbag an...      0    sadness\n",
       "15996  i am now turning and i feel pathetic that i am...      0    sadness\n",
       "15997                     i feel strong and good overall      1        joy\n",
       "15998  i feel like this was such a rude comment and i...      3      anger\n",
       "15999  i know a lot but i feel so stupid because i ca...      0    sadness\n",
       "\n",
       "[16000 rows x 3 columns]"
      ]
     },
     "execution_count": 19,
     "metadata": {},
     "output_type": "execute_result"
    }
   ],
   "source": [
    "df"
   ]
  },
  {
   "cell_type": "code",
   "execution_count": 20,
   "id": "73be23aa",
   "metadata": {},
   "outputs": [
    {
     "data": {
      "image/png": "[encoded data removed]",
      "text/plain": [
       "<Figure size 640x480 with 1 Axes>"
      ]
     },
     "metadata": {},
     "output_type": "display_data"
    }
   ],
   "source": [
    "import matplotlib.pyplot as plt\n",
    "df['label_name'].value_counts(ascending=True).plot.barh()\n",
    "plt.title(\"Frequency of Classes\")\n",
    "plt.show()"
   ]
  },
  {
   "cell_type": "code",
   "execution_count": 21,
   "id": "b823869e",
   "metadata": {},
   "outputs": [
    {
     "data": {
      "image/png": "[encoded data removed]",
      "text/plain": [
       "<Figure size 640x480 with 1 Axes>"
      ]
     },
     "metadata": {},
     "output_type": "display_data"
    }
   ],
   "source": [
    "df[\"Words Per Tweet\"] = df[\"text\"].str.split().apply(len)\n",
    "df.boxplot(\"Words Per Tweet\", by=\"label_name\", grid=False,\n",
    "          showfliers=False, color=\"black\")\n",
    "plt.suptitle(\"\")\n",
    "plt.xlabel(\"\")\n",
    "plt.show()"
   ]
  },
  {
   "cell_type": "code",
   "execution_count": 22,
   "id": "560230d4",
   "metadata": {},
   "outputs": [],
   "source": [
    "emotions.reset_format()"
   ]
  },
  {
   "cell_type": "code",
   "execution_count": 23,
   "id": "e63867b9",
   "metadata": {},
   "outputs": [
    {
     "name": "stdout",
     "output_type": "stream",
     "text": [
      "['T', 'o', 'k', 'e', 'n', 'i', 'z', 'i', 'n', 'g', ' ', 't', 'e', 'x', 't', ' ', 'i', 's', ' ', 'a', ' ', 'c', 'o', 'r', 'e', ' ', 't', 'a', 's', 'k', ' ', 'o', 'f', ' ', 'N', 'L', 'P', '.']\n"
     ]
    }
   ],
   "source": [
    "text = \"Tokenizing text is a core task of NLP.\"\n",
    "tokenized_text = list(text)\n",
    "print(tokenized_text)"
   ]
  },
  {
   "cell_type": "code",
   "execution_count": 24,
   "id": "d900e6fb",
   "metadata": {},
   "outputs": [],
   "source": [
    "token2idx = {ch : i for i,ch in enumerate(sorted(set(tokenized_text)))}"
   ]
  },
  {
   "cell_type": "code",
   "execution_count": 25,
   "id": "3701567e",
   "metadata": {},
   "outputs": [
    {
     "data": {
      "text/plain": [
       "{' ': 0,\n",
       " '.': 1,\n",
       " 'L': 2,\n",
       " 'N': 3,\n",
       " 'P': 4,\n",
       " 'T': 5,\n",
       " 'a': 6,\n",
       " 'c': 7,\n",
       " 'e': 8,\n",
       " 'f': 9,\n",
       " 'g': 10,\n",
       " 'i': 11,\n",
       " 'k': 12,\n",
       " 'n': 13,\n",
       " 'o': 14,\n",
       " 'r': 15,\n",
       " 's': 16,\n",
       " 't': 17,\n",
       " 'x': 18,\n",
       " 'z': 19}"
      ]
     },
     "execution_count": 25,
     "metadata": {},
     "output_type": "execute_result"
    }
   ],
   "source": [
    "token2idx"
   ]
  },
  {
   "cell_type": "code",
   "execution_count": 26,
   "id": "083a91bb",
   "metadata": {},
   "outputs": [
    {
     "name": "stdout",
     "output_type": "stream",
     "text": [
      "[5, 14, 12, 8, 13, 11, 19, 11, 13, 10, 0, 17, 8, 18, 17, 0, 11, 16, 0, 6, 0, 7, 14, 15, 8, 0, 17, 6, 16, 12, 0, 14, 9, 0, 3, 2, 4, 1]\n"
     ]
    }
   ],
   "source": [
    "input_ids = [token2idx[ch] for ch in tokenized_text]\n",
    "print(input_ids)"
   ]
  },
  {
   "cell_type": "code",
   "execution_count": 27,
   "id": "bb0dcca5",
   "metadata": {},
   "outputs": [
    {
     "data": {
      "text/plain": [
       "TensorShape([38, 20])"
      ]
     },
     "execution_count": 27,
     "metadata": {},
     "output_type": "execute_result"
    }
   ],
   "source": [
    "one_hot_encodings = tf.one_hot(input_ids,depth=len(token2idx))\n",
    "one_hot_encodings.shape"
   ]
  },
  {
   "cell_type": "code",
   "execution_count": 28,
   "id": "11b0f4db",
   "metadata": {},
   "outputs": [
    {
     "data": {
      "text/plain": [
       "<tf.Tensor: shape=(20,), dtype=float32, numpy=\n",
       "array([0., 0., 0., 0., 0., 1., 0., 0., 0., 0., 0., 0., 0., 0., 0., 0., 0.,\n",
       "       0., 0., 0.], dtype=float32)>"
      ]
     },
     "execution_count": 28,
     "metadata": {},
     "output_type": "execute_result"
    }
   ],
   "source": [
    "one_hot_encodings[0]"
   ]
  },
  {
   "cell_type": "code",
   "execution_count": 29,
   "id": "64bcc9e7",
   "metadata": {},
   "outputs": [
    {
     "name": "stdout",
     "output_type": "stream",
     "text": [
      "['Tokenizing', 'text', 'is', 'a', 'core', 'task', 'of', 'NLP.']\n"
     ]
    }
   ],
   "source": [
    "tokenized_text = text.split()\n",
    "print(tokenized_text)"
   ]
  },
  {
   "cell_type": "code",
   "execution_count": 30,
   "id": "6bd4f638",
   "metadata": {},
   "outputs": [],
   "source": [
    "from transformers import AutoTokenizer\n",
    "model_ckpt = 'distilbert-base-uncased'\n",
    "tokenizer = AutoTokenizer.from_pretrained(model_ckpt)"
   ]
  },
  {
   "cell_type": "code",
   "execution_count": 31,
   "id": "23e47e4f",
   "metadata": {},
   "outputs": [
    {
     "data": {
      "text/plain": [
       "{'input_ids': [101, 19204, 6026, 3793, 2003, 1037, 4563, 4708, 1997, 17953, 2361, 1012, 102], 'attention_mask': [1, 1, 1, 1, 1, 1, 1, 1, 1, 1, 1, 1, 1]}"
      ]
     },
     "execution_count": 31,
     "metadata": {},
     "output_type": "execute_result"
    }
   ],
   "source": [
    "encoded_text = tokenizer(text)\n",
    "encoded_text"
   ]
  },
  {
   "cell_type": "code",
   "execution_count": 32,
   "id": "809dc5e7",
   "metadata": {},
   "outputs": [
    {
     "data": {
      "text/plain": [
       "['[CLS]',\n",
       " 'token',\n",
       " '##izing',\n",
       " 'text',\n",
       " 'is',\n",
       " 'a',\n",
       " 'core',\n",
       " 'task',\n",
       " 'of',\n",
       " 'nl',\n",
       " '##p',\n",
       " '.',\n",
       " '[SEP]']"
      ]
     },
     "execution_count": 32,
     "metadata": {},
     "output_type": "execute_result"
    }
   ],
   "source": [
    "tokens = tokenizer.convert_ids_to_tokens(encoded_text.input_ids)\n",
    "tokens"
   ]
  },
  {
   "cell_type": "code",
   "execution_count": 33,
   "id": "0b8c405e",
   "metadata": {},
   "outputs": [
    {
     "name": "stdout",
     "output_type": "stream",
     "text": [
      "[CLS] tokenizing text is a core task of nlp. [SEP]\n"
     ]
    }
   ],
   "source": [
    "print(tokenizer.convert_tokens_to_string(tokens))"
   ]
  },
  {
   "cell_type": "code",
   "execution_count": 34,
   "id": "0f5d3b89",
   "metadata": {},
   "outputs": [
    {
     "data": {
      "text/plain": [
       "30522"
      ]
     },
     "execution_count": 34,
     "metadata": {},
     "output_type": "execute_result"
    }
   ],
   "source": [
    "tokenizer.vocab_size"
   ]
  },
  {
   "cell_type": "code",
   "execution_count": 35,
   "id": "61ded15a",
   "metadata": {},
   "outputs": [
    {
     "data": {
      "text/plain": [
       "512"
      ]
     },
     "execution_count": 35,
     "metadata": {},
     "output_type": "execute_result"
    }
   ],
   "source": [
    "tokenizer.model_max_length"
   ]
  },
  {
   "cell_type": "code",
   "execution_count": 36,
   "id": "6e9627db",
   "metadata": {},
   "outputs": [
    {
     "data": {
      "text/plain": [
       "['input_ids', 'attention_mask']"
      ]
     },
     "execution_count": 36,
     "metadata": {},
     "output_type": "execute_result"
    }
   ],
   "source": [
    "tokenizer.model_input_names"
   ]
  },
  {
   "cell_type": "code",
   "execution_count": 37,
   "id": "cd06587d",
   "metadata": {},
   "outputs": [],
   "source": [
    "def tokenize(batch):\n",
    "    return tokenizer(batch['text'],padding=True,truncation=True)"
   ]
  },
  {
   "cell_type": "code",
   "execution_count": 38,
   "id": "da8ac1f7",
   "metadata": {},
   "outputs": [
    {
     "name": "stdout",
     "output_type": "stream",
     "text": [
      "{'input_ids': [[101, 1045, 2134, 2102, 2514, 26608, 102, 0, 0, 0, 0, 0, 0, 0, 0, 0, 0, 0, 0, 0, 0, 0, 0], [101, 1045, 2064, 2175, 2013, 3110, 2061, 20625, 2000, 2061, 9636, 17772, 2074, 2013, 2108, 2105, 2619, 2040, 14977, 1998, 2003, 8300, 102]], 'attention_mask': [[1, 1, 1, 1, 1, 1, 1, 0, 0, 0, 0, 0, 0, 0, 0, 0, 0, 0, 0, 0, 0, 0, 0], [1, 1, 1, 1, 1, 1, 1, 1, 1, 1, 1, 1, 1, 1, 1, 1, 1, 1, 1, 1, 1, 1, 1]]}\n"
     ]
    }
   ],
   "source": [
    "print(tokenize(emotions['train'][:2]))"
   ]
  },
  {
   "cell_type": "code",
   "execution_count": 39,
   "id": "77db5c75",
   "metadata": {},
   "outputs": [
    {
     "name": "stderr",
     "output_type": "stream",
     "text": [
      "Loading cached processed dataset at /Users/rishabharya/.cache/huggingface/datasets/emotion/split/1.0.0/cca5efe2dfeb58c1d098e0f9eeb200e9927d889b5a03c67097275dfb5fe463bd/cache-fa4aa40a59b5b962.arrow\n",
      "Loading cached processed dataset at /Users/rishabharya/.cache/huggingface/datasets/emotion/split/1.0.0/cca5efe2dfeb58c1d098e0f9eeb200e9927d889b5a03c67097275dfb5fe463bd/cache-82a66b0d1922ba26.arrow\n",
      "Loading cached processed dataset at /Users/rishabharya/.cache/huggingface/datasets/emotion/split/1.0.0/cca5efe2dfeb58c1d098e0f9eeb200e9927d889b5a03c67097275dfb5fe463bd/cache-f17817640688067f.arrow\n"
     ]
    },
    {
     "name": "stdout",
     "output_type": "stream",
     "text": [
      "['text', 'label', 'input_ids', 'attention_mask']\n"
     ]
    }
   ],
   "source": [
    "emotions_encoded = emotions.map(tokenize, batched=True,batch_size=None)\n",
    "print(emotions_encoded[\"train\"].column_names)"
   ]
  },
  {
   "cell_type": "code",
   "execution_count": 40,
   "id": "c7cf280c",
   "metadata": {},
   "outputs": [
    {
     "data": {
      "text/html": [
       "<div>\n",
       "<style scoped>\n",
       "    .dataframe tbody tr th:only-of-type {\n",
       "        vertical-align: middle;\n",
       "    }\n",
       "\n",
       "    .dataframe tbody tr th {\n",
       "        vertical-align: top;\n",
       "    }\n",
       "\n",
       "    .dataframe thead th {\n",
       "        text-align: right;\n",
       "    }\n",
       "</style>\n",
       "<table border=\"1\" class=\"dataframe\">\n",
       "  <thead>\n",
       "    <tr style=\"text-align: right;\">\n",
       "      <th></th>\n",
       "      <th>text</th>\n",
       "      <th>label</th>\n",
       "      <th>input_ids</th>\n",
       "      <th>attention_mask</th>\n",
       "    </tr>\n",
       "  </thead>\n",
       "  <tbody>\n",
       "    <tr>\n",
       "      <th>0</th>\n",
       "      <td>i didnt feel humiliated</td>\n",
       "      <td>0</td>\n",
       "      <td>[101, 1045, 2134, 2102, 2514, 26608, 102, 0, 0...</td>\n",
       "      <td>[1, 1, 1, 1, 1, 1, 1, 0, 0, 0, 0, 0, 0, 0, 0, ...</td>\n",
       "    </tr>\n",
       "    <tr>\n",
       "      <th>1</th>\n",
       "      <td>i can go from feeling so hopeless to so damned...</td>\n",
       "      <td>0</td>\n",
       "      <td>[101, 1045, 2064, 2175, 2013, 3110, 2061, 2062...</td>\n",
       "      <td>[1, 1, 1, 1, 1, 1, 1, 1, 1, 1, 1, 1, 1, 1, 1, ...</td>\n",
       "    </tr>\n",
       "    <tr>\n",
       "      <th>2</th>\n",
       "      <td>im grabbing a minute to post i feel greedy wrong</td>\n",
       "      <td>3</td>\n",
       "      <td>[101, 10047, 9775, 1037, 3371, 2000, 2695, 104...</td>\n",
       "      <td>[1, 1, 1, 1, 1, 1, 1, 1, 1, 1, 1, 1, 0, 0, 0, ...</td>\n",
       "    </tr>\n",
       "    <tr>\n",
       "      <th>3</th>\n",
       "      <td>i am ever feeling nostalgic about the fireplac...</td>\n",
       "      <td>2</td>\n",
       "      <td>[101, 1045, 2572, 2412, 3110, 16839, 9080, 128...</td>\n",
       "      <td>[1, 1, 1, 1, 1, 1, 1, 1, 1, 1, 1, 1, 1, 1, 1, ...</td>\n",
       "    </tr>\n",
       "    <tr>\n",
       "      <th>4</th>\n",
       "      <td>i am feeling grouchy</td>\n",
       "      <td>3</td>\n",
       "      <td>[101, 1045, 2572, 3110, 24665, 7140, 11714, 10...</td>\n",
       "      <td>[1, 1, 1, 1, 1, 1, 1, 1, 0, 0, 0, 0, 0, 0, 0, ...</td>\n",
       "    </tr>\n",
       "    <tr>\n",
       "      <th>...</th>\n",
       "      <td>...</td>\n",
       "      <td>...</td>\n",
       "      <td>...</td>\n",
       "      <td>...</td>\n",
       "    </tr>\n",
       "    <tr>\n",
       "      <th>15995</th>\n",
       "      <td>i just had a very brief time in the beanbag an...</td>\n",
       "      <td>0</td>\n",
       "      <td>[101, 1045, 2074, 2018, 1037, 2200, 4766, 2051...</td>\n",
       "      <td>[1, 1, 1, 1, 1, 1, 1, 1, 1, 1, 1, 1, 1, 1, 1, ...</td>\n",
       "    </tr>\n",
       "    <tr>\n",
       "      <th>15996</th>\n",
       "      <td>i am now turning and i feel pathetic that i am...</td>\n",
       "      <td>0</td>\n",
       "      <td>[101, 1045, 2572, 2085, 3810, 1998, 1045, 2514...</td>\n",
       "      <td>[1, 1, 1, 1, 1, 1, 1, 1, 1, 1, 1, 1, 1, 1, 1, ...</td>\n",
       "    </tr>\n",
       "    <tr>\n",
       "      <th>15997</th>\n",
       "      <td>i feel strong and good overall</td>\n",
       "      <td>1</td>\n",
       "      <td>[101, 1045, 2514, 2844, 1998, 2204, 3452, 102,...</td>\n",
       "      <td>[1, 1, 1, 1, 1, 1, 1, 1, 0, 0, 0, 0, 0, 0, 0, ...</td>\n",
       "    </tr>\n",
       "    <tr>\n",
       "      <th>15998</th>\n",
       "      <td>i feel like this was such a rude comment and i...</td>\n",
       "      <td>3</td>\n",
       "      <td>[101, 1045, 2514, 2066, 2023, 2001, 2107, 1037...</td>\n",
       "      <td>[1, 1, 1, 1, 1, 1, 1, 1, 1, 1, 1, 1, 1, 1, 1, ...</td>\n",
       "    </tr>\n",
       "    <tr>\n",
       "      <th>15999</th>\n",
       "      <td>i know a lot but i feel so stupid because i ca...</td>\n",
       "      <td>0</td>\n",
       "      <td>[101, 1045, 2113, 1037, 2843, 2021, 1045, 2514...</td>\n",
       "      <td>[1, 1, 1, 1, 1, 1, 1, 1, 1, 1, 1, 1, 1, 1, 1, ...</td>\n",
       "    </tr>\n",
       "  </tbody>\n",
       "</table>\n",
       "<p>16000 rows × 4 columns</p>\n",
       "</div>"
      ],
      "text/plain": [
       "                                                    text  label  \\\n",
       "0                                i didnt feel humiliated      0   \n",
       "1      i can go from feeling so hopeless to so damned...      0   \n",
       "2       im grabbing a minute to post i feel greedy wrong      3   \n",
       "3      i am ever feeling nostalgic about the fireplac...      2   \n",
       "4                                   i am feeling grouchy      3   \n",
       "...                                                  ...    ...   \n",
       "15995  i just had a very brief time in the beanbag an...      0   \n",
       "15996  i am now turning and i feel pathetic that i am...      0   \n",
       "15997                     i feel strong and good overall      1   \n",
       "15998  i feel like this was such a rude comment and i...      3   \n",
       "15999  i know a lot but i feel so stupid because i ca...      0   \n",
       "\n",
       "                                               input_ids  \\\n",
       "0      [101, 1045, 2134, 2102, 2514, 26608, 102, 0, 0...   \n",
       "1      [101, 1045, 2064, 2175, 2013, 3110, 2061, 2062...   \n",
       "2      [101, 10047, 9775, 1037, 3371, 2000, 2695, 104...   \n",
       "3      [101, 1045, 2572, 2412, 3110, 16839, 9080, 128...   \n",
       "4      [101, 1045, 2572, 3110, 24665, 7140, 11714, 10...   \n",
       "...                                                  ...   \n",
       "15995  [101, 1045, 2074, 2018, 1037, 2200, 4766, 2051...   \n",
       "15996  [101, 1045, 2572, 2085, 3810, 1998, 1045, 2514...   \n",
       "15997  [101, 1045, 2514, 2844, 1998, 2204, 3452, 102,...   \n",
       "15998  [101, 1045, 2514, 2066, 2023, 2001, 2107, 1037...   \n",
       "15999  [101, 1045, 2113, 1037, 2843, 2021, 1045, 2514...   \n",
       "\n",
       "                                          attention_mask  \n",
       "0      [1, 1, 1, 1, 1, 1, 1, 0, 0, 0, 0, 0, 0, 0, 0, ...  \n",
       "1      [1, 1, 1, 1, 1, 1, 1, 1, 1, 1, 1, 1, 1, 1, 1, ...  \n",
       "2      [1, 1, 1, 1, 1, 1, 1, 1, 1, 1, 1, 1, 0, 0, 0, ...  \n",
       "3      [1, 1, 1, 1, 1, 1, 1, 1, 1, 1, 1, 1, 1, 1, 1, ...  \n",
       "4      [1, 1, 1, 1, 1, 1, 1, 1, 0, 0, 0, 0, 0, 0, 0, ...  \n",
       "...                                                  ...  \n",
       "15995  [1, 1, 1, 1, 1, 1, 1, 1, 1, 1, 1, 1, 1, 1, 1, ...  \n",
       "15996  [1, 1, 1, 1, 1, 1, 1, 1, 1, 1, 1, 1, 1, 1, 1, ...  \n",
       "15997  [1, 1, 1, 1, 1, 1, 1, 1, 0, 0, 0, 0, 0, 0, 0, ...  \n",
       "15998  [1, 1, 1, 1, 1, 1, 1, 1, 1, 1, 1, 1, 1, 1, 1, ...  \n",
       "15999  [1, 1, 1, 1, 1, 1, 1, 1, 1, 1, 1, 1, 1, 1, 1, ...  \n",
       "\n",
       "[16000 rows x 4 columns]"
      ]
     },
     "execution_count": 40,
     "metadata": {},
     "output_type": "execute_result"
    }
   ],
   "source": [
    "pd.DataFrame(emotions_encoded[\"train\"])"
   ]
  },
  {
   "cell_type": "code",
   "execution_count": 41,
   "id": "5dae0b6a",
   "metadata": {},
   "outputs": [
    {
     "name": "stderr",
     "output_type": "stream",
     "text": [
      "Some weights of the PyTorch model were not used when initializing the TF 2.0 model TFDistilBertModel: ['vocab_projector.bias', 'vocab_layer_norm.weight', 'vocab_transform.bias', 'vocab_transform.weight', 'vocab_projector.weight', 'vocab_layer_norm.bias']\n",
      "- This IS expected if you are initializing TFDistilBertModel from a PyTorch model trained on another task or with another architecture (e.g. initializing a TFBertForSequenceClassification model from a BertForPreTraining model).\n",
      "- This IS NOT expected if you are initializing TFDistilBertModel from a PyTorch model that you expect to be exactly identical (e.g. initializing a TFBertForSequenceClassification model from a BertForSequenceClassification model).\n",
      "All the weights of TFDistilBertModel were initialized from the PyTorch model.\n",
      "If your task is similar to the task the model of the checkpoint was trained on, you can already use TFDistilBertModel for predictions without further training.\n"
     ]
    }
   ],
   "source": [
    "from transformers import TFAutoModel\n",
    "model_ckpt = \"distilbert-base-uncased\"\n",
    "device = tf.device(\"/GPU:0\" if tf.config.list_physical_devices(\"GPU\") else \"/CPU:0\")\n",
    "model = TFAutoModel.from_pretrained(model_ckpt,from_pt=True)"
   ]
  },
  {
   "cell_type": "code",
   "execution_count": 42,
   "id": "e636004d",
   "metadata": {},
   "outputs": [
    {
     "data": {
      "text/plain": [
       "{'input_ids': <tf.Tensor: shape=(1, 6), dtype=int32, numpy=array([[ 101, 2023, 2003, 1037, 3231,  102]], dtype=int32)>, 'attention_mask': <tf.Tensor: shape=(1, 6), dtype=int32, numpy=array([[1, 1, 1, 1, 1, 1]], dtype=int32)>}"
      ]
     },
     "execution_count": 42,
     "metadata": {},
     "output_type": "execute_result"
    }
   ],
   "source": [
    "text = \"this is a test\"\n",
    "inputs = tokenizer(text,return_tensors=\"tf\")\n",
    "inputs"
   ]
  },
  {
   "cell_type": "code",
   "execution_count": 43,
   "id": "3da3b6a3",
   "metadata": {},
   "outputs": [
    {
     "data": {
      "text/plain": [
       "<tf.Tensor: shape=(1, 6), dtype=int32, numpy=array([[ 101, 2023, 2003, 1037, 3231,  102]], dtype=int32)>"
      ]
     },
     "execution_count": 43,
     "metadata": {},
     "output_type": "execute_result"
    }
   ],
   "source": [
    "inputs['input_ids']"
   ]
  },
  {
   "cell_type": "code",
   "execution_count": 44,
   "id": "ec50ec98",
   "metadata": {},
   "outputs": [
    {
     "data": {
      "text/plain": [
       "['[CLS]', 'this', 'is', 'a', 'test', '[SEP]']"
      ]
     },
     "execution_count": 44,
     "metadata": {},
     "output_type": "execute_result"
    }
   ],
   "source": [
    "tokenizer.convert_ids_to_tokens(np.array(inputs.input_ids)[0])"
   ]
  },
  {
   "cell_type": "code",
   "execution_count": 45,
   "id": "55a56a81",
   "metadata": {},
   "outputs": [
    {
     "data": {
      "text/plain": [
       "TFBaseModelOutput(last_hidden_state=<tf.Tensor: shape=(1, 6, 768), dtype=float32, numpy=\n",
       "array([[[-0.15651295, -0.18619652,  0.05277672, ..., -0.11881152,\n",
       "          0.06620596,  0.5470157 ],\n",
       "        [-0.3575137 , -0.6483561 , -0.06178983, ..., -0.3040195 ,\n",
       "          0.35076842,  0.52206826],\n",
       "        [-0.2771846 , -0.4459446 ,  0.1818429 , ..., -0.09477936,\n",
       "         -0.00757474,  0.9958283 ],\n",
       "        [-0.28408554, -0.39167666,  0.37525564, ..., -0.2150574 ,\n",
       "         -0.11725193,  1.0526481 ],\n",
       "        [ 0.26608273, -0.50936395, -0.3180135 , ..., -0.4202983 ,\n",
       "          0.01444202, -0.21489483],\n",
       "        [ 0.9440611 ,  0.01117271, -0.47139424, ...,  0.14394692,\n",
       "         -0.7287839 , -0.16194962]]], dtype=float32)>, hidden_states=None, attentions=None)"
      ]
     },
     "execution_count": 45,
     "metadata": {},
     "output_type": "execute_result"
    }
   ],
   "source": [
    "outputs = model(inputs)\n",
    "outputs"
   ]
  },
  {
   "cell_type": "code",
   "execution_count": 46,
   "id": "805505b5",
   "metadata": {},
   "outputs": [
    {
     "data": {
      "text/plain": [
       "TensorShape([1, 6, 768])"
      ]
     },
     "execution_count": 46,
     "metadata": {},
     "output_type": "execute_result"
    }
   ],
   "source": [
    "outputs.last_hidden_state.shape"
   ]
  },
  {
   "cell_type": "code",
   "execution_count": 47,
   "id": "d7468d99",
   "metadata": {},
   "outputs": [
    {
     "data": {
      "text/plain": [
       "array([[[-0.15651295, -0.18619652,  0.05277672, ..., -0.11881152,\n",
       "          0.06620596,  0.5470157 ],\n",
       "        [-0.3575137 , -0.6483561 , -0.06178983, ..., -0.3040195 ,\n",
       "          0.35076842,  0.52206826],\n",
       "        [-0.2771846 , -0.4459446 ,  0.1818429 , ..., -0.09477936,\n",
       "         -0.00757474,  0.9958283 ],\n",
       "        [-0.28408554, -0.39167666,  0.37525564, ..., -0.2150574 ,\n",
       "         -0.11725193,  1.0526481 ],\n",
       "        [ 0.26608273, -0.50936395, -0.3180135 , ..., -0.4202983 ,\n",
       "          0.01444202, -0.21489483],\n",
       "        [ 0.9440611 ,  0.01117271, -0.47139424, ...,  0.14394692,\n",
       "         -0.7287839 , -0.16194962]]], dtype=float32)"
      ]
     },
     "execution_count": 47,
     "metadata": {},
     "output_type": "execute_result"
    }
   ],
   "source": [
    "outputs.last_hidden_state.numpy()"
   ]
  },
  {
   "cell_type": "code",
   "execution_count": 48,
   "id": "4eb86d27",
   "metadata": {},
   "outputs": [
    {
     "data": {
      "text/plain": [
       "array([[-1.56512946e-01, -1.86196521e-01,  5.27767166e-02,\n",
       "        -1.06344089e-01, -1.31630152e-02, -2.69437999e-01,\n",
       "         9.22702923e-02,  1.58652872e-01, -9.86747146e-02,\n",
       "        -2.95723021e-01, -1.37878537e-01, -3.80611792e-02,\n",
       "        -5.36169969e-02,  1.30451977e-01,  3.97127569e-02,\n",
       "         8.68933871e-02,  2.50870697e-02,  8.61768052e-03,\n",
       "         2.52425730e-01, -1.36781216e-01, -1.21373281e-01,\n",
       "        -1.38957888e-01, -1.34264648e-01, -9.08444896e-02,\n",
       "         3.05091180e-02, -3.86192948e-02,  1.14854723e-01,\n",
       "        -5.79964966e-02,  1.01310454e-01,  9.79197621e-02,\n",
       "         3.87418084e-03,  1.19504899e-01, -6.63392246e-02,\n",
       "        -2.12571677e-02,  1.30903736e-01,  2.65200175e-02,\n",
       "         2.36243665e-01,  5.02198115e-02,  1.35029331e-02,\n",
       "        -2.13794298e-02, -8.83227438e-02, -9.83602554e-02,\n",
       "         2.26749077e-01, -2.49399841e-02, -1.62608668e-01,\n",
       "        -8.37870985e-02, -1.96290541e+00, -1.45407155e-01,\n",
       "        -1.55823097e-01, -3.54869664e-01, -4.59713265e-02,\n",
       "         2.00344026e-01,  1.30798407e-02,  4.96498078e-01,\n",
       "         1.05870955e-01,  1.20797619e-01, -1.91178635e-01,\n",
       "         3.82802665e-01,  1.71207879e-02, -1.66276842e-02,\n",
       "         2.15249419e-01,  4.43807542e-02,  3.93324345e-03,\n",
       "         3.54163870e-02,  1.22379690e-01,  2.14587912e-01,\n",
       "         1.50145078e-02,  2.37293728e-02, -2.00371832e-01,\n",
       "         2.94821948e-01, -4.01113778e-01, -1.58269122e-01,\n",
       "        -1.83796510e-03,  9.33036059e-02, -3.38788107e-02,\n",
       "        -1.52648896e-01, -1.52214505e-02,  4.11152057e-02,\n",
       "        -9.38050225e-02,  7.32345581e-02, -2.69778147e-02,\n",
       "         2.35173598e-01,  1.95664823e-01, -9.43970084e-02,\n",
       "         1.56160071e-01,  8.46216679e-02, -9.83480215e-02,\n",
       "         1.04307402e-02,  2.05744393e-02,  5.49932241e-01,\n",
       "        -4.99894805e-02,  1.11816384e-01, -5.67228496e-02,\n",
       "         1.09381862e-01,  2.42152125e-01, -3.10202837e-01,\n",
       "         9.07879025e-02, -1.37814894e-01,  3.62127751e-01,\n",
       "         2.09961087e-01, -4.68774587e-02, -4.42435443e-01,\n",
       "         1.09900400e-01, -2.83084929e-01,  1.17673248e-01,\n",
       "        -2.17608660e-01, -3.61131430e-02,  1.48393102e-02,\n",
       "        -8.40582699e-02, -2.63641286e+00,  1.84711605e-01,\n",
       "         2.35295221e-01, -7.05722719e-03, -3.14325273e-01,\n",
       "        -1.70302168e-01,  3.73699456e-01,  1.57470062e-01,\n",
       "         6.31974116e-02,  1.60100713e-01,  7.49001205e-02,\n",
       "        -3.02336991e-01,  6.04118884e-01, -1.07161328e-03,\n",
       "         1.24613456e-02,  1.31543353e-03,  3.22609663e-01,\n",
       "         1.51193380e-01,  1.84432402e-01, -1.83044001e-03,\n",
       "         5.52419201e-02,  1.72488570e-01,  3.66441101e-01,\n",
       "         2.72581190e-01, -1.27200093e-02, -3.08675826e-01,\n",
       "        -1.12463981e-02, -1.07108340e-01, -9.71859172e-02,\n",
       "        -3.26712519e-01,  4.64467220e-02, -1.58922210e-01,\n",
       "        -3.53223979e-02, -2.96208572e+00,  2.89530784e-01,\n",
       "         3.56262356e-01, -2.30081547e-02, -2.38577634e-01,\n",
       "        -2.58657932e-01,  1.09318197e-01,  2.44082257e-01,\n",
       "         3.10924947e-02,  3.70527446e-01, -2.85381436e-01,\n",
       "         1.43990219e-01, -2.20062599e-01, -5.57417721e-02,\n",
       "        -1.04056083e-01, -3.42354435e-03, -1.14063233e-01,\n",
       "         9.16262120e-02,  1.73794225e-01, -4.39605415e-02,\n",
       "        -6.40879273e-02, -1.40914768e-01,  3.64987552e-03,\n",
       "        -5.36441803e-06,  3.15009683e-01,  2.06125453e-01,\n",
       "         1.19814046e-01,  1.34923726e-01, -1.66328982e-01,\n",
       "        -2.48666078e-01,  1.04328580e-01,  1.82413787e-01,\n",
       "         4.41735908e-02, -1.45883560e-01, -4.63148952e-02,\n",
       "         7.34826922e-02,  2.12786287e-01, -7.27699474e-02,\n",
       "        -5.07326126e-02,  3.87022167e-01,  6.87657744e-02,\n",
       "         8.37920904e-02,  7.66947269e-02, -8.91748667e-02,\n",
       "         3.36216420e-01, -2.08373994e-01, -9.83601063e-03,\n",
       "         2.22847164e-01, -2.09229048e-02, -6.22995645e-02,\n",
       "         1.13792256e-01, -1.53662950e-01,  3.20896804e-01,\n",
       "         9.95406806e-02, -7.01043308e-02, -3.56783032e-01,\n",
       "         2.70383433e-02,  1.23853892e-01, -1.08807683e-01,\n",
       "        -1.26559436e-02,  2.46747248e-02,  1.67255923e-02,\n",
       "        -5.35987318e-03,  3.70467114e+00,  1.25505343e-01,\n",
       "        -1.09183438e-01,  1.56299055e-01,  7.89009556e-02,\n",
       "        -5.07348292e-02,  2.70439446e-01, -1.02253236e-01,\n",
       "        -2.67423719e-01,  2.87231386e-01, -1.89793967e-02,\n",
       "         4.75037396e-02,  1.25394806e-01,  3.65126908e-01,\n",
       "        -1.06062323e-01,  3.50532860e-01,  7.49466270e-02,\n",
       "        -9.57339630e-03,  2.48675704e-01, -1.36988729e-01,\n",
       "         2.49590576e-01,  2.04883486e-01,  1.86585739e-01,\n",
       "         3.28458130e-01, -1.18784940e+00, -3.77116427e-02,\n",
       "        -7.98787028e-02,  9.10557508e-02,  3.39209676e-01,\n",
       "        -4.89103422e-02,  9.24580544e-02,  1.42218739e-01,\n",
       "         9.75436717e-03,  1.42071724e-01,  4.23564296e-03,\n",
       "        -4.31881212e-02,  4.04598385e-01,  5.87085113e-02,\n",
       "         1.86714873e-01, -2.07971588e-01,  6.55739233e-02,\n",
       "         3.60669754e-02,  7.84529373e-03,  6.99468404e-02,\n",
       "        -1.37071118e-01,  3.58339772e-02, -1.17065251e-01,\n",
       "        -7.87822306e-02, -2.12602988e-01, -8.86035860e-02,\n",
       "        -1.08141102e-01,  2.12542005e-02,  1.71527881e-02,\n",
       "        -1.45293415e-01,  2.46245340e-01, -3.44436109e-01,\n",
       "        -1.48412123e-01,  8.29086006e-02,  8.17401335e-02,\n",
       "        -2.06703901e-01, -1.93922937e-01, -1.67272657e-01,\n",
       "         9.34855826e-03,  1.43532053e-01,  1.12027310e-01,\n",
       "        -6.96466118e-02, -3.69136572e-01, -3.07338059e-01,\n",
       "        -4.29051781e+00, -3.33932415e-02, -5.18385172e-02,\n",
       "         1.26145199e-01,  4.35012579e-01, -2.31111035e-01,\n",
       "         2.61146247e-01,  2.06274733e-01,  2.33933806e-01,\n",
       "        -2.12748423e-01,  3.50952387e-01,  1.08362786e-01,\n",
       "        -3.65647525e-02,  1.50571108e-01, -3.90176803e-01,\n",
       "         1.95194364e-01, -8.26385319e-02, -2.14180171e-01,\n",
       "         1.66682795e-01, -1.01794370e-01, -1.49710625e-01,\n",
       "         3.91280413e-01, -5.37186116e-02,  4.63224109e-03,\n",
       "        -7.81202987e-02, -2.83647384e-02, -2.53127605e-01,\n",
       "        -1.41419113e-01, -2.65925676e-02, -1.42387152e-01,\n",
       "        -1.96660701e-02, -1.51553214e-01,  3.36052179e-02,\n",
       "        -1.01594634e-01, -2.24509776e-01, -2.25710201e+00,\n",
       "        -6.79690018e-02, -4.95260349e-03, -7.35740066e-02,\n",
       "        -2.12571807e-02, -7.45458826e-02,  1.99951231e-01,\n",
       "        -7.29705691e-02, -2.40538374e-01,  6.67748302e-02,\n",
       "        -6.23962581e-02, -8.05967301e-02, -2.15455905e-01,\n",
       "         2.36287028e-01,  3.71875286e-01,  1.06140353e-01,\n",
       "         1.04661159e-01,  5.28059825e-02,  2.78064430e-01,\n",
       "         2.63893068e-01, -9.26749483e-02,  1.25160627e-03,\n",
       "        -1.81383312e-01, -1.74557373e-01, -9.29952413e-02,\n",
       "         2.27754176e-01, -3.53183597e-01,  1.49163436e-02,\n",
       "        -1.95779532e-01, -1.41042292e-01, -3.41886394e-02,\n",
       "        -2.16469258e-01,  9.04124379e-02, -2.45721042e-01,\n",
       "        -2.01303005e-01, -1.10213794e-01, -1.16843544e-02,\n",
       "         1.37211680e-01,  3.89519185e-01, -4.88668215e-03,\n",
       "        -2.70526409e-01,  6.34090185e-01,  2.01995537e-01,\n",
       "         1.48724034e-01,  4.64910455e-02,  1.06272966e-01,\n",
       "         1.07222281e-01, -1.53614774e-01, -8.68693590e-02,\n",
       "         1.33687824e-01, -1.97133571e-01,  1.40384763e-01,\n",
       "         1.03153265e+00, -1.86853379e-01,  2.60501299e-02,\n",
       "        -1.96595758e-01,  2.57778525e-01,  6.69151545e-04,\n",
       "         2.00693026e-01,  2.27550209e-01,  3.42782617e-01,\n",
       "        -1.55757576e-01,  2.50179768e-01, -1.38930678e-01,\n",
       "        -1.18178964e-01, -2.07921535e-01,  1.03857785e-01,\n",
       "        -3.45005810e-01,  1.23414785e-01, -8.84227231e-02,\n",
       "        -3.18160132e-02,  1.46759167e-01, -4.90189306e-02,\n",
       "        -7.05146194e-01, -2.74589062e-01, -1.49465337e-01,\n",
       "        -1.41075283e-01,  1.63742453e-02,  1.12977214e-01,\n",
       "        -2.60831416e-02, -2.56268680e-01, -6.14199638e-02,\n",
       "        -8.47226828e-02,  2.48764157e-01,  3.61160375e-02,\n",
       "        -9.27668437e-03, -5.18155806e-02,  1.55896127e-01,\n",
       "        -3.56901377e-01,  3.19413282e-02,  1.97646543e-02,\n",
       "         3.45982730e-01,  1.55369744e-01,  1.60954580e-01,\n",
       "         6.00668900e-02, -5.37502617e-02,  2.33307004e-01,\n",
       "        -7.61747658e-01,  1.71233952e-01, -2.65022069e-01,\n",
       "        -2.86830217e-02, -3.02222580e-01, -1.80180550e-01,\n",
       "         5.20086437e-02, -1.66307479e-01, -2.89729498e-02,\n",
       "        -2.57466584e-01,  3.86508673e-01,  1.45332232e-01,\n",
       "         2.59436846e-01,  1.58102110e-01,  1.92885742e-01,\n",
       "        -4.07673568e-02,  2.21579671e-02,  7.27752745e-01,\n",
       "         2.62966394e-01, -2.06893116e-01,  1.49732471e-01,\n",
       "         1.87345803e-01, -9.35557671e-03,  1.63382456e-01,\n",
       "         1.45805329e-01, -6.76982775e-02, -1.47637874e-01,\n",
       "        -1.86878979e-01,  3.81285697e-03,  7.29770809e-02,\n",
       "        -1.55117288e-01, -2.10368097e-01,  1.34826656e-02,\n",
       "        -7.30813295e-03,  2.61903793e-01, -2.08569974e-01,\n",
       "        -4.52531725e-01, -7.38205761e-03, -8.44644085e-02,\n",
       "        -6.07315674e-02,  5.30259669e-01,  3.25255275e-01,\n",
       "         2.28498839e-02,  4.44671363e-01,  3.07292670e-01,\n",
       "        -1.15059398e-01,  2.04963237e-01, -6.30917028e-02,\n",
       "         2.02445179e-01,  6.38650358e-02, -3.80613096e-02,\n",
       "        -2.70484369e-02,  2.49939710e-01,  2.12932989e-01,\n",
       "        -2.72877544e-01,  1.53561309e-01, -1.47765711e-01,\n",
       "         5.56200370e-02, -1.91330705e-02,  6.55993521e-02,\n",
       "        -6.88738376e-02,  7.61363655e-02, -5.07778712e-02,\n",
       "         2.49435361e-02,  2.30639547e-01, -1.22614133e+00,\n",
       "        -1.16380602e-02,  2.45350003e-01,  8.69966596e-02,\n",
       "        -8.54304656e-02,  3.50669473e-02, -7.73573145e-02,\n",
       "         4.24373299e-01, -5.91868907e-02, -1.03231132e-01,\n",
       "         1.95926614e-02,  6.77969754e-02,  2.85659786e-02,\n",
       "        -2.21275538e-03,  8.85757580e-02, -4.60920855e-05,\n",
       "         1.91132843e-01, -5.62785938e-02,  1.14288002e-01,\n",
       "         3.14751603e-02, -7.74070174e-02,  2.71634161e-01,\n",
       "         7.27009624e-02, -1.82059482e-01, -1.30568624e-01,\n",
       "        -5.03995572e-04, -1.21330351e-01,  2.49683410e-01,\n",
       "         1.45981938e-01,  5.79168461e-03,  1.16304494e-01,\n",
       "        -2.10376710e-01, -4.67184186e-01, -6.31338730e-02,\n",
       "         4.45398800e-02, -1.21244788e-02,  3.70444842e-02,\n",
       "         8.51933658e-03,  2.30124399e-01,  2.32664913e-01,\n",
       "        -3.67077202e-01,  1.65621728e-01,  7.57681131e-02,\n",
       "        -7.79256783e-03,  1.51688099e-01,  2.12953448e-01,\n",
       "        -2.66396105e-01,  4.05046009e-02, -1.13858424e-01,\n",
       "        -2.28461146e-01, -1.03326946e-01, -3.10936928e-01,\n",
       "        -2.14795887e-01, -9.41049159e-02,  8.64681602e-02,\n",
       "        -4.39940095e-02,  1.02308095e-01, -8.40057433e-02,\n",
       "        -1.30899787e-01, -1.15084663e-01,  3.19424957e-01,\n",
       "        -1.53373078e-01,  4.18165177e-02,  1.75154716e-01,\n",
       "        -2.09360778e-01, -8.16710830e-01,  4.96211648e-03,\n",
       "        -1.89855620e-02, -1.17142662e-01,  8.77794325e-02,\n",
       "         1.49613321e-01, -1.09662719e-01, -1.05508812e-01,\n",
       "        -2.48236045e-01, -3.68942291e-01,  1.87415212e-01,\n",
       "        -1.45417243e-01, -1.59075081e-01,  6.72218949e-02,\n",
       "        -1.02297731e-01, -7.68059166e-03, -2.19177455e-01,\n",
       "        -1.28857821e-01,  7.59778619e-02,  1.63761199e-01,\n",
       "         6.08110316e-02, -4.80505079e-02,  3.07561848e-02,\n",
       "        -1.69627294e-02,  1.20961055e-01, -2.36214772e-01,\n",
       "        -3.67417326e-03,  3.49420905e-01,  1.94100648e-01,\n",
       "         3.16463739e-01, -1.46692663e-01,  1.41048253e-01,\n",
       "         3.12079787e-02,  7.89159238e-02, -1.92252159e-01,\n",
       "        -7.72513896e-02,  2.22139582e-01,  1.01615302e-03,\n",
       "         1.84660092e-01,  7.18331635e-02,  2.64355600e-01,\n",
       "         2.68264890e-01,  1.35919064e-01, -2.17964768e-01,\n",
       "        -1.67056337e-01,  1.33750662e-02,  2.14781672e-01,\n",
       "         1.32759750e-01, -9.84660089e-02,  1.17308773e-01,\n",
       "         6.86770827e-02,  9.05665755e-02,  8.69234353e-02,\n",
       "         2.21211958e+00,  2.34187365e-01,  4.62506860e-02,\n",
       "         8.46233964e-02,  1.00937478e-01,  2.72460282e-01,\n",
       "         6.38961717e-02,  1.67219758e-01, -1.52845867e-02,\n",
       "         1.61848396e-01, -1.71566099e-01,  1.47910416e-03,\n",
       "        -1.90850720e-01,  7.59003088e-02,  1.10111602e-01,\n",
       "         1.28166422e-01,  2.78925896e-03,  9.59010981e-03,\n",
       "        -3.68765056e-01, -1.18364587e-01, -2.78711766e-01,\n",
       "         3.68218064e-01,  2.22096547e-01,  1.14804268e-01,\n",
       "        -6.70325831e-02,  1.91501975e-01,  2.24729553e-01,\n",
       "        -3.33942696e-02, -1.56349614e-02, -1.47562355e-01,\n",
       "         1.34890173e-02,  2.43685409e-01,  2.15641577e-02,\n",
       "         1.75167918e-01, -2.16297001e-01, -1.40896261e-01,\n",
       "         1.00524575e-01, -3.90135139e-01, -6.28295839e-02,\n",
       "         5.57980090e-02, -3.35141867e-02, -3.73676836e-01,\n",
       "         3.94871324e-01, -1.89478964e-01, -1.25722498e-01,\n",
       "         3.52029204e-01, -1.88740287e-02, -1.56786233e-01,\n",
       "         9.31295194e-03,  5.39817028e-02,  2.03256145e-01,\n",
       "         6.78302795e-02, -1.54590048e-02,  2.07342803e-01,\n",
       "        -1.96032599e-01, -9.66265425e-02,  1.41662285e-01,\n",
       "        -2.12755240e-02,  5.14875315e-02,  1.44685730e-01,\n",
       "         1.25456974e-03,  1.31079316e-01,  1.60949424e-01,\n",
       "         1.05915055e-01,  5.92945777e-02,  4.58364189e-02,\n",
       "        -1.41501352e-01,  1.78244799e-01, -2.57376105e-01,\n",
       "         1.71063945e-01, -1.37292407e-02,  9.62268114e-02,\n",
       "         1.31970719e-01,  2.07389519e-01,  2.09069416e-01,\n",
       "         3.96398678e-02,  3.68741512e-01,  1.44752458e-01,\n",
       "        -8.95634219e-02, -2.84062314e+00,  2.45729700e-01,\n",
       "         1.15328975e-01,  2.27865875e-01,  5.03086410e-02,\n",
       "         2.63450176e-01,  1.47824973e-01, -2.56315283e-02,\n",
       "         2.78312564e-02, -6.01500720e-02,  1.15713336e-01,\n",
       "         2.07003161e-01,  2.91776568e-01,  5.77750728e-02,\n",
       "         2.40753800e-01,  1.20625652e-01,  8.95192698e-02,\n",
       "        -1.38056159e-01,  8.74369815e-02, -8.61273631e-02,\n",
       "        -3.05865526e-01,  1.56904176e-01,  1.30572006e-01,\n",
       "        -5.86901382e-02, -3.59173626e-01, -1.20317921e-01,\n",
       "        -1.07810758e-01,  1.19556068e-02,  1.30006462e-01,\n",
       "        -1.70639120e-02, -1.32278740e-01,  1.91397667e-01,\n",
       "        -9.48296636e-02,  1.38676494e-01,  2.31517740e-02,\n",
       "        -6.35464117e-02,  6.98546618e-02, -2.35549182e-01,\n",
       "         1.52874500e-01,  3.84010166e-01, -2.28203565e-01,\n",
       "         3.41898590e-01, -1.77428663e-01,  1.71651870e-01,\n",
       "        -2.34396681e-01, -4.63872328e-02,  3.11704844e-01,\n",
       "        -1.30295202e-01,  4.76297945e-01, -3.23734224e-01,\n",
       "        -1.45252332e-01,  2.87508070e-01,  4.57929596e-02,\n",
       "         4.56197858e-02,  1.26121193e-01, -1.04416251e-01,\n",
       "         1.06848165e-01, -5.90448193e-02, -8.47824365e-02,\n",
       "        -1.06551111e-01, -3.33194397e-02, -2.20470876e-01,\n",
       "        -9.31842625e-02, -1.27640694e-01,  2.13108346e-01,\n",
       "         1.08778477e-05, -6.18554689e-02,  1.62222713e-01,\n",
       "        -1.70508191e-01, -5.35833053e-02, -1.08787134e-01,\n",
       "         5.11600748e-02,  1.13014750e-01,  1.68156609e-01,\n",
       "         2.47994810e-01, -2.60113068e-02,  1.62269235e-01,\n",
       "         3.34062636e-01,  5.34242056e-02,  1.63698688e-01,\n",
       "         3.56431082e-02, -3.63884628e-01,  6.76403344e-02,\n",
       "         8.74720514e-04,  3.03296417e-01, -8.11906910e+00,\n",
       "        -1.51685208e-01, -2.46371269e-01, -1.95274591e-01,\n",
       "        -7.78700411e-03, -1.39635950e-01,  7.63163120e-02,\n",
       "        -1.07916296e-01,  1.18920878e-01, -2.06123888e-01,\n",
       "        -7.32535794e-02,  1.63540557e-01, -7.96801746e-02,\n",
       "        -1.18811518e-01,  6.62059635e-02,  5.47015727e-01]], dtype=float32)"
      ]
     },
     "execution_count": 48,
     "metadata": {},
     "output_type": "execute_result"
    }
   ],
   "source": [
    "outputs.last_hidden_state[:,0].numpy()"
   ]
  },
  {
   "cell_type": "code",
   "execution_count": 49,
   "id": "bfdbb119",
   "metadata": {},
   "outputs": [],
   "source": [
    "def extract_hidden_states(batch):\n",
    "    inputs = {key: value for key,value in batch.items() if key in tokenizer.model_input_names}\n",
    "    outputs = model(inputs)\n",
    "    return {\"hidden_state\": outputs.last_hidden_state[:,0].numpy()}"
   ]
  },
  {
   "cell_type": "code",
   "execution_count": 50,
   "id": "2c424418",
   "metadata": {},
   "outputs": [],
   "source": [
    "emotions_encoded.set_format(\"tf\",columns=['input_ids','attention_mask','label'])"
   ]
  },
  {
   "cell_type": "code",
   "execution_count": 51,
   "id": "f0f19fa6",
   "metadata": {},
   "outputs": [
    {
     "data": {
      "text/plain": [
       "['input_ids', 'attention_mask']"
      ]
     },
     "execution_count": 51,
     "metadata": {},
     "output_type": "execute_result"
    }
   ],
   "source": [
    "tokenizer.model_input_names"
   ]
  },
  {
   "cell_type": "code",
   "execution_count": 52,
   "id": "829efe93",
   "metadata": {},
   "outputs": [
    {
     "data": {
      "application/vnd.jupyter.widget-view+json": {
       "model_id": "",
       "version_major": 2,
       "version_minor": 0
      },
      "text/plain": [
       "Map:   0%|          | 0/16000 [00:00<?, ? examples/s]"
      ]
     },
     "metadata": {},
     "output_type": "display_data"
    },
    {
     "data": {
      "application/vnd.jupyter.widget-view+json": {
       "model_id": "",
       "version_major": 2,
       "version_minor": 0
      },
      "text/plain": [
       "Map:   0%|          | 0/2000 [00:00<?, ? examples/s]"
      ]
     },
     "metadata": {},
     "output_type": "display_data"
    },
    {
     "data": {
      "application/vnd.jupyter.widget-view+json": {
       "model_id": "",
       "version_major": 2,
       "version_minor": 0
      },
      "text/plain": [
       "Map:   0%|          | 0/2000 [00:00<?, ? examples/s]"
      ]
     },
     "metadata": {},
     "output_type": "display_data"
    }
   ],
   "source": [
    "emotions_hidden = emotions_encoded.map(extract_hidden_states,batched=True)"
   ]
  },
  {
   "cell_type": "code",
   "execution_count": 53,
   "id": "f25eee86",
   "metadata": {},
   "outputs": [
    {
     "data": {
      "text/plain": [
       "DatasetDict({\n",
       "    train: Dataset({\n",
       "        features: ['text', 'label', 'input_ids', 'attention_mask', 'hidden_state'],\n",
       "        num_rows: 16000\n",
       "    })\n",
       "    validation: Dataset({\n",
       "        features: ['text', 'label', 'input_ids', 'attention_mask', 'hidden_state'],\n",
       "        num_rows: 2000\n",
       "    })\n",
       "    test: Dataset({\n",
       "        features: ['text', 'label', 'input_ids', 'attention_mask', 'hidden_state'],\n",
       "        num_rows: 2000\n",
       "    })\n",
       "})"
      ]
     },
     "execution_count": 53,
     "metadata": {},
     "output_type": "execute_result"
    }
   ],
   "source": [
    "emotions_hidden"
   ]
  },
  {
   "cell_type": "code",
   "execution_count": 54,
   "id": "a2429395",
   "metadata": {},
   "outputs": [
    {
     "data": {
      "text/plain": [
       "((16000, 768), (2000, 768))"
      ]
     },
     "execution_count": 54,
     "metadata": {},
     "output_type": "execute_result"
    }
   ],
   "source": [
    "X_train = np.array(emotions_hidden[\"train\"][\"hidden_state\"])\n",
    "X_valid = np.array(emotions_hidden[\"validation\"][\"hidden_state\"])\n",
    "y_train = np.array(emotions_hidden[\"train\"][\"label\"])\n",
    "y_valid = np.array(emotions_hidden[\"validation\"][\"label\"])\n",
    "X_train.shape, X_valid.shape"
   ]
  },
  {
   "cell_type": "code",
   "execution_count": 55,
   "id": "84d22dd2",
   "metadata": {},
   "outputs": [
    {
     "data": {
      "text/html": [
       "<div>\n",
       "<style scoped>\n",
       "    .dataframe tbody tr th:only-of-type {\n",
       "        vertical-align: middle;\n",
       "    }\n",
       "\n",
       "    .dataframe tbody tr th {\n",
       "        vertical-align: top;\n",
       "    }\n",
       "\n",
       "    .dataframe thead th {\n",
       "        text-align: right;\n",
       "    }\n",
       "</style>\n",
       "<table border=\"1\" class=\"dataframe\">\n",
       "  <thead>\n",
       "    <tr style=\"text-align: right;\">\n",
       "      <th></th>\n",
       "      <th>X</th>\n",
       "      <th>Y</th>\n",
       "      <th>label</th>\n",
       "    </tr>\n",
       "  </thead>\n",
       "  <tbody>\n",
       "    <tr>\n",
       "      <th>0</th>\n",
       "      <td>4.237541</td>\n",
       "      <td>6.710385</td>\n",
       "      <td>0</td>\n",
       "    </tr>\n",
       "    <tr>\n",
       "      <th>1</th>\n",
       "      <td>-3.040609</td>\n",
       "      <td>5.766124</td>\n",
       "      <td>0</td>\n",
       "    </tr>\n",
       "    <tr>\n",
       "      <th>2</th>\n",
       "      <td>5.323312</td>\n",
       "      <td>3.203564</td>\n",
       "      <td>3</td>\n",
       "    </tr>\n",
       "    <tr>\n",
       "      <th>3</th>\n",
       "      <td>-2.581026</td>\n",
       "      <td>3.409357</td>\n",
       "      <td>2</td>\n",
       "    </tr>\n",
       "    <tr>\n",
       "      <th>4</th>\n",
       "      <td>-3.193238</td>\n",
       "      <td>3.947110</td>\n",
       "      <td>3</td>\n",
       "    </tr>\n",
       "    <tr>\n",
       "      <th>...</th>\n",
       "      <td>...</td>\n",
       "      <td>...</td>\n",
       "      <td>...</td>\n",
       "    </tr>\n",
       "    <tr>\n",
       "      <th>15995</th>\n",
       "      <td>-0.382951</td>\n",
       "      <td>6.901903</td>\n",
       "      <td>0</td>\n",
       "    </tr>\n",
       "    <tr>\n",
       "      <th>15996</th>\n",
       "      <td>-2.024183</td>\n",
       "      <td>5.655280</td>\n",
       "      <td>0</td>\n",
       "    </tr>\n",
       "    <tr>\n",
       "      <th>15997</th>\n",
       "      <td>-2.341858</td>\n",
       "      <td>3.324586</td>\n",
       "      <td>1</td>\n",
       "    </tr>\n",
       "    <tr>\n",
       "      <th>15998</th>\n",
       "      <td>5.187880</td>\n",
       "      <td>3.451589</td>\n",
       "      <td>3</td>\n",
       "    </tr>\n",
       "    <tr>\n",
       "      <th>15999</th>\n",
       "      <td>-2.100605</td>\n",
       "      <td>5.507082</td>\n",
       "      <td>0</td>\n",
       "    </tr>\n",
       "  </tbody>\n",
       "</table>\n",
       "<p>16000 rows × 3 columns</p>\n",
       "</div>"
      ],
      "text/plain": [
       "              X         Y  label\n",
       "0      4.237541  6.710385      0\n",
       "1     -3.040609  5.766124      0\n",
       "2      5.323312  3.203564      3\n",
       "3     -2.581026  3.409357      2\n",
       "4     -3.193238  3.947110      3\n",
       "...         ...       ...    ...\n",
       "15995 -0.382951  6.901903      0\n",
       "15996 -2.024183  5.655280      0\n",
       "15997 -2.341858  3.324586      1\n",
       "15998  5.187880  3.451589      3\n",
       "15999 -2.100605  5.507082      0\n",
       "\n",
       "[16000 rows x 3 columns]"
      ]
     },
     "execution_count": 55,
     "metadata": {},
     "output_type": "execute_result"
    }
   ],
   "source": [
    "from umap import UMAP\n",
    "from sklearn.preprocessing import MinMaxScaler\n",
    "X_scaled = MinMaxScaler().fit_transform(X_train)\n",
    "mapper = UMAP(n_components=2,metric='cosine').fit(X_scaled)\n",
    "df_emb = pd.DataFrame(mapper.embedding_,columns=['X','Y'])\n",
    "df_emb['label'] = y_train\n",
    "df_emb"
   ]
  },
  {
   "cell_type": "code",
   "execution_count": 56,
   "id": "c4db667b",
   "metadata": {},
   "outputs": [
    {
     "data": {
      "image/png": "[encoded data removed]",
      "text/plain": [
       "<Figure size 700x500 with 6 Axes>"
      ]
     },
     "metadata": {},
     "output_type": "display_data"
    }
   ],
   "source": [
    "fig, axes = plt.subplots(2, 3, figsize=(7,5))\n",
    "axes = axes.flatten()\n",
    "cmaps = [\"Greys\", \"Blues\", \"Oranges\", \"Reds\", \"Purples\", \"Greens\"]\n",
    "labels = emotions[\"train\"].features[\"label\"].names\n",
    "\n",
    "for i, (label, cmap) in enumerate(zip(labels, cmaps)):\n",
    "    df_emb_sub = df_emb.query(f\"label == {i}\")\n",
    "    axes[i].hexbin(df_emb_sub[\"X\"], df_emb_sub[\"Y\"], cmap=cmap,\n",
    "                   gridsize=20, linewidths=(0,))\n",
    "    axes[i].set_title(label)\n",
    "    axes[i].set_xticks([]), axes[i].set_yticks([])\n",
    "\n",
    "plt.tight_layout()\n",
    "plt.show()"
   ]
  },
  {
   "cell_type": "code",
   "execution_count": 57,
   "id": "905f8d7a",
   "metadata": {},
   "outputs": [
    {
     "data": {
      "text/plain": [
       "0.633"
      ]
     },
     "execution_count": 57,
     "metadata": {},
     "output_type": "execute_result"
    }
   ],
   "source": [
    "from sklearn.linear_model import LogisticRegression\n",
    "\n",
    "# We increase `max_iter` to guarantee convergence\n",
    "lr_clf = LogisticRegression(max_iter=3000)\n",
    "lr_clf.fit(X_train, y_train)\n",
    "lr_clf.score(X_valid, y_valid)"
   ]
  },
  {
   "cell_type": "code",
   "execution_count": 58,
   "id": "7bf8ddda",
   "metadata": {},
   "outputs": [
    {
     "data": {
      "text/plain": [
       "0.352"
      ]
     },
     "execution_count": 58,
     "metadata": {},
     "output_type": "execute_result"
    }
   ],
   "source": [
    "from sklearn.dummy import DummyClassifier\n",
    "\n",
    "dummy_clf = DummyClassifier(strategy=\"most_frequent\")\n",
    "dummy_clf.fit(X_train, y_train)\n",
    "dummy_clf.score(X_valid, y_valid)"
   ]
  },
  {
   "cell_type": "code",
   "execution_count": 59,
   "id": "df971439",
   "metadata": {},
   "outputs": [
    {
     "data": {
      "image/png": "[encoded data removed]",
      "text/plain": [
       "<Figure size 600x600 with 1 Axes>"
      ]
     },
     "metadata": {},
     "output_type": "display_data"
    }
   ],
   "source": [
    "from sklearn.metrics import ConfusionMatrixDisplay, confusion_matrix\n",
    "\n",
    "def plot_confusion_matrix(y_preds, y_true, labels):\n",
    "    cm = confusion_matrix(y_true, y_preds, normalize=\"true\")\n",
    "    fig, ax = plt.subplots(figsize=(6, 6))\n",
    "    disp = ConfusionMatrixDisplay(confusion_matrix=cm, display_labels=labels)\n",
    "    disp.plot(cmap=\"Blues\", values_format=\".2f\", ax=ax, colorbar=False)\n",
    "    plt.title(\"Normalized confusion matrix\")\n",
    "    plt.show()\n",
    "\n",
    "y_preds = lr_clf.predict(X_valid)\n",
    "plot_confusion_matrix(y_preds, y_valid, labels)"
   ]
  },
  {
   "cell_type": "code",
   "execution_count": 74,
   "id": "73d6820f",
   "metadata": {},
   "outputs": [],
   "source": [
    "from transformers import TFAutoModelForSequenceClassification\n",
    "num_labels = 6\n",
    "model = TFAutoModelForSequenceClassification.from_pretrained(model_ckpt,num_labels=num_labels)"
   ]
  },
  {
   "cell_type": "code",
   "execution_count": 61,
   "id": "b7157cf1",
   "metadata": {},
   "outputs": [],
   "source": [
    "from sklearn.metrics import accuracy_score, f1_score\n",
    "def compute_metrics(pred):\n",
    "    labels = pred.label_ids\n",
    "    preds = pred.predictions.argmax(-1)\n",
    "    f1 = f1_score(labels, preds, average=\"weighted\")\n",
    "    acc = accuracy_score(labels, preds)\n",
    "    return {\"accuracy\": acc, \"f1\": f1}"
   ]
  },
  {
   "cell_type": "code",
   "execution_count": 71,
   "id": "14b7ef4d",
   "metadata": {},
   "outputs": [
    {
     "data": {
      "application/vnd.jupyter.widget-view+json": {
       "model_id": "f3968f671135416286347c225dc14f57",
       "version_major": 2,
       "version_minor": 0
      },
      "text/plain": [
       "VBox(children=(HTML(value='<center> <img\\nsrc=https://huggingface.co/front/assets/huggingface_logo-noborder.sv…"
      ]
     },
     "metadata": {},
     "output_type": "display_data"
    }
   ],
   "source": [
    "from huggingface_hub import notebook_login\n",
    "\n",
    "notebook_login()"
   ]
  },
  {
   "cell_type": "code",
   "execution_count": 77,
   "id": "4eddcfd1",
   "metadata": {},
   "outputs": [],
   "source": [
    "tokenizer_columns = tokenizer.model_input_names\n",
    "batch_size=64\n",
    "tf_train_dataset = emotions_encoded['train'].to_tf_dataset(columns=tokenizer_columns,\n",
    "                    label_cols=['label'],shuffle=True,batch_size=batch_size)\n",
    "tf_eval_dataset = emotions_encoded['validation'].to_tf_dataset(columns=tokenizer_columns,\n",
    "                    label_cols=['label'],shuffle=True,batch_size=batch_size)"
   ]
  },
  {
   "cell_type": "code",
   "execution_count": 79,
   "id": "f0cc514c",
   "metadata": {},
   "outputs": [
    {
     "name": "stderr",
     "output_type": "stream",
     "text": [
      "WARNING:absl:At this time, the v2.11+ optimizer `tf.keras.optimizers.Adam` runs slowly on M1/M2 Macs, please use the legacy Keras optimizer instead, located at `tf.keras.optimizers.legacy.Adam`.\n"
     ]
    }
   ],
   "source": [
    "model.compile(optimizer=tf.keras.optimizers.Adam(learning_rate=5e-5),\n",
    "             loss=tf.keras.losses.SparseCategoricalCrossentropy(from_logits=True),\n",
    "             metrics=tf.keras.metrics.SparseCategoricalAccuracy())"
   ]
  },
  {
   "cell_type": "code",
   "execution_count": 81,
   "id": "b6997af4",
   "metadata": {},
   "outputs": [
    {
     "name": "stdout",
     "output_type": "stream",
     "text": [
      "Epoch 1/2\n",
      "250/250 [==============================] - 1326s 5s/step - loss: 0.5320 - sparse_categorical_accuracy: 0.8100 - val_loss: 0.1841 - val_sparse_categorical_accuracy: 0.9335\n",
      "Epoch 2/2\n",
      "250/250 [==============================] - 1332s 5s/step - loss: 0.1503 - sparse_categorical_accuracy: 0.9362 - val_loss: 0.1396 - val_sparse_categorical_accuracy: 0.9395\n"
     ]
    },
    {
     "data": {
      "text/plain": [
       "<keras.src.callbacks.History at 0x33837e550>"
      ]
     },
     "execution_count": 81,
     "metadata": {},
     "output_type": "execute_result"
    }
   ],
   "source": [
    "model.fit(tf_train_dataset,validation_data=tf_eval_dataset,epochs=2)"
   ]
  },
  {
   "cell_type": "code",
   "execution_count": 181,
   "id": "0fef1de7",
   "metadata": {},
   "outputs": [],
   "source": [
    "def forward_pass_with_label(batch):\n",
    "    inputs = {k:v for k,v in batch.items() if k in tokenizer.model_input_names}\n",
    "    outputs = model(inputs)\n",
    "    pred_label = np.argmax(outputs.logits,axis=-1)\n",
    "    \n",
    "    cce = tf.keras.losses.SparseCategoricalCrossentropy(reduction=\"none\")\n",
    "    loss = cce(batch['label'],outputs.logits)\n",
    "    return {\"loss\" : loss.numpy(),\"predicted_label\":pred_label}"
   ]
  },
  {
   "cell_type": "code",
   "execution_count": 182,
   "id": "45de3b81",
   "metadata": {},
   "outputs": [],
   "source": [
    "emotions_encoded.set_format(\"tf\",columns=['input_ids','attention_mask','label'])"
   ]
  },
  {
   "cell_type": "code",
   "execution_count": 183,
   "id": "48183f8c",
   "metadata": {},
   "outputs": [
    {
     "data": {
      "application/vnd.jupyter.widget-view+json": {
       "model_id": "",
       "version_major": 2,
       "version_minor": 0
      },
      "text/plain": [
       "Map:   0%|          | 0/2000 [00:00<?, ? examples/s]"
      ]
     },
     "metadata": {},
     "output_type": "display_data"
    }
   ],
   "source": [
    "emotions_encoded['validation'] = emotions_encoded['validation'].map(forward_pass_with_label,\n",
    "                                                                   batched=True,batch_size=16)"
   ]
  },
  {
   "cell_type": "code",
   "execution_count": 188,
   "id": "3888a6b3",
   "metadata": {},
   "outputs": [],
   "source": [
    "def label_int2str(row):\n",
    "    return emotions[\"train\"].features[\"label\"].int2str(row)"
   ]
  },
  {
   "cell_type": "code",
   "execution_count": 189,
   "id": "c7420b1e",
   "metadata": {},
   "outputs": [],
   "source": [
    "emotions_encoded.set_format(\"pandas\")\n",
    "cols = [\"text\", \"label\", \"predicted_label\", \"loss\"]\n",
    "df_test = emotions_encoded[\"validation\"][:][cols]\n",
    "df_test[\"label\"] = df_test[\"label\"].apply(label_int2str)\n",
    "df_test[\"predicted_label\"] = (df_test[\"predicted_label\"]\n",
    "                              .apply(label_int2str))"
   ]
  },
  {
   "cell_type": "code",
   "execution_count": 190,
   "id": "d8be8968",
   "metadata": {},
   "outputs": [
    {
     "data": {
      "text/html": [
       "<div>\n",
       "<style scoped>\n",
       "    .dataframe tbody tr th:only-of-type {\n",
       "        vertical-align: middle;\n",
       "    }\n",
       "\n",
       "    .dataframe tbody tr th {\n",
       "        vertical-align: top;\n",
       "    }\n",
       "\n",
       "    .dataframe thead th {\n",
       "        text-align: right;\n",
       "    }\n",
       "</style>\n",
       "<table border=\"1\" class=\"dataframe\">\n",
       "  <thead>\n",
       "    <tr style=\"text-align: right;\">\n",
       "      <th></th>\n",
       "      <th>text</th>\n",
       "      <th>label</th>\n",
       "      <th>predicted_label</th>\n",
       "      <th>loss</th>\n",
       "    </tr>\n",
       "  </thead>\n",
       "  <tbody>\n",
       "    <tr>\n",
       "      <th>0</th>\n",
       "      <td>im feeling quite sad and sorry for myself but ...</td>\n",
       "      <td>sadness</td>\n",
       "      <td>sadness</td>\n",
       "      <td>5.960463e-07</td>\n",
       "    </tr>\n",
       "    <tr>\n",
       "      <th>1</th>\n",
       "      <td>i feel like i am still looking at a blank canv...</td>\n",
       "      <td>sadness</td>\n",
       "      <td>sadness</td>\n",
       "      <td>5.960463e-07</td>\n",
       "    </tr>\n",
       "    <tr>\n",
       "      <th>2</th>\n",
       "      <td>i feel like a faithful servant</td>\n",
       "      <td>love</td>\n",
       "      <td>love</td>\n",
       "      <td>6.931474e-01</td>\n",
       "    </tr>\n",
       "    <tr>\n",
       "      <th>3</th>\n",
       "      <td>i am just feeling cranky and blue</td>\n",
       "      <td>anger</td>\n",
       "      <td>anger</td>\n",
       "      <td>5.960463e-07</td>\n",
       "    </tr>\n",
       "    <tr>\n",
       "      <th>4</th>\n",
       "      <td>i can have for a treat or if i am feeling festive</td>\n",
       "      <td>joy</td>\n",
       "      <td>joy</td>\n",
       "      <td>5.960463e-07</td>\n",
       "    </tr>\n",
       "    <tr>\n",
       "      <th>...</th>\n",
       "      <td>...</td>\n",
       "      <td>...</td>\n",
       "      <td>...</td>\n",
       "      <td>...</td>\n",
       "    </tr>\n",
       "    <tr>\n",
       "      <th>1995</th>\n",
       "      <td>im having ssa examination tomorrow in the morn...</td>\n",
       "      <td>sadness</td>\n",
       "      <td>sadness</td>\n",
       "      <td>5.960463e-07</td>\n",
       "    </tr>\n",
       "    <tr>\n",
       "      <th>1996</th>\n",
       "      <td>i constantly worry about their fight against n...</td>\n",
       "      <td>joy</td>\n",
       "      <td>joy</td>\n",
       "      <td>5.960463e-07</td>\n",
       "    </tr>\n",
       "    <tr>\n",
       "      <th>1997</th>\n",
       "      <td>i feel its important to share this info for th...</td>\n",
       "      <td>joy</td>\n",
       "      <td>joy</td>\n",
       "      <td>5.960463e-07</td>\n",
       "    </tr>\n",
       "    <tr>\n",
       "      <th>1998</th>\n",
       "      <td>i truly feel that if you are passionate enough...</td>\n",
       "      <td>joy</td>\n",
       "      <td>joy</td>\n",
       "      <td>6.931474e-01</td>\n",
       "    </tr>\n",
       "    <tr>\n",
       "      <th>1999</th>\n",
       "      <td>i feel like i just wanna buy any cute make up ...</td>\n",
       "      <td>joy</td>\n",
       "      <td>joy</td>\n",
       "      <td>5.960463e-07</td>\n",
       "    </tr>\n",
       "  </tbody>\n",
       "</table>\n",
       "<p>2000 rows × 4 columns</p>\n",
       "</div>"
      ],
      "text/plain": [
       "                                                   text    label  \\\n",
       "0     im feeling quite sad and sorry for myself but ...  sadness   \n",
       "1     i feel like i am still looking at a blank canv...  sadness   \n",
       "2                        i feel like a faithful servant     love   \n",
       "3                     i am just feeling cranky and blue    anger   \n",
       "4     i can have for a treat or if i am feeling festive      joy   \n",
       "...                                                 ...      ...   \n",
       "1995  im having ssa examination tomorrow in the morn...  sadness   \n",
       "1996  i constantly worry about their fight against n...      joy   \n",
       "1997  i feel its important to share this info for th...      joy   \n",
       "1998  i truly feel that if you are passionate enough...      joy   \n",
       "1999  i feel like i just wanna buy any cute make up ...      joy   \n",
       "\n",
       "     predicted_label          loss  \n",
       "0            sadness  5.960463e-07  \n",
       "1            sadness  5.960463e-07  \n",
       "2               love  6.931474e-01  \n",
       "3              anger  5.960463e-07  \n",
       "4                joy  5.960463e-07  \n",
       "...              ...           ...  \n",
       "1995         sadness  5.960463e-07  \n",
       "1996             joy  5.960463e-07  \n",
       "1997             joy  5.960463e-07  \n",
       "1998             joy  6.931474e-01  \n",
       "1999             joy  5.960463e-07  \n",
       "\n",
       "[2000 rows x 4 columns]"
      ]
     },
     "execution_count": 190,
     "metadata": {},
     "output_type": "execute_result"
    }
   ],
   "source": [
    "df_test"
   ]
  },
  {
   "cell_type": "code",
   "execution_count": 191,
   "id": "6bd3f4bb",
   "metadata": {},
   "outputs": [
    {
     "data": {
      "text/html": [
       "<div>\n",
       "<style scoped>\n",
       "    .dataframe tbody tr th:only-of-type {\n",
       "        vertical-align: middle;\n",
       "    }\n",
       "\n",
       "    .dataframe tbody tr th {\n",
       "        vertical-align: top;\n",
       "    }\n",
       "\n",
       "    .dataframe thead th {\n",
       "        text-align: right;\n",
       "    }\n",
       "</style>\n",
       "<table border=\"1\" class=\"dataframe\">\n",
       "  <thead>\n",
       "    <tr style=\"text-align: right;\">\n",
       "      <th></th>\n",
       "      <th>text</th>\n",
       "      <th>label</th>\n",
       "      <th>predicted_label</th>\n",
       "      <th>loss</th>\n",
       "    </tr>\n",
       "  </thead>\n",
       "  <tbody>\n",
       "    <tr>\n",
       "      <th>1852</th>\n",
       "      <td>i arrived home with a strange feeling of happi...</td>\n",
       "      <td>sadness</td>\n",
       "      <td>fear</td>\n",
       "      <td>16.811243</td>\n",
       "    </tr>\n",
       "    <tr>\n",
       "      <th>415</th>\n",
       "      <td>im kind of embarrassed about feeling that way ...</td>\n",
       "      <td>love</td>\n",
       "      <td>joy</td>\n",
       "      <td>16.811243</td>\n",
       "    </tr>\n",
       "    <tr>\n",
       "      <th>1950</th>\n",
       "      <td>i as representative of everything thats wrong ...</td>\n",
       "      <td>surprise</td>\n",
       "      <td>love</td>\n",
       "      <td>16.686106</td>\n",
       "    </tr>\n",
       "    <tr>\n",
       "      <th>258</th>\n",
       "      <td>talking to a very good friend who had just had...</td>\n",
       "      <td>sadness</td>\n",
       "      <td>joy</td>\n",
       "      <td>16.673891</td>\n",
       "    </tr>\n",
       "    <tr>\n",
       "      <th>1111</th>\n",
       "      <td>im lazy my characters fall into categories of ...</td>\n",
       "      <td>joy</td>\n",
       "      <td>fear</td>\n",
       "      <td>16.413326</td>\n",
       "    </tr>\n",
       "    <tr>\n",
       "      <th>188</th>\n",
       "      <td>i was going to tell you more about my trip to ...</td>\n",
       "      <td>sadness</td>\n",
       "      <td>joy</td>\n",
       "      <td>16.118095</td>\n",
       "    </tr>\n",
       "    <tr>\n",
       "      <th>1032</th>\n",
       "      <td>i began to feel woeful as i stared into the ab...</td>\n",
       "      <td>sadness</td>\n",
       "      <td>joy</td>\n",
       "      <td>16.118095</td>\n",
       "    </tr>\n",
       "    <tr>\n",
       "      <th>495</th>\n",
       "      <td>i feel so squeezed hate this feeling thats why...</td>\n",
       "      <td>sadness</td>\n",
       "      <td>fear</td>\n",
       "      <td>16.118095</td>\n",
       "    </tr>\n",
       "    <tr>\n",
       "      <th>177</th>\n",
       "      <td>im sure much of the advantage is psychological...</td>\n",
       "      <td>sadness</td>\n",
       "      <td>joy</td>\n",
       "      <td>16.118095</td>\n",
       "    </tr>\n",
       "    <tr>\n",
       "      <th>1683</th>\n",
       "      <td>i had applied for a job and they had assured m...</td>\n",
       "      <td>anger</td>\n",
       "      <td>joy</td>\n",
       "      <td>4.200248</td>\n",
       "    </tr>\n",
       "  </tbody>\n",
       "</table>\n",
       "</div>"
      ],
      "text/plain": [
       "                                                   text     label  \\\n",
       "1852  i arrived home with a strange feeling of happi...   sadness   \n",
       "415   im kind of embarrassed about feeling that way ...      love   \n",
       "1950  i as representative of everything thats wrong ...  surprise   \n",
       "258   talking to a very good friend who had just had...   sadness   \n",
       "1111  im lazy my characters fall into categories of ...       joy   \n",
       "188   i was going to tell you more about my trip to ...   sadness   \n",
       "1032  i began to feel woeful as i stared into the ab...   sadness   \n",
       "495   i feel so squeezed hate this feeling thats why...   sadness   \n",
       "177   im sure much of the advantage is psychological...   sadness   \n",
       "1683  i had applied for a job and they had assured m...     anger   \n",
       "\n",
       "     predicted_label       loss  \n",
       "1852            fear  16.811243  \n",
       "415              joy  16.811243  \n",
       "1950            love  16.686106  \n",
       "258              joy  16.673891  \n",
       "1111            fear  16.413326  \n",
       "188              joy  16.118095  \n",
       "1032             joy  16.118095  \n",
       "495             fear  16.118095  \n",
       "177              joy  16.118095  \n",
       "1683             joy   4.200248  "
      ]
     },
     "execution_count": 191,
     "metadata": {},
     "output_type": "execute_result"
    }
   ],
   "source": [
    "df_test.sort_values(\"loss\", ascending=False).head(10)"
   ]
  },
  {
   "cell_type": "code",
   "execution_count": 192,
   "id": "9a746c97",
   "metadata": {},
   "outputs": [
    {
     "data": {
      "text/html": [
       "<div>\n",
       "<style scoped>\n",
       "    .dataframe tbody tr th:only-of-type {\n",
       "        vertical-align: middle;\n",
       "    }\n",
       "\n",
       "    .dataframe tbody tr th {\n",
       "        vertical-align: top;\n",
       "    }\n",
       "\n",
       "    .dataframe thead th {\n",
       "        text-align: right;\n",
       "    }\n",
       "</style>\n",
       "<table border=\"1\" class=\"dataframe\">\n",
       "  <thead>\n",
       "    <tr style=\"text-align: right;\">\n",
       "      <th></th>\n",
       "      <th>text</th>\n",
       "      <th>label</th>\n",
       "      <th>predicted_label</th>\n",
       "      <th>loss</th>\n",
       "    </tr>\n",
       "  </thead>\n",
       "  <tbody>\n",
       "    <tr>\n",
       "      <th>999</th>\n",
       "      <td>i feel shy now</td>\n",
       "      <td>fear</td>\n",
       "      <td>fear</td>\n",
       "      <td>4.768370e-07</td>\n",
       "    </tr>\n",
       "    <tr>\n",
       "      <th>719</th>\n",
       "      <td>i no longer feel terrified</td>\n",
       "      <td>fear</td>\n",
       "      <td>fear</td>\n",
       "      <td>4.768370e-07</td>\n",
       "    </tr>\n",
       "    <tr>\n",
       "      <th>1237</th>\n",
       "      <td>i still feel really shaken about the whole thing</td>\n",
       "      <td>fear</td>\n",
       "      <td>fear</td>\n",
       "      <td>4.768370e-07</td>\n",
       "    </tr>\n",
       "    <tr>\n",
       "      <th>717</th>\n",
       "      <td>i feel a little frantic because i know peoples...</td>\n",
       "      <td>fear</td>\n",
       "      <td>fear</td>\n",
       "      <td>4.768370e-07</td>\n",
       "    </tr>\n",
       "    <tr>\n",
       "      <th>1777</th>\n",
       "      <td>i mulled this idea over in my head as much as ...</td>\n",
       "      <td>fear</td>\n",
       "      <td>fear</td>\n",
       "      <td>4.768370e-07</td>\n",
       "    </tr>\n",
       "    <tr>\n",
       "      <th>1503</th>\n",
       "      <td>i was willing to be honest with myself and put...</td>\n",
       "      <td>surprise</td>\n",
       "      <td>surprise</td>\n",
       "      <td>4.768370e-07</td>\n",
       "    </tr>\n",
       "    <tr>\n",
       "      <th>1773</th>\n",
       "      <td>i feel less hesitant predicting that the oeuvr...</td>\n",
       "      <td>fear</td>\n",
       "      <td>fear</td>\n",
       "      <td>4.768370e-07</td>\n",
       "    </tr>\n",
       "    <tr>\n",
       "      <th>1232</th>\n",
       "      <td>i feel a bit frantic today with everything i n...</td>\n",
       "      <td>fear</td>\n",
       "      <td>fear</td>\n",
       "      <td>4.768370e-07</td>\n",
       "    </tr>\n",
       "    <tr>\n",
       "      <th>1769</th>\n",
       "      <td>i feel so impressed by a dental work in front ...</td>\n",
       "      <td>surprise</td>\n",
       "      <td>surprise</td>\n",
       "      <td>4.768370e-07</td>\n",
       "    </tr>\n",
       "    <tr>\n",
       "      <th>712</th>\n",
       "      <td>i feel frightened to see a million youngsters ...</td>\n",
       "      <td>fear</td>\n",
       "      <td>fear</td>\n",
       "      <td>4.768370e-07</td>\n",
       "    </tr>\n",
       "  </tbody>\n",
       "</table>\n",
       "</div>"
      ],
      "text/plain": [
       "                                                   text     label  \\\n",
       "999                                      i feel shy now      fear   \n",
       "719                          i no longer feel terrified      fear   \n",
       "1237   i still feel really shaken about the whole thing      fear   \n",
       "717   i feel a little frantic because i know peoples...      fear   \n",
       "1777  i mulled this idea over in my head as much as ...      fear   \n",
       "1503  i was willing to be honest with myself and put...  surprise   \n",
       "1773  i feel less hesitant predicting that the oeuvr...      fear   \n",
       "1232  i feel a bit frantic today with everything i n...      fear   \n",
       "1769  i feel so impressed by a dental work in front ...  surprise   \n",
       "712   i feel frightened to see a million youngsters ...      fear   \n",
       "\n",
       "     predicted_label          loss  \n",
       "999             fear  4.768370e-07  \n",
       "719             fear  4.768370e-07  \n",
       "1237            fear  4.768370e-07  \n",
       "717             fear  4.768370e-07  \n",
       "1777            fear  4.768370e-07  \n",
       "1503        surprise  4.768370e-07  \n",
       "1773            fear  4.768370e-07  \n",
       "1232            fear  4.768370e-07  \n",
       "1769        surprise  4.768370e-07  \n",
       "712             fear  4.768370e-07  "
      ]
     },
     "execution_count": 192,
     "metadata": {},
     "output_type": "execute_result"
    }
   ],
   "source": [
    "df_test.sort_values(\"loss\", ascending=True).head(10)"
   ]
  },
  {
   "cell_type": "code",
   "execution_count": null,
   "id": "bf12064d",
   "metadata": {},
   "outputs": [],
   "source": []
  }
 ],
 "metadata": {
  "kernelspec": {
   "display_name": "Python 3 (ipykernel)",
   "language": "python",
   "name": "python3"
  },
  "language_info": {
   "codemirror_mode": {
    "name": "ipython",
    "version": 3
   },
   "file_extension": ".py",
   "mimetype": "text/x-python",
   "name": "python",
   "nbconvert_exporter": "python",
   "pygments_lexer": "ipython3",
   "version": "3.11.5"
  }
 },
 "nbformat": 4,
 "nbformat_minor": 5
}
