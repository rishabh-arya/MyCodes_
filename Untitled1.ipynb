{
 "cells": [
  {
   "cell_type": "code",
   "execution_count": null,
   "metadata": {},
   "outputs": [
    {
     "name": "stderr",
     "output_type": "stream",
     "text": [
      "C:\\Users\\devro\\Anaconda3\\NM\\lib\\site-packages\\IPython\\core\\interactiveshell.py:3254: DtypeWarning: Columns (11,12,31) have mixed types.Specify dtype option on import or set low_memory=False.\n",
      "  if (await self.run_code(code, result,  async_=asy)):\n"
     ]
    }
   ],
   "source": [
    "import pandas as pd\n",
    "import numpy as np\n",
    "from pandas import DataFrame\n",
    "\n",
    "def blight_model():\n",
    "    from sklearn.model_selection import train_test_split\n",
    "    from sklearn.linear_model import LinearRegression\n",
    "    from sklearn.svm import SVC\n",
    "    from sklearn.neighbors import KNeighborsClassifier\n",
    "    from sklearn.metrics import roc_curve,auc\n",
    "    \n",
    "    \n",
    "    train_data = pd.read_csv('C:/Users/devro/Desktop/Jupyter/train.csv',encoding = \"ISO-8859-1\")\n",
    "    #test_data =  pd.read_csv('readonly/test.csv', encoding = \"ISO-8859-1\")\n",
    "    #label = pd.read_csv('readonly/addresses.csv')\n",
    "    #print(train_data.keys())\n",
    "    #print(['ticket_id'])\n",
    "    index = train_data['ticket_id']\n",
    "    features = ['payment_amount','balance_due','fine_amount','admin_fee','late_fee','state_fee']\n",
    "    label =['compliance'] \n",
    "    X_data =train_data[features]\n",
    "    y_data = train_data[label]\n",
    "    dataframe = pd.DataFrame(np.c_[X_data,y_data])\n",
    "    dataframe = dataframe.dropna()\n",
    "    dataframe = np.array(dataframe)\n",
    "    y_data = dataframe[:,6]\n",
    "    X_data = dataframe[:,0:5]\n",
    "    X_train,X_test,y_train,y_test = train_test_split(X_data,y_data,random_state=0)\n",
    "    \n",
    "    #knn = KNeighborsClassifier(n_neighbors=1)\n",
    "    #knn.fit(X_data,y_data)\n",
    "    #knn_predict = knn.predict(X_test)\n",
    "    #print(knn.score(X_test,y_test))\n",
    "    #print(knn_predict[:20])\n",
    "    \n",
    "    svm = SVC(kernel='linear',C=1).fit(X_train,y_train)\n",
    "    svm_predicted = svm.predict(X_test)\n",
    "    print(svm.score(X_train,y_train))\n",
    "    print(svm_predicted[:20])\n",
    "    \n",
    "    fpr,tpr = roc_curve(y_test,svm_predicted)\n",
    "    fpr,tpr,_ = roc_curve(y_test,knn_predict)\n",
    "    roc_auc = auc(fpr,tpr)\n",
    "    print(roc_auc)\n",
    "    \n",
    "\n",
    "\n",
    "    \n",
    "    #return # Your answer here\n",
    "blight_model() "
   ]
  },
  {
   "cell_type": "code",
   "execution_count": null,
   "metadata": {},
   "outputs": [],
   "source": []
  }
 ],
 "metadata": {
  "kernelspec": {
   "display_name": "Python 3",
   "language": "python",
   "name": "python3"
  },
  "language_info": {
   "codemirror_mode": {
    "name": "ipython",
    "version": 3
   },
   "file_extension": ".py",
   "mimetype": "text/x-python",
   "name": "python",
   "nbconvert_exporter": "python",
   "pygments_lexer": "ipython3",
   "version": "3.8.5"
  }
 },
 "nbformat": 4,
 "nbformat_minor": 4
}
