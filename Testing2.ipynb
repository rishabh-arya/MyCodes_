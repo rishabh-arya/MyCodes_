{
 "cells": [
  {
   "cell_type": "code",
   "execution_count": 1,
   "metadata": {},
   "outputs": [
    {
     "name": "stdout",
     "output_type": "stream",
     "text": [
      "Accuracy score on train set: 0.9545454545454546\n",
      "Accuracy score on test set: 1.0\n"
     ]
    }
   ],
   "source": [
    "import numpy as np\n",
    "import pandas as pd\n",
    "import seaborn as sn\n",
    "import matplotlib.pyplot as plt\n",
    "\n",
    "from sklearn.model_selection import train_test_split\n",
    "from sklearn.neighbors import KNeighborsClassifier\n",
    "\n",
    "fruits = pd.read_table('C:/Users/devro/Desktop/Jupyter/fruit_data_with_colors.txt')\n",
    "feature_name_fruits = ['height','width','mass','color_score']\n",
    "X_fruits = fruits[feature_name_fruits]\n",
    "y_fruits = fruits['fruit_label']\n",
    "target_names_fruits = ['apple','mandarin','orange','lemon']\n",
    "\n",
    "X_fruits2d = fruits[['height','width']]\n",
    "y_fruits2d = fruits[['fruit_label']]\n",
    "\n",
    "X_train ,X_test,y_train,y_test = train_test_split(X_fruits,y_fruits,random_state=0)\n",
    "\n",
    "from sklearn.preprocessing import MinMaxScaler\n",
    "scaler = MinMaxScaler()\n",
    "\n",
    "X_train_scaled = scaler.fit_transform(X_train)\n",
    "X_test_scaled = scaler.transform(X_test)\n",
    "\n",
    "knn = KNeighborsClassifier(n_neighbors=5)\n",
    "knn.fit(X_train_scaled,y_train)\n",
    "\n",
    "print(\"Accuracy score on train set:\",knn.score(X_train_scaled,y_train))\n",
    "print(\"Accuracy score on test set:\",knn.score(X_test_scaled,y_test))\n",
    "\n",
    "\n"
   ]
  },
  {
   "cell_type": "markdown",
   "metadata": {},
   "source": []
  },
  {
   "cell_type": "code",
   "execution_count": 2,
   "metadata": {},
   "outputs": [],
   "source": [
    "from sklearn.datasets import make_classification, make_blobs\n",
    "from matplotlib.colors import ListedColormap\n",
    "from sklearn.datasets import load_breast_cancer\n",
    "from sklearn.datasets import make_regression\n",
    "X_R1, y_R1 = make_regression(n_samples = 100, n_features=1,\n",
    "                            n_informative=1, bias = 150.0,\n",
    "                            noise = 30, random_state=0)\n",
    "from sklearn.datasets import make_friedman1\n",
    "X_F1, y_F1 = make_friedman1(n_samples = 100,\n",
    "                           n_features = 7, random_state=0)\n",
    "X_C2, y_C2 = make_classification(n_samples = 100, n_features=2,\n",
    "                                n_redundant=0, n_informative=2,\n",
    "                                n_clusters_per_class=1, flip_y = 0.1,\n",
    "                                class_sep = 0.5, random_state=0)\n",
    "X_D2, y_D2 = make_blobs(n_samples = 100, n_features = 2, centers = 8,\n",
    "                       cluster_std = 1.3, random_state = 4)\n",
    "y_D2 = y_D2 % 2\n",
    "cancer = load_breast_cancer()\n",
    "(X_cancer, y_cancer) = load_breast_cancer(return_X_y = True)\n",
    "\n"
   ]
  },
  {
   "cell_type": "code",
   "execution_count": 3,
   "metadata": {},
   "outputs": [
    {
     "name": "stdout",
     "output_type": "stream",
     "text": [
      "Accuracy on test set: 0.4246800858234563\n"
     ]
    }
   ],
   "source": [
    "from sklearn.neighbors import KNeighborsRegressor\n",
    "X_train,X_test,y_train,y_test = train_test_split(X_R1,y_R1,random_state=0)\n",
    "knnreg = KNeighborsRegressor(n_neighbors=5).fit(X_train,y_train)\n",
    "print(\"Accuracy on test set:\",knnreg.score(X_test,y_test))"
   ]
  },
  {
   "cell_type": "code",
   "execution_count": 4,
   "metadata": {},
   "outputs": [
    {
     "name": "stdout",
     "output_type": "stream",
     "text": [
      "Linear_coeff(w): [45.70870465]\n",
      "Linear_bias(b): 148.44575345658873\n",
      "R score on train set: 0.679\n",
      "R score on test set: 0.492\n"
     ]
    }
   ],
   "source": [
    "from sklearn.linear_model import LinearRegression\n",
    "X_train,X_test,y_train,y_test = train_test_split(X_R1,y_R1,random_state=0)\n",
    "linreg = LinearRegression().fit(X_train,y_train)\n",
    "print(\"Linear_coeff(w): {}\".format(linreg.coef_))\n",
    "print(\"Linear_bias(b): {}\".format(linreg.intercept_))\n",
    "print(\"R score on train set: {:.3f}\".format(linreg.score(X_train,y_train)))\n",
    "print(\"R score on test set: {:.3f}\".format(linreg.score(X_test,y_test)))"
   ]
  },
  {
   "cell_type": "code",
   "execution_count": 5,
   "metadata": {},
   "outputs": [
    {
     "data": {
      "image/png": "[encoded data removed]",
      "text/plain": [
       "<Figure size 360x288 with 1 Axes>"
      ]
     },
     "metadata": {
      "needs_background": "light"
     },
     "output_type": "display_data"
    }
   ],
   "source": [
    "plt.figure(figsize=(5,4))\n",
    "plt.scatter(X_R1,y_R1,marker='o',s=50,alpha=0.8)\n",
    "plt.plot(X_R1,linreg.predict(X_R1),'r-')\n",
    "plt.title(\"Least-square linear Regression\")\n",
    "plt.xlabel(\"Feature value(x)\")\n",
    "plt.ylabel(\"Target value(y)\")\n",
    "plt.show()"
   ]
  },
  {
   "cell_type": "code",
   "execution_count": 6,
   "metadata": {},
   "outputs": [
    {
     "name": "stdout",
     "output_type": "stream",
     "text": [
      "Co-eff : [36.26506226]\n",
      "Bias : 148.48609932907925\n",
      "R score(Training) 0.6496288492459739\n",
      "R score(Testing) 0.5451234572218494\n"
     ]
    }
   ],
   "source": [
    "from sklearn.linear_model import Ridge\n",
    "X_train ,X_test,y_train,y_test = train_test_split(X_R1,y_R1,random_state=0)\n",
    "linrid = Ridge(alpha=20.0).fit(X_train,y_train)\n",
    "print(\"Co-eff :\",linrid.coef_)\n",
    "print(\"Bias :\",linrid.intercept_)\n",
    "print(\"R score(Training)\",linrid.score(X_train,y_train))\n",
    "print(\"R score(Testing)\",linrid.score(X_test,y_test))"
   ]
  },
  {
   "cell_type": "code",
   "execution_count": 7,
   "metadata": {},
   "outputs": [
    {
     "name": "stdout",
     "output_type": "stream",
     "text": [
      "Co-eff : [31.23837752]\n",
      "Bias : 132.076872087215\n",
      "R score(Training) 0.17869808427313136\n",
      "R score(Testing) 0.17314032352451428\n"
     ]
    }
   ],
   "source": [
    "from sklearn.preprocessing import MinMaxScaler\n",
    "scaler = MinMaxScaler()\n",
    "from sklearn.linear_model import Ridge\n",
    "X_train ,X_test,y_train,y_test = train_test_split(X_R1,y_R1,random_state=0)\n",
    "X_train_scaled = scaler.fit_transform(X_train)\n",
    "X_test_scaled = scaler.transform(X_test)\n",
    "linrid = Ridge(alpha=20.0).fit(X_train_scaled,y_train)\n",
    "print(\"Co-eff :\",linrid.coef_)\n",
    "print(\"Bias :\",linrid.intercept_)\n",
    "print(\"R score(Training)\",linrid.score(X_train_scaled,y_train))\n",
    "print(\"R score(Testing)\",linrid.score(X_test_scaled,y_test))"
   ]
  },
  {
   "cell_type": "code",
   "execution_count": 8,
   "metadata": {},
   "outputs": [
    {
     "name": "stdout",
     "output_type": "stream",
     "text": [
      "Co-eff: [175.01578083]\n",
      "Bias: 55.83884866864044\n",
      "R score (Training): 0.6497795802240987\n",
      "R score (Testing): 0.5450912508190435\n"
     ]
    }
   ],
   "source": [
    "from sklearn.preprocessing import MinMaxScaler\n",
    "scaler = MinMaxScaler()\n",
    "from sklearn.linear_model import Lasso\n",
    "X_train,X_test,y_train,y_test = train_test_split(X_R1,y_R1,random_state=0)\n",
    "X_train_scaled = scaler.fit_transform(X_train)\n",
    "X_test_scaled = scaler.transform(X_test)\n",
    "\n",
    "linLasso = Lasso(alpha=2.0,max_iter=10000).fit(X_train_scaled,y_train)\n",
    "print(\"Co-eff:\",linLasso.coef_)\n",
    "print(\"Bias:\",linLasso.intercept_)\n",
    "print(\"R score (Training):\",linLasso.score(X_train_scaled,y_train))\n",
    "print(\"R score (Testing):\",linLasso.score(X_test_scaled,y_test))"
   ]
  },
  {
   "cell_type": "code",
   "execution_count": 9,
   "metadata": {},
   "outputs": [
    {
     "name": "stdout",
     "output_type": "stream",
     "text": [
      "Coeff: [ 4.42036739  5.99661447  0.52894712 10.23751345  6.5507973  -2.02082636\n",
      " -0.32378811]\n",
      "Bias: 1.5425091975373117\n",
      "Training Score: 0.7223750207373035\n",
      "Testing Score: 0.7221339576925415\n",
      "Coeff: [ 3.40951018e-12  1.66452443e+01  2.67285381e+01 -2.21348316e+01\n",
      "  1.24359227e+01  6.93086826e+00  1.04772675e+00  3.71352773e+00\n",
      " -1.33785505e+01 -5.73177185e+00  1.61813184e+00  3.66399592e+00\n",
      "  5.04513181e+00 -1.45835979e+00  1.95156872e+00 -1.51297378e+01\n",
      "  4.86762224e+00 -2.97084269e+00 -7.78370522e+00  5.14696078e+00\n",
      " -4.65479361e+00  1.84147395e+01 -2.22040650e+00  2.16572630e+00\n",
      " -1.27989481e+00  1.87946559e+00  1.52962716e-01  5.62073813e-01\n",
      " -8.91697516e-01 -2.18481128e+00  1.37595426e+00 -4.90336041e+00\n",
      " -2.23535458e+00  1.38268439e+00 -5.51908208e-01 -1.08795007e+00]\n",
      "Bias: -3.2056743989291814\n",
      "Training score: 0.9685996830172936\n",
      "Testing score: 0.8046437550509979\n",
      "Coeff: [ 0.          2.229281    4.73349734 -3.15432089  3.8585194   1.60970912\n",
      " -0.76967054 -0.14956002 -1.75215371  1.5970487   1.37080607  2.51598244\n",
      "  2.71746523  0.48531538 -1.9356048  -1.62914955  1.51474518  0.88674141\n",
      "  0.26141199  2.04931775 -1.93025705  3.61850966 -0.71788143  0.63173956\n",
      " -3.16429847  1.29161448  3.545085    1.73422041  0.94347654 -0.51207219\n",
      "  1.70114448 -1.97949067  1.80687548 -0.2173863   2.87585898 -0.89423157]\n",
      "Bias: 5.4180930492552015\n",
      "Training score: 0.8257620613919462\n",
      "Testing score: 0.8251115209759516\n"
     ]
    }
   ],
   "source": [
    "from sklearn.linear_model import LinearRegression\n",
    "from sklearn.linear_model import Ridge\n",
    "from sklearn.preprocessing import PolynomialFeatures\n",
    "\n",
    "X_train,X_test,y_train,y_test = train_test_split(X_F1,y_F1,random_state=0)\n",
    "linreg = LinearRegression().fit(X_train,y_train)\n",
    "print(\"Coeff:\",linreg.coef_)\n",
    "print(\"Bias:\",linreg.intercept_)\n",
    "print(\"Training Score:\",linreg.score(X_train,y_train))\n",
    "print(\"Testing Score:\",linreg.score(X_test,y_test))\n",
    "\n",
    "poly = PolynomialFeatures(degree=2)\n",
    "X_F1_poly = poly.fit_transform(X_F1)\n",
    "X_train,X_test,y_train,y_test = train_test_split(X_F1_poly,y_F1,random_state=0)\n",
    "linreg = LinearRegression().fit(X_train,y_train)\n",
    "print(\"Coeff:\",linreg.coef_)\n",
    "print(\"Bias:\",linreg.intercept_)\n",
    "print(\"Training score:\",linreg.score(X_train,y_train))\n",
    "print(\"Testing score:\",linreg.score(X_test,y_test))\n",
    "\n",
    "X_train,X_test,y_train,y_test = train_test_split(X_F1_poly,y_F1,random_state=0)\n",
    "linrid = Ridge().fit(X_train,y_train)\n",
    "print(\"Coeff:\",linrid.coef_)\n",
    "print(\"Bias:\",linrid.intercept_)\n",
    "print(\"Training score:\",linrid.score(X_train,y_train))\n",
    "print(\"Testing score:\",linrid.score(X_test,y_test))\n",
    "\n"
   ]
  },
  {
   "cell_type": "code",
   "execution_count": 10,
   "metadata": {},
   "outputs": [
    {
     "name": "stdout",
     "output_type": "stream",
     "text": [
      "0.7333333333333333\n"
     ]
    },
    {
     "name": "stderr",
     "output_type": "stream",
     "text": [
      "C:\\Users\\devro\\Anaconda3\\NM\\lib\\site-packages\\sklearn\\utils\\validation.py:760: DataConversionWarning: A column-vector y was passed when a 1d array was expected. Please change the shape of y to (n_samples, ), for example using ravel().\n",
      "  y = column_or_1d(y, warn=True)\n",
      "C:\\Users\\devro\\Anaconda3\\NM\\lib\\site-packages\\sklearn\\linear_model\\_logistic.py:940: ConvergenceWarning: lbfgs failed to converge (status=1):\n",
      "STOP: TOTAL NO. of ITERATIONS REACHED LIMIT.\n",
      "\n",
      "Increase the number of iterations (max_iter) or scale the data as shown in:\n",
      "    https://scikit-learn.org/stable/modules/preprocessing.html\n",
      "Please also refer to the documentation for alternative solver options:\n",
      "    https://scikit-learn.org/stable/modules/linear_model.html#logistic-regression\n",
      "  extra_warning_msg=_LOGISTIC_SOLVER_CONVERGENCE_MSG)\n"
     ]
    }
   ],
   "source": [
    "X_fruits2d = fruits[['height','width']]\n",
    "y_fruits2d = fruits[['fruit_label']]\n",
    "y_fruits_apple = y_fruits2d == 1\n",
    "\n",
    "X_train,X_test,y_train,y_test = train_test_split(X_fruits2d,y_fruits2d,random_state=0)\n",
    "\n",
    "from sklearn.linear_model import LogisticRegression\n",
    "clf = LogisticRegression(C=100)\n",
    "clf.fit(X_train,y_train)\n",
    "print(clf.score(X_test,y_test))\n"
   ]
  },
  {
   "cell_type": "code",
   "execution_count": 11,
   "metadata": {},
   "outputs": [
    {
     "data": {
      "text/plain": [
       "0.8636363636363636"
      ]
     },
     "execution_count": 11,
     "metadata": {},
     "output_type": "execute_result"
    }
   ],
   "source": [
    "h = 6\n",
    "w = 4\n",
    "clf.score(X_train,y_train)"
   ]
  },
  {
   "cell_type": "code",
   "execution_count": 12,
   "metadata": {},
   "outputs": [
    {
     "name": "stdout",
     "output_type": "stream",
     "text": [
      "Testing Score 0.951048951048951\n",
      "Training Score 0.9483568075117371\n"
     ]
    },
    {
     "name": "stderr",
     "output_type": "stream",
     "text": [
      "C:\\Users\\devro\\Anaconda3\\NM\\lib\\site-packages\\sklearn\\linear_model\\_logistic.py:940: ConvergenceWarning: lbfgs failed to converge (status=1):\n",
      "STOP: TOTAL NO. of ITERATIONS REACHED LIMIT.\n",
      "\n",
      "Increase the number of iterations (max_iter) or scale the data as shown in:\n",
      "    https://scikit-learn.org/stable/modules/preprocessing.html\n",
      "Please also refer to the documentation for alternative solver options:\n",
      "    https://scikit-learn.org/stable/modules/linear_model.html#logistic-regression\n",
      "  extra_warning_msg=_LOGISTIC_SOLVER_CONVERGENCE_MSG)\n"
     ]
    }
   ],
   "source": [
    "X_train,X_test,y_train,y_test = train_test_split(cancer.data,cancer.target,random_state=0)\n",
    "from sklearn.linear_model import LogisticRegression\n",
    "clf = LogisticRegression()\n",
    "clf.fit(X_train,y_train)\n",
    "print('Testing Score',clf.score(X_test,y_test))\n",
    "print('Training Score',clf.score(X_train,y_train))"
   ]
  },
  {
   "cell_type": "code",
   "execution_count": 16,
   "metadata": {},
   "outputs": [
    {
     "data": {
      "text/plain": [
       "0.76"
      ]
     },
     "execution_count": 16,
     "metadata": {},
     "output_type": "execute_result"
    }
   ],
   "source": [
    "from sklearn.svm import SVC\n",
    "X_train,X_test,y_train,y_test = train_test_split(X_C2,y_C2,random_state=0)\n",
    "clf = SVC(kernel='linear',C=1)\n",
    "clf.fit(X_train,y_train)\n",
    "clf.score(X_test,y_test)"
   ]
  },
  {
   "cell_type": "code",
   "execution_count": 39,
   "metadata": {},
   "outputs": [
    {
     "name": "stdout",
     "output_type": "stream",
     "text": [
      "Training Score 0.8943661971830986\n",
      "Testing Score 0.8321678321678322\n",
      "[[ 3.10337849e-02  1.92652666e-02  8.65080198e-02 -9.30853303e-04\n",
      "  -3.96488276e-04 -3.16322303e-03 -4.41056520e-03 -1.69726586e-03\n",
      "  -2.54245406e-04 -4.99378340e-05  1.17863704e-03  4.63318914e-03\n",
      "  -5.35831062e-03 -9.52011745e-03 -2.48571930e-05 -8.28357891e-04\n",
      "  -1.12548164e-03 -2.41048059e-04  7.24472310e-06 -6.30051485e-05\n",
      "   3.36846857e-02 -3.80643533e-02 -2.13642112e-02 -7.14316594e-03\n",
      "  -9.48034628e-04 -1.16403824e-02 -1.45143425e-02 -3.68894253e-03\n",
      "  -1.19046716e-03 -8.55147941e-04]]\n",
      "[0.00485861]\n"
     ]
    },
    {
     "name": "stderr",
     "output_type": "stream",
     "text": [
      "C:\\Users\\devro\\Anaconda3\\NM\\lib\\site-packages\\sklearn\\svm\\_base.py:947: ConvergenceWarning: Liblinear failed to converge, increase the number of iterations.\n",
      "  \"the number of iterations.\", ConvergenceWarning)\n"
     ]
    }
   ],
   "source": [
    "from sklearn.svm import LinearSVC\n",
    "X_train,X_test,y_train,y_test = train_test_split(X_cancer,y_cancer)\n",
    "clf = LinearSVC().fit(X_train,y_train)\n",
    "print(\"Training Score\",clf.score(X_train,y_train))\n",
    "print(\"Testing Score\",clf.score(X_test,y_test))\n",
    "print(clf.coef_)\n",
    "print(clf.intercept_)"
   ]
  },
  {
   "cell_type": "code",
   "execution_count": 27,
   "metadata": {},
   "outputs": [
    {
     "name": "stdout",
     "output_type": "stream",
     "text": [
      "Bias Term: [-3.31753728  1.19645936 -2.7468353   1.16107418]\n",
      "Co-eff: [[-0.23401135  0.72246132]\n",
      " [-1.63231901  1.15222281]\n",
      " [ 0.0849835   0.31186707]\n",
      " [ 1.26189663 -1.68097   ]]\n",
      "['apple', 'mandarin', 'orange', 'lemon']\n"
     ]
    },
    {
     "name": "stderr",
     "output_type": "stream",
     "text": [
      "C:\\Users\\devro\\Anaconda3\\NM\\lib\\site-packages\\sklearn\\utils\\validation.py:760: DataConversionWarning: A column-vector y was passed when a 1d array was expected. Please change the shape of y to (n_samples, ), for example using ravel().\n",
      "  y = column_or_1d(y, warn=True)\n",
      "C:\\Users\\devro\\Anaconda3\\NM\\lib\\site-packages\\sklearn\\svm\\_base.py:947: ConvergenceWarning: Liblinear failed to converge, increase the number of iterations.\n",
      "  \"the number of iterations.\", ConvergenceWarning)\n"
     ]
    }
   ],
   "source": [
    "X_train,X_test,y_train,y_test = train_test_split(X_fruits2d,y_fruits2d,random_state=0)\n",
    "clf = LinearSVC(C=5,random_state=67).fit(X_train,y_train)\n",
    "print(\"Bias Term:\",clf.intercept_)\n",
    "print(\"Co-eff:\",clf.coef_)\n",
    "print(target_names_fruits)"
   ]
  },
  {
   "cell_type": "code",
   "execution_count": 41,
   "metadata": {},
   "outputs": [
    {
     "name": "stdout",
     "output_type": "stream",
     "text": [
      "[0.75       0.75       0.83333333 0.83333333 0.81818182]\n",
      "0.7969696969696971\n"
     ]
    },
    {
     "name": "stderr",
     "output_type": "stream",
     "text": [
      "C:\\Users\\devro\\Anaconda3\\NM\\lib\\site-packages\\sklearn\\model_selection\\_validation.py:515: DataConversionWarning: A column-vector y was passed when a 1d array was expected. Please change the shape of y to (n_samples, ), for example using ravel().\n",
      "  estimator.fit(X_train, y_train, **fit_params)\n",
      "C:\\Users\\devro\\Anaconda3\\NM\\lib\\site-packages\\sklearn\\model_selection\\_validation.py:515: DataConversionWarning: A column-vector y was passed when a 1d array was expected. Please change the shape of y to (n_samples, ), for example using ravel().\n",
      "  estimator.fit(X_train, y_train, **fit_params)\n",
      "C:\\Users\\devro\\Anaconda3\\NM\\lib\\site-packages\\sklearn\\model_selection\\_validation.py:515: DataConversionWarning: A column-vector y was passed when a 1d array was expected. Please change the shape of y to (n_samples, ), for example using ravel().\n",
      "  estimator.fit(X_train, y_train, **fit_params)\n",
      "C:\\Users\\devro\\Anaconda3\\NM\\lib\\site-packages\\sklearn\\model_selection\\_validation.py:515: DataConversionWarning: A column-vector y was passed when a 1d array was expected. Please change the shape of y to (n_samples, ), for example using ravel().\n",
      "  estimator.fit(X_train, y_train, **fit_params)\n",
      "C:\\Users\\devro\\Anaconda3\\NM\\lib\\site-packages\\sklearn\\model_selection\\_validation.py:515: DataConversionWarning: A column-vector y was passed when a 1d array was expected. Please change the shape of y to (n_samples, ), for example using ravel().\n",
      "  estimator.fit(X_train, y_train, **fit_params)\n"
     ]
    }
   ],
   "source": [
    "from sklearn.model_selection import cross_val_score\n",
    "clf = KNeighborsClassifier(n_neighbors=5)\n",
    "X = X_fruits2d\n",
    "y = y_fruits2d\n",
    "cv_scores = cross_val_score(clf,X,y)\n",
    "print(cv_scores)\n",
    "print(np.mean(cv_scores))"
   ]
  },
  {
   "cell_type": "code",
   "execution_count": 42,
   "metadata": {},
   "outputs": [
    {
     "name": "stderr",
     "output_type": "stream",
     "text": [
      "C:\\Users\\devro\\Anaconda3\\NM\\lib\\site-packages\\sklearn\\utils\\validation.py:760: DataConversionWarning: A column-vector y was passed when a 1d array was expected. Please change the shape of y to (n_samples, ), for example using ravel().\n",
      "  y = column_or_1d(y, warn=True)\n",
      "C:\\Users\\devro\\Anaconda3\\NM\\lib\\site-packages\\sklearn\\utils\\validation.py:760: DataConversionWarning: A column-vector y was passed when a 1d array was expected. Please change the shape of y to (n_samples, ), for example using ravel().\n",
      "  y = column_or_1d(y, warn=True)\n",
      "C:\\Users\\devro\\Anaconda3\\NM\\lib\\site-packages\\sklearn\\utils\\validation.py:760: DataConversionWarning: A column-vector y was passed when a 1d array was expected. Please change the shape of y to (n_samples, ), for example using ravel().\n",
      "  y = column_or_1d(y, warn=True)\n",
      "C:\\Users\\devro\\Anaconda3\\NM\\lib\\site-packages\\sklearn\\utils\\validation.py:760: DataConversionWarning: A column-vector y was passed when a 1d array was expected. Please change the shape of y to (n_samples, ), for example using ravel().\n",
      "  y = column_or_1d(y, warn=True)\n",
      "C:\\Users\\devro\\Anaconda3\\NM\\lib\\site-packages\\sklearn\\utils\\validation.py:760: DataConversionWarning: A column-vector y was passed when a 1d array was expected. Please change the shape of y to (n_samples, ), for example using ravel().\n",
      "  y = column_or_1d(y, warn=True)\n",
      "C:\\Users\\devro\\Anaconda3\\NM\\lib\\site-packages\\sklearn\\utils\\validation.py:760: DataConversionWarning: A column-vector y was passed when a 1d array was expected. Please change the shape of y to (n_samples, ), for example using ravel().\n",
      "  y = column_or_1d(y, warn=True)\n",
      "C:\\Users\\devro\\Anaconda3\\NM\\lib\\site-packages\\sklearn\\utils\\validation.py:760: DataConversionWarning: A column-vector y was passed when a 1d array was expected. Please change the shape of y to (n_samples, ), for example using ravel().\n",
      "  y = column_or_1d(y, warn=True)\n",
      "C:\\Users\\devro\\Anaconda3\\NM\\lib\\site-packages\\sklearn\\utils\\validation.py:760: DataConversionWarning: A column-vector y was passed when a 1d array was expected. Please change the shape of y to (n_samples, ), for example using ravel().\n",
      "  y = column_or_1d(y, warn=True)\n",
      "C:\\Users\\devro\\Anaconda3\\NM\\lib\\site-packages\\sklearn\\utils\\validation.py:760: DataConversionWarning: A column-vector y was passed when a 1d array was expected. Please change the shape of y to (n_samples, ), for example using ravel().\n",
      "  y = column_or_1d(y, warn=True)\n",
      "C:\\Users\\devro\\Anaconda3\\NM\\lib\\site-packages\\sklearn\\utils\\validation.py:760: DataConversionWarning: A column-vector y was passed when a 1d array was expected. Please change the shape of y to (n_samples, ), for example using ravel().\n",
      "  y = column_or_1d(y, warn=True)\n",
      "C:\\Users\\devro\\Anaconda3\\NM\\lib\\site-packages\\sklearn\\utils\\validation.py:760: DataConversionWarning: A column-vector y was passed when a 1d array was expected. Please change the shape of y to (n_samples, ), for example using ravel().\n",
      "  y = column_or_1d(y, warn=True)\n",
      "C:\\Users\\devro\\Anaconda3\\NM\\lib\\site-packages\\sklearn\\utils\\validation.py:760: DataConversionWarning: A column-vector y was passed when a 1d array was expected. Please change the shape of y to (n_samples, ), for example using ravel().\n",
      "  y = column_or_1d(y, warn=True)\n"
     ]
    }
   ],
   "source": [
    "from sklearn.svm import SVC\n",
    "from sklearn.model_selection import validation_curve\n",
    "param_range = np.logspace(-3,3,4)\n",
    "train_scores,test_scores = validation_curve(SVC(),X,y,param_name='gamma',param_range=param_range,cv=3)"
   ]
  },
  {
   "cell_type": "code",
   "execution_count": 43,
   "metadata": {},
   "outputs": [
    {
     "name": "stdout",
     "output_type": "stream",
     "text": [
      "[[0.46153846 0.43589744 0.425     ]\n",
      " [0.84615385 0.71794872 0.75      ]\n",
      " [0.92307692 0.8974359  0.925     ]\n",
      " [1.         1.         0.975     ]]\n"
     ]
    }
   ],
   "source": [
    "print(train_scores)"
   ]
  },
  {
   "cell_type": "code",
   "execution_count": 44,
   "metadata": {},
   "outputs": [
    {
     "name": "stdout",
     "output_type": "stream",
     "text": [
      "[[0.5        0.3        0.31578947]\n",
      " [0.85       0.7        0.63157895]\n",
      " [0.55       0.85       0.68421053]\n",
      " [0.4        0.2        0.36842105]]\n"
     ]
    }
   ],
   "source": [
    "print(test_scores)"
   ]
  },
  {
   "cell_type": "code",
   "execution_count": 45,
   "metadata": {},
   "outputs": [
    {
     "data": {
      "image/png": "[encoded data removed]",
      "text/plain": [
       "<Figure size 432x288 with 1 Axes>"
      ]
     },
     "metadata": {
      "needs_background": "light"
     },
     "output_type": "display_data"
    }
   ],
   "source": [
    "# This code based on scikit-learn validation_plot example\n",
    "#  See:  http://scikit-learn.org/stable/auto_examples/model_selection/plot_validation_curve.html\n",
    "plt.figure()\n",
    "\n",
    "train_scores_mean = np.mean(train_scores, axis=1)\n",
    "train_scores_std = np.std(train_scores, axis=1)\n",
    "test_scores_mean = np.mean(test_scores, axis=1)\n",
    "test_scores_std = np.std(test_scores, axis=1)\n",
    "\n",
    "plt.title('Validation Curve with SVM')\n",
    "plt.xlabel('$\\gamma$ (gamma)')\n",
    "plt.ylabel('Score')\n",
    "plt.ylim(0.0, 1.1)\n",
    "lw = 2\n",
    "\n",
    "plt.semilogx(param_range, train_scores_mean, label='Training score',\n",
    "            color='darkorange', lw=lw)\n",
    "\n",
    "plt.fill_between(param_range, train_scores_mean - train_scores_std,\n",
    "                train_scores_mean + train_scores_std, alpha=0.2,\n",
    "                color='darkorange', lw=lw)\n",
    "\n",
    "plt.semilogx(param_range, test_scores_mean, label='Cross-validation score',\n",
    "            color='navy', lw=lw)\n",
    "\n",
    "plt.fill_between(param_range, test_scores_mean - test_scores_std,\n",
    "                test_scores_mean + test_scores_std, alpha=0.2,\n",
    "                color='navy', lw=lw)\n",
    "\n",
    "plt.legend(loc='best')\n",
    "plt.show()"
   ]
  },
  {
   "cell_type": "code",
   "execution_count": 54,
   "metadata": {},
   "outputs": [
    {
     "name": "stdout",
     "output_type": "stream",
     "text": [
      "Training Score: 1.0\n",
      "Testing Score: 0.9736842105263158\n"
     ]
    }
   ],
   "source": [
    "from sklearn.datasets import load_iris\n",
    "from sklearn.tree import DecisionTreeClassifier\n",
    "iris = load_iris()\n",
    "X_train,X_test,y_train,y_test = train_test_split(iris.data,iris.target,random_state=0)\n",
    "clf = DecisionTreeClassifier().fit(X_train,y_train)\n",
    "print(\"Training Score:\",clf.score(X_train,y_train))\n",
    "print(\"Testing Score:\",clf.score(X_test,y_test))"
   ]
  },
  {
   "cell_type": "code",
   "execution_count": 61,
   "metadata": {},
   "outputs": [
    {
     "name": "stdout",
     "output_type": "stream",
     "text": [
      "Training Score: 0.9647887323943662\n",
      "Testing Score: 0.9370629370629371\n"
     ]
    }
   ],
   "source": [
    "X_train,X_test,y_train,y_test = train_test_split(X_cancer,y_cancer,random_state=0)\n",
    "clf = DecisionTreeClassifier(max_depth=3,min_samples_leaf=8,random_state=0).fit(X_train,y_train)\n",
    "print(\"Training Score:\",clf.score(X_train,y_train))\n",
    "print(\"Testing Score:\",clf.score(X_test,y_test))"
   ]
  },
  {
   "cell_type": "code",
   "execution_count": null,
   "metadata": {},
   "outputs": [],
   "source": []
  }
 ],
 "metadata": {
  "kernelspec": {
   "display_name": "Python 3",
   "language": "python",
   "name": "python3"
  },
  "language_info": {
   "codemirror_mode": {
    "name": "ipython",
    "version": 3
   },
   "file_extension": ".py",
   "mimetype": "text/x-python",
   "name": "python",
   "nbconvert_exporter": "python",
   "pygments_lexer": "ipython3",
   "version": "3.7.6"
  }
 },
 "nbformat": 4,
 "nbformat_minor": 4
}
